{
 "cells": [
  {
   "cell_type": "markdown",
   "id": "fdbf7222",
   "metadata": {},
   "source": [
    "## 1. What are the typical sizes/dimensions of these bounding boxes?"
   ]
  },
  {
   "cell_type": "code",
   "execution_count": 9,
   "id": "a7e694ad",
   "metadata": {},
   "outputs": [],
   "source": [
    "import json\n",
    "import os\n",
    "import pprint"
   ]
  },
  {
   "cell_type": "code",
   "execution_count": 16,
   "id": "319f3d3b",
   "metadata": {},
   "outputs": [],
   "source": [
    "with open(\"../updated_images/coco/output.json\", 'r') as f:\n",
    "    json_data = json.load(f)\n"
   ]
  },
  {
   "cell_type": "code",
   "execution_count": 27,
   "id": "09fd08a1",
   "metadata": {},
   "outputs": [
    {
     "name": "stdout",
     "output_type": "stream",
     "text": [
      "Average height: 192.67\n",
      "Average height: 51.00\n"
     ]
    }
   ],
   "source": [
    "heights = []\n",
    "widths = []\n",
    "for n, ann in enumerate(json_data):\n",
    "    heights.append(json_data[\"annotations\"][n]['bndbox'][\"xmax\"] - json_data[\"annotations\"][n]['bndbox'][\"xmin\"] )\n",
    "    widths.append(json_data[\"annotations\"][n]['bndbox'][\"ymax\"] - json_data[\"annotations\"][n]['bndbox'][\"ymin\"] )\n",
    "\n",
    "    # Calculate the average of the height and width data\n",
    "avg_height = sum(heights) / len(heights)\n",
    "avg_width = sum(widths) / len(widths)\n",
    "\n",
    "print(f'Average height: {avg_height:.2f}')\n",
    "print(f'Average height: {avg_width:.2f}')"
   ]
  },
  {
   "cell_type": "markdown",
   "id": "71508826",
   "metadata": {},
   "source": [
    "## 2. What are the typical locations of these boxes relative to the image space?"
   ]
  },
  {
   "cell_type": "code",
   "execution_count": 28,
   "id": "c3ac449f",
   "metadata": {},
   "outputs": [],
   "source": [
    "import cv2\n",
    "import numpy as np\n",
    "\n",
    "\n",
    "def find_average_location(json_data):\n",
    "    total_center_x = 0\n",
    "    total_center_y = 0\n",
    "    total_boxes = 0\n",
    "    for n, ann in enumerate(json_data):\n",
    "        min_x = json_data[\"annotations\"][n]['bndbox'][\"xmin\"]\n",
    "        min_y = json_data[\"annotations\"][n]['bndbox'][\"ymin\"]\n",
    "        max_x = json_data[\"annotations\"][n]['bndbox'][\"xmax\"]\n",
    "        max_y = json_data[\"annotations\"][n]['bndbox'][\"ymax\"]\n",
    "\n",
    "        center_x = (min_x + max_x) // 2\n",
    "        center_y = (min_y + max_y) // 2\n",
    "\n",
    "        total_center_x += center_x\n",
    "        total_center_y += center_y\n",
    "        total_boxes += 1\n",
    "\n",
    "    average_center_x = total_center_x / total_boxes\n",
    "    average_center_y = total_center_y / total_boxes\n",
    "\n",
    "    return average_center_x, average_center_y\n",
    "\n",
    "\n",
    "\n"
   ]
  },
  {
   "cell_type": "code",
   "execution_count": 31,
   "id": "9717b38c",
   "metadata": {},
   "outputs": [
    {
     "name": "stdout",
     "output_type": "stream",
     "text": [
      "Average center location, x,y format: (515.3333333333334, 387.0)\n"
     ]
    }
   ],
   "source": [
    "average_center_x, average_center_y = find_average_location(json_data)\n",
    "\n",
    "print(f\"Average center location, x,y format: ({average_center_x}, {average_center_y})\")"
   ]
  },
  {
   "cell_type": "code",
   "execution_count": 33,
   "id": "7e975bb7",
   "metadata": {},
   "outputs": [],
   "source": [
    "def find_average_image(json_data):\n",
    "    total_center_h = 0\n",
    "    total_center_w = 0\n",
    "    total_boxes = 0\n",
    "    for n, ann in enumerate(json_data):\n",
    "        h = json_data[\"images\"][n][\"height\"]\n",
    "        w = json_data[\"images\"][n][\"width\"]\n",
    "\n",
    "        total_center_h += h\n",
    "        total_center_w += w\n",
    "        total_boxes += 1\n",
    "\n",
    "    average_center_h = total_center_h / total_boxes\n",
    "    average_center_w = total_center_w / total_boxes\n",
    "\n",
    "    return average_center_h, average_center_w\n"
   ]
  },
  {
   "cell_type": "code",
   "execution_count": 35,
   "id": "7308d271",
   "metadata": {},
   "outputs": [
    {
     "name": "stdout",
     "output_type": "stream",
     "text": [
      "Average image size, h,w format: (578.6666666666666, 873.0)\n"
     ]
    }
   ],
   "source": [
    "average_center_h, average_center_w = find_average_image(json_data)\n",
    "\n",
    "print(f\"Average image size, h,w format: ({average_center_h}, {average_center_w})\")"
   ]
  },
  {
   "cell_type": "markdown",
   "id": "1ccd09d3",
   "metadata": {},
   "source": [
    "## 3. What potential issues could happen with license plate detection? "
   ]
  },
  {
   "cell_type": "markdown",
   "id": "12b9cfab",
   "metadata": {},
   "source": [
    "Some issues that can happen with license plate detection go around that the model itself must be able to bound license plates then OCR the results. Lots of issues can happen with that, such as the difference in night vs day, cloudy, foggy, sun rays, shade, speed, etc. Then some license plate covers have words on it themselves, which means OCR could pick out the wrong word or words nearby.\n",
    "\n",
    "To try and remedy this, obviously plenty of data can help, as well as potentially limiting the pixels to only grab what is needed, added noise and removing color can actually be beneficial, potentially, and making sure a human in the loop here will be evauluating what is needed. "
   ]
  },
  {
   "cell_type": "markdown",
   "id": "1c787f84",
   "metadata": {},
   "source": [
    "## 4. Could manipulating the image improve the models performance? Would decrease?"
   ]
  },
  {
   "cell_type": "markdown",
   "id": "933a517c",
   "metadata": {},
   "source": [
    "Manipulating the image could improve the models performance if there were some color issues that seemed to mask what was being looked at, maybe changine the colors to black and white would help hide fog or sun rays in an image that could distort what was actually attempting to be detected. Of course its also possible that the manipulations of the image manipulate teh desired object to much to the point where it is no longer able to be detected. Changing the image should be handled carefully in order to figure out what would generalize a model for the real world the best."
   ]
  },
  {
   "cell_type": "code",
   "execution_count": null,
   "id": "42c4af7d",
   "metadata": {},
   "outputs": [],
   "source": []
  }
 ],
 "metadata": {
  "kernelspec": {
   "display_name": "Python 3 (ipykernel)",
   "language": "python",
   "name": "python3"
  },
  "language_info": {
   "codemirror_mode": {
    "name": "ipython",
    "version": 3
   },
   "file_extension": ".py",
   "mimetype": "text/x-python",
   "name": "python",
   "nbconvert_exporter": "python",
   "pygments_lexer": "ipython3",
   "version": "3.10.6"
  }
 },
 "nbformat": 4,
 "nbformat_minor": 5
}
