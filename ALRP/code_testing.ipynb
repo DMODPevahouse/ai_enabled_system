{
 "cells": [
  {
   "cell_type": "code",
   "execution_count": 12,
   "id": "82c1f68d",
   "metadata": {},
   "outputs": [
    {
     "name": "stdout",
     "output_type": "stream",
     "text": [
      "Requirement already satisfied: ffmpeg-python in /usr/local/lib/python3.10/dist-packages (0.2.0)\n",
      "Requirement already satisfied: future in /usr/local/lib/python3.10/dist-packages (from ffmpeg-python) (1.0.0)\n",
      "\u001b[33mWARNING: Running pip as the 'root' user can result in broken permissions and conflicting behaviour with the system package manager. It is recommended to use a virtual environment instead: https://pip.pypa.io/warnings/venv\u001b[0m\u001b[33m\n",
      "\u001b[0m"
     ]
    }
   ],
   "source": [
    "!pip install ffmpeg-python"
   ]
  },
  {
   "cell_type": "code",
   "execution_count": null,
   "id": "a41ba263",
   "metadata": {},
   "outputs": [],
   "source": [
    "for out in outs:\n",
    "            # Loop over the detections\n",
    "            for detection in out:\n",
    "                # Get the confidence of the detection\n",
    "                confidence = detection[4]\n",
    "\n",
    "                # Filter detections with confidence below a threshold\n",
    "                if confidence > 0.5:\n",
    "                    # Get the index of the class with the highest confidence\n",
    "                    class_id = np.argmax(detection[5:])\n",
    "\n",
    "                    # Get the name of the class\n",
    "                    class_name = self.classes[class_id]\n",
    "\n",
    "                    # Get the coordinates of the bounding box\n",
    "                    box = detection[0:4] * np.array([width, height, width, height])\n",
    "\n",
    "                    # Append the detected object to the list"
   ]
  },
  {
   "cell_type": "code",
   "execution_count": 7,
   "id": "991a869e",
   "metadata": {},
   "outputs": [
    {
     "name": "stdout",
     "output_type": "stream",
     "text": [
      "\u001b[31mERROR: Could not find a version that satisfies the requirement xcb (from versions: none)\u001b[0m\u001b[31m\n",
      "\u001b[0m\u001b[31mERROR: No matching distribution found for xcb\u001b[0m\u001b[31m\n",
      "\u001b[0m"
     ]
    }
   ],
   "source": [
    "!pip install xcb"
   ]
  },
  {
   "cell_type": "code",
   "execution_count": 8,
   "id": "be72d918",
   "metadata": {},
   "outputs": [
    {
     "name": "stdout",
     "output_type": "stream",
     "text": [
      "\u001b[31mERROR: Could not find a version that satisfies the requirement libgl1-mesa-dev (from versions: none)\u001b[0m\u001b[31m\n",
      "\u001b[0m\u001b[31mERROR: No matching distribution found for libgl1-mesa-dev\u001b[0m\u001b[31m\n",
      "\u001b[0mNote: you may need to restart the kernel to use updated packages.\n"
     ]
    }
   ],
   "source": [
    "pip install libgl1-mesa-dev"
   ]
  },
  {
   "cell_type": "code",
   "execution_count": 11,
   "id": "3681de89",
   "metadata": {},
   "outputs": [
    {
     "name": "stdout",
     "output_type": "stream",
     "text": [
      "test\n",
      "Traceback (most recent call last):\n",
      "  File \"/workspace/ALRP/udp_video_streaming/deployment_udp_client.py\", line 69, in <module>\n",
      "    stream_video(in_file, width, height, frames_per_second)\n",
      "  File \"/workspace/ALRP/udp_video_streaming/deployment_udp_client.py\", line 36, in stream_video\n",
      "    ffmpeg\n",
      "  File \"/usr/local/lib/python3.10/dist-packages/ffmpeg/_run.py\", line 284, in run_async\n",
      "    return subprocess.Popen(\n",
      "  File \"/usr/lib/python3.10/subprocess.py\", line 969, in __init__\n",
      "    self._execute_child(args, executable, preexec_fn, close_fds,\n",
      "  File \"/usr/lib/python3.10/subprocess.py\", line 1845, in _execute_child\n",
      "    raise child_exception_type(errno_num, err_msg, err_filename)\n",
      "FileNotFoundError: [Errno 2] No such file or directory: 'ffmpeg'\n"
     ]
    }
   ],
   "source": [
    "!python udp_video_streaming/deployment_udp_client.py"
   ]
  },
  {
   "cell_type": "code",
   "execution_count": 6,
   "id": "1f8a0e7d",
   "metadata": {},
   "outputs": [
    {
     "name": "stdout",
     "output_type": "stream",
     "text": [
      "Reading package lists... Done\n",
      "Building dependency tree... Done\n",
      "Reading state information... Done\n",
      "The following additional packages will be installed:\n",
      "  alsa-topology-conf alsa-ucm-conf dbus i965-va-driver intel-media-va-driver\n",
      "  libaacs0 libaom3 libapparmor1 libasound2 libasound2-data libass9 libasyncns0\n",
      "  libavc1394-0 libavcodec58 libavdevice58 libavfilter7 libavformat58\n",
      "  libavutil56 libbdplus0 libbluray2 libbs2b0 libcaca0 libcairo-gobject2\n",
      "  libcdio-cdda2 libcdio-paranoia2 libcdio19 libchromaprint1 libcodec2-1.0\n",
      "  libdav1d5 libdbus-1-3 libdc1394-25 libdecor-0-0 libdecor-0-plugin-1-cairo\n",
      "  libdrm-amdgpu1 libdrm-common libdrm-intel1 libdrm-nouveau2 libdrm-radeon1\n",
      "  libdrm2 libelf1 libflac8 libflite1 libgbm1 libgdk-pixbuf-2.0-0\n",
      "  libgdk-pixbuf2.0-bin libgdk-pixbuf2.0-common libgl1 libgl1-amber-dri\n",
      "  libgl1-mesa-dri libglapi-mesa libglvnd0 libglx-mesa0 libglx0 libgme0 libgsm1\n",
      "  libiec61883-0 libigdgmm12 libjack-jackd2-0 liblilv-0-0 libllvm15 libmfx1\n",
      "  libmp3lame0 libmpg123-0 libmysofa1 libnorm1 libogg0 libopenal-data\n",
      "  libopenal1 libopenjp2-7 libopenmpt0 libopus0 libpciaccess0 libpgm-5.3-0\n",
      "  libpocketsphinx3 libpostproc55 libpulse0 librabbitmq4 libraw1394-11\n",
      "  librsvg2-2 librsvg2-common librubberband2 libsamplerate0 libsdl2-2.0-0\n",
      "  libsensors-config libsensors5 libserd-0-0 libshine3 libslang2 libsnappy1v5\n",
      "  libsndfile1 libsndio7.0 libsord-0-0 libsoxr0 libspeex1 libsphinxbase3\n",
      "  libsratom-0-0 libsrt1.4-gnutls libssh-gcrypt-4 libswresample3 libswscale5\n",
      "  libtheora0 libtwolame0 libudfread0 libusb-1.0-0 libva-drm2 libva-x11-2\n",
      "  libva2 libvdpau1 libvidstab1.1 libvorbis0a libvorbisenc2 libvorbisfile3\n",
      "  libvpx7 libwayland-client0 libwayland-cursor0 libwayland-egl1\n",
      "  libwayland-server0 libwebpmux3 libx11-xcb1 libx264-163 libx265-199\n",
      "  libxcb-dri2-0 libxcb-dri3-0 libxcb-glx0 libxcb-present0 libxcb-shape0\n",
      "  libxcb-sync1 libxcb-xfixes0 libxcursor1 libxfixes3 libxi6 libxinerama1\n",
      "  libxkbcommon0 libxrandr2 libxshmfence1 libxss1 libxv1 libxvidcore4\n",
      "  libxxf86vm1 libzimg2 libzmq5 libzvbi-common libzvbi0 mesa-va-drivers\n",
      "  mesa-vdpau-drivers ocl-icd-libopencl1 pocketsphinx-en-us shared-mime-info\n",
      "  va-driver-all vdpau-driver-all xkb-data\n",
      "Suggested packages:\n",
      "  default-dbus-session-bus | dbus-session-bus ffmpeg-doc\n",
      "  i965-va-driver-shaders libasound2-plugins alsa-utils libcuda1 libnvcuvid1\n",
      "  libnvidia-encode1 libbluray-bdj jackd2 libportaudio2 opus-tools pciutils\n",
      "  pulseaudio libraw1394-doc librsvg2-bin xdg-utils lm-sensors serdi sndiod\n",
      "  sordi speex opencl-icd libvdpau-va-gl1\n",
      "The following NEW packages will be installed:\n",
      "  alsa-topology-conf alsa-ucm-conf dbus ffmpeg i965-va-driver\n",
      "  intel-media-va-driver libaacs0 libaom3 libapparmor1 libasound2\n",
      "  libasound2-data libass9 libasyncns0 libavc1394-0 libavcodec58 libavdevice58\n",
      "  libavfilter7 libavformat58 libavutil56 libbdplus0 libbluray2 libbs2b0\n",
      "  libcaca0 libcairo-gobject2 libcdio-cdda2 libcdio-paranoia2 libcdio19\n",
      "  libchromaprint1 libcodec2-1.0 libdav1d5 libdbus-1-3 libdc1394-25\n",
      "  libdecor-0-0 libdecor-0-plugin-1-cairo libdrm-amdgpu1 libdrm-common\n",
      "  libdrm-intel1 libdrm-nouveau2 libdrm-radeon1 libdrm2 libelf1 libflac8\n",
      "  libflite1 libgbm1 libgdk-pixbuf-2.0-0 libgdk-pixbuf2.0-bin\n",
      "  libgdk-pixbuf2.0-common libgl1 libgl1-amber-dri libgl1-mesa-dri\n",
      "  libglapi-mesa libglvnd0 libglx-mesa0 libglx0 libgme0 libgsm1 libiec61883-0\n",
      "  libigdgmm12 libjack-jackd2-0 liblilv-0-0 libllvm15 libmfx1 libmp3lame0\n",
      "  libmpg123-0 libmysofa1 libnorm1 libogg0 libopenal-data libopenal1\n",
      "  libopenjp2-7 libopenmpt0 libopus0 libpciaccess0 libpgm-5.3-0\n",
      "  libpocketsphinx3 libpostproc55 libpulse0 librabbitmq4 libraw1394-11\n",
      "  librsvg2-2 librsvg2-common librubberband2 libsamplerate0 libsdl2-2.0-0\n",
      "  libsensors-config libsensors5 libserd-0-0 libshine3 libslang2 libsnappy1v5\n",
      "  libsndfile1 libsndio7.0 libsord-0-0 libsoxr0 libspeex1 libsphinxbase3\n",
      "  libsratom-0-0 libsrt1.4-gnutls libssh-gcrypt-4 libswresample3 libswscale5\n",
      "  libtheora0 libtwolame0 libudfread0 libusb-1.0-0 libva-drm2 libva-x11-2\n",
      "  libva2 libvdpau1 libvidstab1.1 libvorbis0a libvorbisenc2 libvorbisfile3\n",
      "  libvpx7 libwayland-client0 libwayland-cursor0 libwayland-egl1\n",
      "  libwayland-server0 libwebpmux3 libx11-xcb1 libx264-163 libx265-199\n",
      "  libxcb-dri2-0 libxcb-dri3-0 libxcb-glx0 libxcb-present0 libxcb-shape0\n",
      "  libxcb-sync1 libxcb-xfixes0 libxcursor1 libxfixes3 libxi6 libxinerama1\n",
      "  libxkbcommon0 libxrandr2 libxshmfence1 libxss1 libxv1 libxvidcore4\n",
      "  libxxf86vm1 libzimg2 libzmq5 libzvbi-common libzvbi0 mesa-va-drivers\n",
      "  mesa-vdpau-drivers ocl-icd-libopencl1 pocketsphinx-en-us shared-mime-info\n",
      "  va-driver-all vdpau-driver-all xkb-data\n",
      "0 upgraded, 152 newly installed, 0 to remove and 0 not upgraded.\n",
      "Need to get 40.3 MB/132 MB of archives.\n",
      "After this operation, 411 MB of additional disk space will be used.\n",
      "Err:1 http://archive.ubuntu.com/ubuntu jammy-updates/main amd64 libapparmor1 amd64 3.0.4-2ubuntu2.2\n",
      "  404  Not Found [IP: 91.189.91.81 80]\n",
      "Err:2 http://archive.ubuntu.com/ubuntu jammy-updates/main amd64 alsa-ucm-conf all 1.2.6.3-1ubuntu1.6\n",
      "  404  Not Found [IP: 91.189.91.81 80]\n",
      "Ign:3 http://archive.ubuntu.com/ubuntu jammy-updates/main amd64 libwebpmux3 amd64 1.2.2-2ubuntu0.22.04.1\n",
      "Err:3 http://security.ubuntu.com/ubuntu jammy-updates/main amd64 libwebpmux3 amd64 1.2.2-2ubuntu0.22.04.1\n",
      "  404  Not Found [IP: 91.189.91.81 80]\n",
      "Ign:4 http://archive.ubuntu.com/ubuntu jammy-updates/main amd64 libssh-gcrypt-4 amd64 0.9.6-2ubuntu0.22.04.1\n",
      "Err:4 http://security.ubuntu.com/ubuntu jammy-updates/main amd64 libssh-gcrypt-4 amd64 0.9.6-2ubuntu0.22.04.1\n",
      "  404  Not Found [IP: 91.189.91.81 80]\n",
      "Ign:5 http://archive.ubuntu.com/ubuntu jammy-updates/main amd64 libflac8 amd64 1.3.3-2ubuntu0.1\n",
      "Ign:6 http://archive.ubuntu.com/ubuntu jammy-updates/main amd64 libx11-xcb1 amd64 2:1.7.5-1ubuntu0.2\n",
      "Err:5 http://security.ubuntu.com/ubuntu jammy-updates/main amd64 libflac8 amd64 1.3.3-2ubuntu0.1\n",
      "  404  Not Found [IP: 91.189.91.81 80]\n",
      "Err:7 http://archive.ubuntu.com/ubuntu jammy-updates/main amd64 libglapi-mesa amd64 22.2.5-0ubuntu0.1~22.04.3\n",
      "  404  Not Found [IP: 91.189.91.81 80]\n",
      "Err:6 http://security.ubuntu.com/ubuntu jammy-updates/main amd64 libx11-xcb1 amd64 2:1.7.5-1ubuntu0.2\n",
      "  404  Not Found [IP: 91.189.91.81 80]\n",
      "Err:8 http://archive.ubuntu.com/ubuntu jammy-updates/main amd64 libllvm15 amd64 1:15.0.7-0ubuntu0.22.04.1\n",
      "  404  Not Found [IP: 91.189.91.81 80]\n",
      "Err:9 http://archive.ubuntu.com/ubuntu jammy-updates/main amd64 libgl1-mesa-dri amd64 22.2.5-0ubuntu0.1~22.04.3\n",
      "  404  Not Found [IP: 91.189.91.81 80]\n",
      "Err:10 http://archive.ubuntu.com/ubuntu jammy-updates/main amd64 libglx-mesa0 amd64 22.2.5-0ubuntu0.1~22.04.3\n",
      "  404  Not Found [IP: 91.189.91.81 80]\n",
      "Err:11 http://archive.ubuntu.com/ubuntu jammy-updates/main amd64 libgbm1 amd64 22.2.5-0ubuntu0.1~22.04.3\n",
      "  404  Not Found [IP: 91.189.91.81 80]\n",
      "Err:12 http://archive.ubuntu.com/ubuntu jammy-updates/universe amd64 mesa-va-drivers amd64 22.2.5-0ubuntu0.1~22.04.3\n",
      "  404  Not Found [IP: 91.189.91.81 80]\n",
      "Err:13 http://archive.ubuntu.com/ubuntu jammy-updates/main amd64 mesa-vdpau-drivers amd64 22.2.5-0ubuntu0.1~22.04.3\n",
      "  404  Not Found [IP: 91.189.91.81 80]\n",
      "\u001b[1;31mE: \u001b[0mFailed to fetch http://archive.ubuntu.com/ubuntu/pool/main/a/apparmor/libapparmor1_3.0.4-2ubuntu2.2_amd64.deb  404  Not Found [IP: 91.189.91.81 80]\u001b[0m\n",
      "\u001b[1;31mE: \u001b[0mFailed to fetch http://archive.ubuntu.com/ubuntu/pool/main/a/alsa-ucm-conf/alsa-ucm-conf_1.2.6.3-1ubuntu1.6_all.deb  404  Not Found [IP: 91.189.91.81 80]\u001b[0m\n",
      "\u001b[1;31mE: \u001b[0mFailed to fetch http://security.ubuntu.com/ubuntu/pool/main/libw/libwebp/libwebpmux3_1.2.2-2ubuntu0.22.04.1_amd64.deb  404  Not Found [IP: 91.189.91.81 80]\u001b[0m\n",
      "\u001b[1;31mE: \u001b[0mFailed to fetch http://security.ubuntu.com/ubuntu/pool/main/libs/libssh/libssh-gcrypt-4_0.9.6-2ubuntu0.22.04.1_amd64.deb  404  Not Found [IP: 91.189.91.81 80]\u001b[0m\n",
      "\u001b[1;31mE: \u001b[0mFailed to fetch http://security.ubuntu.com/ubuntu/pool/main/f/flac/libflac8_1.3.3-2ubuntu0.1_amd64.deb  404  Not Found [IP: 91.189.91.81 80]\u001b[0m\n",
      "\u001b[1;31mE: \u001b[0mFailed to fetch http://security.ubuntu.com/ubuntu/pool/main/libx/libx11/libx11-xcb1_1.7.5-1ubuntu0.2_amd64.deb  404  Not Found [IP: 91.189.91.81 80]\u001b[0m\n",
      "\u001b[1;31mE: \u001b[0mFailed to fetch http://archive.ubuntu.com/ubuntu/pool/main/m/mesa/libglapi-mesa_22.2.5-0ubuntu0.1%7e22.04.3_amd64.deb  404  Not Found [IP: 91.189.91.81 80]\u001b[0m\n",
      "\u001b[1;31mE: \u001b[0mFailed to fetch http://archive.ubuntu.com/ubuntu/pool/main/l/llvm-toolchain-15/libllvm15_15.0.7-0ubuntu0.22.04.1_amd64.deb  404  Not Found [IP: 91.189.91.81 80]\u001b[0m\n",
      "\u001b[1;31mE: \u001b[0mFailed to fetch http://archive.ubuntu.com/ubuntu/pool/main/m/mesa/libgl1-mesa-dri_22.2.5-0ubuntu0.1%7e22.04.3_amd64.deb  404  Not Found [IP: 91.189.91.81 80]\u001b[0m\n",
      "\u001b[1;31mE: \u001b[0mFailed to fetch http://archive.ubuntu.com/ubuntu/pool/main/m/mesa/libglx-mesa0_22.2.5-0ubuntu0.1%7e22.04.3_amd64.deb  404  Not Found [IP: 91.189.91.81 80]\u001b[0m\n",
      "\u001b[1;31mE: \u001b[0mFailed to fetch http://archive.ubuntu.com/ubuntu/pool/main/m/mesa/libgbm1_22.2.5-0ubuntu0.1%7e22.04.3_amd64.deb  404  Not Found [IP: 91.189.91.81 80]\u001b[0m\n",
      "\u001b[1;31mE: \u001b[0mFailed to fetch http://archive.ubuntu.com/ubuntu/pool/universe/m/mesa/mesa-va-drivers_22.2.5-0ubuntu0.1%7e22.04.3_amd64.deb  404  Not Found [IP: 91.189.91.81 80]\u001b[0m\n",
      "\u001b[1;31mE: \u001b[0mFailed to fetch http://archive.ubuntu.com/ubuntu/pool/main/m/mesa/mesa-vdpau-drivers_22.2.5-0ubuntu0.1%7e22.04.3_amd64.deb  404  Not Found [IP: 91.189.91.81 80]\u001b[0m\n",
      "\u001b[1;31mE: \u001b[0mUnable to fetch some archives, maybe run apt-get update or try with --fix-missing?\u001b[0m\n"
     ]
    }
   ],
   "source": [
    "!apt install ffmpeg -y"
   ]
  },
  {
   "cell_type": "code",
   "execution_count": 12,
   "id": "022ba185",
   "metadata": {},
   "outputs": [
    {
     "name": "stdout",
     "output_type": "stream",
     "text": [
      "why\n",
      "tesT\n"
     ]
    },
    {
     "ename": "RuntimeError",
     "evalue": "release unlocked lock",
     "output_type": "error",
     "traceback": [
      "\u001b[0;31m---------------------------------------------------------------------------\u001b[0m",
      "\u001b[0;31mKeyboardInterrupt\u001b[0m                         Traceback (most recent call last)",
      "File \u001b[0;32m/usr/lib/python3.10/threading.py:607\u001b[0m, in \u001b[0;36mEvent.wait\u001b[0;34m(self, timeout)\u001b[0m\n\u001b[1;32m    606\u001b[0m \u001b[38;5;28;01mif\u001b[39;00m \u001b[38;5;129;01mnot\u001b[39;00m signaled:\n\u001b[0;32m--> 607\u001b[0m     signaled \u001b[38;5;241m=\u001b[39m \u001b[38;5;28;43mself\u001b[39;49m\u001b[38;5;241;43m.\u001b[39;49m\u001b[43m_cond\u001b[49m\u001b[38;5;241;43m.\u001b[39;49m\u001b[43mwait\u001b[49m\u001b[43m(\u001b[49m\u001b[43mtimeout\u001b[49m\u001b[43m)\u001b[49m\n\u001b[1;32m    608\u001b[0m \u001b[38;5;28;01mreturn\u001b[39;00m signaled\n",
      "File \u001b[0;32m/usr/lib/python3.10/threading.py:316\u001b[0m, in \u001b[0;36mCondition.wait\u001b[0;34m(self, timeout)\u001b[0m\n\u001b[1;32m    315\u001b[0m \u001b[38;5;28mself\u001b[39m\u001b[38;5;241m.\u001b[39m_waiters\u001b[38;5;241m.\u001b[39mappend(waiter)\n\u001b[0;32m--> 316\u001b[0m saved_state \u001b[38;5;241m=\u001b[39m \u001b[38;5;28;43mself\u001b[39;49m\u001b[38;5;241;43m.\u001b[39;49m\u001b[43m_release_save\u001b[49m\u001b[43m(\u001b[49m\u001b[43m)\u001b[49m\n\u001b[1;32m    317\u001b[0m gotit \u001b[38;5;241m=\u001b[39m \u001b[38;5;28;01mFalse\u001b[39;00m\n",
      "File \u001b[0;32m/usr/lib/python3.10/threading.py:274\u001b[0m, in \u001b[0;36mCondition._release_save\u001b[0;34m(self)\u001b[0m\n\u001b[1;32m    273\u001b[0m \u001b[38;5;28;01mdef\u001b[39;00m \u001b[38;5;21m_release_save\u001b[39m(\u001b[38;5;28mself\u001b[39m):\n\u001b[0;32m--> 274\u001b[0m     \u001b[38;5;28;43mself\u001b[39;49m\u001b[38;5;241;43m.\u001b[39;49m\u001b[43m_lock\u001b[49m\u001b[38;5;241;43m.\u001b[39;49m\u001b[43mrelease\u001b[49m\u001b[43m(\u001b[49m\u001b[43m)\u001b[49m\n",
      "\u001b[0;31mKeyboardInterrupt\u001b[0m: ",
      "\nDuring handling of the above exception, another exception occurred:\n",
      "\u001b[0;31mRuntimeError\u001b[0m                              Traceback (most recent call last)",
      "Cell \u001b[0;32mIn[12], line 1\u001b[0m\n\u001b[0;32m----> 1\u001b[0m \u001b[43mget_ipython\u001b[49m\u001b[43m(\u001b[49m\u001b[43m)\u001b[49m\u001b[38;5;241;43m.\u001b[39;49m\u001b[43msystem\u001b[49m\u001b[43m(\u001b[49m\u001b[38;5;124;43m'\u001b[39;49m\u001b[38;5;124;43mpython udp_video_streaming/deployment_udp_client.py\u001b[39;49m\u001b[38;5;124;43m'\u001b[39;49m\u001b[43m)\u001b[49m\n",
      "File \u001b[0;32m/usr/local/lib/python3.10/dist-packages/ipykernel/zmqshell.py:649\u001b[0m, in \u001b[0;36mZMQInteractiveShell.system_piped\u001b[0;34m(self, cmd)\u001b[0m\n\u001b[1;32m    647\u001b[0m         \u001b[38;5;28mself\u001b[39m\u001b[38;5;241m.\u001b[39muser_ns[\u001b[38;5;124m\"\u001b[39m\u001b[38;5;124m_exit_code\u001b[39m\u001b[38;5;124m\"\u001b[39m] \u001b[38;5;241m=\u001b[39m system(cmd)\n\u001b[1;32m    648\u001b[0m \u001b[38;5;28;01melse\u001b[39;00m:\n\u001b[0;32m--> 649\u001b[0m     \u001b[38;5;28mself\u001b[39m\u001b[38;5;241m.\u001b[39muser_ns[\u001b[38;5;124m\"\u001b[39m\u001b[38;5;124m_exit_code\u001b[39m\u001b[38;5;124m\"\u001b[39m] \u001b[38;5;241m=\u001b[39m \u001b[43msystem\u001b[49m\u001b[43m(\u001b[49m\u001b[38;5;28;43mself\u001b[39;49m\u001b[38;5;241;43m.\u001b[39;49m\u001b[43mvar_expand\u001b[49m\u001b[43m(\u001b[49m\u001b[43mcmd\u001b[49m\u001b[43m,\u001b[49m\u001b[43m \u001b[49m\u001b[43mdepth\u001b[49m\u001b[38;5;241;43m=\u001b[39;49m\u001b[38;5;241;43m1\u001b[39;49m\u001b[43m)\u001b[49m\u001b[43m)\u001b[49m\n",
      "File \u001b[0;32m/usr/local/lib/python3.10/dist-packages/IPython/utils/_process_posix.py:155\u001b[0m, in \u001b[0;36mProcessHandler.system\u001b[0;34m(self, cmd)\u001b[0m\n\u001b[1;32m    153\u001b[0m res_idx \u001b[38;5;241m=\u001b[39m child\u001b[38;5;241m.\u001b[39mexpect_list(patterns, \u001b[38;5;28mself\u001b[39m\u001b[38;5;241m.\u001b[39mread_timeout)\n\u001b[1;32m    154\u001b[0m \u001b[38;5;28mprint\u001b[39m(child\u001b[38;5;241m.\u001b[39mbefore[out_size:]\u001b[38;5;241m.\u001b[39mdecode(enc, \u001b[38;5;124m'\u001b[39m\u001b[38;5;124mreplace\u001b[39m\u001b[38;5;124m'\u001b[39m), end\u001b[38;5;241m=\u001b[39m\u001b[38;5;124m'\u001b[39m\u001b[38;5;124m'\u001b[39m)\n\u001b[0;32m--> 155\u001b[0m \u001b[43mflush\u001b[49m\u001b[43m(\u001b[49m\u001b[43m)\u001b[49m\n\u001b[1;32m    156\u001b[0m \u001b[38;5;28;01mif\u001b[39;00m res_idx\u001b[38;5;241m==\u001b[39mEOF_index:\n\u001b[1;32m    157\u001b[0m     \u001b[38;5;28;01mbreak\u001b[39;00m\n",
      "File \u001b[0;32m/usr/local/lib/python3.10/dist-packages/ipykernel/iostream.py:564\u001b[0m, in \u001b[0;36mOutStream.flush\u001b[0;34m(self)\u001b[0m\n\u001b[1;32m    562\u001b[0m     \u001b[38;5;28mself\u001b[39m\u001b[38;5;241m.\u001b[39mpub_thread\u001b[38;5;241m.\u001b[39mschedule(evt\u001b[38;5;241m.\u001b[39mset)\n\u001b[1;32m    563\u001b[0m     \u001b[38;5;66;03m# and give a timeout to avoid\u001b[39;00m\n\u001b[0;32m--> 564\u001b[0m     \u001b[38;5;28;01mif\u001b[39;00m \u001b[38;5;129;01mnot\u001b[39;00m \u001b[43mevt\u001b[49m\u001b[38;5;241;43m.\u001b[39;49m\u001b[43mwait\u001b[49m\u001b[43m(\u001b[49m\u001b[38;5;28;43mself\u001b[39;49m\u001b[38;5;241;43m.\u001b[39;49m\u001b[43mflush_timeout\u001b[49m\u001b[43m)\u001b[49m:\n\u001b[1;32m    565\u001b[0m         \u001b[38;5;66;03m# write directly to __stderr__ instead of warning because\u001b[39;00m\n\u001b[1;32m    566\u001b[0m         \u001b[38;5;66;03m# if this is happening sys.stderr may be the problem.\u001b[39;00m\n\u001b[1;32m    567\u001b[0m         \u001b[38;5;28mprint\u001b[39m(\u001b[38;5;124m\"\u001b[39m\u001b[38;5;124mIOStream.flush timed out\u001b[39m\u001b[38;5;124m\"\u001b[39m, file\u001b[38;5;241m=\u001b[39msys\u001b[38;5;241m.\u001b[39m__stderr__)\n\u001b[1;32m    568\u001b[0m \u001b[38;5;28;01melse\u001b[39;00m:\n",
      "File \u001b[0;32m/usr/lib/python3.10/threading.py:604\u001b[0m, in \u001b[0;36mEvent.wait\u001b[0;34m(self, timeout)\u001b[0m\n\u001b[1;32m    589\u001b[0m \u001b[38;5;28;01mdef\u001b[39;00m \u001b[38;5;21mwait\u001b[39m(\u001b[38;5;28mself\u001b[39m, timeout\u001b[38;5;241m=\u001b[39m\u001b[38;5;28;01mNone\u001b[39;00m):\n\u001b[1;32m    590\u001b[0m \u001b[38;5;250m    \u001b[39m\u001b[38;5;124;03m\"\"\"Block until the internal flag is true.\u001b[39;00m\n\u001b[1;32m    591\u001b[0m \n\u001b[1;32m    592\u001b[0m \u001b[38;5;124;03m    If the internal flag is true on entry, return immediately. Otherwise,\u001b[39;00m\n\u001b[0;32m   (...)\u001b[0m\n\u001b[1;32m    602\u001b[0m \n\u001b[1;32m    603\u001b[0m \u001b[38;5;124;03m    \"\"\"\u001b[39;00m\n\u001b[0;32m--> 604\u001b[0m     \u001b[38;5;28;01mwith\u001b[39;00m \u001b[38;5;28mself\u001b[39m\u001b[38;5;241m.\u001b[39m_cond:\n\u001b[1;32m    605\u001b[0m         signaled \u001b[38;5;241m=\u001b[39m \u001b[38;5;28mself\u001b[39m\u001b[38;5;241m.\u001b[39m_flag\n\u001b[1;32m    606\u001b[0m         \u001b[38;5;28;01mif\u001b[39;00m \u001b[38;5;129;01mnot\u001b[39;00m signaled:\n",
      "File \u001b[0;32m/usr/lib/python3.10/threading.py:268\u001b[0m, in \u001b[0;36mCondition.__exit__\u001b[0;34m(self, *args)\u001b[0m\n\u001b[1;32m    267\u001b[0m \u001b[38;5;28;01mdef\u001b[39;00m \u001b[38;5;21m__exit__\u001b[39m(\u001b[38;5;28mself\u001b[39m, \u001b[38;5;241m*\u001b[39margs):\n\u001b[0;32m--> 268\u001b[0m     \u001b[38;5;28;01mreturn\u001b[39;00m \u001b[38;5;28;43mself\u001b[39;49m\u001b[38;5;241;43m.\u001b[39;49m\u001b[43m_lock\u001b[49m\u001b[38;5;241;43m.\u001b[39;49m\u001b[38;5;21;43m__exit__\u001b[39;49m\u001b[43m(\u001b[49m\u001b[38;5;241;43m*\u001b[39;49m\u001b[43margs\u001b[49m\u001b[43m)\u001b[49m\n",
      "\u001b[0;31mRuntimeError\u001b[0m: release unlocked lock"
     ]
    }
   ],
   "source": [
    "!python udp_video_streaming/deployment_udp_client.py"
   ]
  },
  {
   "cell_type": "code",
   "execution_count": 1,
   "id": "e616c1ea",
   "metadata": {},
   "outputs": [],
   "source": [
    "from udp_video_streaming.deployment_udp_client import stream_video"
   ]
  },
  {
   "cell_type": "code",
   "execution_count": 3,
   "id": "02a30a9e",
   "metadata": {},
   "outputs": [
    {
     "name": "stdout",
     "output_type": "stream",
     "text": [
      "tesT\n"
     ]
    },
    {
     "ename": "KeyboardInterrupt",
     "evalue": "",
     "output_type": "error",
     "traceback": [
      "\u001b[0;31m---------------------------------------------------------------------------\u001b[0m",
      "\u001b[0;31mKeyboardInterrupt\u001b[0m                         Traceback (most recent call last)",
      "Cell \u001b[0;32mIn[3], line 4\u001b[0m\n\u001b[1;32m      2\u001b[0m width \u001b[38;5;241m=\u001b[39m \u001b[38;5;241m3840\u001b[39m  \u001b[38;5;66;03m# Example width\u001b[39;00m\n\u001b[1;32m      3\u001b[0m height \u001b[38;5;241m=\u001b[39m \u001b[38;5;241m2160\u001b[39m  \u001b[38;5;66;03m# Example height\u001b[39;00m\n\u001b[0;32m----> 4\u001b[0m \u001b[43mstream_video\u001b[49m\u001b[43m(\u001b[49m\u001b[43min_file\u001b[49m\u001b[43m,\u001b[49m\u001b[43m \u001b[49m\u001b[43mwidth\u001b[49m\u001b[43m,\u001b[49m\u001b[43m \u001b[49m\u001b[43mheight\u001b[49m\u001b[43m,\u001b[49m\u001b[43m \u001b[49m\u001b[38;5;241;43m10\u001b[39;49m\u001b[43m)\u001b[49m\n",
      "File \u001b[0;32m/workspace/ALRP/udp_video_streaming/deployment_udp_client.py:41\u001b[0m, in \u001b[0;36mstream_video\u001b[0;34m(input_url, width, height, frames_per_second)\u001b[0m\n\u001b[1;32m     39\u001b[0m \u001b[38;5;28;01mwhile\u001b[39;00m \u001b[38;5;28;01mTrue\u001b[39;00m:\n\u001b[1;32m     40\u001b[0m     \u001b[38;5;28mprint\u001b[39m(\u001b[38;5;124m\"\u001b[39m\u001b[38;5;124mtesT\u001b[39m\u001b[38;5;124m\"\u001b[39m)\n\u001b[0;32m---> 41\u001b[0m     in_bytes \u001b[38;5;241m=\u001b[39m \u001b[43mprocess1\u001b[49m\u001b[38;5;241;43m.\u001b[39;49m\u001b[43mstdout\u001b[49m\u001b[38;5;241;43m.\u001b[39;49m\u001b[43mread\u001b[49m\u001b[43m(\u001b[49m\u001b[43mwidth\u001b[49m\u001b[43m \u001b[49m\u001b[38;5;241;43m*\u001b[39;49m\u001b[43m \u001b[49m\u001b[43mheight\u001b[49m\u001b[43m \u001b[49m\u001b[38;5;241;43m*\u001b[39;49m\u001b[43m \u001b[49m\u001b[38;5;241;43m3\u001b[39;49m\u001b[43m)\u001b[49m\n\u001b[1;32m     42\u001b[0m     \u001b[38;5;28;01mif\u001b[39;00m \u001b[38;5;129;01mnot\u001b[39;00m in_bytes:\n\u001b[1;32m     43\u001b[0m         \u001b[38;5;28;01mbreak\u001b[39;00m\n",
      "\u001b[0;31mKeyboardInterrupt\u001b[0m: "
     ]
    }
   ],
   "source": [
    "in_file = 'udp://127.0.0.1:8786'  # Example UDP input URL\n",
    "width = 3840  # Example width\n",
    "height = 2160  # Example height\n",
    "stream_video(in_file, width, height, 10)"
   ]
  },
  {
   "cell_type": "code",
   "execution_count": 3,
   "id": "1a2947e8",
   "metadata": {},
   "outputs": [],
   "source": [
    "import ffmpeg"
   ]
  },
  {
   "cell_type": "code",
   "execution_count": 10,
   "id": "522d11da",
   "metadata": {},
   "outputs": [
    {
     "data": {
      "text/plain": [
       "<module 'ffmpeg' from '/usr/local/lib/python3.10/dist-packages/ffmpeg/__init__.py'>"
      ]
     },
     "execution_count": 10,
     "metadata": {},
     "output_type": "execute_result"
    }
   ],
   "source": [
    "ffmpeg"
   ]
  },
  {
   "cell_type": "code",
   "execution_count": 10,
   "id": "c6d2cff7",
   "metadata": {},
   "outputs": [],
   "source": [
    "from model import ObjectDetection"
   ]
  },
  {
   "cell_type": "code",
   "execution_count": 11,
   "id": "098fa0ca",
   "metadata": {},
   "outputs": [],
   "source": [
    "import os \n",
    "from models_nms import non_max_suppression"
   ]
  },
  {
   "cell_type": "code",
   "execution_count": 12,
   "id": "471f7db9",
   "metadata": {},
   "outputs": [],
   "source": [
    "od = ObjectDetection(\"lpr-yolov3.weights\", \"lpr-yolov3.cfg\")"
   ]
  },
  {
   "cell_type": "code",
   "execution_count": 14,
   "id": "2a4b8ef2",
   "metadata": {},
   "outputs": [],
   "source": [
    "image_path = \"images_test\"\n",
    "test = []\n",
    "\n",
    "for img in os.listdir(image_path):\n",
    "    if img.endswith('.jpeg') or img.endswith('.jpg'):\n",
    "        image_directory = os.path.join(image_path, img)\n",
    "        test.append(od.detect(image_directory))"
   ]
  },
  {
   "cell_type": "code",
   "execution_count": 28,
   "id": "dc1a5b61",
   "metadata": {},
   "outputs": [],
   "source": [
    "import os\n",
    "count = 0\n",
    "for img in os.listdir(\"images_test\"):\n",
    "    if img.endswith('.jpeg') or img.endswith('.jpg'):\n",
    "        count += 1"
   ]
  },
  {
   "cell_type": "code",
   "execution_count": 29,
   "id": "9d285087",
   "metadata": {},
   "outputs": [
    {
     "data": {
      "text/plain": [
       "228"
      ]
     },
     "execution_count": 29,
     "metadata": {},
     "output_type": "execute_result"
    }
   ],
   "source": [
    "count"
   ]
  },
  {
   "cell_type": "code",
   "execution_count": 15,
   "id": "249fd6d3",
   "metadata": {},
   "outputs": [
    {
     "data": {
      "text/plain": [
       "'images_test/N1.jpeg'"
      ]
     },
     "execution_count": 15,
     "metadata": {},
     "output_type": "execute_result"
    }
   ],
   "source": [
    "test[0][0]['image_name']"
   ]
  },
  {
   "cell_type": "code",
   "execution_count": 16,
   "id": "2e92cb35",
   "metadata": {},
   "outputs": [
    {
     "name": "stdout",
     "output_type": "stream",
     "text": [
      "[{'class_name': 'license plate', 'image_name': 'images_test/N1.jpeg', 'confidence': 0.7348381280899048, 'box': array([1248,  690,  351,   82])}]\n"
     ]
    }
   ],
   "source": [
    "print(test[0])"
   ]
  },
  {
   "cell_type": "code",
   "execution_count": 17,
   "id": "146be24e",
   "metadata": {},
   "outputs": [
    {
     "name": "stdout",
     "output_type": "stream",
     "text": [
      "[0]\n",
      "[0]\n",
      "[0]\n",
      "[0]\n",
      "[0]\n",
      "[0]\n",
      "[0]\n",
      "[0]\n",
      "[0]\n",
      "[0, 1]\n",
      "[1, 0]\n",
      "[0]\n",
      "[0]\n",
      "[0]\n",
      "[0]\n",
      "[0]\n",
      "[0, 1]\n",
      "[0]\n",
      "[0]\n",
      "[0]\n",
      "[0]\n",
      "[0]\n",
      "[0]\n",
      "[1, 0]\n",
      "[0, 1]\n",
      "[0]\n",
      "[0]\n",
      "[0]\n",
      "[0]\n",
      "[0, 1]\n",
      "[0]\n",
      "[1, 0]\n",
      "[0]\n",
      "[0]\n",
      "[0]\n",
      "[0]\n",
      "[0]\n",
      "[1, 0]\n",
      "[0]\n",
      "[0, 1]\n",
      "[0]\n",
      "[0]\n",
      "[0]\n",
      "[0]\n",
      "[0]\n",
      "[0]\n",
      "[0]\n",
      "[0]\n",
      "[0]\n",
      "[1, 0]\n",
      "[0, 1]\n",
      "[0]\n",
      "[0, 1]\n",
      "[0]\n",
      "[0]\n",
      "[1, 0]\n",
      "[0, 1]\n",
      "[1, 0]\n",
      "[0]\n",
      "[0]\n",
      "[1, 0]\n",
      "[0]\n",
      "[0]\n",
      "[1, 0]\n",
      "[0]\n",
      "[0]\n",
      "[1, 0]\n",
      "[0]\n",
      "[0]\n",
      "[0]\n",
      "[0]\n",
      "[0]\n",
      "[0]\n",
      "[0]\n",
      "[0]\n",
      "[0]\n",
      "[0]\n",
      "[0]\n",
      "[0]\n",
      "[0]\n",
      "[1, 0]\n",
      "[1, 0]\n",
      "[0]\n",
      "[0, 1]\n",
      "[0, 1]\n",
      "[0]\n",
      "[0]\n",
      "[0]\n",
      "[0, 1]\n",
      "[0]\n",
      "[0]\n",
      "[1, 0]\n",
      "[0]\n",
      "[0]\n",
      "[1, 0]\n",
      "[0]\n",
      "[0]\n",
      "[0]\n",
      "[0]\n",
      "[0]\n",
      "[0, 1]\n",
      "[0]\n",
      "[0]\n",
      "[0]\n",
      "[0]\n",
      "[1, 0]\n",
      "[1, 0]\n",
      "[0]\n",
      "[1, 0]\n",
      "[0]\n",
      "[0]\n",
      "[0]\n",
      "[1, 0]\n",
      "[0]\n",
      "[0, 1]\n",
      "[1, 0]\n",
      "[1, 0]\n",
      "[0]\n",
      "[0]\n",
      "[0, 1]\n",
      "[0]\n",
      "[0]\n",
      "[0]\n",
      "[0, 1]\n",
      "[0]\n",
      "[0]\n",
      "[0]\n",
      "[1, 0]\n",
      "[0]\n",
      "[0, 1]\n",
      "[0]\n",
      "[1, 0]\n",
      "[0]\n",
      "[0]\n",
      "[0]\n",
      "[0]\n",
      "[0]\n",
      "[0, 1]\n",
      "[0]\n",
      "[1, 0]\n",
      "[1, 0]\n",
      "[0]\n",
      "[0]\n",
      "[1, 0]\n",
      "[0]\n",
      "[0]\n",
      "[0]\n",
      "[0, 1]\n",
      "[0]\n",
      "[0]\n",
      "[0]\n",
      "[0]\n",
      "[1, 0]\n",
      "[0]\n",
      "[0]\n",
      "[0]\n",
      "[1, 0]\n",
      "[1, 0]\n",
      "[0]\n",
      "[1, 0]\n",
      "[0]\n",
      "[0]\n",
      "[0]\n",
      "[0]\n",
      "[0]\n",
      "[0]\n",
      "[0]\n",
      "[0, 1]\n",
      "[0]\n",
      "[0]\n",
      "[0]\n",
      "[1, 0]\n",
      "[0]\n",
      "[0, 1]\n",
      "[0]\n",
      "[0]\n",
      "[0]\n",
      "[0]\n",
      "[0]\n",
      "[0, 1]\n",
      "[0]\n",
      "[0]\n",
      "[0]\n",
      "[0, 1]\n",
      "[0]\n",
      "[0]\n",
      "[0]\n",
      "[0]\n",
      "[0]\n",
      "[0]\n",
      "[0]\n",
      "[1, 0]\n",
      "[0]\n",
      "[0]\n",
      "[0, 1]\n",
      "[0, 1]\n",
      "[0]\n",
      "[2, 0, 1]\n",
      "[0]\n",
      "[0]\n",
      "[0]\n",
      "[1, 0]\n",
      "[0]\n",
      "[0]\n",
      "[0]\n",
      "[0]\n",
      "[0]\n",
      "[0, 1]\n",
      "[0, 1]\n",
      "[1, 0]\n",
      "[0]\n",
      "[0]\n",
      "[1, 0]\n",
      "[0]\n",
      "[0]\n"
     ]
    }
   ],
   "source": [
    "for i, testing in enumerate(test): \n",
    "    box_list = []\n",
    "    confidence_list = []\n",
    "    if testing != []:\n",
    "        for tested in testing:\n",
    "            box_list.append(tested['box'])\n",
    "            confidence_list.append(tested['confidence'])\n",
    "        keep = non_max_suppression(box_list, confidence_list, .5)\n",
    "        print(keep)"
   ]
  },
  {
   "cell_type": "code",
   "execution_count": 13,
   "id": "13d4c6eb",
   "metadata": {},
   "outputs": [
    {
     "name": "stdout",
     "output_type": "stream",
     "text": [
      "Collecting matplotlib\n",
      "  Downloading matplotlib-3.8.3-cp310-cp310-manylinux_2_17_x86_64.manylinux2014_x86_64.whl (11.6 MB)\n",
      "\u001b[2K     \u001b[90m━━━━━━━━━━━━━━━━━━━━━━━━━━━━━━━━━━━━━━━━\u001b[0m \u001b[32m11.6/11.6 MB\u001b[0m \u001b[31m15.9 MB/s\u001b[0m eta \u001b[36m0:00:00\u001b[0m00:01\u001b[0m00:01\u001b[0m\n",
      "\u001b[?25hCollecting contourpy>=1.0.1 (from matplotlib)\n",
      "  Downloading contourpy-1.2.0-cp310-cp310-manylinux_2_17_x86_64.manylinux2014_x86_64.whl (310 kB)\n",
      "\u001b[2K     \u001b[90m━━━━━━━━━━━━━━━━━━━━━━━━━━━━━━━━━━━━━━\u001b[0m \u001b[32m310.7/310.7 kB\u001b[0m \u001b[31m14.5 MB/s\u001b[0m eta \u001b[36m0:00:00\u001b[0m\n",
      "\u001b[?25hCollecting cycler>=0.10 (from matplotlib)\n",
      "  Downloading cycler-0.12.1-py3-none-any.whl (8.3 kB)\n",
      "Collecting fonttools>=4.22.0 (from matplotlib)\n",
      "  Downloading fonttools-4.50.0-cp310-cp310-manylinux_2_17_x86_64.manylinux2014_x86_64.whl (4.6 MB)\n",
      "\u001b[2K     \u001b[90m━━━━━━━━━━━━━━━━━━━━━━━━━━━━━━━━━━━━━━━━\u001b[0m \u001b[32m4.6/4.6 MB\u001b[0m \u001b[31m20.3 MB/s\u001b[0m eta \u001b[36m0:00:00\u001b[0m00:01\u001b[0m00:01\u001b[0m\n",
      "\u001b[?25hCollecting kiwisolver>=1.3.1 (from matplotlib)\n",
      "  Downloading kiwisolver-1.4.5-cp310-cp310-manylinux_2_12_x86_64.manylinux2010_x86_64.whl (1.6 MB)\n",
      "\u001b[2K     \u001b[90m━━━━━━━━━━━━━━━━━━━━━━━━━━━━━━━━━━━━━━━━\u001b[0m \u001b[32m1.6/1.6 MB\u001b[0m \u001b[31m17.5 MB/s\u001b[0m eta \u001b[36m0:00:00\u001b[0ma \u001b[36m0:00:01\u001b[0m\n",
      "\u001b[?25hRequirement already satisfied: numpy<2,>=1.21 in /usr/local/lib/python3.10/dist-packages (from matplotlib) (1.22.2)\n",
      "Requirement already satisfied: packaging>=20.0 in /usr/local/lib/python3.10/dist-packages (from matplotlib) (23.1)\n",
      "Requirement already satisfied: pillow>=8 in /usr/local/lib/python3.10/dist-packages (from matplotlib) (9.5.0)\n",
      "Requirement already satisfied: pyparsing>=2.3.1 in /usr/local/lib/python3.10/dist-packages (from matplotlib) (3.1.0)\n",
      "Requirement already satisfied: python-dateutil>=2.7 in /usr/local/lib/python3.10/dist-packages (from matplotlib) (2.8.2)\n",
      "Requirement already satisfied: six>=1.5 in /usr/local/lib/python3.10/dist-packages (from python-dateutil>=2.7->matplotlib) (1.16.0)\n",
      "Installing collected packages: kiwisolver, fonttools, cycler, contourpy, matplotlib\n",
      "Successfully installed contourpy-1.2.0 cycler-0.12.1 fonttools-4.50.0 kiwisolver-1.4.5 matplotlib-3.8.3\n",
      "\u001b[33mWARNING: Running pip as the 'root' user can result in broken permissions and conflicting behaviour with the system package manager. It is recommended to use a virtual environment instead: https://pip.pypa.io/warnings/venv\u001b[0m\u001b[33m\n",
      "\u001b[0m"
     ]
    }
   ],
   "source": [
    "!pip install matplotlib"
   ]
  },
  {
   "cell_type": "code",
   "execution_count": 14,
   "id": "57446dad",
   "metadata": {},
   "outputs": [],
   "source": [
    "import matplotlib.pyplot as plt\n",
    "import cv2\n",
    "import pytesseract\n",
    "from PIL import Image\n",
    "import os\n",
    "\n",
    "def ocr_license_plate(image):\n",
    "    \"\"\"\n",
    "    Extracts the license plate number using Google's Tesseract OCR.\n",
    "\n",
    "    Parameters:\n",
    "    image (PIL.Image): The cropped image.\n",
    "\n",
    "    Returns:\n",
    "    str: The extracted license plate number.\n",
    "    \"\"\"\n",
    "\n",
    "    pytesseract.pytesseract.tesseract_cmd = r'/usr/bin/tesseract'\n",
    "    text = pytesseract.image_to_string(image, config=\"--psm 6\")\n",
    "    return text.strip()"
   ]
  },
  {
   "cell_type": "code",
   "execution_count": 3,
   "id": "41f8bd2e",
   "metadata": {},
   "outputs": [
    {
     "name": "stdout",
     "output_type": "stream",
     "text": [
      "Collecting opencv-python-headless\n",
      "  Downloading opencv_python_headless-4.9.0.80-cp37-abi3-manylinux_2_17_x86_64.manylinux2014_x86_64.whl (49.6 MB)\n",
      "\u001b[2K     \u001b[90m━━━━━━━━━━━━━━━━━━━━━━━━━━━━━━━━━━━━━━━━\u001b[0m \u001b[32m49.6/49.6 MB\u001b[0m \u001b[31m16.2 MB/s\u001b[0m eta \u001b[36m0:00:00\u001b[0m00:01\u001b[0m00:01\u001b[0m\n",
      "\u001b[?25hCollecting opencv-python\n",
      "  Downloading opencv_python-4.9.0.80-cp37-abi3-manylinux_2_17_x86_64.manylinux2014_x86_64.whl (62.2 MB)\n",
      "\u001b[2K     \u001b[90m━━━━━━━━━━━━━━━━━━━━━━━━━━━━━━━━━━━━━━━━\u001b[0m \u001b[32m62.2/62.2 MB\u001b[0m \u001b[31m15.4 MB/s\u001b[0m eta \u001b[36m0:00:00\u001b[0m00:01\u001b[0m00:01\u001b[0m\n",
      "\u001b[?25hRequirement already satisfied: numpy>=1.21.2 in /usr/local/lib/python3.10/dist-packages (from opencv-python-headless) (1.22.2)\n",
      "Installing collected packages: opencv-python-headless, opencv-python\n",
      "Successfully installed opencv-python-4.9.0.80 opencv-python-headless-4.9.0.80\n",
      "\u001b[33mWARNING: Running pip as the 'root' user can result in broken permissions and conflicting behaviour with the system package manager. It is recommended to use a virtual environment instead: https://pip.pypa.io/warnings/venv\u001b[0m\u001b[33m\n",
      "\u001b[0m"
     ]
    }
   ],
   "source": [
    "!pip install opencv-python-headless opencv-python"
   ]
  },
  {
   "cell_type": "code",
   "execution_count": 8,
   "id": "dd4b02f1",
   "metadata": {},
   "outputs": [
    {
     "name": "stdout",
     "output_type": "stream",
     "text": [
      "Collecting pytesseract\n",
      "  Downloading pytesseract-0.3.10-py3-none-any.whl (14 kB)\n",
      "Requirement already satisfied: packaging>=21.3 in /usr/local/lib/python3.10/dist-packages (from pytesseract) (23.1)\n",
      "Requirement already satisfied: Pillow>=8.0.0 in /usr/local/lib/python3.10/dist-packages (from pytesseract) (9.5.0)\n",
      "Installing collected packages: pytesseract\n",
      "Successfully installed pytesseract-0.3.10\n",
      "\u001b[33mWARNING: Running pip as the 'root' user can result in broken permissions and conflicting behaviour with the system package manager. It is recommended to use a virtual environment instead: https://pip.pypa.io/warnings/venv\u001b[0m\u001b[33m\n",
      "\u001b[0m"
     ]
    }
   ],
   "source": [
    "!pip install pytesseract"
   ]
  },
  {
   "cell_type": "code",
   "execution_count": 10,
   "id": "21b1299f",
   "metadata": {},
   "outputs": [
    {
     "name": "stdout",
     "output_type": "stream",
     "text": [
      "Collecting imutils\n",
      "  Downloading imutils-0.5.4.tar.gz (17 kB)\n",
      "  Preparing metadata (setup.py) ... \u001b[?25ldone\n",
      "\u001b[?25hBuilding wheels for collected packages: imutils\n",
      "  Building wheel for imutils (setup.py) ... \u001b[?25ldone\n",
      "\u001b[?25h  Created wheel for imutils: filename=imutils-0.5.4-py3-none-any.whl size=25860 sha256=a248d26b3f0e3b1e820f578f81ede7901109ad49510609e7554b6cca4ca67835\n",
      "  Stored in directory: /root/.cache/pip/wheels/85/cf/3a/e265e975a1e7c7e54eb3692d6aa4e2e7d6a3945d29da46f2d7\n",
      "Successfully built imutils\n",
      "Installing collected packages: imutils\n",
      "Successfully installed imutils-0.5.4\n",
      "\u001b[33mWARNING: Running pip as the 'root' user can result in broken permissions and conflicting behaviour with the system package manager. It is recommended to use a virtual environment instead: https://pip.pypa.io/warnings/venv\u001b[0m\u001b[33m\n",
      "\u001b[0m"
     ]
    }
   ],
   "source": [
    "!pip install imutils"
   ]
  },
  {
   "cell_type": "code",
   "execution_count": 11,
   "id": "7eed8b92",
   "metadata": {},
   "outputs": [
    {
     "ename": "ModuleNotFoundError",
     "evalue": "No module named 'ffmpeg'",
     "output_type": "error",
     "traceback": [
      "\u001b[0;31m---------------------------------------------------------------------------\u001b[0m",
      "\u001b[0;31mModuleNotFoundError\u001b[0m                       Traceback (most recent call last)",
      "Cell \u001b[0;32mIn[11], line 1\u001b[0m\n\u001b[0;32m----> 1\u001b[0m \u001b[38;5;28;01mfrom\u001b[39;00m \u001b[38;5;21;01mdata_pipeline\u001b[39;00m \u001b[38;5;28;01mimport\u001b[39;00m LicensePlateETL\n",
      "File \u001b[0;32m/workspace/ALRP/data_pipeline.py:7\u001b[0m\n\u001b[1;32m      5\u001b[0m \u001b[38;5;28;01mfrom\u001b[39;00m \u001b[38;5;21;01mmodels_nms\u001b[39;00m \u001b[38;5;28;01mimport\u001b[39;00m non_max_suppression\n\u001b[1;32m      6\u001b[0m \u001b[38;5;28;01mimport\u001b[39;00m \u001b[38;5;21;01mimutils\u001b[39;00m\n\u001b[0;32m----> 7\u001b[0m \u001b[38;5;28;01mimport\u001b[39;00m \u001b[38;5;21;01mffmpeg\u001b[39;00m\n\u001b[1;32m      9\u001b[0m \u001b[38;5;28;01mclass\u001b[39;00m \u001b[38;5;21;01mLicensePlateETL\u001b[39;00m:\n\u001b[1;32m     10\u001b[0m \u001b[38;5;250m    \u001b[39m\u001b[38;5;124;03m\"\"\"\u001b[39;00m\n\u001b[1;32m     11\u001b[0m \u001b[38;5;124;03m    A class for extracting, transforming, and loading license plate images from a video.\u001b[39;00m\n\u001b[1;32m     12\u001b[0m \u001b[38;5;124;03m    \"\"\"\u001b[39;00m\n",
      "\u001b[0;31mModuleNotFoundError\u001b[0m: No module named 'ffmpeg'"
     ]
    }
   ],
   "source": [
    "from data_pipeline import LicensePlateETL"
   ]
  },
  {
   "cell_type": "code",
   "execution_count": 33,
   "id": "7a795125",
   "metadata": {},
   "outputs": [],
   "source": [
    "testl = LicensePlateETL()"
   ]
  },
  {
   "cell_type": "code",
   "execution_count": 5,
   "id": "28cfbae8",
   "metadata": {},
   "outputs": [
    {
     "ename": "NameError",
     "evalue": "name 'ffmpeg' is not defined",
     "output_type": "error",
     "traceback": [
      "\u001b[0;31m---------------------------------------------------------------------------\u001b[0m",
      "\u001b[0;31mNameError\u001b[0m                                 Traceback (most recent call last)",
      "Cell \u001b[0;32mIn[5], line 5\u001b[0m\n\u001b[1;32m      3\u001b[0m height \u001b[38;5;241m=\u001b[39m \u001b[38;5;241m2160\u001b[39m  \u001b[38;5;66;03m# Example height\u001b[39;00m\n\u001b[1;32m      4\u001b[0m frames_per_second \u001b[38;5;241m=\u001b[39m \u001b[38;5;241m5\u001b[39m\n\u001b[0;32m----> 5\u001b[0m \u001b[43mtestl\u001b[49m\u001b[38;5;241;43m.\u001b[39;49m\u001b[43mextract\u001b[49m\u001b[43m(\u001b[49m\u001b[43min_file\u001b[49m\u001b[43m,\u001b[49m\u001b[43m \u001b[49m\u001b[43mwidth\u001b[49m\u001b[43m,\u001b[49m\u001b[43m \u001b[49m\u001b[43mheight\u001b[49m\u001b[43m,\u001b[49m\u001b[43m \u001b[49m\u001b[43mframes_per_second\u001b[49m\u001b[43m)\u001b[49m\n",
      "File \u001b[0;32m/workspace/ALRP/data_pipeline.py:36\u001b[0m, in \u001b[0;36mLicensePlateETL.extract\u001b[0;34m(self, input_url, width, height, frames_per_second)\u001b[0m\n\u001b[1;32m     33\u001b[0m \u001b[38;5;28;01mif\u001b[39;00m \u001b[38;5;129;01mnot\u001b[39;00m os\u001b[38;5;241m.\u001b[39mpath\u001b[38;5;241m.\u001b[39mexists(\u001b[38;5;28mself\u001b[39m\u001b[38;5;241m.\u001b[39mimage_directory):\n\u001b[1;32m     34\u001b[0m     os\u001b[38;5;241m.\u001b[39mmakedirs(\u001b[38;5;28mself\u001b[39m\u001b[38;5;241m.\u001b[39mimage_directory)\n\u001b[1;32m     35\u001b[0m process1 \u001b[38;5;241m=\u001b[39m (\n\u001b[0;32m---> 36\u001b[0m     \u001b[43mffmpeg\u001b[49m\n\u001b[1;32m     37\u001b[0m     \u001b[38;5;241m.\u001b[39minput(input_url)\n\u001b[1;32m     38\u001b[0m     \u001b[38;5;241m.\u001b[39moutput(\u001b[38;5;124m'\u001b[39m\u001b[38;5;124mpipe:\u001b[39m\u001b[38;5;124m'\u001b[39m, \u001b[38;5;28mformat\u001b[39m\u001b[38;5;241m=\u001b[39m\u001b[38;5;124m'\u001b[39m\u001b[38;5;124mrawvideo\u001b[39m\u001b[38;5;124m'\u001b[39m, pix_fmt\u001b[38;5;241m=\u001b[39m\u001b[38;5;124m'\u001b[39m\u001b[38;5;124mbgr24\u001b[39m\u001b[38;5;124m'\u001b[39m)\n\u001b[1;32m     39\u001b[0m     \u001b[38;5;241m.\u001b[39mrun_async(pipe_stdout\u001b[38;5;241m=\u001b[39m\u001b[38;5;28;01mTrue\u001b[39;00m, pipe_stderr\u001b[38;5;241m=\u001b[39m\u001b[38;5;28;01mTrue\u001b[39;00m)\n\u001b[1;32m     40\u001b[0m )\n\u001b[1;32m     42\u001b[0m \u001b[38;5;28;01mwhile\u001b[39;00m \u001b[38;5;28;01mTrue\u001b[39;00m:\n\u001b[1;32m     43\u001b[0m     in_bytes \u001b[38;5;241m=\u001b[39m process1\u001b[38;5;241m.\u001b[39mstdout\u001b[38;5;241m.\u001b[39mread(width \u001b[38;5;241m*\u001b[39m height \u001b[38;5;241m*\u001b[39m \u001b[38;5;241m3\u001b[39m)\n",
      "\u001b[0;31mNameError\u001b[0m: name 'ffmpeg' is not defined"
     ]
    }
   ],
   "source": [
    "in_file = 'udp://127.0.0.1:23000'  # Example UDP input URL\n",
    "width = 3840  # Example width\n",
    "height = 2160  # Example height\n",
    "frames_per_second = 5\n",
    "testl.extract(in_file, width, height, frames_per_second)"
   ]
  },
  {
   "cell_type": "code",
   "execution_count": 5,
   "id": "941be5f4",
   "metadata": {},
   "outputs": [],
   "source": [
    "testl = LicensePlateETL(output_directory=\"output_2\")"
   ]
  },
  {
   "cell_type": "code",
   "execution_count": 6,
   "id": "57fa0826",
   "metadata": {},
   "outputs": [],
   "source": [
    "testl.transform('lpr-yolov3.weights', 'lpr-yolov3.cfg')"
   ]
  },
  {
   "cell_type": "code",
   "execution_count": 18,
   "id": "0a6fc7cd",
   "metadata": {},
   "outputs": [
    {
     "name": "stdout",
     "output_type": "stream",
     "text": [
      "Reading package lists... Done\n",
      "Building dependency tree... Done\n",
      "Reading state information... Done\n",
      "The following additional packages will be installed:\n",
      "  libgif7 liblept5 libtesseract4 tesseract-ocr-eng tesseract-ocr-osd\n",
      "The following NEW packages will be installed:\n",
      "  libgif7 liblept5 libtesseract4 tesseract-ocr tesseract-ocr-eng\n",
      "  tesseract-ocr-osd\n",
      "0 upgraded, 6 newly installed, 0 to remove and 101 not upgraded.\n",
      "Need to get 7265 kB of archives.\n",
      "After this operation, 21.8 MB of additional disk space will be used.\n",
      "Get:1 http://archive.ubuntu.com/ubuntu jammy/main amd64 libgif7 amd64 5.1.9-2build2 [33.8 kB]\n",
      "Get:2 http://archive.ubuntu.com/ubuntu jammy/universe amd64 liblept5 amd64 1.82.0-3build1 [1107 kB]\n",
      "Get:3 http://archive.ubuntu.com/ubuntu jammy/universe amd64 libtesseract4 amd64 4.1.1-2.1build1 [1308 kB]\n",
      "Get:4 http://archive.ubuntu.com/ubuntu jammy/universe amd64 tesseract-ocr-eng all 1:4.00~git30-7274cfa-1.1 [1591 kB]\n",
      "Get:5 http://archive.ubuntu.com/ubuntu jammy/universe amd64 tesseract-ocr-osd all 1:4.00~git30-7274cfa-1.1 [2990 kB]\n",
      "Get:6 http://archive.ubuntu.com/ubuntu jammy/universe amd64 tesseract-ocr amd64 4.1.1-2.1build1 [236 kB]\n",
      "Fetched 7265 kB in 3s (2856 kB/s)      \u001b[0m\u001b[33m\n",
      "debconf: unable to initialize frontend: Dialog\n",
      "debconf: (No usable dialog-like program is installed, so the dialog based frontend cannot be used. at /usr/share/perl5/Debconf/FrontEnd/Dialog.pm line 78, <> line 6.)\n",
      "debconf: falling back to frontend: Readline\n",
      "\n",
      "\u001b7\u001b[0;23r\u001b8\u001b[1ASelecting previously unselected package libgif7:amd64.\n",
      "(Reading database ... 43983 files and directories currently installed.)\n",
      "Preparing to unpack .../0-libgif7_5.1.9-2build2_amd64.deb ...\n",
      "\u001b7\u001b[24;0f\u001b[42m\u001b[30mProgress: [  0%]\u001b[49m\u001b[39m [..........................................................] \u001b8\u001b7\u001b[24;0f\u001b[42m\u001b[30mProgress: [  4%]\u001b[49m\u001b[39m [##........................................................] \u001b8Unpacking libgif7:amd64 (5.1.9-2build2) ...\n",
      "\u001b7\u001b[24;0f\u001b[42m\u001b[30mProgress: [  8%]\u001b[49m\u001b[39m [####......................................................] \u001b8Selecting previously unselected package liblept5:amd64.\n",
      "Preparing to unpack .../1-liblept5_1.82.0-3build1_amd64.deb ...\n",
      "\u001b7\u001b[24;0f\u001b[42m\u001b[30mProgress: [ 12%]\u001b[49m\u001b[39m [######....................................................] \u001b8Unpacking liblept5:amd64 (1.82.0-3build1) ...\n",
      "\u001b7\u001b[24;0f\u001b[42m\u001b[30mProgress: [ 16%]\u001b[49m\u001b[39m [#########.................................................] \u001b8Selecting previously unselected package libtesseract4:amd64.\n",
      "Preparing to unpack .../2-libtesseract4_4.1.1-2.1build1_amd64.deb ...\n",
      "\u001b7\u001b[24;0f\u001b[42m\u001b[30mProgress: [ 20%]\u001b[49m\u001b[39m [###########...............................................] \u001b8Unpacking libtesseract4:amd64 (4.1.1-2.1build1) ...\n",
      "\u001b7\u001b[24;0f\u001b[42m\u001b[30mProgress: [ 24%]\u001b[49m\u001b[39m [#############.............................................] \u001b8Selecting previously unselected package tesseract-ocr-eng.\n",
      "Preparing to unpack .../3-tesseract-ocr-eng_1%3a4.00~git30-7274cfa-1.1_all.deb ...\n",
      "\u001b7\u001b[24;0f\u001b[42m\u001b[30mProgress: [ 28%]\u001b[49m\u001b[39m [################..........................................] \u001b8Unpacking tesseract-ocr-eng (1:4.00~git30-7274cfa-1.1) ...\n",
      "\u001b7\u001b[24;0f\u001b[42m\u001b[30mProgress: [ 32%]\u001b[49m\u001b[39m [##################........................................] \u001b8Selecting previously unselected package tesseract-ocr-osd.\n",
      "Preparing to unpack .../4-tesseract-ocr-osd_1%3a4.00~git30-7274cfa-1.1_all.deb ...\n",
      "\u001b7\u001b[24;0f\u001b[42m\u001b[30mProgress: [ 36%]\u001b[49m\u001b[39m [####################......................................] \u001b8Unpacking tesseract-ocr-osd (1:4.00~git30-7274cfa-1.1) ...\n",
      "\u001b7\u001b[24;0f\u001b[42m\u001b[30mProgress: [ 40%]\u001b[49m\u001b[39m [#######################...................................] \u001b8Selecting previously unselected package tesseract-ocr.\n",
      "Preparing to unpack .../5-tesseract-ocr_4.1.1-2.1build1_amd64.deb ...\n",
      "\u001b7\u001b[24;0f\u001b[42m\u001b[30mProgress: [ 44%]\u001b[49m\u001b[39m [#########################.................................] \u001b8Unpacking tesseract-ocr (4.1.1-2.1build1) ...\n",
      "\u001b7\u001b[24;0f\u001b[42m\u001b[30mProgress: [ 48%]\u001b[49m\u001b[39m [###########################...............................] \u001b8Setting up tesseract-ocr-eng (1:4.00~git30-7274cfa-1.1) ...\n",
      "\u001b7\u001b[24;0f\u001b[42m\u001b[30mProgress: [ 52%]\u001b[49m\u001b[39m [##############################............................] \u001b8\u001b7\u001b[24;0f\u001b[42m\u001b[30mProgress: [ 56%]\u001b[49m\u001b[39m [################################..........................] \u001b8Setting up libgif7:amd64 (5.1.9-2build2) ...\n",
      "\u001b7\u001b[24;0f\u001b[42m\u001b[30mProgress: [ 60%]\u001b[49m\u001b[39m [##################################........................] \u001b8\u001b7\u001b[24;0f\u001b[42m\u001b[30mProgress: [ 64%]\u001b[49m\u001b[39m [#####################################.....................] \u001b8Setting up tesseract-ocr-osd (1:4.00~git30-7274cfa-1.1) ...\n",
      "\u001b7\u001b[24;0f\u001b[42m\u001b[30mProgress: [ 68%]\u001b[49m\u001b[39m [#######################################...................] \u001b8\u001b7\u001b[24;0f\u001b[42m\u001b[30mProgress: [ 72%]\u001b[49m\u001b[39m [#########################################.................] \u001b8Setting up liblept5:amd64 (1.82.0-3build1) ...\n",
      "\u001b7\u001b[24;0f\u001b[42m\u001b[30mProgress: [ 76%]\u001b[49m\u001b[39m [############################################..............] \u001b8\u001b7\u001b[24;0f\u001b[42m\u001b[30mProgress: [ 80%]\u001b[49m\u001b[39m [##############################################............] \u001b8Setting up libtesseract4:amd64 (4.1.1-2.1build1) ...\n",
      "\u001b7\u001b[24;0f\u001b[42m\u001b[30mProgress: [ 84%]\u001b[49m\u001b[39m [################################################..........] \u001b8\u001b7\u001b[24;0f\u001b[42m\u001b[30mProgress: [ 88%]\u001b[49m\u001b[39m [###################################################.......] \u001b8Setting up tesseract-ocr (4.1.1-2.1build1) ...\n",
      "\u001b7\u001b[24;0f\u001b[42m\u001b[30mProgress: [ 92%]\u001b[49m\u001b[39m [#####################################################.....] \u001b8\u001b7\u001b[24;0f\u001b[42m\u001b[30mProgress: [ 96%]\u001b[49m\u001b[39m [#######################################################...] \u001b8Processing triggers for libc-bin (2.35-0ubuntu3.1) ...\n",
      "\n",
      "\u001b7\u001b[0;24r\u001b8\u001b[1A\u001b[J"
     ]
    }
   ],
   "source": [
    "!apt install tesseract-ocr -y"
   ]
  },
  {
   "cell_type": "code",
   "execution_count": 19,
   "id": "77d7e115",
   "metadata": {},
   "outputs": [
    {
     "name": "stdout",
     "output_type": "stream",
     "text": [
      "PTT1FK cropped_N1.jpeg\n",
      " cropped_N100.jpeg\n",
      "STVOBNP300K cropped_N101.jpeg\n",
      "H02BM5048 cropped_N102.jpeg\n",
      "CL31VGP cropped_N103.jpeg\n",
      "SU\n",
      "S M cropped_N104.jpeg\n",
      "P cropped_N105.jpeg\n",
      "KL252255 cropped_N106.jpeg\n",
      "A\n",
      "K\n",
      "WW cropped_N107.jpeg\n",
      "KAW cropped_N108.jpeg\n",
      "TS09\n",
      "SEB1458 cropped_N109.jpeg\n",
      "NP826E cropped_N11.jpeg\n",
      "H200S1939D cropped_N110.jpeg\n",
      "BTWO7BY52008 cropped_N111.jpeg\n",
      "H20EE7598 cropped_N112.jpeg\n",
      "KAOTMA\n",
      "69898 cropped_N113.jpeg\n",
      " cropped_N114.jpeg\n",
      "I DA cropped_N116.jpeg\n",
      "W59401515 cropped_N117.jpeg\n",
      "B4SH6405 cropped_N118.jpeg\n",
      " cropped_N12.jpeg\n",
      " cropped_N120.jpeg\n",
      "TS08FM8888 cropped_N121.jpeg\n",
      "HR2GDK083C cropped_N122.jpeg\n",
      "Z 07 BRA3 cropped_N123.jpeg\n",
      "K 207564 cropped_N124.jpeg\n",
      "SHPSX4000 cropped_N126.jpeg\n",
      "HR26DA2330 cropped_N127.jpeg\n",
      "W cropped_N128.jpeg\n",
      "DL7CN5617 cropped_N129.jpeg\n",
      "CS cropped_N130.jpeg\n",
      "M cropped_N131.jpeg\n",
      "E cropped_N132.jpeg\n",
      "AP028P2454 cropped_N134.jpeg\n",
      "GJW115A1138 cropped_N135.jpeg\n",
      " cropped_N136.jpeg\n",
      "MH2OBN3525 cropped_N137.jpeg\n",
      " cropped_N138.jpeg\n",
      "KL54H369 cropped_N139.jpeg\n",
      "2 cropped_N14.jpeg\n",
      " cropped_N140.jpeg\n",
      "HR99EXTEMP6037S cropped_N141.jpeg\n",
      "IN74AH14 cropped_N142.jpeg\n",
      "TN42R\n",
      "22E7 cropped_N143.jpeg\n",
      "TMH O2\n",
      "SSZ 33 cropped_N144.jpeg\n",
      " cropped_N145.jpeg\n",
      "GA08M5677 cropped_N147.jpeg\n",
      " cropped_N148.jpeg\n",
      "EE\n",
      "208Y3665 cropped_N149.jpeg\n",
      " cropped_N15.jpeg\n",
      "MH1GEU3498 cropped_N150.jpeg\n",
      "KLO7BF5000 cropped_N151.jpeg\n",
      " cropped_N152.jpeg\n",
      "PBOBCX2959 cropped_N153.jpeg\n",
      "4H200J0419 cropped_N154.jpeg\n",
      "HR26CT6702 cropped_N155.jpeg\n",
      "KA51MJ2143 cropped_N158.jpeg\n",
      "TXFT96 cropped_N16.jpeg\n",
      " cropped_N160.jpeg\n",
      " cropped_N162.jpeg\n",
      "14X7605 cropped_N163.jpeg\n",
      "0535 cropped_N164.jpeg\n",
      "MH20CS9817 cropped_N165.jpeg\n",
      "KL1267531 cropped_N166.jpeg\n",
      " cropped_N167.jpeg\n",
      "SMHOSBS7778 cropped_N168.jpeg\n",
      "ASMBN108 cropped_N169.jpeg\n",
      "SS\n",
      "CE cropped_N170.jpeg\n",
      "MHOANESO1T cropped_N171.jpeg\n",
      "SS\n",
      "KL10AV6633 cropped_N172.jpeg\n",
      "BEYS\n",
      "5 cropped_N173.jpeg\n",
      "KL10AV6633 cropped_N174.jpeg\n",
      "H200S1939D cropped_N175.jpeg\n",
      "B14T60Y cropped_N176.jpeg\n",
      "MH14TCF459 cropped_N177.jpeg\n",
      "LI C 9059 cropped_N178.jpeg\n",
      "CE cropped_N179.jpeg\n",
      "GS084V cropped_N18.jpeg\n",
      "EE\n",
      "0001 cropped_N180.jpeg\n",
      "5BLIISS cropped_N181.jpeg\n",
      "BSTO20D cropped_N182.jpeg\n",
      "20EE7601 cropped_N183.jpeg\n",
      "7 cropped_N184.jpeg\n",
      "AMHOSBS7778\n",
      "41 OO cropped_N185.jpeg\n",
      "LOD\n",
      "AF6363 cropped_N186.jpeg\n",
      "CP\n",
      "MH15BD8877 cropped_N187.jpeg\n",
      "4\n",
      "N cropped_N188.jpeg\n",
      " cropped_N189.jpeg\n",
      " cropped_N19.jpeg\n",
      "KA29Z 999 cropped_N190.jpeg\n",
      "9239 cropped_N191.jpeg\n",
      "KL53E964 cropped_N192.jpeg\n",
      "DL12CG6648 cropped_N193.jpeg\n",
      "NR cropped_N195.jpeg\n",
      "1H45B01065 cropped_N196.jpeg\n",
      " cropped_N197.jpeg\n",
      "KLO7B8599 cropped_N198.jpeg\n",
      " cropped_N199.jpeg\n",
      "42UK32 cropped_N2.jpeg\n",
      " cropped_N20.jpeg\n",
      "MKLOTKLKLOIE cropped_N200.jpeg\n",
      "HR26BR9044 cropped_N201.jpeg\n",
      "RAHTAEH7956 cropped_N202.jpeg\n",
      "UP16TC2805 cropped_N203.jpeg\n",
      "B1384 30 cropped_N204.jpeg\n",
      "WH20EE7598 cropped_N205.jpeg\n",
      "L 26CR3302 cropped_N206.jpeg\n",
      "SE\n",
      "MH20EE0943 cropped_N207.jpeg\n",
      " cropped_N208.jpeg\n",
      "KL25B2001 cropped_N209.jpeg\n",
      "56ZFDL cropped_N21.jpeg\n",
      "MO cropped_N210.jpeg\n",
      " cropped_N211.jpeg\n",
      " cropped_N212.jpeg\n",
      "2085 cropped_N213.jpeg\n",
      " cropped_N214.jpeg\n",
      "KL 10AW2814 cropped_N216.jpeg\n",
      "PAH14EH7958 cropped_N217.jpeg\n",
      "M200S1941 cropped_N218.jpeg\n",
      "MH12DE143 cropped_N219.jpeg\n",
      " cropped_N22.jpeg\n",
      "MH20BN3525\n",
      "CC cropped_N220.jpeg\n",
      "HR26DA cropped_N221.jpeg\n",
      "KA21\n",
      "M5519 cropped_N222.jpeg\n",
      "MHO1AV8866 cropped_N224.jpeg\n",
      " cropped_N225.jpeg\n",
      " cropped_N226.jpeg\n",
      " cropped_N227.jpeg\n",
      " cropped_N229.jpeg\n",
      "T4PLF cropped_N23.jpeg\n",
      "MHO2CT2727 cropped_N230.jpeg\n",
      "P cropped_N231.jpeg\n",
      "DL3CAY2231 cropped_N232.jpeg\n",
      "NSSF2378 cropped_N233.jpeg\n",
      " cropped_N234.jpeg\n",
      "KAOS\n",
      "WS4495 cropped_N235.jpeg\n",
      "PU cropped_N236.jpeg\n",
      " cropped_N237.jpeg\n",
      "L cropped_N238.jpeg\n",
      "MH20EE7598 cropped_N239.jpeg\n",
      " cropped_N24.jpeg\n",
      "L290177 cropped_N240.jpeg\n",
      "KV57CKC cropped_N241.jpeg\n",
      "MH20DV2362\n",
      "EP cropped_N242.jpeg\n",
      "KLO5AK3300 cropped_N244.jpeg\n",
      "MH06AW8929 cropped_N245.jpeg\n",
      "MH06\n",
      "NW8929 cropped_N246.jpeg\n",
      "THO7BUS427 cropped_N247.jpeg\n",
      "TNOSTC0131 cropped_N248.jpeg\n",
      " cropped_N249.jpeg\n",
      "PI323K 7 cropped_N25.jpeg\n",
      "B71XT cropped_N27.jpeg\n",
      "77FK8 cropped_N28.jpeg\n",
      "BSD cropped_N3.jpeg\n",
      "P cropped_N30.jpeg\n",
      "BJV628B cropped_N31.jpeg\n",
      " cropped_N32.jpeg\n",
      " cropped_N33.jpeg\n",
      " cropped_N34.jpeg\n",
      "VBJ87T cropped_N35.jpeg\n",
      "F395 cropped_N36.jpeg\n",
      " cropped_N37.jpeg\n",
      "BV494RTJ cropped_N38.jpeg\n",
      "B24K275 cropped_N4.jpeg\n",
      "DLOCABI23K cropped_N40.jpeg\n",
      "1516 cropped_N42.jpeg\n",
      "IE cropped_N43.jpeg\n",
      "NEKAS1MJS156IN cropped_N44.jpeg\n",
      "HR26BP3543 cropped_N45.jpeg\n",
      "SN\n",
      "I\n",
      "H Y\n",
      "3 cropped_N46.jpeg\n",
      "HR99HATEMP4575 cropped_N47.jpeg\n",
      "HR26DK6475 cropped_N48.jpeg\n",
      "HR26CH3604 cropped_N49.jpeg\n",
      "TTTFKB cropped_N5.jpeg\n",
      "HH14078831 cropped_N50.jpeg\n",
      "2 cropped_N51.jpeg\n",
      " cropped_N52.jpeg\n",
      "14R26006167 cropped_N53.jpeg\n",
      "TT\n",
      "MOAS cropped_N54.jpeg\n",
      "DL3CAY9324 cropped_N56.jpeg\n",
      "P55R2473 cropped_N57.jpeg\n",
      "MH20CS1 cropped_N58.jpeg\n",
      "M20 E7597 cropped_N59.jpeg\n",
      " cropped_N6.jpeg\n",
      " cropped_N61.jpeg\n",
      "G 3 cropped_N62.jpeg\n",
      " cropped_N63.jpeg\n",
      "Z\n",
      "SN cropped_N64.jpeg\n",
      "258037 cropped_N65.jpeg\n",
      "KL16J 3636 cropped_N66.jpeg\n",
      "KL43B2344 cropped_N67.jpeg\n",
      "SS\n",
      "MOF 4 cropped_N68.jpeg\n",
      "62S cropped_N69.jpeg\n",
      "HHOADW8351 cropped_N72.jpeg\n",
      "3 cropped_N73.jpeg\n",
      "EE cropped_N74.jpeg\n",
      "JH10BL2775 cropped_N75.jpeg\n",
      " cropped_N77.jpeg\n",
      "KLOTAX8000 cropped_N78.jpeg\n",
      "ST\n",
      "TN 37 CR 4019 cropped_N79.jpeg\n",
      "142UK32 cropped_N8.jpeg\n",
      "EE\n",
      "WA20FE045 cropped_N80.jpeg\n",
      "UAT cropped_N81.jpeg\n",
      "C cropped_N82.jpeg\n",
      "KAO31351 cropped_N84.jpeg\n",
      " cropped_N85.jpeg\n",
      "BUUE cropped_N86.jpeg\n",
      "LT\n",
      "A\n",
      "008 cropped_N88.jpeg\n",
      "PCS cropped_N9.jpeg\n",
      "KL60N5344 cropped_N90.jpeg\n",
      "SS\n",
      "MH20084946 cropped_N91.jpeg\n",
      "10AW2814 cropped_N92.jpeg\n",
      "45270\n",
      "AN U cropped_N93.jpeg\n",
      "THO7BU5427 cropped_N94.jpeg\n",
      "Z cropped_N95.jpeg\n",
      "TN38BW1139 cropped_N96.jpeg\n",
      " cropped_N97.jpeg\n",
      "AAEHSON9 cropped_N98.jpeg\n",
      "AMHOSBS77789 cropped_N99.jpeg\n"
     ]
    }
   ],
   "source": [
    "image_path = \"output\"\n",
    "test = []\n",
    "\n",
    "for img in os.listdir(image_path):\n",
    "     if img.endswith('.jpeg') or img.endswith('.jpg'):\n",
    "        image = os.path.join(image_path, img)\n",
    "        pytesseract.pytesseract.tesseract_cmd = r'/usr/bin/tesseract'\n",
    "        text = pytesseract.image_to_string(image, lang='eng', config='--oem 3 --psm 6 -c tessedit_char_whitelist=ABCDEFGHIJKLMNOPQRSTUVWXYZ0123456789')\n",
    "       # text = pytesseract.image_to_string(image, config='--psm 11')\n",
    "        print(text.strip(), img)\n",
    "        if text.strip() == \"TTZEK8\":\n",
    "            print(\"ahahahahahha\")"
   ]
  },
  {
   "cell_type": "code",
   "execution_count": null,
   "id": "574e00d0",
   "metadata": {},
   "outputs": [],
   "source": [
    "for i, iteration in enumerate(test):\n",
    "    if test[i] != []:\n",
    "        x, y, w, h = test[i][0]['box']\n",
    "        image = cv2.imread(test[i][0]['image_name'])\n",
    "        cropped_image = image[y:y+h, x:x+w]\n",
    "        cropped_image_path = os.path.join('output', F\"cropped_{i}.jpg\")\n",
    "      #  cv2.imwrite(cropped_image_path, cropped_image)\n",
    "        pytesseract.pytesseract.tesseract_cmd = r'/usr/bin/tesseract'\n",
    "        text = pytesseract.image_to_string(cropped_image, config=\"--psm 6\")\n",
    "        print(text.strip())"
   ]
  },
  {
   "cell_type": "code",
   "execution_count": 8,
   "id": "d24ea84d",
   "metadata": {},
   "outputs": [],
   "source": [
    "from dataset import Object_Detection_Dataset"
   ]
  },
  {
   "cell_type": "code",
   "execution_count": 9,
   "id": "06c8546e",
   "metadata": {},
   "outputs": [],
   "source": [
    "odd = Object_Detection_Dataset('output')"
   ]
  },
  {
   "cell_type": "code",
   "execution_count": 10,
   "id": "e967fb03",
   "metadata": {},
   "outputs": [],
   "source": [
    "training_data = odd.get_training_dataset(0)"
   ]
  },
  {
   "cell_type": "code",
   "execution_count": 11,
   "id": "f9d6c747",
   "metadata": {},
   "outputs": [
    {
     "data": {
      "text/plain": [
       "['output/cropped_N14.jpeg',\n",
       " 'output/cropped_N152.jpeg',\n",
       " 'output/cropped_N95.jpeg',\n",
       " 'output/cropped_N61.jpeg',\n",
       " 'output/cropped_N104.jpeg',\n",
       " 'output/cropped_N107.jpeg',\n",
       " 'output/cropped_N236.jpeg',\n",
       " 'output/cropped_N122.jpeg',\n",
       " 'output/cropped_N165.jpeg',\n",
       " 'output/cropped_N123.jpeg',\n",
       " 'output/cropped_N166.jpeg',\n",
       " 'output/cropped_N190.jpeg',\n",
       " 'output/cropped_N168.jpeg',\n",
       " 'output/cropped_N186.jpeg',\n",
       " 'output/cropped_N19.jpeg',\n",
       " 'output/cropped_N181.jpeg',\n",
       " 'output/cropped_N32.jpeg',\n",
       " 'output/cropped_N206.jpeg',\n",
       " 'output/cropped_N51.jpeg',\n",
       " 'output/cropped_N120.jpeg',\n",
       " 'output/cropped_N24.jpeg',\n",
       " 'output/cropped_N233.jpeg',\n",
       " 'output/cropped_N240.jpeg',\n",
       " 'output/cropped_N52.jpeg',\n",
       " 'output/cropped_N247.jpeg',\n",
       " 'output/cropped_N153.jpeg',\n",
       " 'output/cropped_N143.jpeg',\n",
       " 'output/cropped_N205.jpeg',\n",
       " 'output/cropped_N147.jpeg',\n",
       " 'output/cropped_N75.jpeg',\n",
       " 'output/cropped_N225.jpeg',\n",
       " 'output/cropped_N182.jpeg',\n",
       " 'output/cropped_N229.jpeg',\n",
       " 'output/cropped_N209.jpeg',\n",
       " 'output/cropped_N59.jpeg',\n",
       " 'output/cropped_N16.jpeg',\n",
       " 'output/cropped_N208.jpeg',\n",
       " 'output/cropped_N213.jpeg',\n",
       " 'output/cropped_N148.jpeg',\n",
       " 'output/cropped_N46.jpeg',\n",
       " 'output/cropped_N245.jpeg',\n",
       " 'output/cropped_N142.jpeg',\n",
       " 'output/cropped_N217.jpeg']"
      ]
     },
     "execution_count": 11,
     "metadata": {},
     "output_type": "execute_result"
    }
   ],
   "source": [
    "training_data"
   ]
  },
  {
   "cell_type": "code",
   "execution_count": 21,
   "id": "7f3b3c89",
   "metadata": {},
   "outputs": [],
   "source": [
    "testing_data = odd.get_testing_dataset(4)"
   ]
  },
  {
   "cell_type": "code",
   "execution_count": 22,
   "id": "6e6e5439",
   "metadata": {},
   "outputs": [
    {
     "data": {
      "text/plain": [
       "['output/cropped_N193.jpeg',\n",
       " 'output/cropped_N129.jpeg',\n",
       " 'output/cropped_N169.jpeg',\n",
       " 'output/cropped_N16.jpeg',\n",
       " 'output/cropped_N30.jpeg',\n",
       " 'output/cropped_N239.jpeg',\n",
       " 'output/cropped_N206.jpeg',\n",
       " 'output/cropped_N58.jpeg',\n",
       " 'output/cropped_N73.jpeg',\n",
       " 'output/cropped_N233.jpeg',\n",
       " 'output/cropped_N222.jpeg',\n",
       " 'output/cropped_N142.jpeg',\n",
       " 'output/cropped_N249.jpeg',\n",
       " 'output/cropped_N57.jpeg',\n",
       " 'output/cropped_N242.jpeg',\n",
       " 'output/cropped_N77.jpeg',\n",
       " 'output/cropped_N28.jpeg',\n",
       " 'output/cropped_N103.jpeg',\n",
       " 'output/cropped_N122.jpeg',\n",
       " 'output/cropped_N143.jpeg',\n",
       " 'output/cropped_N44.jpeg',\n",
       " 'output/cropped_N209.jpeg',\n",
       " 'output/cropped_N163.jpeg',\n",
       " 'output/cropped_N49.jpeg',\n",
       " 'output/cropped_N208.jpeg',\n",
       " 'output/cropped_N20.jpeg',\n",
       " 'output/cropped_N134.jpeg',\n",
       " 'output/cropped_N144.jpeg',\n",
       " 'output/cropped_N45.jpeg',\n",
       " 'output/cropped_N145.jpeg',\n",
       " 'output/cropped_N82.jpeg',\n",
       " 'output/cropped_N213.jpeg',\n",
       " 'output/cropped_N108.jpeg',\n",
       " 'output/cropped_N248.jpeg',\n",
       " 'output/cropped_N132.jpeg',\n",
       " 'output/cropped_N173.jpeg',\n",
       " 'output/cropped_N200.jpeg',\n",
       " 'output/cropped_N68.jpeg',\n",
       " 'output/cropped_N86.jpeg',\n",
       " 'output/cropped_N131.jpeg',\n",
       " 'output/cropped_N33.jpeg',\n",
       " 'output/cropped_N179.jpeg',\n",
       " 'output/cropped_N241.jpeg']"
      ]
     },
     "execution_count": 22,
     "metadata": {},
     "output_type": "execute_result"
    }
   ],
   "source": [
    "testing_data"
   ]
  },
  {
   "cell_type": "code",
   "execution_count": 23,
   "id": "c117f389",
   "metadata": {},
   "outputs": [],
   "source": [
    "validation_data = odd.get_validation_dataset(0)"
   ]
  },
  {
   "cell_type": "code",
   "execution_count": 24,
   "id": "f8dcca29",
   "metadata": {},
   "outputs": [
    {
     "data": {
      "text/plain": [
       "['output/cropped_N198.jpeg',\n",
       " 'output/cropped_N188.jpeg',\n",
       " 'output/cropped_N105.jpeg',\n",
       " 'output/cropped_N137.jpeg',\n",
       " 'output/cropped_N232.jpeg',\n",
       " 'output/cropped_N231.jpeg',\n",
       " 'output/cropped_N48.jpeg',\n",
       " 'output/cropped_N11.jpeg',\n",
       " 'output/cropped_N151.jpeg',\n",
       " 'output/cropped_N96.jpeg',\n",
       " 'output/cropped_N152.jpeg',\n",
       " 'output/cropped_N165.jpeg',\n",
       " 'output/cropped_N8.jpeg',\n",
       " 'output/cropped_N97.jpeg',\n",
       " 'output/cropped_N226.jpeg',\n",
       " 'output/cropped_N183.jpeg',\n",
       " 'output/cropped_N203.jpeg',\n",
       " 'output/cropped_N224.jpeg',\n",
       " 'output/cropped_N2.jpeg',\n",
       " 'output/cropped_N185.jpeg',\n",
       " 'output/cropped_N240.jpeg',\n",
       " 'output/cropped_N175.jpeg',\n",
       " 'output/cropped_N72.jpeg',\n",
       " 'output/cropped_N22.jpeg',\n",
       " 'output/cropped_N141.jpeg',\n",
       " 'output/cropped_N51.jpeg',\n",
       " 'output/cropped_N113.jpeg',\n",
       " 'output/cropped_N24.jpeg',\n",
       " 'output/cropped_N99.jpeg',\n",
       " 'output/cropped_N135.jpeg',\n",
       " 'output/cropped_N37.jpeg',\n",
       " 'output/cropped_N186.jpeg',\n",
       " 'output/cropped_N120.jpeg',\n",
       " 'output/cropped_N21.jpeg',\n",
       " 'output/cropped_N116.jpeg',\n",
       " 'output/cropped_N202.jpeg',\n",
       " 'output/cropped_N117.jpeg',\n",
       " 'output/cropped_N90.jpeg',\n",
       " 'output/cropped_N236.jpeg',\n",
       " 'output/cropped_N211.jpeg',\n",
       " 'output/cropped_N244.jpeg',\n",
       " 'output/cropped_N130.jpeg',\n",
       " 'output/cropped_N80.jpeg',\n",
       " 'output/cropped_N67.jpeg',\n",
       " 'output/cropped_N212.jpeg',\n",
       " 'output/cropped_N56.jpeg',\n",
       " 'output/cropped_N104.jpeg',\n",
       " 'output/cropped_N154.jpeg',\n",
       " 'output/cropped_N95.jpeg',\n",
       " 'output/cropped_N12.jpeg',\n",
       " 'output/cropped_N246.jpeg',\n",
       " 'output/cropped_N221.jpeg',\n",
       " 'output/cropped_N227.jpeg',\n",
       " 'output/cropped_N178.jpeg',\n",
       " 'output/cropped_N229.jpeg',\n",
       " 'output/cropped_N18.jpeg',\n",
       " 'output/cropped_N19.jpeg',\n",
       " 'output/cropped_N190.jpeg',\n",
       " 'output/cropped_N66.jpeg',\n",
       " 'output/cropped_N32.jpeg',\n",
       " 'output/cropped_N42.jpeg',\n",
       " 'output/cropped_N78.jpeg',\n",
       " 'output/cropped_N196.jpeg',\n",
       " 'output/cropped_N217.jpeg',\n",
       " 'output/cropped_N123.jpeg',\n",
       " 'output/cropped_N61.jpeg',\n",
       " 'output/cropped_N164.jpeg',\n",
       " 'output/cropped_N75.jpeg',\n",
       " 'output/cropped_N225.jpeg',\n",
       " 'output/cropped_N150.jpeg',\n",
       " 'output/cropped_N111.jpeg',\n",
       " 'output/cropped_N166.jpeg',\n",
       " 'output/cropped_N54.jpeg',\n",
       " 'output/cropped_N112.jpeg',\n",
       " 'output/cropped_N238.jpeg',\n",
       " 'output/cropped_N6.jpeg',\n",
       " 'output/cropped_N158.jpeg',\n",
       " 'output/cropped_N136.jpeg',\n",
       " 'output/cropped_N25.jpeg',\n",
       " 'output/cropped_N126.jpeg',\n",
       " 'output/cropped_N98.jpeg',\n",
       " 'output/cropped_N181.jpeg',\n",
       " 'output/cropped_N118.jpeg',\n",
       " 'output/cropped_N38.jpeg',\n",
       " 'output/cropped_N34.jpeg',\n",
       " 'output/cropped_N168.jpeg',\n",
       " 'output/cropped_N9.jpeg',\n",
       " 'output/cropped_N197.jpeg',\n",
       " 'output/cropped_N47.jpeg',\n",
       " 'output/cropped_N205.jpeg',\n",
       " 'output/cropped_N63.jpeg',\n",
       " 'output/cropped_N184.jpeg',\n",
       " 'output/cropped_N81.jpeg',\n",
       " 'output/cropped_N148.jpeg',\n",
       " 'output/cropped_N65.jpeg',\n",
       " 'output/cropped_N149.jpeg',\n",
       " 'output/cropped_N100.jpeg',\n",
       " 'output/cropped_N191.jpeg',\n",
       " 'output/cropped_N187.jpeg',\n",
       " 'output/cropped_N4.jpeg',\n",
       " 'output/cropped_N5.jpeg',\n",
       " 'output/cropped_N176.jpeg',\n",
       " 'output/cropped_N27.jpeg',\n",
       " 'output/cropped_N15.jpeg',\n",
       " 'output/cropped_N53.jpeg',\n",
       " 'output/cropped_N91.jpeg',\n",
       " 'output/cropped_N52.jpeg',\n",
       " 'output/cropped_N182.jpeg',\n",
       " 'output/cropped_N110.jpeg',\n",
       " 'output/cropped_N101.jpeg',\n",
       " 'output/cropped_N210.jpeg',\n",
       " 'output/cropped_N93.jpeg',\n",
       " 'output/cropped_N14.jpeg',\n",
       " 'output/cropped_N69.jpeg',\n",
       " 'output/cropped_N216.jpeg',\n",
       " 'output/cropped_N35.jpeg',\n",
       " 'output/cropped_N1.jpeg',\n",
       " 'output/cropped_N88.jpeg',\n",
       " 'output/cropped_N237.jpeg',\n",
       " 'output/cropped_N218.jpeg',\n",
       " 'output/cropped_N62.jpeg',\n",
       " 'output/cropped_N36.jpeg',\n",
       " 'output/cropped_N174.jpeg',\n",
       " 'output/cropped_N235.jpeg',\n",
       " 'output/cropped_N128.jpeg',\n",
       " 'output/cropped_N84.jpeg',\n",
       " 'output/cropped_N64.jpeg',\n",
       " 'output/cropped_N40.jpeg',\n",
       " 'output/cropped_N219.jpeg',\n",
       " 'output/cropped_N193.jpeg',\n",
       " 'output/cropped_N129.jpeg',\n",
       " 'output/cropped_N169.jpeg',\n",
       " 'output/cropped_N16.jpeg',\n",
       " 'output/cropped_N30.jpeg',\n",
       " 'output/cropped_N239.jpeg',\n",
       " 'output/cropped_N206.jpeg',\n",
       " 'output/cropped_N58.jpeg',\n",
       " 'output/cropped_N73.jpeg',\n",
       " 'output/cropped_N233.jpeg',\n",
       " 'output/cropped_N222.jpeg',\n",
       " 'output/cropped_N142.jpeg',\n",
       " 'output/cropped_N249.jpeg',\n",
       " 'output/cropped_N57.jpeg',\n",
       " 'output/cropped_N242.jpeg',\n",
       " 'output/cropped_N77.jpeg',\n",
       " 'output/cropped_N28.jpeg',\n",
       " 'output/cropped_N103.jpeg',\n",
       " 'output/cropped_N122.jpeg',\n",
       " 'output/cropped_N143.jpeg',\n",
       " 'output/cropped_N44.jpeg',\n",
       " 'output/cropped_N209.jpeg',\n",
       " 'output/cropped_N163.jpeg',\n",
       " 'output/cropped_N49.jpeg',\n",
       " 'output/cropped_N208.jpeg',\n",
       " 'output/cropped_N20.jpeg',\n",
       " 'output/cropped_N134.jpeg',\n",
       " 'output/cropped_N144.jpeg',\n",
       " 'output/cropped_N45.jpeg',\n",
       " 'output/cropped_N145.jpeg',\n",
       " 'output/cropped_N82.jpeg',\n",
       " 'output/cropped_N213.jpeg',\n",
       " 'output/cropped_N108.jpeg',\n",
       " 'output/cropped_N248.jpeg',\n",
       " 'output/cropped_N132.jpeg',\n",
       " 'output/cropped_N173.jpeg',\n",
       " 'output/cropped_N200.jpeg',\n",
       " 'output/cropped_N68.jpeg',\n",
       " 'output/cropped_N86.jpeg',\n",
       " 'output/cropped_N131.jpeg',\n",
       " 'output/cropped_N33.jpeg',\n",
       " 'output/cropped_N179.jpeg',\n",
       " 'output/cropped_N241.jpeg',\n",
       " 'output/cropped_N201.jpeg']"
      ]
     },
     "execution_count": 24,
     "metadata": {},
     "output_type": "execute_result"
    }
   ],
   "source": [
    "validation_data"
   ]
  },
  {
   "cell_type": "code",
   "execution_count": 15,
   "id": "26f2f386",
   "metadata": {},
   "outputs": [],
   "source": [
    "import difflib"
   ]
  },
  {
   "cell_type": "code",
   "execution_count": 34,
   "id": "c4939b2b",
   "metadata": {},
   "outputs": [],
   "source": [
    "def string_similarity_score(string1, string2):\n",
    "    matcher = difflib.SequenceMatcher(None, string1, string2)\n",
    "    matches = 0\n",
    "    total = len(string1) + len(string2)\n",
    "    for match in matcher.get_matching_blocks():\n",
    "        matches += match.size\n",
    "    similarity = matches / total\n",
    "    return similarity"
   ]
  },
  {
   "cell_type": "code",
   "execution_count": 35,
   "id": "67fa7b3b",
   "metadata": {},
   "outputs": [],
   "source": [
    "def string_similarity_score(string1, string2):\n",
    "    matcher = difflib.SequenceMatcher(None, string1, string2)\n",
    "    similarity = matcher.ratio()\n",
    "    return similarity"
   ]
  },
  {
   "cell_type": "code",
   "execution_count": 36,
   "id": "b2fd56e1",
   "metadata": {},
   "outputs": [],
   "source": [
    "string1 = \"hello world\"\n",
    "string2 = \"notat today\"\n",
    "similarity = string_similarity_score(string1, string2)"
   ]
  },
  {
   "cell_type": "code",
   "execution_count": 37,
   "id": "054033db",
   "metadata": {},
   "outputs": [
    {
     "data": {
      "text/plain": [
       "0.36363636363636365"
      ]
     },
     "execution_count": 37,
     "metadata": {},
     "output_type": "execute_result"
    }
   ],
   "source": [
    "similarity"
   ]
  },
  {
   "cell_type": "code",
   "execution_count": 22,
   "id": "c7563ec0",
   "metadata": {},
   "outputs": [],
   "source": [
    "import model\n",
    "import os\n",
    "import csv"
   ]
  },
  {
   "cell_type": "code",
   "execution_count": 32,
   "id": "d439b8bb",
   "metadata": {},
   "outputs": [],
   "source": [
    "# File path\n",
    "file_path = 'answers.csv'\n",
    "\n",
    "# Check if the file exists\n",
    "if os.path.isfile(file_path):\n",
    "    # Delete the file\n",
    "    os.remove(file_path)\n",
    "image_path = \"output\"\n",
    "for img in os.listdir(image_path):\n",
    "    if img.endswith('.jpeg') or img.endswith('.jpg'):\n",
    "        image = os.path.join(image_path, img)\n",
    "        text = model.ocr_license_plate(image)\n",
    "        report = [\n",
    "            ('Image name', 'License Plate number'),\n",
    "            (image, text)\n",
    "        ]\n",
    "        with open(file_path, 'a', newline='') as f:\n",
    "            writer = csv.writer(f)\n",
    "            writer.writerows(report)\n",
    "          #  writer.writerows(report)\n",
    "    \n"
   ]
  },
  {
   "cell_type": "code",
   "execution_count": 39,
   "id": "531eb069",
   "metadata": {},
   "outputs": [],
   "source": [
    "import json"
   ]
  },
  {
   "cell_type": "code",
   "execution_count": 40,
   "id": "34155855",
   "metadata": {},
   "outputs": [],
   "source": [
    "with open(\"answers.json\", 'r') as f:\n",
    "    # Load the JSON data as a Python dictionary\n",
    "    data = json.load(f)"
   ]
  },
  {
   "cell_type": "code",
   "execution_count": 43,
   "id": "bf940059",
   "metadata": {},
   "outputs": [
    {
     "name": "stdout",
     "output_type": "stream",
     "text": [
      "TN74F3339\n",
      "HR26CK8571\n",
      "24PGR3\n",
      "MH20BN3525\n",
      "HPSX4000\n",
      "77ZFK8\n",
      "KL55R2473\n",
      "KL05AK3300\n",
      "53RGT1\n",
      "HR26TC7099\n",
      "84KJS7\n",
      "MH02CT2727\n",
      "MH01AR5874\n",
      "TN59AQ1515\n",
      "KA51MJ8156\n",
      "KL10AV6342\n",
      "RK361S\n",
      "MH20DJ0419\n",
      "V494RT\n",
      "MH15TC554\n",
      "HR26BR9044\n",
      "KL49H5270\n",
      "HR99EXTEMP6037\n",
      "KL01AX8000\n",
      "KL20K7561\n",
      "UP16TC2805\n",
      "PK015L\n",
      "MH20EE7597\n",
      "MH20EE7597\n",
      "TN59AQ1515\n",
      "9KKB22\n",
      "42UK32\n",
      "KL12G7531\n",
      "MH03BS7778\n",
      "PH792N\n",
      "MH20EE045\n",
      "HR26BP3542\n",
      "HR26U7501\n",
      "HR26DA5443\n",
      "GJ17TC214\n",
      "MH02BK9793\n",
      "BL1155\n",
      "DL12CG6648\n",
      "MK20TC189B\n",
      "17TXT4\n",
      "DL10NTC0169\n",
      "MH02AJ344\n",
      "MH20CS1938\n",
      "KL60N5344\n",
      "7XFT96\n",
      "GJ07BR1336\n",
      "KL06H5834\n",
      "CL31VLGP\n",
      "77ZFK8\n",
      "HR26BN0283\n",
      "MP09CP9052\n",
      "MH14EH7958\n",
      "MH12DE1433\n",
      "KA21M5519\n",
      "TN45BA1065\n",
      "TK642F\n",
      "MH12K5600\n",
      "MH20DV2362\n",
      "MH20CS9817\n",
      "MH20EE7601\n",
      "MH06AW8929\n",
      "TN74AL5074\n",
      "KL10AW2111\n",
      "MH14TCE4\n",
      "TN59AQ1515\n",
      "PB08CX2959\n",
      "TN74AH1413\n",
      "MH01AR5874\n",
      "HR26BM8271\n",
      "PJ323K\n",
      "UP16TC1366\n",
      "HR26CT6702\n",
      "MH03BS7778\n",
      "KA05HS4495\n",
      "HR26DG6167\n",
      "HR26BU0375\n",
      "NP826D\n",
      "KL53E964\n",
      "MH14EH7958\n",
      "GS084V\n",
      "GJ05JD9759\n",
      "HR26DK6475\n"
     ]
    }
   ],
   "source": [
    "for image in validation_data:\n",
    "    print(data[image])"
   ]
  },
  {
   "cell_type": "code",
   "execution_count": 1,
   "id": "d218cc66",
   "metadata": {},
   "outputs": [],
   "source": [
    "from metrics import Metrics"
   ]
  },
  {
   "cell_type": "code",
   "execution_count": 2,
   "id": "e9fe3681",
   "metadata": {},
   "outputs": [],
   "source": [
    "metric = Metrics(\"output\", \"answers.json\")"
   ]
  },
  {
   "cell_type": "code",
   "execution_count": 3,
   "id": "d115a09b",
   "metadata": {},
   "outputs": [],
   "source": [
    "metric.generate_report()"
   ]
  },
  {
   "cell_type": "code",
   "execution_count": null,
   "id": "109811bf",
   "metadata": {},
   "outputs": [],
   "source": []
  }
 ],
 "metadata": {
  "kernelspec": {
   "display_name": "Python 3 (ipykernel)",
   "language": "python",
   "name": "python3"
  },
  "language_info": {
   "codemirror_mode": {
    "name": "ipython",
    "version": 3
   },
   "file_extension": ".py",
   "mimetype": "text/x-python",
   "name": "python",
   "nbconvert_exporter": "python",
   "pygments_lexer": "ipython3",
   "version": "3.10.6"
  }
 },
 "nbformat": 4,
 "nbformat_minor": 5
}
