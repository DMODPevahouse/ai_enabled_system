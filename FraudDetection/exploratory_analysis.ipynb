{
 "cells": [
  {
   "cell_type": "code",
   "execution_count": 2,
   "id": "7773166d",
   "metadata": {
    "tags": []
   },
   "outputs": [],
   "source": [
    "import pandas as pd\n",
    "import numpy as np\n",
    "import sklearn\n",
    "\n",
    "import matplotlib.pyplot as plt"
   ]
  },
  {
   "cell_type": "code",
   "execution_count": 3,
   "id": "4f637631",
   "metadata": {
    "tags": []
   },
   "outputs": [],
   "source": [
    "df = pd.read_csv('transactions.csv')"
   ]
  },
  {
   "cell_type": "code",
   "execution_count": 4,
   "id": "9974b395",
   "metadata": {
    "tags": []
   },
   "outputs": [
    {
     "data": {
      "text/html": [
       "<div>\n",
       "<style scoped>\n",
       "    .dataframe tbody tr th:only-of-type {\n",
       "        vertical-align: middle;\n",
       "    }\n",
       "\n",
       "    .dataframe tbody tr th {\n",
       "        vertical-align: top;\n",
       "    }\n",
       "\n",
       "    .dataframe thead th {\n",
       "        text-align: right;\n",
       "    }\n",
       "</style>\n",
       "<table border=\"1\" class=\"dataframe\">\n",
       "  <thead>\n",
       "    <tr style=\"text-align: right;\">\n",
       "      <th></th>\n",
       "      <th>Unnamed: 0</th>\n",
       "      <th>trans_date_trans_time</th>\n",
       "      <th>cc_num</th>\n",
       "      <th>merchant</th>\n",
       "      <th>category</th>\n",
       "      <th>amt</th>\n",
       "      <th>first</th>\n",
       "      <th>last</th>\n",
       "      <th>sex</th>\n",
       "      <th>street</th>\n",
       "      <th>...</th>\n",
       "      <th>lat</th>\n",
       "      <th>long</th>\n",
       "      <th>city_pop</th>\n",
       "      <th>job</th>\n",
       "      <th>dob</th>\n",
       "      <th>trans_num</th>\n",
       "      <th>unix_time</th>\n",
       "      <th>merch_lat</th>\n",
       "      <th>merch_long</th>\n",
       "      <th>is_fraud</th>\n",
       "    </tr>\n",
       "  </thead>\n",
       "  <tbody>\n",
       "    <tr>\n",
       "      <th>0</th>\n",
       "      <td>0</td>\n",
       "      <td>2019-01-01 00:00:18</td>\n",
       "      <td>2703186189652095</td>\n",
       "      <td>fraud_Rippin, Kub and Mann</td>\n",
       "      <td>misc_net</td>\n",
       "      <td>4.97</td>\n",
       "      <td>Jennifer</td>\n",
       "      <td>Banks</td>\n",
       "      <td>F</td>\n",
       "      <td>561 Perry Cove</td>\n",
       "      <td>...</td>\n",
       "      <td>36.0788</td>\n",
       "      <td>-81.1781</td>\n",
       "      <td>3495</td>\n",
       "      <td>Psychologist, counselling</td>\n",
       "      <td>1988-03-09</td>\n",
       "      <td>0b242abb623afc578575680df30655b9</td>\n",
       "      <td>1325376018</td>\n",
       "      <td>36.011293</td>\n",
       "      <td>-82.048315</td>\n",
       "      <td>0</td>\n",
       "    </tr>\n",
       "    <tr>\n",
       "      <th>1</th>\n",
       "      <td>1</td>\n",
       "      <td>2019-01-01 00:00:44</td>\n",
       "      <td>630423337322</td>\n",
       "      <td>fraud_Heller, Gutmann and Zieme</td>\n",
       "      <td>grocery_pos</td>\n",
       "      <td>107.23</td>\n",
       "      <td>Stephanie</td>\n",
       "      <td>Gill</td>\n",
       "      <td>F</td>\n",
       "      <td>43039 Riley Greens Suite 393</td>\n",
       "      <td>...</td>\n",
       "      <td>48.8878</td>\n",
       "      <td>-118.2105</td>\n",
       "      <td>149</td>\n",
       "      <td>Special educational needs teacher</td>\n",
       "      <td>1978-06-21</td>\n",
       "      <td>1f76529f8574734946361c461b024d99</td>\n",
       "      <td>1325376044</td>\n",
       "      <td>49.159047</td>\n",
       "      <td>-118.186462</td>\n",
       "      <td>0</td>\n",
       "    </tr>\n",
       "    <tr>\n",
       "      <th>2</th>\n",
       "      <td>2</td>\n",
       "      <td>2019-01-01 00:00:51</td>\n",
       "      <td>38859492057661</td>\n",
       "      <td>fraud_Lind-Buckridge</td>\n",
       "      <td>entertainment</td>\n",
       "      <td>220.11</td>\n",
       "      <td>Edward</td>\n",
       "      <td>Sanchez</td>\n",
       "      <td>M</td>\n",
       "      <td>594 White Dale Suite 530</td>\n",
       "      <td>...</td>\n",
       "      <td>42.1808</td>\n",
       "      <td>-112.2620</td>\n",
       "      <td>4154</td>\n",
       "      <td>Nature conservation officer</td>\n",
       "      <td>1962-01-19</td>\n",
       "      <td>a1a22d70485983eac12b5b88dad1cf95</td>\n",
       "      <td>1325376051</td>\n",
       "      <td>43.150704</td>\n",
       "      <td>-112.154481</td>\n",
       "      <td>0</td>\n",
       "    </tr>\n",
       "    <tr>\n",
       "      <th>3</th>\n",
       "      <td>3</td>\n",
       "      <td>2019-01-01 00:01:16</td>\n",
       "      <td>3534093764340240</td>\n",
       "      <td>fraud_Kutch, Hermiston and Farrell</td>\n",
       "      <td>gas_transport</td>\n",
       "      <td>45.00</td>\n",
       "      <td>Jeremy</td>\n",
       "      <td>White</td>\n",
       "      <td>M</td>\n",
       "      <td>9443 Cynthia Court Apt. 038</td>\n",
       "      <td>...</td>\n",
       "      <td>46.2306</td>\n",
       "      <td>-112.1138</td>\n",
       "      <td>1939</td>\n",
       "      <td>Patent attorney</td>\n",
       "      <td>1967-01-12</td>\n",
       "      <td>6b849c168bdad6f867558c3793159a81</td>\n",
       "      <td>1325376076</td>\n",
       "      <td>47.034331</td>\n",
       "      <td>-112.561071</td>\n",
       "      <td>0</td>\n",
       "    </tr>\n",
       "    <tr>\n",
       "      <th>4</th>\n",
       "      <td>4</td>\n",
       "      <td>2019-01-01 00:03:06</td>\n",
       "      <td>375534208663984</td>\n",
       "      <td>fraud_Keeling-Crist</td>\n",
       "      <td>misc_pos</td>\n",
       "      <td>41.96</td>\n",
       "      <td>Tyler</td>\n",
       "      <td>Garcia</td>\n",
       "      <td>M</td>\n",
       "      <td>408 Bradley Rest</td>\n",
       "      <td>...</td>\n",
       "      <td>38.4207</td>\n",
       "      <td>-79.4629</td>\n",
       "      <td>99</td>\n",
       "      <td>Dance movement psychotherapist</td>\n",
       "      <td>1986-03-28</td>\n",
       "      <td>a41d7549acf90789359a9aa5346dcb46</td>\n",
       "      <td>1325376186</td>\n",
       "      <td>38.674999</td>\n",
       "      <td>-78.632459</td>\n",
       "      <td>0</td>\n",
       "    </tr>\n",
       "    <tr>\n",
       "      <th>...</th>\n",
       "      <td>...</td>\n",
       "      <td>...</td>\n",
       "      <td>...</td>\n",
       "      <td>...</td>\n",
       "      <td>...</td>\n",
       "      <td>...</td>\n",
       "      <td>...</td>\n",
       "      <td>...</td>\n",
       "      <td>...</td>\n",
       "      <td>...</td>\n",
       "      <td>...</td>\n",
       "      <td>...</td>\n",
       "      <td>...</td>\n",
       "      <td>...</td>\n",
       "      <td>...</td>\n",
       "      <td>...</td>\n",
       "      <td>...</td>\n",
       "      <td>...</td>\n",
       "      <td>...</td>\n",
       "      <td>...</td>\n",
       "      <td>...</td>\n",
       "    </tr>\n",
       "    <tr>\n",
       "      <th>1852389</th>\n",
       "      <td>1852389</td>\n",
       "      <td>2020-12-31 23:59:07</td>\n",
       "      <td>30560609640617</td>\n",
       "      <td>fraud_Reilly and Sons</td>\n",
       "      <td>health_fitness</td>\n",
       "      <td>43.77</td>\n",
       "      <td>Michael</td>\n",
       "      <td>Olson</td>\n",
       "      <td>M</td>\n",
       "      <td>558 Michael Estates</td>\n",
       "      <td>...</td>\n",
       "      <td>40.4931</td>\n",
       "      <td>-91.8912</td>\n",
       "      <td>519</td>\n",
       "      <td>Town planner</td>\n",
       "      <td>1966-02-13</td>\n",
       "      <td>9b1f753c79894c9f4b71f04581835ada</td>\n",
       "      <td>1388534347</td>\n",
       "      <td>39.946837</td>\n",
       "      <td>-91.333331</td>\n",
       "      <td>0</td>\n",
       "    </tr>\n",
       "    <tr>\n",
       "      <th>1852390</th>\n",
       "      <td>1852390</td>\n",
       "      <td>2020-12-31 23:59:09</td>\n",
       "      <td>3556613125071656</td>\n",
       "      <td>fraud_Hoppe-Parisian</td>\n",
       "      <td>kids_pets</td>\n",
       "      <td>111.84</td>\n",
       "      <td>Jose</td>\n",
       "      <td>Vasquez</td>\n",
       "      <td>M</td>\n",
       "      <td>572 Davis Mountains</td>\n",
       "      <td>...</td>\n",
       "      <td>29.0393</td>\n",
       "      <td>-95.4401</td>\n",
       "      <td>28739</td>\n",
       "      <td>Futures trader</td>\n",
       "      <td>1999-12-27</td>\n",
       "      <td>2090647dac2c89a1d86c514c427f5b91</td>\n",
       "      <td>1388534349</td>\n",
       "      <td>29.661049</td>\n",
       "      <td>-96.186633</td>\n",
       "      <td>0</td>\n",
       "    </tr>\n",
       "    <tr>\n",
       "      <th>1852391</th>\n",
       "      <td>1852391</td>\n",
       "      <td>2020-12-31 23:59:15</td>\n",
       "      <td>6011724471098086</td>\n",
       "      <td>fraud_Rau-Robel</td>\n",
       "      <td>kids_pets</td>\n",
       "      <td>86.88</td>\n",
       "      <td>Ann</td>\n",
       "      <td>Lawson</td>\n",
       "      <td>F</td>\n",
       "      <td>144 Evans Islands Apt. 683</td>\n",
       "      <td>...</td>\n",
       "      <td>46.1966</td>\n",
       "      <td>-118.9017</td>\n",
       "      <td>3684</td>\n",
       "      <td>Musician</td>\n",
       "      <td>1981-11-29</td>\n",
       "      <td>6c5b7c8add471975aa0fec023b2e8408</td>\n",
       "      <td>1388534355</td>\n",
       "      <td>46.658340</td>\n",
       "      <td>-119.715054</td>\n",
       "      <td>0</td>\n",
       "    </tr>\n",
       "    <tr>\n",
       "      <th>1852392</th>\n",
       "      <td>1852392</td>\n",
       "      <td>2020-12-31 23:59:24</td>\n",
       "      <td>4079773899158</td>\n",
       "      <td>fraud_Breitenberg LLC</td>\n",
       "      <td>travel</td>\n",
       "      <td>7.99</td>\n",
       "      <td>Eric</td>\n",
       "      <td>Preston</td>\n",
       "      <td>M</td>\n",
       "      <td>7020 Doyle Stream Apt. 951</td>\n",
       "      <td>...</td>\n",
       "      <td>44.6255</td>\n",
       "      <td>-116.4493</td>\n",
       "      <td>129</td>\n",
       "      <td>Cartographer</td>\n",
       "      <td>1965-12-15</td>\n",
       "      <td>14392d723bb7737606b2700ac791b7aa</td>\n",
       "      <td>1388534364</td>\n",
       "      <td>44.470525</td>\n",
       "      <td>-117.080888</td>\n",
       "      <td>0</td>\n",
       "    </tr>\n",
       "    <tr>\n",
       "      <th>1852393</th>\n",
       "      <td>1852393</td>\n",
       "      <td>2020-12-31 23:59:34</td>\n",
       "      <td>4170689372027579</td>\n",
       "      <td>fraud_Dare-Marvin</td>\n",
       "      <td>entertainment</td>\n",
       "      <td>38.13</td>\n",
       "      <td>Samuel</td>\n",
       "      <td>Frey</td>\n",
       "      <td>M</td>\n",
       "      <td>830 Myers Plaza Apt. 384</td>\n",
       "      <td>...</td>\n",
       "      <td>35.6665</td>\n",
       "      <td>-97.4798</td>\n",
       "      <td>116001</td>\n",
       "      <td>Media buyer</td>\n",
       "      <td>1993-05-10</td>\n",
       "      <td>1765bb45b3aa3224b4cdcb6e7a96cee3</td>\n",
       "      <td>1388534374</td>\n",
       "      <td>36.210097</td>\n",
       "      <td>-97.036372</td>\n",
       "      <td>0</td>\n",
       "    </tr>\n",
       "  </tbody>\n",
       "</table>\n",
       "<p>1852394 rows × 23 columns</p>\n",
       "</div>"
      ],
      "text/plain": [
       "         Unnamed: 0 trans_date_trans_time            cc_num  \\\n",
       "0                 0   2019-01-01 00:00:18  2703186189652095   \n",
       "1                 1   2019-01-01 00:00:44      630423337322   \n",
       "2                 2   2019-01-01 00:00:51    38859492057661   \n",
       "3                 3   2019-01-01 00:01:16  3534093764340240   \n",
       "4                 4   2019-01-01 00:03:06   375534208663984   \n",
       "...             ...                   ...               ...   \n",
       "1852389     1852389   2020-12-31 23:59:07    30560609640617   \n",
       "1852390     1852390   2020-12-31 23:59:09  3556613125071656   \n",
       "1852391     1852391   2020-12-31 23:59:15  6011724471098086   \n",
       "1852392     1852392   2020-12-31 23:59:24     4079773899158   \n",
       "1852393     1852393   2020-12-31 23:59:34  4170689372027579   \n",
       "\n",
       "                                   merchant        category     amt  \\\n",
       "0                fraud_Rippin, Kub and Mann        misc_net    4.97   \n",
       "1           fraud_Heller, Gutmann and Zieme     grocery_pos  107.23   \n",
       "2                      fraud_Lind-Buckridge   entertainment  220.11   \n",
       "3        fraud_Kutch, Hermiston and Farrell   gas_transport   45.00   \n",
       "4                       fraud_Keeling-Crist        misc_pos   41.96   \n",
       "...                                     ...             ...     ...   \n",
       "1852389               fraud_Reilly and Sons  health_fitness   43.77   \n",
       "1852390                fraud_Hoppe-Parisian       kids_pets  111.84   \n",
       "1852391                     fraud_Rau-Robel       kids_pets   86.88   \n",
       "1852392               fraud_Breitenberg LLC          travel    7.99   \n",
       "1852393                   fraud_Dare-Marvin   entertainment   38.13   \n",
       "\n",
       "             first     last sex                        street  ...      lat  \\\n",
       "0         Jennifer    Banks   F                561 Perry Cove  ...  36.0788   \n",
       "1        Stephanie     Gill   F  43039 Riley Greens Suite 393  ...  48.8878   \n",
       "2           Edward  Sanchez   M      594 White Dale Suite 530  ...  42.1808   \n",
       "3           Jeremy    White   M   9443 Cynthia Court Apt. 038  ...  46.2306   \n",
       "4            Tyler   Garcia   M              408 Bradley Rest  ...  38.4207   \n",
       "...            ...      ...  ..                           ...  ...      ...   \n",
       "1852389    Michael    Olson   M           558 Michael Estates  ...  40.4931   \n",
       "1852390       Jose  Vasquez   M           572 Davis Mountains  ...  29.0393   \n",
       "1852391        Ann   Lawson   F    144 Evans Islands Apt. 683  ...  46.1966   \n",
       "1852392       Eric  Preston   M    7020 Doyle Stream Apt. 951  ...  44.6255   \n",
       "1852393     Samuel     Frey   M      830 Myers Plaza Apt. 384  ...  35.6665   \n",
       "\n",
       "             long  city_pop                                job         dob  \\\n",
       "0        -81.1781      3495          Psychologist, counselling  1988-03-09   \n",
       "1       -118.2105       149  Special educational needs teacher  1978-06-21   \n",
       "2       -112.2620      4154        Nature conservation officer  1962-01-19   \n",
       "3       -112.1138      1939                    Patent attorney  1967-01-12   \n",
       "4        -79.4629        99     Dance movement psychotherapist  1986-03-28   \n",
       "...           ...       ...                                ...         ...   \n",
       "1852389  -91.8912       519                       Town planner  1966-02-13   \n",
       "1852390  -95.4401     28739                     Futures trader  1999-12-27   \n",
       "1852391 -118.9017      3684                           Musician  1981-11-29   \n",
       "1852392 -116.4493       129                       Cartographer  1965-12-15   \n",
       "1852393  -97.4798    116001                        Media buyer  1993-05-10   \n",
       "\n",
       "                                trans_num   unix_time  merch_lat  merch_long  \\\n",
       "0        0b242abb623afc578575680df30655b9  1325376018  36.011293  -82.048315   \n",
       "1        1f76529f8574734946361c461b024d99  1325376044  49.159047 -118.186462   \n",
       "2        a1a22d70485983eac12b5b88dad1cf95  1325376051  43.150704 -112.154481   \n",
       "3        6b849c168bdad6f867558c3793159a81  1325376076  47.034331 -112.561071   \n",
       "4        a41d7549acf90789359a9aa5346dcb46  1325376186  38.674999  -78.632459   \n",
       "...                                   ...         ...        ...         ...   \n",
       "1852389  9b1f753c79894c9f4b71f04581835ada  1388534347  39.946837  -91.333331   \n",
       "1852390  2090647dac2c89a1d86c514c427f5b91  1388534349  29.661049  -96.186633   \n",
       "1852391  6c5b7c8add471975aa0fec023b2e8408  1388534355  46.658340 -119.715054   \n",
       "1852392  14392d723bb7737606b2700ac791b7aa  1388534364  44.470525 -117.080888   \n",
       "1852393  1765bb45b3aa3224b4cdcb6e7a96cee3  1388534374  36.210097  -97.036372   \n",
       "\n",
       "         is_fraud  \n",
       "0               0  \n",
       "1               0  \n",
       "2               0  \n",
       "3               0  \n",
       "4               0  \n",
       "...           ...  \n",
       "1852389         0  \n",
       "1852390         0  \n",
       "1852391         0  \n",
       "1852392         0  \n",
       "1852393         0  \n",
       "\n",
       "[1852394 rows x 23 columns]"
      ]
     },
     "execution_count": 4,
     "metadata": {},
     "output_type": "execute_result"
    }
   ],
   "source": [
    "df"
   ]
  },
  {
   "cell_type": "markdown",
   "id": "66bd1da5",
   "metadata": {},
   "source": [
    "What is the distribution between fraudulent and non-fraudulent transactions?"
   ]
  },
  {
   "cell_type": "code",
   "execution_count": 6,
   "id": "82c7219c",
   "metadata": {
    "tags": []
   },
   "outputs": [],
   "source": [
    "distribution = df[\"is_fraud\"].value_counts()"
   ]
  },
  {
   "cell_type": "code",
   "execution_count": 7,
   "id": "51c71c31",
   "metadata": {
    "tags": []
   },
   "outputs": [
    {
     "data": {
      "text/plain": [
       "is_fraud\n",
       "0    1842743\n",
       "1       9651\n",
       "Name: count, dtype: int64"
      ]
     },
     "execution_count": 7,
     "metadata": {},
     "output_type": "execute_result"
    }
   ],
   "source": [
    "distribution"
   ]
  },
  {
   "cell_type": "markdown",
   "id": "267a192d",
   "metadata": {},
   "source": [
    "Which age groups are more susceptible to fraudulent transactions?"
   ]
  },
  {
   "cell_type": "code",
   "execution_count": 8,
   "id": "748216f4",
   "metadata": {
    "tags": []
   },
   "outputs": [],
   "source": [
    "df2 = df.copy()\n",
    "bins = [1883, 1901, 1928, 1946, 1965, 1981, 1997, 2013, 2024]\n",
    "\n",
    "df2['dob'] = df2['dob'].str.slice(0,4).astype(int)\n",
    "df2['generation'] = pd.cut(df2['dob'], bins=bins)"
   ]
  },
  {
   "cell_type": "code",
   "execution_count": 9,
   "id": "b4a7fb4f",
   "metadata": {
    "tags": []
   },
   "outputs": [
    {
     "data": {
      "text/plain": [
       "0          1988\n",
       "1          1978\n",
       "2          1962\n",
       "3          1967\n",
       "4          1986\n",
       "           ... \n",
       "1852389    1966\n",
       "1852390    1999\n",
       "1852391    1981\n",
       "1852392    1965\n",
       "1852393    1993\n",
       "Name: dob, Length: 1852394, dtype: int32"
      ]
     },
     "execution_count": 9,
     "metadata": {},
     "output_type": "execute_result"
    }
   ],
   "source": [
    "df2[\"dob\"]"
   ]
  },
  {
   "cell_type": "code",
   "execution_count": 10,
   "id": "2baafcdf",
   "metadata": {
    "tags": []
   },
   "outputs": [
    {
     "data": {
      "text/plain": [
       "0          (1981, 1997]\n",
       "1          (1965, 1981]\n",
       "2          (1946, 1965]\n",
       "3          (1965, 1981]\n",
       "4          (1981, 1997]\n",
       "               ...     \n",
       "1852389    (1965, 1981]\n",
       "1852390    (1997, 2013]\n",
       "1852391    (1965, 1981]\n",
       "1852392    (1946, 1965]\n",
       "1852393    (1981, 1997]\n",
       "Name: generation, Length: 1852394, dtype: category\n",
       "Categories (8, interval[int64, right]): [(1883, 1901] < (1901, 1928] < (1928, 1946] < (1946, 1965] < (1965, 1981] < (1981, 1997] < (1997, 2013] < (2013, 2024]]"
      ]
     },
     "execution_count": 10,
     "metadata": {},
     "output_type": "execute_result"
    }
   ],
   "source": [
    "df2[\"generation\"]"
   ]
  },
  {
   "cell_type": "code",
   "execution_count": 11,
   "id": "a8cb9abc",
   "metadata": {
    "tags": []
   },
   "outputs": [
    {
     "data": {
      "text/plain": [
       "generation\n",
       "(1965, 1981]    616544\n",
       "(1981, 1997]    607074\n",
       "(1946, 1965]    375216\n",
       "(1928, 1946]    143747\n",
       "(1997, 2013]     87831\n",
       "(1901, 1928]     21982\n",
       "(1883, 1901]         0\n",
       "(2013, 2024]         0\n",
       "Name: count, dtype: int64"
      ]
     },
     "execution_count": 11,
     "metadata": {},
     "output_type": "execute_result"
    }
   ],
   "source": [
    "df2[\"generation\"].value_counts()"
   ]
  },
  {
   "cell_type": "code",
   "execution_count": 12,
   "id": "7a7f93bb",
   "metadata": {
    "tags": []
   },
   "outputs": [],
   "source": [
    "counts = pd.crosstab(df2['is_fraud'], df2['generation'])"
   ]
  },
  {
   "cell_type": "code",
   "execution_count": 13,
   "id": "5c1c2d04",
   "metadata": {
    "tags": []
   },
   "outputs": [
    {
     "data": {
      "text/html": [
       "<div>\n",
       "<style scoped>\n",
       "    .dataframe tbody tr th:only-of-type {\n",
       "        vertical-align: middle;\n",
       "    }\n",
       "\n",
       "    .dataframe tbody tr th {\n",
       "        vertical-align: top;\n",
       "    }\n",
       "\n",
       "    .dataframe thead th {\n",
       "        text-align: right;\n",
       "    }\n",
       "</style>\n",
       "<table border=\"1\" class=\"dataframe\">\n",
       "  <thead>\n",
       "    <tr style=\"text-align: right;\">\n",
       "      <th>generation</th>\n",
       "      <th>(1901, 1928]</th>\n",
       "      <th>(1928, 1946]</th>\n",
       "      <th>(1946, 1965]</th>\n",
       "      <th>(1965, 1981]</th>\n",
       "      <th>(1981, 1997]</th>\n",
       "      <th>(1997, 2013]</th>\n",
       "    </tr>\n",
       "    <tr>\n",
       "      <th>is_fraud</th>\n",
       "      <th></th>\n",
       "      <th></th>\n",
       "      <th></th>\n",
       "      <th></th>\n",
       "      <th></th>\n",
       "      <th></th>\n",
       "    </tr>\n",
       "  </thead>\n",
       "  <tbody>\n",
       "    <tr>\n",
       "      <th>0</th>\n",
       "      <td>21836</td>\n",
       "      <td>142683</td>\n",
       "      <td>372792</td>\n",
       "      <td>613768</td>\n",
       "      <td>604284</td>\n",
       "      <td>87380</td>\n",
       "    </tr>\n",
       "    <tr>\n",
       "      <th>1</th>\n",
       "      <td>146</td>\n",
       "      <td>1064</td>\n",
       "      <td>2424</td>\n",
       "      <td>2776</td>\n",
       "      <td>2790</td>\n",
       "      <td>451</td>\n",
       "    </tr>\n",
       "  </tbody>\n",
       "</table>\n",
       "</div>"
      ],
      "text/plain": [
       "generation  (1901, 1928]  (1928, 1946]  (1946, 1965]  (1965, 1981]  \\\n",
       "is_fraud                                                             \n",
       "0                  21836        142683        372792        613768   \n",
       "1                    146          1064          2424          2776   \n",
       "\n",
       "generation  (1981, 1997]  (1997, 2013]  \n",
       "is_fraud                                \n",
       "0                 604284         87380  \n",
       "1                   2790           451  "
      ]
     },
     "execution_count": 13,
     "metadata": {},
     "output_type": "execute_result"
    }
   ],
   "source": [
    "counts"
   ]
  },
  {
   "cell_type": "code",
   "execution_count": 14,
   "id": "4e613ef8",
   "metadata": {
    "tags": []
   },
   "outputs": [],
   "source": [
    "label_percentage_per_category = pd.crosstab(df2['generation'], df2['is_fraud'], normalize='all')"
   ]
  },
  {
   "cell_type": "code",
   "execution_count": 15,
   "id": "3b2c183d",
   "metadata": {
    "tags": []
   },
   "outputs": [
    {
     "data": {
      "text/html": [
       "<div>\n",
       "<style scoped>\n",
       "    .dataframe tbody tr th:only-of-type {\n",
       "        vertical-align: middle;\n",
       "    }\n",
       "\n",
       "    .dataframe tbody tr th {\n",
       "        vertical-align: top;\n",
       "    }\n",
       "\n",
       "    .dataframe thead th {\n",
       "        text-align: right;\n",
       "    }\n",
       "</style>\n",
       "<table border=\"1\" class=\"dataframe\">\n",
       "  <thead>\n",
       "    <tr style=\"text-align: right;\">\n",
       "      <th>is_fraud</th>\n",
       "      <th>0</th>\n",
       "      <th>1</th>\n",
       "    </tr>\n",
       "    <tr>\n",
       "      <th>generation</th>\n",
       "      <th></th>\n",
       "      <th></th>\n",
       "    </tr>\n",
       "  </thead>\n",
       "  <tbody>\n",
       "    <tr>\n",
       "      <th>(1901, 1928]</th>\n",
       "      <td>0.011788</td>\n",
       "      <td>0.000079</td>\n",
       "    </tr>\n",
       "    <tr>\n",
       "      <th>(1928, 1946]</th>\n",
       "      <td>0.077026</td>\n",
       "      <td>0.000574</td>\n",
       "    </tr>\n",
       "    <tr>\n",
       "      <th>(1946, 1965]</th>\n",
       "      <td>0.201249</td>\n",
       "      <td>0.001309</td>\n",
       "    </tr>\n",
       "    <tr>\n",
       "      <th>(1965, 1981]</th>\n",
       "      <td>0.331338</td>\n",
       "      <td>0.001499</td>\n",
       "    </tr>\n",
       "    <tr>\n",
       "      <th>(1981, 1997]</th>\n",
       "      <td>0.326218</td>\n",
       "      <td>0.001506</td>\n",
       "    </tr>\n",
       "    <tr>\n",
       "      <th>(1997, 2013]</th>\n",
       "      <td>0.047171</td>\n",
       "      <td>0.000243</td>\n",
       "    </tr>\n",
       "  </tbody>\n",
       "</table>\n",
       "</div>"
      ],
      "text/plain": [
       "is_fraud             0         1\n",
       "generation                      \n",
       "(1901, 1928]  0.011788  0.000079\n",
       "(1928, 1946]  0.077026  0.000574\n",
       "(1946, 1965]  0.201249  0.001309\n",
       "(1965, 1981]  0.331338  0.001499\n",
       "(1981, 1997]  0.326218  0.001506\n",
       "(1997, 2013]  0.047171  0.000243"
      ]
     },
     "execution_count": 15,
     "metadata": {},
     "output_type": "execute_result"
    }
   ],
   "source": [
    "label_percentage_per_category"
   ]
  },
  {
   "cell_type": "code",
   "execution_count": 16,
   "id": "afb7d014",
   "metadata": {
    "tags": []
   },
   "outputs": [],
   "source": [
    "generation_fraud = [(146/(146+21836), (1901,1928)), (1064/(142683 + 1064), (1928,1946)), (2424/(2424+372792), (1946, 1965)), (2776/(613768+2776), (1965, 1981)), (2790/(2790+604284), (1981, 1997)), (451/(451+87380), (1997, 2013))]"
   ]
  },
  {
   "cell_type": "code",
   "execution_count": 17,
   "id": "4fdd4c1f",
   "metadata": {
    "tags": []
   },
   "outputs": [
    {
     "data": {
      "text/plain": [
       "[(0.006641797834591939, (1901, 1928)),\n",
       " (0.0074018936047360985, (1928, 1946)),\n",
       " (0.006460278879365486, (1946, 1965)),\n",
       " (0.004502517257486895, (1965, 1981)),\n",
       " (0.0045958153371747105, (1981, 1997)),\n",
       " (0.005134861267661759, (1997, 2013))]"
      ]
     },
     "execution_count": 17,
     "metadata": {},
     "output_type": "execute_result"
    }
   ],
   "source": [
    "generation_fraud"
   ]
  },
  {
   "cell_type": "markdown",
   "id": "e7bafe6d",
   "metadata": {},
   "source": [
    "If a fraudulent transaction has been committed, what is the expected number of transaction committed per day with the same victim? (Temporal component asking do fraudulent transactions occur multiple times on the same customer)"
   ]
  },
  {
   "cell_type": "code",
   "execution_count": 81,
   "id": "f53a820c",
   "metadata": {
    "tags": []
   },
   "outputs": [
    {
     "data": {
      "text/plain": [
       "0          2019-01-01 00:00:18\n",
       "1          2019-01-01 00:00:44\n",
       "2          2019-01-01 00:00:51\n",
       "3          2019-01-01 00:01:16\n",
       "4          2019-01-01 00:03:06\n",
       "                  ...         \n",
       "1852389    2020-12-31 23:59:07\n",
       "1852390    2020-12-31 23:59:09\n",
       "1852391    2020-12-31 23:59:15\n",
       "1852392    2020-12-31 23:59:24\n",
       "1852393    2020-12-31 23:59:34\n",
       "Name: trans_date_trans_time, Length: 1852394, dtype: object"
      ]
     },
     "execution_count": 81,
     "metadata": {},
     "output_type": "execute_result"
    }
   ],
   "source": [
    "df[\"trans_date_trans_time\"]"
   ]
  },
  {
   "cell_type": "code",
   "execution_count": 86,
   "id": "70a7c000-ad4b-44cf-ae26-476424e4bd5e",
   "metadata": {
    "tags": []
   },
   "outputs": [],
   "source": [
    "df_day = df.copy()\n",
    "\n",
    "df_day['trans_date_trans_time'] = df['trans_date_trans_time'].str.slice(0,10)\n"
   ]
  },
  {
   "cell_type": "code",
   "execution_count": 88,
   "id": "47a3ec25-9145-4828-8e38-bcd3f1833af0",
   "metadata": {
    "tags": []
   },
   "outputs": [],
   "source": [
    "label_rows = df_day[df_day['is_fraud'].isin([1])]"
   ]
  },
  {
   "cell_type": "code",
   "execution_count": 90,
   "id": "46aa01b3-afbe-4d00-ad11-94da72613e67",
   "metadata": {
    "tags": []
   },
   "outputs": [
    {
     "data": {
      "text/plain": [
       "2449       2019-01-02\n",
       "2472       2019-01-02\n",
       "2523       2019-01-02\n",
       "2546       2019-01-02\n",
       "2553       2019-01-02\n",
       "              ...    \n",
       "1813872    2020-12-22\n",
       "1813949    2020-12-22\n",
       "1814016    2020-12-22\n",
       "1814204    2020-12-22\n",
       "1814246    2020-12-22\n",
       "Name: trans_date_trans_time, Length: 9651, dtype: object"
      ]
     },
     "execution_count": 90,
     "metadata": {},
     "output_type": "execute_result"
    }
   ],
   "source": [
    "label_rows[\"trans_date_trans_time\"]"
   ]
  },
  {
   "cell_type": "code",
   "execution_count": 91,
   "id": "c51f1cb9-4983-4138-a555-dc7457e9e2a3",
   "metadata": {
    "tags": []
   },
   "outputs": [
    {
     "data": {
      "text/plain": [
       "2449        Jason\n",
       "2472        Misty\n",
       "2523        Misty\n",
       "2546        Jason\n",
       "2553        Misty\n",
       "            ...  \n",
       "1813872    Travis\n",
       "1813949    Travis\n",
       "1814016    Travis\n",
       "1814204    Travis\n",
       "1814246    Travis\n",
       "Name: first, Length: 9651, dtype: object"
      ]
     },
     "execution_count": 91,
     "metadata": {},
     "output_type": "execute_result"
    }
   ],
   "source": [
    "label_rows[\"first\"]"
   ]
  },
  {
   "cell_type": "code",
   "execution_count": 87,
   "id": "a659c626-2e51-49a8-80e9-cb5715220ff2",
   "metadata": {
    "tags": []
   },
   "outputs": [
    {
     "data": {
      "text/plain": [
       "0          2019-01-01\n",
       "1          2019-01-01\n",
       "2          2019-01-01\n",
       "3          2019-01-01\n",
       "4          2019-01-01\n",
       "              ...    \n",
       "1852389    2020-12-31\n",
       "1852390    2020-12-31\n",
       "1852391    2020-12-31\n",
       "1852392    2020-12-31\n",
       "1852393    2020-12-31\n",
       "Name: trans_date_trans_time, Length: 1852394, dtype: object"
      ]
     },
     "execution_count": 87,
     "metadata": {},
     "output_type": "execute_result"
    }
   ],
   "source": [
    "df_day['trans_date_trans_time'] "
   ]
  },
  {
   "cell_type": "code",
   "execution_count": 99,
   "id": "adae2cb0-3012-44cc-8c75-1f65873d5b89",
   "metadata": {
    "tags": []
   },
   "outputs": [],
   "source": [
    "duplicate_rows = label_rows[label_rows.duplicated(['trans_date_trans_time', 'first', 'last', 'is_fraud'])]"
   ]
  },
  {
   "cell_type": "code",
   "execution_count": 100,
   "id": "48a7d153-c983-4f6e-818d-a14982d4a3b7",
   "metadata": {
    "tags": []
   },
   "outputs": [
    {
     "data": {
      "text/plain": [
       "2523        Misty\n",
       "2546        Jason\n",
       "2553        Misty\n",
       "2937        Jason\n",
       "3527        Jason\n",
       "            ...  \n",
       "1813872    Travis\n",
       "1813949    Travis\n",
       "1814016    Travis\n",
       "1814204    Travis\n",
       "1814246    Travis\n",
       "Name: first, Length: 7725, dtype: object"
      ]
     },
     "execution_count": 100,
     "metadata": {},
     "output_type": "execute_result"
    }
   ],
   "source": [
    "duplicate_rows[\"first\"]"
   ]
  },
  {
   "cell_type": "code",
   "execution_count": 111,
   "id": "81103f34-df8d-44a0-9007-c2a7ff71e582",
   "metadata": {
    "tags": []
   },
   "outputs": [],
   "source": [
    "duplication_counts = duplicate_rows.groupby(['trans_date_trans_time', 'first', 'last', 'is_fraud']).size().reset_index(name='counts')"
   ]
  },
  {
   "cell_type": "code",
   "execution_count": 112,
   "id": "a2c4616d-292f-4194-8e31-df686f2772e4",
   "metadata": {
    "tags": []
   },
   "outputs": [
    {
     "name": "stdout",
     "output_type": "stream",
     "text": [
      "     trans_date_trans_time        first      last  is_fraud  counts\n",
      "0               2019-01-02        Jason    Murphy         1       3\n",
      "1               2019-01-02        Misty      Hart         1       2\n",
      "2               2019-01-03      Heather     Chase         1       3\n",
      "3               2019-01-03        Jason    Murphy         1       3\n",
      "4               2019-01-03        Misty      Hart         1       3\n",
      "...                    ...          ...       ...       ...     ...\n",
      "1836            2020-12-19  Christopher   Gilbert         1       6\n",
      "1837            2020-12-20       Lauren  Anderson         1       3\n",
      "1838            2020-12-21       Lauren  Anderson         1       6\n",
      "1839            2020-12-21       Travis    Daniel         1       2\n",
      "1840            2020-12-22       Travis    Daniel         1       6\n",
      "\n",
      "[1841 rows x 5 columns]\n"
     ]
    }
   ],
   "source": [
    "print(duplication_counts)"
   ]
  },
  {
   "cell_type": "code",
   "execution_count": 113,
   "id": "121f61e9-f2f0-47d3-a728-7c45fd625857",
   "metadata": {
    "tags": []
   },
   "outputs": [
    {
     "data": {
      "text/plain": [
       "4.196089082020641"
      ]
     },
     "execution_count": 113,
     "metadata": {},
     "output_type": "execute_result"
    }
   ],
   "source": [
    "duplication_counts[\"counts\"].mean()"
   ]
  },
  {
   "cell_type": "code",
   "execution_count": null,
   "id": "f311cb03-f7c9-4288-9e82-ac8c0aecf436",
   "metadata": {
    "tags": []
   },
   "outputs": [],
   "source": [
    "average"
   ]
  },
  {
   "cell_type": "markdown",
   "id": "cf158842",
   "metadata": {},
   "source": [
    "For each purchase \"category,\" plot the mean and standard \"amt\" between fraudulent transactions and non-fraudulent transactions"
   ]
  },
  {
   "cell_type": "code",
   "execution_count": null,
   "id": "db5889e0",
   "metadata": {},
   "outputs": [],
   "source": []
  },
  {
   "cell_type": "markdown",
   "id": "337b378f",
   "metadata": {},
   "source": [
    "What is the distribution between time transactions between fraudulent transactions and non-fraudulent transactions? What is the most likely time of a fraudulent transaction?"
   ]
  },
  {
   "cell_type": "code",
   "execution_count": null,
   "id": "4a4b3672",
   "metadata": {},
   "outputs": [],
   "source": []
  },
  {
   "cell_type": "markdown",
   "id": "03ff0577",
   "metadata": {},
   "source": [
    "Is there a relationship between the distance between customer location (lat/lon) and merchant location (merch_lat/merch_lon) and fraudulent transactions?"
   ]
  },
  {
   "cell_type": "code",
   "execution_count": null,
   "id": "df13fa34",
   "metadata": {},
   "outputs": [],
   "source": []
  },
  {
   "cell_type": "code",
   "execution_count": null,
   "id": "c01091ce",
   "metadata": {},
   "outputs": [],
   "source": []
  },
  {
   "cell_type": "markdown",
   "id": "80397e74",
   "metadata": {},
   "source": [
    "Are certain states, cities, and zip codes more susceptible to fraudulent transactions?"
   ]
  },
  {
   "cell_type": "code",
   "execution_count": 49,
   "id": "43aeb19b-9cf3-4621-9633-2f1a09a10bf7",
   "metadata": {
    "tags": []
   },
   "outputs": [],
   "source": [
    "df_location = pd.DataFrame()\n",
    "df_location[\"city\"] = df[\"city\"].astype('category')\n",
    "df_location[\"state\"] = df[\"state\"].astype('category')\n",
    "df_location[\"zip\"] = df[\"zip\"].astype('category')\n",
    "df_location[\"is_fraud\"] = df[\"is_fraud\"].astype('category')"
   ]
  },
  {
   "cell_type": "code",
   "execution_count": 53,
   "id": "aec703e5",
   "metadata": {
    "tags": []
   },
   "outputs": [],
   "source": [
    "df_location[\"city\"] = df_location[\"city\"].cat.codes.astype('float')\n",
    "df_location[\"state\"] = df_location[\"state\"].cat.codes.astype('float')\n",
    "df_location[\"zip\"] = df_location[\"zip\"].cat.codes.astype('float')\n",
    "df_location[\"is_fraud\"] = df_location[\"is_fraud\"].cat.codes.astype('float')"
   ]
  },
  {
   "cell_type": "code",
   "execution_count": 56,
   "id": "31956c89-3ddd-4b1c-85ee-15c36c18d615",
   "metadata": {
    "tags": []
   },
   "outputs": [
    {
     "data": {
      "text/plain": [
       "city        float64\n",
       "state       float64\n",
       "zip         float64\n",
       "is_fraud    float64\n",
       "dtype: object"
      ]
     },
     "execution_count": 56,
     "metadata": {},
     "output_type": "execute_result"
    }
   ],
   "source": [
    "df_location.dtypes"
   ]
  },
  {
   "cell_type": "code",
   "execution_count": 55,
   "id": "fa176c5a-bc95-4b91-a6ca-6449af68768b",
   "metadata": {
    "tags": []
   },
   "outputs": [
    {
     "name": "stdout",
     "output_type": "stream",
     "text": [
      "          is_fraud      city     state       zip\n",
      "is_fraud  1.000000 -0.001107 -0.000252 -0.002410\n",
      "city     -0.001107  1.000000 -0.042611  0.076487\n",
      "state    -0.000252 -0.042611  1.000000 -0.111386\n",
      "zip      -0.002410  0.076487 -0.111386  1.000000\n"
     ]
    }
   ],
   "source": [
    "correlation = df_location[['is_fraud', 'city', 'state', 'zip']].corr()\n",
    "print(correlation)"
   ]
  },
  {
   "cell_type": "markdown",
   "id": "1ec3b634",
   "metadata": {},
   "source": [
    "What is the distribution of fraudulent and non-fraudulent transactions occurring for each day of the week (i.e., Sunday, Monday, etc.), each month of the year (i.e., January, February)?"
   ]
  },
  {
   "cell_type": "code",
   "execution_count": null,
   "id": "40eb4e2a",
   "metadata": {},
   "outputs": [],
   "source": []
  },
  {
   "cell_type": "markdown",
   "id": "f402917e",
   "metadata": {},
   "source": [
    "Compared to any other time of the year, how prevalent are fraudulent transactions during the holidays (11-30 to 12-31)? During post-holidays (1-1 to 2-28)? During the summer (05-24 to 09-01)?"
   ]
  },
  {
   "cell_type": "code",
   "execution_count": null,
   "id": "dd1f5f32",
   "metadata": {},
   "outputs": [],
   "source": []
  },
  {
   "cell_type": "markdown",
   "id": "c2ee708f",
   "metadata": {},
   "source": [
    "Is there a relationship between between \"city_pop\" and incidence of fraud?\n"
   ]
  },
  {
   "cell_type": "code",
   "execution_count": null,
   "id": "863d6fc8",
   "metadata": {},
   "outputs": [],
   "source": []
  },
  {
   "cell_type": "code",
   "execution_count": 57,
   "id": "472a62cf",
   "metadata": {
    "tags": []
   },
   "outputs": [],
   "source": [
    "label_percentage_per_job = pd.crosstab(df2['city_pop'], df2['is_fraud'], normalize='all')"
   ]
  },
  {
   "cell_type": "code",
   "execution_count": 58,
   "id": "922fcaaf",
   "metadata": {
    "tags": []
   },
   "outputs": [],
   "source": [
    "result = label_percentage_per_job.reset_index().sort_values(by=1, ascending=False)\n"
   ]
  },
  {
   "cell_type": "code",
   "execution_count": 59,
   "id": "2418df44",
   "metadata": {
    "tags": []
   },
   "outputs": [],
   "source": [
    "pd.set_option('display.max_rows', 10)\n"
   ]
  },
  {
   "cell_type": "code",
   "execution_count": 60,
   "id": "9b3e7c91",
   "metadata": {
    "tags": []
   },
   "outputs": [
    {
     "data": {
      "text/html": [
       "<div>\n",
       "<style scoped>\n",
       "    .dataframe tbody tr th:only-of-type {\n",
       "        vertical-align: middle;\n",
       "    }\n",
       "\n",
       "    .dataframe tbody tr th {\n",
       "        vertical-align: top;\n",
       "    }\n",
       "\n",
       "    .dataframe thead th {\n",
       "        text-align: right;\n",
       "    }\n",
       "</style>\n",
       "<table border=\"1\" class=\"dataframe\">\n",
       "  <thead>\n",
       "    <tr style=\"text-align: right;\">\n",
       "      <th>is_fraud</th>\n",
       "      <th>city_pop</th>\n",
       "      <th>0</th>\n",
       "      <th>1</th>\n",
       "    </tr>\n",
       "  </thead>\n",
       "  <tbody>\n",
       "    <tr>\n",
       "      <th>890</th>\n",
       "      <td>2906700</td>\n",
       "      <td>0.003145</td>\n",
       "      <td>0.000021</td>\n",
       "    </tr>\n",
       "    <tr>\n",
       "      <th>881</th>\n",
       "      <td>1263321</td>\n",
       "      <td>0.002754</td>\n",
       "      <td>0.000021</td>\n",
       "    </tr>\n",
       "    <tr>\n",
       "      <th>886</th>\n",
       "      <td>1577385</td>\n",
       "      <td>0.001968</td>\n",
       "      <td>0.000019</td>\n",
       "    </tr>\n",
       "    <tr>\n",
       "      <th>866</th>\n",
       "      <td>673342</td>\n",
       "      <td>0.002748</td>\n",
       "      <td>0.000018</td>\n",
       "    </tr>\n",
       "    <tr>\n",
       "      <th>166</th>\n",
       "      <td>606</td>\n",
       "      <td>0.004328</td>\n",
       "      <td>0.000017</td>\n",
       "    </tr>\n",
       "    <tr>\n",
       "      <th>...</th>\n",
       "      <td>...</td>\n",
       "      <td>...</td>\n",
       "      <td>...</td>\n",
       "    </tr>\n",
       "    <tr>\n",
       "      <th>788</th>\n",
       "      <td>103927</td>\n",
       "      <td>0.000394</td>\n",
       "      <td>0.000000</td>\n",
       "    </tr>\n",
       "    <tr>\n",
       "      <th>451</th>\n",
       "      <td>3263</td>\n",
       "      <td>0.000788</td>\n",
       "      <td>0.000000</td>\n",
       "    </tr>\n",
       "    <tr>\n",
       "      <th>594</th>\n",
       "      <td>7646</td>\n",
       "      <td>0.002365</td>\n",
       "      <td>0.000000</td>\n",
       "    </tr>\n",
       "    <tr>\n",
       "      <th>163</th>\n",
       "      <td>595</td>\n",
       "      <td>0.001576</td>\n",
       "      <td>0.000000</td>\n",
       "    </tr>\n",
       "    <tr>\n",
       "      <th>778</th>\n",
       "      <td>92608</td>\n",
       "      <td>0.001182</td>\n",
       "      <td>0.000000</td>\n",
       "    </tr>\n",
       "  </tbody>\n",
       "</table>\n",
       "<p>891 rows × 3 columns</p>\n",
       "</div>"
      ],
      "text/plain": [
       "is_fraud  city_pop         0         1\n",
       "890        2906700  0.003145  0.000021\n",
       "881        1263321  0.002754  0.000021\n",
       "886        1577385  0.001968  0.000019\n",
       "866         673342  0.002748  0.000018\n",
       "166            606  0.004328  0.000017\n",
       "..             ...       ...       ...\n",
       "788         103927  0.000394  0.000000\n",
       "451           3263  0.000788  0.000000\n",
       "594           7646  0.002365  0.000000\n",
       "163            595  0.001576  0.000000\n",
       "778          92608  0.001182  0.000000\n",
       "\n",
       "[891 rows x 3 columns]"
      ]
     },
     "execution_count": 60,
     "metadata": {},
     "output_type": "execute_result"
    }
   ],
   "source": [
    "result"
   ]
  },
  {
   "cell_type": "markdown",
   "id": "5e5b0b65",
   "metadata": {},
   "source": [
    "Are certain \"job\" types susceptible to fraudulent transactions?"
   ]
  },
  {
   "cell_type": "code",
   "execution_count": 61,
   "id": "24e8898a",
   "metadata": {
    "tags": []
   },
   "outputs": [],
   "source": [
    "label_percentage_per_job = pd.crosstab(df2['job'], df2['is_fraud'], normalize='all')"
   ]
  },
  {
   "cell_type": "code",
   "execution_count": 62,
   "id": "64af2de1",
   "metadata": {
    "tags": []
   },
   "outputs": [],
   "source": [
    "result = label_percentage_per_job.reset_index().sort_values(by=1, ascending=False)\n"
   ]
  },
  {
   "cell_type": "code",
   "execution_count": 63,
   "id": "51b75600",
   "metadata": {
    "tags": []
   },
   "outputs": [],
   "source": [
    "pd.set_option('display.max_rows', 10)\n"
   ]
  },
  {
   "cell_type": "code",
   "execution_count": 64,
   "id": "e6b148b3",
   "metadata": {
    "tags": []
   },
   "outputs": [
    {
     "data": {
      "text/html": [
       "<div>\n",
       "<style scoped>\n",
       "    .dataframe tbody tr th:only-of-type {\n",
       "        vertical-align: middle;\n",
       "    }\n",
       "\n",
       "    .dataframe tbody tr th {\n",
       "        vertical-align: top;\n",
       "    }\n",
       "\n",
       "    .dataframe thead th {\n",
       "        text-align: right;\n",
       "    }\n",
       "</style>\n",
       "<table border=\"1\" class=\"dataframe\">\n",
       "  <thead>\n",
       "    <tr style=\"text-align: right;\">\n",
       "      <th>is_fraud</th>\n",
       "      <th>job</th>\n",
       "      <th>0</th>\n",
       "      <th>1</th>\n",
       "    </tr>\n",
       "  </thead>\n",
       "  <tbody>\n",
       "    <tr>\n",
       "      <th>383</th>\n",
       "      <td>Quantity surveyor</td>\n",
       "      <td>0.004325</td>\n",
       "      <td>0.000037</td>\n",
       "    </tr>\n",
       "    <tr>\n",
       "      <th>309</th>\n",
       "      <td>Naval architect</td>\n",
       "      <td>0.006677</td>\n",
       "      <td>0.000036</td>\n",
       "    </tr>\n",
       "    <tr>\n",
       "      <th>287</th>\n",
       "      <td>Materials engineer</td>\n",
       "      <td>0.006289</td>\n",
       "      <td>0.000033</td>\n",
       "    </tr>\n",
       "    <tr>\n",
       "      <th>42</th>\n",
       "      <td>Audiological scientist</td>\n",
       "      <td>0.004720</td>\n",
       "      <td>0.000031</td>\n",
       "    </tr>\n",
       "    <tr>\n",
       "      <th>421</th>\n",
       "      <td>Senior tax professional/tax inspector</td>\n",
       "      <td>0.003142</td>\n",
       "      <td>0.000031</td>\n",
       "    </tr>\n",
       "    <tr>\n",
       "      <th>...</th>\n",
       "      <td>...</td>\n",
       "      <td>...</td>\n",
       "      <td>...</td>\n",
       "    </tr>\n",
       "    <tr>\n",
       "      <th>437</th>\n",
       "      <td>Statistician</td>\n",
       "      <td>0.001966</td>\n",
       "      <td>0.000002</td>\n",
       "    </tr>\n",
       "    <tr>\n",
       "      <th>107</th>\n",
       "      <td>Contractor</td>\n",
       "      <td>0.002356</td>\n",
       "      <td>0.000001</td>\n",
       "    </tr>\n",
       "    <tr>\n",
       "      <th>163</th>\n",
       "      <td>Engineer, drilling</td>\n",
       "      <td>0.001576</td>\n",
       "      <td>0.000000</td>\n",
       "    </tr>\n",
       "    <tr>\n",
       "      <th>161</th>\n",
       "      <td>Engineer, communications</td>\n",
       "      <td>0.001182</td>\n",
       "      <td>0.000000</td>\n",
       "    </tr>\n",
       "    <tr>\n",
       "      <th>436</th>\n",
       "      <td>Stage manager</td>\n",
       "      <td>0.000788</td>\n",
       "      <td>0.000000</td>\n",
       "    </tr>\n",
       "  </tbody>\n",
       "</table>\n",
       "<p>497 rows × 3 columns</p>\n",
       "</div>"
      ],
      "text/plain": [
       "is_fraud                                    job         0         1\n",
       "383                           Quantity surveyor  0.004325  0.000037\n",
       "309                             Naval architect  0.006677  0.000036\n",
       "287                          Materials engineer  0.006289  0.000033\n",
       "42                       Audiological scientist  0.004720  0.000031\n",
       "421       Senior tax professional/tax inspector  0.003142  0.000031\n",
       "..                                          ...       ...       ...\n",
       "437                                Statistician  0.001966  0.000002\n",
       "107                                  Contractor  0.002356  0.000001\n",
       "163                          Engineer, drilling  0.001576  0.000000\n",
       "161                    Engineer, communications  0.001182  0.000000\n",
       "436                               Stage manager  0.000788  0.000000\n",
       "\n",
       "[497 rows x 3 columns]"
      ]
     },
     "execution_count": 64,
     "metadata": {},
     "output_type": "execute_result"
    }
   ],
   "source": [
    "result"
   ]
  },
  {
   "cell_type": "code",
   "execution_count": 66,
   "id": "12e3a9b3-dd4b-44f3-b4c4-4a49efb04a83",
   "metadata": {
    "tags": []
   },
   "outputs": [],
   "source": [
    "df_job = pd.DataFrame()\n",
    "df_job[\"city\"] = df[\"city\"].astype('category')\n",
    "df_job[\"is_fraud\"] = df[\"is_fraud\"].astype('category')"
   ]
  },
  {
   "cell_type": "code",
   "execution_count": 67,
   "id": "59994633-4529-4665-903e-2b653e38dd3f",
   "metadata": {
    "tags": []
   },
   "outputs": [],
   "source": [
    "df_job[\"job\"] = df_job[\"city\"].cat.codes.astype('float')\n",
    "df_job[\"is_fraud\"] = df_job[\"is_fraud\"].cat.codes.astype('float')"
   ]
  },
  {
   "cell_type": "code",
   "execution_count": 68,
   "id": "3ff4f263",
   "metadata": {
    "tags": []
   },
   "outputs": [
    {
     "name": "stdout",
     "output_type": "stream",
     "text": [
      "The correlation between the label and the datapoint is -0.0011073204129480893\n"
     ]
    }
   ],
   "source": [
    "correlation = df_job['is_fraud'].corr(df_job['job'])\n",
    "print(f\"The correlation between the label and the datapoint is {correlation}\")"
   ]
  },
  {
   "cell_type": "markdown",
   "id": "782a48ec",
   "metadata": {},
   "source": [
    "Think of at least 4 more questions and provide the answers to them."
   ]
  },
  {
   "cell_type": "markdown",
   "id": "023da368",
   "metadata": {},
   "source": [
    "1. Some of the variables by themselves showed low correlation, what happens if you bring in investigations from multiple to test correlations? Say from question 2, 7, and 11 to see the results"
   ]
  },
  {
   "cell_type": "code",
   "execution_count": 75,
   "id": "160945c2-2287-47c3-9166-bf5c9ffeee03",
   "metadata": {
    "tags": []
   },
   "outputs": [],
   "source": [
    "df_test = pd.DataFrame()\n",
    "\n",
    "df_test[\"job\"] = df_job[\"job\"]\n",
    "df_test[\"city\"] = df_location[\"city\"]\n",
    "df_test[\"state\"] = df_location[\"state\"]\n",
    "df_test[\"zip\"] = df_location[\"zip\"]\n",
    "df_test[\"dob\"] = df2[\"dob\"]\n",
    "df_test[\"is_fraud\"] = df_location[\"is_fraud\"]"
   ]
  },
  {
   "cell_type": "code",
   "execution_count": 78,
   "id": "98756863-6fa2-48e4-8128-280ff5410460",
   "metadata": {
    "tags": []
   },
   "outputs": [],
   "source": [
    "from sklearn import preprocessing\n",
    "\n",
    "min_max_scaler = preprocessing.MinMaxScaler()\n",
    "df_test[['job', 'city', 'state', 'zip', 'dob']] = min_max_scaler.fit_transform(df_test[['job', 'city', 'state', 'zip', 'dob']])\n"
   ]
  },
  {
   "cell_type": "code",
   "execution_count": 79,
   "id": "103ed643-2c76-4ab8-bc6e-09ce929ee7f9",
   "metadata": {
    "tags": []
   },
   "outputs": [],
   "source": [
    "X = df_test.loc[:, df_test.columns != 'is_fraud'].values\n",
    "y = df_test.loc[:, df_test.columns == 'is_fraud'].values.ravel()"
   ]
  },
  {
   "cell_type": "code",
   "execution_count": 80,
   "id": "f7f514df",
   "metadata": {
    "tags": []
   },
   "outputs": [
    {
     "data": {
      "image/png": "[encoded data removed]",
      "text/plain": [
       "<Figure size 640x480 with 1 Axes>"
      ]
     },
     "metadata": {},
     "output_type": "display_data"
    }
   ],
   "source": [
    "from sklearn.feature_selection import SelectPercentile, f_classif\n",
    "\n",
    "\n",
    "selector = SelectPercentile(f_classif, percentile=10)\n",
    "# Fit the data\n",
    "selector.fit(X, y)\n",
    "scores = selector.pvalues_\n",
    "scores /= scores.max()\n",
    "\n",
    "# Display\n",
    "cols = list(df_test.loc[:, df_test.columns != 'is_fraud'].columns.values)\n",
    "y_pos = np.arange(len(cols))\n",
    "plt.bar(y_pos, scores)\n",
    "plt.xticks(y_pos, cols, rotation=90)\n",
    "plt.show()"
   ]
  },
  {
   "cell_type": "markdown",
   "id": "04a3eccd",
   "metadata": {},
   "source": [
    "2. "
   ]
  },
  {
   "cell_type": "code",
   "execution_count": null,
   "id": "9b1c890c",
   "metadata": {},
   "outputs": [],
   "source": []
  },
  {
   "cell_type": "markdown",
   "id": "540b665b",
   "metadata": {},
   "source": [
    "3. "
   ]
  },
  {
   "cell_type": "code",
   "execution_count": null,
   "id": "68c90386",
   "metadata": {},
   "outputs": [],
   "source": []
  },
  {
   "cell_type": "markdown",
   "id": "4fdfe435",
   "metadata": {},
   "source": [
    "4. "
   ]
  },
  {
   "cell_type": "code",
   "execution_count": null,
   "id": "43faecef",
   "metadata": {},
   "outputs": [],
   "source": []
  }
 ],
 "metadata": {
  "kernelspec": {
   "display_name": "Python 3 (ipykernel)",
   "language": "python",
   "name": "python3"
  },
  "language_info": {
   "codemirror_mode": {
    "name": "ipython",
    "version": 3
   },
   "file_extension": ".py",
   "mimetype": "text/x-python",
   "name": "python",
   "nbconvert_exporter": "python",
   "pygments_lexer": "ipython3",
   "version": "3.10.12"
  }
 },
 "nbformat": 4,
 "nbformat_minor": 5
}
