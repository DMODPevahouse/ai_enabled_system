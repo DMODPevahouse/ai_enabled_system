{
 "cells": [
  {
   "cell_type": "code",
   "execution_count": 1,
   "id": "877d2688",
   "metadata": {},
   "outputs": [],
   "source": [
    "import pandas as pd\n",
    "import numpy as np\n",
    "import sklearn\n",
    "from ydata_profiling import ProfileReport\n",
    "from ydata_profiling.utils.cache import cache_file"
   ]
  },
  {
   "cell_type": "code",
   "execution_count": 2,
   "id": "036b8564",
   "metadata": {},
   "outputs": [],
   "source": [
    "df = pd.read_csv('../dataAnalytics/transactions.csv')"
   ]
  },
  {
   "cell_type": "markdown",
   "id": "ae1f3f77",
   "metadata": {},
   "source": [
    "What is the distribution between fraudulent and non-fraudulent transactions?"
   ]
  },
  {
   "cell_type": "code",
   "execution_count": null,
   "id": "1572345d",
   "metadata": {},
   "outputs": [],
   "source": []
  },
  {
   "cell_type": "markdown",
   "id": "4adc9112",
   "metadata": {},
   "source": [
    "Which age groups are more susceptible to fraudulent transactions?"
   ]
  },
  {
   "cell_type": "markdown",
   "id": "1b22fc4e",
   "metadata": {},
   "source": [
    "If a fraudulent transaction has been committed, what is the expected number of transaction committed per day with the same victim? (Temporal component asking do fraudulent transactions occur multiple times on the same customer)"
   ]
  },
  {
   "cell_type": "markdown",
   "id": "e482b54b",
   "metadata": {},
   "source": [
    "For each purchase \"category,\" plot the mean and standard \"amt\" between fraudulent transactions and non-fraudulent transactions"
   ]
  },
  {
   "cell_type": "markdown",
   "id": "4001cb0b",
   "metadata": {},
   "source": [
    "What is the distribution between time transactions between fraudulent transactions and non-fraudulent transactions? What is the most likely time of a fraudulent transaction?"
   ]
  },
  {
   "cell_type": "markdown",
   "id": "ade9be17",
   "metadata": {},
   "source": [
    "Is there a relationship between the distance between customer location (lat/lon) and merchant location (merch_lat/merch_lon) and fraudulent transactions?"
   ]
  },
  {
   "cell_type": "markdown",
   "id": "b0608ac1",
   "metadata": {},
   "source": [
    "Are certain states, cities, and zip codes more susceptible to fraudulent transactions?"
   ]
  },
  {
   "cell_type": "markdown",
   "id": "8699c30a",
   "metadata": {},
   "source": [
    "What is the distribution of fraudulent and non-fraudulent transactions occurring for each day of the week (i.e., Sunday, Monday, etc.), each month of the year (i.e., January, February)?"
   ]
  },
  {
   "cell_type": "markdown",
   "id": "d611cffe",
   "metadata": {},
   "source": [
    "Compared to any other time of the year, how prevalent are fraudulent transactions during the holidays (11-30 to 12-31)? During post-holidays (1-1 to 2-28)? During the summer (05-24 to 09-01)?"
   ]
  },
  {
   "cell_type": "markdown",
   "id": "9cf45171",
   "metadata": {},
   "source": [
    "Is there a relationship between between \"city_pop\" and incidence of fraud?\n"
   ]
  },
  {
   "cell_type": "markdown",
   "id": "8d4c32a5",
   "metadata": {},
   "source": [
    "Are certain \"job\" types susceptible to fraudulent transactions?"
   ]
  },
  {
   "cell_type": "markdown",
   "id": "492ac459",
   "metadata": {},
   "source": [
    "Think of at least 4 more questions and provide the answers to them."
   ]
  },
  {
   "cell_type": "markdown",
   "id": "1d5d5e52",
   "metadata": {},
   "source": [
    "1."
   ]
  },
  {
   "cell_type": "markdown",
   "id": "58d40ef5",
   "metadata": {},
   "source": [
    "2. "
   ]
  },
  {
   "cell_type": "markdown",
   "id": "26e7dfa4",
   "metadata": {},
   "source": [
    "3. "
   ]
  },
  {
   "cell_type": "markdown",
   "id": "2c3ba51a",
   "metadata": {},
   "source": [
    "4. "
   ]
  }
 ],
 "metadata": {
  "kernelspec": {
   "display_name": "Python 3 (ipykernel)",
   "language": "python",
   "name": "python3"
  },
  "language_info": {
   "codemirror_mode": {
    "name": "ipython",
    "version": 3
   },
   "file_extension": ".py",
   "mimetype": "text/x-python",
   "name": "python",
   "nbconvert_exporter": "python",
   "pygments_lexer": "ipython3",
   "version": "3.10.6"
  }
 },
 "nbformat": 4,
 "nbformat_minor": 5
}
