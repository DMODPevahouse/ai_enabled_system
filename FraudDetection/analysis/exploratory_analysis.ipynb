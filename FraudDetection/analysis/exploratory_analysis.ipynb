{
 "cells": [
  {
   "cell_type": "code",
   "execution_count": 1,
   "id": "e8dc4ad3",
   "metadata": {},
   "outputs": [
    {
     "name": "stdout",
     "output_type": "stream",
     "text": [
      "Requirement already satisfied: matplotlib in /usr/local/lib/python3.10/dist-packages (3.8.3)\n",
      "Requirement already satisfied: contourpy>=1.0.1 in /usr/local/lib/python3.10/dist-packages (from matplotlib) (1.2.0)\n",
      "Requirement already satisfied: cycler>=0.10 in /usr/local/lib/python3.10/dist-packages (from matplotlib) (0.12.1)\n",
      "Requirement already satisfied: fonttools>=4.22.0 in /usr/local/lib/python3.10/dist-packages (from matplotlib) (4.49.0)\n",
      "Requirement already satisfied: kiwisolver>=1.3.1 in /usr/local/lib/python3.10/dist-packages (from matplotlib) (1.4.5)\n",
      "Requirement already satisfied: numpy<2,>=1.21 in /usr/local/lib/python3.10/dist-packages (from matplotlib) (1.22.2)\n",
      "Requirement already satisfied: packaging>=20.0 in /usr/local/lib/python3.10/dist-packages (from matplotlib) (23.1)\n",
      "Requirement already satisfied: pillow>=8 in /usr/local/lib/python3.10/dist-packages (from matplotlib) (9.5.0)\n",
      "Requirement already satisfied: pyparsing>=2.3.1 in /usr/local/lib/python3.10/dist-packages (from matplotlib) (3.1.0)\n",
      "Requirement already satisfied: python-dateutil>=2.7 in /usr/local/lib/python3.10/dist-packages (from matplotlib) (2.8.2)\n",
      "Requirement already satisfied: six>=1.5 in /usr/local/lib/python3.10/dist-packages (from python-dateutil>=2.7->matplotlib) (1.16.0)\n",
      "\u001b[33mWARNING: Running pip as the 'root' user can result in broken permissions and conflicting behaviour with the system package manager. It is recommended to use a virtual environment instead: https://pip.pypa.io/warnings/venv\u001b[0m\u001b[33m\n",
      "\u001b[0m"
     ]
    }
   ],
   "source": [
    "!pip install matplotlib"
   ]
  },
  {
   "cell_type": "code",
   "execution_count": 2,
   "id": "8f2e45b4",
   "metadata": {},
   "outputs": [
    {
     "name": "stdout",
     "output_type": "stream",
     "text": [
      "Requirement already satisfied: seaborn in /usr/local/lib/python3.10/dist-packages (0.13.2)\n",
      "Requirement already satisfied: numpy!=1.24.0,>=1.20 in /usr/local/lib/python3.10/dist-packages (from seaborn) (1.22.2)\n",
      "Requirement already satisfied: pandas>=1.2 in /usr/local/lib/python3.10/dist-packages (from seaborn) (1.5.2)\n",
      "Requirement already satisfied: matplotlib!=3.6.1,>=3.4 in /usr/local/lib/python3.10/dist-packages (from seaborn) (3.8.3)\n",
      "Requirement already satisfied: contourpy>=1.0.1 in /usr/local/lib/python3.10/dist-packages (from matplotlib!=3.6.1,>=3.4->seaborn) (1.2.0)\n",
      "Requirement already satisfied: cycler>=0.10 in /usr/local/lib/python3.10/dist-packages (from matplotlib!=3.6.1,>=3.4->seaborn) (0.12.1)\n",
      "Requirement already satisfied: fonttools>=4.22.0 in /usr/local/lib/python3.10/dist-packages (from matplotlib!=3.6.1,>=3.4->seaborn) (4.49.0)\n",
      "Requirement already satisfied: kiwisolver>=1.3.1 in /usr/local/lib/python3.10/dist-packages (from matplotlib!=3.6.1,>=3.4->seaborn) (1.4.5)\n",
      "Requirement already satisfied: packaging>=20.0 in /usr/local/lib/python3.10/dist-packages (from matplotlib!=3.6.1,>=3.4->seaborn) (23.1)\n",
      "Requirement already satisfied: pillow>=8 in /usr/local/lib/python3.10/dist-packages (from matplotlib!=3.6.1,>=3.4->seaborn) (9.5.0)\n",
      "Requirement already satisfied: pyparsing>=2.3.1 in /usr/local/lib/python3.10/dist-packages (from matplotlib!=3.6.1,>=3.4->seaborn) (3.1.0)\n",
      "Requirement already satisfied: python-dateutil>=2.7 in /usr/local/lib/python3.10/dist-packages (from matplotlib!=3.6.1,>=3.4->seaborn) (2.8.2)\n",
      "Requirement already satisfied: pytz>=2020.1 in /usr/local/lib/python3.10/dist-packages (from pandas>=1.2->seaborn) (2023.3)\n",
      "Requirement already satisfied: six>=1.5 in /usr/local/lib/python3.10/dist-packages (from python-dateutil>=2.7->matplotlib!=3.6.1,>=3.4->seaborn) (1.16.0)\n",
      "\u001b[33mWARNING: Running pip as the 'root' user can result in broken permissions and conflicting behaviour with the system package manager. It is recommended to use a virtual environment instead: https://pip.pypa.io/warnings/venv\u001b[0m\u001b[33m\n",
      "\u001b[0m"
     ]
    }
   ],
   "source": [
    "!pip install seaborn"
   ]
  },
  {
   "cell_type": "code",
   "execution_count": 3,
   "id": "d9b77056",
   "metadata": {
    "tags": []
   },
   "outputs": [],
   "source": [
    "import pandas as pd\n",
    "import numpy as np\n",
    "import sklearn\n",
    "\n",
    "import matplotlib.pyplot as plt"
   ]
  },
  {
   "cell_type": "code",
   "execution_count": 4,
   "id": "7e2740fe",
   "metadata": {
    "tags": []
   },
   "outputs": [],
   "source": [
    "df = pd.read_csv('../transactions.csv')"
   ]
  },
  {
   "cell_type": "code",
   "execution_count": 5,
   "id": "d587a271",
   "metadata": {
    "tags": []
   },
   "outputs": [
    {
     "data": {
      "text/html": [
       "<div>\n",
       "<style scoped>\n",
       "    .dataframe tbody tr th:only-of-type {\n",
       "        vertical-align: middle;\n",
       "    }\n",
       "\n",
       "    .dataframe tbody tr th {\n",
       "        vertical-align: top;\n",
       "    }\n",
       "\n",
       "    .dataframe thead th {\n",
       "        text-align: right;\n",
       "    }\n",
       "</style>\n",
       "<table border=\"1\" class=\"dataframe\">\n",
       "  <thead>\n",
       "    <tr style=\"text-align: right;\">\n",
       "      <th></th>\n",
       "      <th>Unnamed: 0</th>\n",
       "      <th>trans_date_trans_time</th>\n",
       "      <th>cc_num</th>\n",
       "      <th>merchant</th>\n",
       "      <th>category</th>\n",
       "      <th>amt</th>\n",
       "      <th>first</th>\n",
       "      <th>last</th>\n",
       "      <th>sex</th>\n",
       "      <th>street</th>\n",
       "      <th>...</th>\n",
       "      <th>lat</th>\n",
       "      <th>long</th>\n",
       "      <th>city_pop</th>\n",
       "      <th>job</th>\n",
       "      <th>dob</th>\n",
       "      <th>trans_num</th>\n",
       "      <th>unix_time</th>\n",
       "      <th>merch_lat</th>\n",
       "      <th>merch_long</th>\n",
       "      <th>is_fraud</th>\n",
       "    </tr>\n",
       "  </thead>\n",
       "  <tbody>\n",
       "    <tr>\n",
       "      <th>0</th>\n",
       "      <td>0</td>\n",
       "      <td>2019-01-01 00:00:18</td>\n",
       "      <td>2703186189652095</td>\n",
       "      <td>fraud_Rippin, Kub and Mann</td>\n",
       "      <td>misc_net</td>\n",
       "      <td>4.97</td>\n",
       "      <td>Jennifer</td>\n",
       "      <td>Banks</td>\n",
       "      <td>F</td>\n",
       "      <td>561 Perry Cove</td>\n",
       "      <td>...</td>\n",
       "      <td>36.0788</td>\n",
       "      <td>-81.1781</td>\n",
       "      <td>3495</td>\n",
       "      <td>Psychologist, counselling</td>\n",
       "      <td>1988-03-09</td>\n",
       "      <td>0b242abb623afc578575680df30655b9</td>\n",
       "      <td>1325376018</td>\n",
       "      <td>36.011293</td>\n",
       "      <td>-82.048315</td>\n",
       "      <td>0</td>\n",
       "    </tr>\n",
       "    <tr>\n",
       "      <th>1</th>\n",
       "      <td>1</td>\n",
       "      <td>2019-01-01 00:00:44</td>\n",
       "      <td>630423337322</td>\n",
       "      <td>fraud_Heller, Gutmann and Zieme</td>\n",
       "      <td>grocery_pos</td>\n",
       "      <td>107.23</td>\n",
       "      <td>Stephanie</td>\n",
       "      <td>Gill</td>\n",
       "      <td>F</td>\n",
       "      <td>43039 Riley Greens Suite 393</td>\n",
       "      <td>...</td>\n",
       "      <td>48.8878</td>\n",
       "      <td>-118.2105</td>\n",
       "      <td>149</td>\n",
       "      <td>Special educational needs teacher</td>\n",
       "      <td>1978-06-21</td>\n",
       "      <td>1f76529f8574734946361c461b024d99</td>\n",
       "      <td>1325376044</td>\n",
       "      <td>49.159047</td>\n",
       "      <td>-118.186462</td>\n",
       "      <td>0</td>\n",
       "    </tr>\n",
       "    <tr>\n",
       "      <th>2</th>\n",
       "      <td>2</td>\n",
       "      <td>2019-01-01 00:00:51</td>\n",
       "      <td>38859492057661</td>\n",
       "      <td>fraud_Lind-Buckridge</td>\n",
       "      <td>entertainment</td>\n",
       "      <td>220.11</td>\n",
       "      <td>Edward</td>\n",
       "      <td>Sanchez</td>\n",
       "      <td>M</td>\n",
       "      <td>594 White Dale Suite 530</td>\n",
       "      <td>...</td>\n",
       "      <td>42.1808</td>\n",
       "      <td>-112.2620</td>\n",
       "      <td>4154</td>\n",
       "      <td>Nature conservation officer</td>\n",
       "      <td>1962-01-19</td>\n",
       "      <td>a1a22d70485983eac12b5b88dad1cf95</td>\n",
       "      <td>1325376051</td>\n",
       "      <td>43.150704</td>\n",
       "      <td>-112.154481</td>\n",
       "      <td>0</td>\n",
       "    </tr>\n",
       "    <tr>\n",
       "      <th>3</th>\n",
       "      <td>3</td>\n",
       "      <td>2019-01-01 00:01:16</td>\n",
       "      <td>3534093764340240</td>\n",
       "      <td>fraud_Kutch, Hermiston and Farrell</td>\n",
       "      <td>gas_transport</td>\n",
       "      <td>45.00</td>\n",
       "      <td>Jeremy</td>\n",
       "      <td>White</td>\n",
       "      <td>M</td>\n",
       "      <td>9443 Cynthia Court Apt. 038</td>\n",
       "      <td>...</td>\n",
       "      <td>46.2306</td>\n",
       "      <td>-112.1138</td>\n",
       "      <td>1939</td>\n",
       "      <td>Patent attorney</td>\n",
       "      <td>1967-01-12</td>\n",
       "      <td>6b849c168bdad6f867558c3793159a81</td>\n",
       "      <td>1325376076</td>\n",
       "      <td>47.034331</td>\n",
       "      <td>-112.561071</td>\n",
       "      <td>0</td>\n",
       "    </tr>\n",
       "    <tr>\n",
       "      <th>4</th>\n",
       "      <td>4</td>\n",
       "      <td>2019-01-01 00:03:06</td>\n",
       "      <td>375534208663984</td>\n",
       "      <td>fraud_Keeling-Crist</td>\n",
       "      <td>misc_pos</td>\n",
       "      <td>41.96</td>\n",
       "      <td>Tyler</td>\n",
       "      <td>Garcia</td>\n",
       "      <td>M</td>\n",
       "      <td>408 Bradley Rest</td>\n",
       "      <td>...</td>\n",
       "      <td>38.4207</td>\n",
       "      <td>-79.4629</td>\n",
       "      <td>99</td>\n",
       "      <td>Dance movement psychotherapist</td>\n",
       "      <td>1986-03-28</td>\n",
       "      <td>a41d7549acf90789359a9aa5346dcb46</td>\n",
       "      <td>1325376186</td>\n",
       "      <td>38.674999</td>\n",
       "      <td>-78.632459</td>\n",
       "      <td>0</td>\n",
       "    </tr>\n",
       "    <tr>\n",
       "      <th>...</th>\n",
       "      <td>...</td>\n",
       "      <td>...</td>\n",
       "      <td>...</td>\n",
       "      <td>...</td>\n",
       "      <td>...</td>\n",
       "      <td>...</td>\n",
       "      <td>...</td>\n",
       "      <td>...</td>\n",
       "      <td>...</td>\n",
       "      <td>...</td>\n",
       "      <td>...</td>\n",
       "      <td>...</td>\n",
       "      <td>...</td>\n",
       "      <td>...</td>\n",
       "      <td>...</td>\n",
       "      <td>...</td>\n",
       "      <td>...</td>\n",
       "      <td>...</td>\n",
       "      <td>...</td>\n",
       "      <td>...</td>\n",
       "      <td>...</td>\n",
       "    </tr>\n",
       "    <tr>\n",
       "      <th>1852389</th>\n",
       "      <td>1852389</td>\n",
       "      <td>2020-12-31 23:59:07</td>\n",
       "      <td>30560609640617</td>\n",
       "      <td>fraud_Reilly and Sons</td>\n",
       "      <td>health_fitness</td>\n",
       "      <td>43.77</td>\n",
       "      <td>Michael</td>\n",
       "      <td>Olson</td>\n",
       "      <td>M</td>\n",
       "      <td>558 Michael Estates</td>\n",
       "      <td>...</td>\n",
       "      <td>40.4931</td>\n",
       "      <td>-91.8912</td>\n",
       "      <td>519</td>\n",
       "      <td>Town planner</td>\n",
       "      <td>1966-02-13</td>\n",
       "      <td>9b1f753c79894c9f4b71f04581835ada</td>\n",
       "      <td>1388534347</td>\n",
       "      <td>39.946837</td>\n",
       "      <td>-91.333331</td>\n",
       "      <td>0</td>\n",
       "    </tr>\n",
       "    <tr>\n",
       "      <th>1852390</th>\n",
       "      <td>1852390</td>\n",
       "      <td>2020-12-31 23:59:09</td>\n",
       "      <td>3556613125071656</td>\n",
       "      <td>fraud_Hoppe-Parisian</td>\n",
       "      <td>kids_pets</td>\n",
       "      <td>111.84</td>\n",
       "      <td>Jose</td>\n",
       "      <td>Vasquez</td>\n",
       "      <td>M</td>\n",
       "      <td>572 Davis Mountains</td>\n",
       "      <td>...</td>\n",
       "      <td>29.0393</td>\n",
       "      <td>-95.4401</td>\n",
       "      <td>28739</td>\n",
       "      <td>Futures trader</td>\n",
       "      <td>1999-12-27</td>\n",
       "      <td>2090647dac2c89a1d86c514c427f5b91</td>\n",
       "      <td>1388534349</td>\n",
       "      <td>29.661049</td>\n",
       "      <td>-96.186633</td>\n",
       "      <td>0</td>\n",
       "    </tr>\n",
       "    <tr>\n",
       "      <th>1852391</th>\n",
       "      <td>1852391</td>\n",
       "      <td>2020-12-31 23:59:15</td>\n",
       "      <td>6011724471098086</td>\n",
       "      <td>fraud_Rau-Robel</td>\n",
       "      <td>kids_pets</td>\n",
       "      <td>86.88</td>\n",
       "      <td>Ann</td>\n",
       "      <td>Lawson</td>\n",
       "      <td>F</td>\n",
       "      <td>144 Evans Islands Apt. 683</td>\n",
       "      <td>...</td>\n",
       "      <td>46.1966</td>\n",
       "      <td>-118.9017</td>\n",
       "      <td>3684</td>\n",
       "      <td>Musician</td>\n",
       "      <td>1981-11-29</td>\n",
       "      <td>6c5b7c8add471975aa0fec023b2e8408</td>\n",
       "      <td>1388534355</td>\n",
       "      <td>46.658340</td>\n",
       "      <td>-119.715054</td>\n",
       "      <td>0</td>\n",
       "    </tr>\n",
       "    <tr>\n",
       "      <th>1852392</th>\n",
       "      <td>1852392</td>\n",
       "      <td>2020-12-31 23:59:24</td>\n",
       "      <td>4079773899158</td>\n",
       "      <td>fraud_Breitenberg LLC</td>\n",
       "      <td>travel</td>\n",
       "      <td>7.99</td>\n",
       "      <td>Eric</td>\n",
       "      <td>Preston</td>\n",
       "      <td>M</td>\n",
       "      <td>7020 Doyle Stream Apt. 951</td>\n",
       "      <td>...</td>\n",
       "      <td>44.6255</td>\n",
       "      <td>-116.4493</td>\n",
       "      <td>129</td>\n",
       "      <td>Cartographer</td>\n",
       "      <td>1965-12-15</td>\n",
       "      <td>14392d723bb7737606b2700ac791b7aa</td>\n",
       "      <td>1388534364</td>\n",
       "      <td>44.470525</td>\n",
       "      <td>-117.080888</td>\n",
       "      <td>0</td>\n",
       "    </tr>\n",
       "    <tr>\n",
       "      <th>1852393</th>\n",
       "      <td>1852393</td>\n",
       "      <td>2020-12-31 23:59:34</td>\n",
       "      <td>4170689372027579</td>\n",
       "      <td>fraud_Dare-Marvin</td>\n",
       "      <td>entertainment</td>\n",
       "      <td>38.13</td>\n",
       "      <td>Samuel</td>\n",
       "      <td>Frey</td>\n",
       "      <td>M</td>\n",
       "      <td>830 Myers Plaza Apt. 384</td>\n",
       "      <td>...</td>\n",
       "      <td>35.6665</td>\n",
       "      <td>-97.4798</td>\n",
       "      <td>116001</td>\n",
       "      <td>Media buyer</td>\n",
       "      <td>1993-05-10</td>\n",
       "      <td>1765bb45b3aa3224b4cdcb6e7a96cee3</td>\n",
       "      <td>1388534374</td>\n",
       "      <td>36.210097</td>\n",
       "      <td>-97.036372</td>\n",
       "      <td>0</td>\n",
       "    </tr>\n",
       "  </tbody>\n",
       "</table>\n",
       "<p>1852394 rows × 23 columns</p>\n",
       "</div>"
      ],
      "text/plain": [
       "         Unnamed: 0 trans_date_trans_time            cc_num  \\\n",
       "0                 0   2019-01-01 00:00:18  2703186189652095   \n",
       "1                 1   2019-01-01 00:00:44      630423337322   \n",
       "2                 2   2019-01-01 00:00:51    38859492057661   \n",
       "3                 3   2019-01-01 00:01:16  3534093764340240   \n",
       "4                 4   2019-01-01 00:03:06   375534208663984   \n",
       "...             ...                   ...               ...   \n",
       "1852389     1852389   2020-12-31 23:59:07    30560609640617   \n",
       "1852390     1852390   2020-12-31 23:59:09  3556613125071656   \n",
       "1852391     1852391   2020-12-31 23:59:15  6011724471098086   \n",
       "1852392     1852392   2020-12-31 23:59:24     4079773899158   \n",
       "1852393     1852393   2020-12-31 23:59:34  4170689372027579   \n",
       "\n",
       "                                   merchant        category     amt  \\\n",
       "0                fraud_Rippin, Kub and Mann        misc_net    4.97   \n",
       "1           fraud_Heller, Gutmann and Zieme     grocery_pos  107.23   \n",
       "2                      fraud_Lind-Buckridge   entertainment  220.11   \n",
       "3        fraud_Kutch, Hermiston and Farrell   gas_transport   45.00   \n",
       "4                       fraud_Keeling-Crist        misc_pos   41.96   \n",
       "...                                     ...             ...     ...   \n",
       "1852389               fraud_Reilly and Sons  health_fitness   43.77   \n",
       "1852390                fraud_Hoppe-Parisian       kids_pets  111.84   \n",
       "1852391                     fraud_Rau-Robel       kids_pets   86.88   \n",
       "1852392               fraud_Breitenberg LLC          travel    7.99   \n",
       "1852393                   fraud_Dare-Marvin   entertainment   38.13   \n",
       "\n",
       "             first     last sex                        street  ...      lat  \\\n",
       "0         Jennifer    Banks   F                561 Perry Cove  ...  36.0788   \n",
       "1        Stephanie     Gill   F  43039 Riley Greens Suite 393  ...  48.8878   \n",
       "2           Edward  Sanchez   M      594 White Dale Suite 530  ...  42.1808   \n",
       "3           Jeremy    White   M   9443 Cynthia Court Apt. 038  ...  46.2306   \n",
       "4            Tyler   Garcia   M              408 Bradley Rest  ...  38.4207   \n",
       "...            ...      ...  ..                           ...  ...      ...   \n",
       "1852389    Michael    Olson   M           558 Michael Estates  ...  40.4931   \n",
       "1852390       Jose  Vasquez   M           572 Davis Mountains  ...  29.0393   \n",
       "1852391        Ann   Lawson   F    144 Evans Islands Apt. 683  ...  46.1966   \n",
       "1852392       Eric  Preston   M    7020 Doyle Stream Apt. 951  ...  44.6255   \n",
       "1852393     Samuel     Frey   M      830 Myers Plaza Apt. 384  ...  35.6665   \n",
       "\n",
       "             long  city_pop                                job         dob  \\\n",
       "0        -81.1781      3495          Psychologist, counselling  1988-03-09   \n",
       "1       -118.2105       149  Special educational needs teacher  1978-06-21   \n",
       "2       -112.2620      4154        Nature conservation officer  1962-01-19   \n",
       "3       -112.1138      1939                    Patent attorney  1967-01-12   \n",
       "4        -79.4629        99     Dance movement psychotherapist  1986-03-28   \n",
       "...           ...       ...                                ...         ...   \n",
       "1852389  -91.8912       519                       Town planner  1966-02-13   \n",
       "1852390  -95.4401     28739                     Futures trader  1999-12-27   \n",
       "1852391 -118.9017      3684                           Musician  1981-11-29   \n",
       "1852392 -116.4493       129                       Cartographer  1965-12-15   \n",
       "1852393  -97.4798    116001                        Media buyer  1993-05-10   \n",
       "\n",
       "                                trans_num   unix_time  merch_lat  merch_long  \\\n",
       "0        0b242abb623afc578575680df30655b9  1325376018  36.011293  -82.048315   \n",
       "1        1f76529f8574734946361c461b024d99  1325376044  49.159047 -118.186462   \n",
       "2        a1a22d70485983eac12b5b88dad1cf95  1325376051  43.150704 -112.154481   \n",
       "3        6b849c168bdad6f867558c3793159a81  1325376076  47.034331 -112.561071   \n",
       "4        a41d7549acf90789359a9aa5346dcb46  1325376186  38.674999  -78.632459   \n",
       "...                                   ...         ...        ...         ...   \n",
       "1852389  9b1f753c79894c9f4b71f04581835ada  1388534347  39.946837  -91.333331   \n",
       "1852390  2090647dac2c89a1d86c514c427f5b91  1388534349  29.661049  -96.186633   \n",
       "1852391  6c5b7c8add471975aa0fec023b2e8408  1388534355  46.658340 -119.715054   \n",
       "1852392  14392d723bb7737606b2700ac791b7aa  1388534364  44.470525 -117.080888   \n",
       "1852393  1765bb45b3aa3224b4cdcb6e7a96cee3  1388534374  36.210097  -97.036372   \n",
       "\n",
       "         is_fraud  \n",
       "0               0  \n",
       "1               0  \n",
       "2               0  \n",
       "3               0  \n",
       "4               0  \n",
       "...           ...  \n",
       "1852389         0  \n",
       "1852390         0  \n",
       "1852391         0  \n",
       "1852392         0  \n",
       "1852393         0  \n",
       "\n",
       "[1852394 rows x 23 columns]"
      ]
     },
     "execution_count": 5,
     "metadata": {},
     "output_type": "execute_result"
    }
   ],
   "source": [
    "df"
   ]
  },
  {
   "cell_type": "code",
   "execution_count": 6,
   "id": "9e72e4f7",
   "metadata": {},
   "outputs": [],
   "source": [
    "df = df.dropna()\n",
    "df = df.drop_duplicates()"
   ]
  },
  {
   "cell_type": "code",
   "execution_count": 7,
   "id": "f9311184",
   "metadata": {},
   "outputs": [
    {
     "data": {
      "text/html": [
       "<div>\n",
       "<style scoped>\n",
       "    .dataframe tbody tr th:only-of-type {\n",
       "        vertical-align: middle;\n",
       "    }\n",
       "\n",
       "    .dataframe tbody tr th {\n",
       "        vertical-align: top;\n",
       "    }\n",
       "\n",
       "    .dataframe thead th {\n",
       "        text-align: right;\n",
       "    }\n",
       "</style>\n",
       "<table border=\"1\" class=\"dataframe\">\n",
       "  <thead>\n",
       "    <tr style=\"text-align: right;\">\n",
       "      <th></th>\n",
       "      <th>Unnamed: 0</th>\n",
       "      <th>trans_date_trans_time</th>\n",
       "      <th>cc_num</th>\n",
       "      <th>merchant</th>\n",
       "      <th>category</th>\n",
       "      <th>amt</th>\n",
       "      <th>first</th>\n",
       "      <th>last</th>\n",
       "      <th>sex</th>\n",
       "      <th>street</th>\n",
       "      <th>...</th>\n",
       "      <th>lat</th>\n",
       "      <th>long</th>\n",
       "      <th>city_pop</th>\n",
       "      <th>job</th>\n",
       "      <th>dob</th>\n",
       "      <th>trans_num</th>\n",
       "      <th>unix_time</th>\n",
       "      <th>merch_lat</th>\n",
       "      <th>merch_long</th>\n",
       "      <th>is_fraud</th>\n",
       "    </tr>\n",
       "  </thead>\n",
       "  <tbody>\n",
       "    <tr>\n",
       "      <th>0</th>\n",
       "      <td>0</td>\n",
       "      <td>2019-01-01 00:00:18</td>\n",
       "      <td>2703186189652095</td>\n",
       "      <td>fraud_Rippin, Kub and Mann</td>\n",
       "      <td>misc_net</td>\n",
       "      <td>4.97</td>\n",
       "      <td>Jennifer</td>\n",
       "      <td>Banks</td>\n",
       "      <td>F</td>\n",
       "      <td>561 Perry Cove</td>\n",
       "      <td>...</td>\n",
       "      <td>36.0788</td>\n",
       "      <td>-81.1781</td>\n",
       "      <td>3495</td>\n",
       "      <td>Psychologist, counselling</td>\n",
       "      <td>1988-03-09</td>\n",
       "      <td>0b242abb623afc578575680df30655b9</td>\n",
       "      <td>1325376018</td>\n",
       "      <td>36.011293</td>\n",
       "      <td>-82.048315</td>\n",
       "      <td>0</td>\n",
       "    </tr>\n",
       "    <tr>\n",
       "      <th>1</th>\n",
       "      <td>1</td>\n",
       "      <td>2019-01-01 00:00:44</td>\n",
       "      <td>630423337322</td>\n",
       "      <td>fraud_Heller, Gutmann and Zieme</td>\n",
       "      <td>grocery_pos</td>\n",
       "      <td>107.23</td>\n",
       "      <td>Stephanie</td>\n",
       "      <td>Gill</td>\n",
       "      <td>F</td>\n",
       "      <td>43039 Riley Greens Suite 393</td>\n",
       "      <td>...</td>\n",
       "      <td>48.8878</td>\n",
       "      <td>-118.2105</td>\n",
       "      <td>149</td>\n",
       "      <td>Special educational needs teacher</td>\n",
       "      <td>1978-06-21</td>\n",
       "      <td>1f76529f8574734946361c461b024d99</td>\n",
       "      <td>1325376044</td>\n",
       "      <td>49.159047</td>\n",
       "      <td>-118.186462</td>\n",
       "      <td>0</td>\n",
       "    </tr>\n",
       "    <tr>\n",
       "      <th>2</th>\n",
       "      <td>2</td>\n",
       "      <td>2019-01-01 00:00:51</td>\n",
       "      <td>38859492057661</td>\n",
       "      <td>fraud_Lind-Buckridge</td>\n",
       "      <td>entertainment</td>\n",
       "      <td>220.11</td>\n",
       "      <td>Edward</td>\n",
       "      <td>Sanchez</td>\n",
       "      <td>M</td>\n",
       "      <td>594 White Dale Suite 530</td>\n",
       "      <td>...</td>\n",
       "      <td>42.1808</td>\n",
       "      <td>-112.2620</td>\n",
       "      <td>4154</td>\n",
       "      <td>Nature conservation officer</td>\n",
       "      <td>1962-01-19</td>\n",
       "      <td>a1a22d70485983eac12b5b88dad1cf95</td>\n",
       "      <td>1325376051</td>\n",
       "      <td>43.150704</td>\n",
       "      <td>-112.154481</td>\n",
       "      <td>0</td>\n",
       "    </tr>\n",
       "    <tr>\n",
       "      <th>3</th>\n",
       "      <td>3</td>\n",
       "      <td>2019-01-01 00:01:16</td>\n",
       "      <td>3534093764340240</td>\n",
       "      <td>fraud_Kutch, Hermiston and Farrell</td>\n",
       "      <td>gas_transport</td>\n",
       "      <td>45.00</td>\n",
       "      <td>Jeremy</td>\n",
       "      <td>White</td>\n",
       "      <td>M</td>\n",
       "      <td>9443 Cynthia Court Apt. 038</td>\n",
       "      <td>...</td>\n",
       "      <td>46.2306</td>\n",
       "      <td>-112.1138</td>\n",
       "      <td>1939</td>\n",
       "      <td>Patent attorney</td>\n",
       "      <td>1967-01-12</td>\n",
       "      <td>6b849c168bdad6f867558c3793159a81</td>\n",
       "      <td>1325376076</td>\n",
       "      <td>47.034331</td>\n",
       "      <td>-112.561071</td>\n",
       "      <td>0</td>\n",
       "    </tr>\n",
       "    <tr>\n",
       "      <th>4</th>\n",
       "      <td>4</td>\n",
       "      <td>2019-01-01 00:03:06</td>\n",
       "      <td>375534208663984</td>\n",
       "      <td>fraud_Keeling-Crist</td>\n",
       "      <td>misc_pos</td>\n",
       "      <td>41.96</td>\n",
       "      <td>Tyler</td>\n",
       "      <td>Garcia</td>\n",
       "      <td>M</td>\n",
       "      <td>408 Bradley Rest</td>\n",
       "      <td>...</td>\n",
       "      <td>38.4207</td>\n",
       "      <td>-79.4629</td>\n",
       "      <td>99</td>\n",
       "      <td>Dance movement psychotherapist</td>\n",
       "      <td>1986-03-28</td>\n",
       "      <td>a41d7549acf90789359a9aa5346dcb46</td>\n",
       "      <td>1325376186</td>\n",
       "      <td>38.674999</td>\n",
       "      <td>-78.632459</td>\n",
       "      <td>0</td>\n",
       "    </tr>\n",
       "    <tr>\n",
       "      <th>...</th>\n",
       "      <td>...</td>\n",
       "      <td>...</td>\n",
       "      <td>...</td>\n",
       "      <td>...</td>\n",
       "      <td>...</td>\n",
       "      <td>...</td>\n",
       "      <td>...</td>\n",
       "      <td>...</td>\n",
       "      <td>...</td>\n",
       "      <td>...</td>\n",
       "      <td>...</td>\n",
       "      <td>...</td>\n",
       "      <td>...</td>\n",
       "      <td>...</td>\n",
       "      <td>...</td>\n",
       "      <td>...</td>\n",
       "      <td>...</td>\n",
       "      <td>...</td>\n",
       "      <td>...</td>\n",
       "      <td>...</td>\n",
       "      <td>...</td>\n",
       "    </tr>\n",
       "    <tr>\n",
       "      <th>1852389</th>\n",
       "      <td>1852389</td>\n",
       "      <td>2020-12-31 23:59:07</td>\n",
       "      <td>30560609640617</td>\n",
       "      <td>fraud_Reilly and Sons</td>\n",
       "      <td>health_fitness</td>\n",
       "      <td>43.77</td>\n",
       "      <td>Michael</td>\n",
       "      <td>Olson</td>\n",
       "      <td>M</td>\n",
       "      <td>558 Michael Estates</td>\n",
       "      <td>...</td>\n",
       "      <td>40.4931</td>\n",
       "      <td>-91.8912</td>\n",
       "      <td>519</td>\n",
       "      <td>Town planner</td>\n",
       "      <td>1966-02-13</td>\n",
       "      <td>9b1f753c79894c9f4b71f04581835ada</td>\n",
       "      <td>1388534347</td>\n",
       "      <td>39.946837</td>\n",
       "      <td>-91.333331</td>\n",
       "      <td>0</td>\n",
       "    </tr>\n",
       "    <tr>\n",
       "      <th>1852390</th>\n",
       "      <td>1852390</td>\n",
       "      <td>2020-12-31 23:59:09</td>\n",
       "      <td>3556613125071656</td>\n",
       "      <td>fraud_Hoppe-Parisian</td>\n",
       "      <td>kids_pets</td>\n",
       "      <td>111.84</td>\n",
       "      <td>Jose</td>\n",
       "      <td>Vasquez</td>\n",
       "      <td>M</td>\n",
       "      <td>572 Davis Mountains</td>\n",
       "      <td>...</td>\n",
       "      <td>29.0393</td>\n",
       "      <td>-95.4401</td>\n",
       "      <td>28739</td>\n",
       "      <td>Futures trader</td>\n",
       "      <td>1999-12-27</td>\n",
       "      <td>2090647dac2c89a1d86c514c427f5b91</td>\n",
       "      <td>1388534349</td>\n",
       "      <td>29.661049</td>\n",
       "      <td>-96.186633</td>\n",
       "      <td>0</td>\n",
       "    </tr>\n",
       "    <tr>\n",
       "      <th>1852391</th>\n",
       "      <td>1852391</td>\n",
       "      <td>2020-12-31 23:59:15</td>\n",
       "      <td>6011724471098086</td>\n",
       "      <td>fraud_Rau-Robel</td>\n",
       "      <td>kids_pets</td>\n",
       "      <td>86.88</td>\n",
       "      <td>Ann</td>\n",
       "      <td>Lawson</td>\n",
       "      <td>F</td>\n",
       "      <td>144 Evans Islands Apt. 683</td>\n",
       "      <td>...</td>\n",
       "      <td>46.1966</td>\n",
       "      <td>-118.9017</td>\n",
       "      <td>3684</td>\n",
       "      <td>Musician</td>\n",
       "      <td>1981-11-29</td>\n",
       "      <td>6c5b7c8add471975aa0fec023b2e8408</td>\n",
       "      <td>1388534355</td>\n",
       "      <td>46.658340</td>\n",
       "      <td>-119.715054</td>\n",
       "      <td>0</td>\n",
       "    </tr>\n",
       "    <tr>\n",
       "      <th>1852392</th>\n",
       "      <td>1852392</td>\n",
       "      <td>2020-12-31 23:59:24</td>\n",
       "      <td>4079773899158</td>\n",
       "      <td>fraud_Breitenberg LLC</td>\n",
       "      <td>travel</td>\n",
       "      <td>7.99</td>\n",
       "      <td>Eric</td>\n",
       "      <td>Preston</td>\n",
       "      <td>M</td>\n",
       "      <td>7020 Doyle Stream Apt. 951</td>\n",
       "      <td>...</td>\n",
       "      <td>44.6255</td>\n",
       "      <td>-116.4493</td>\n",
       "      <td>129</td>\n",
       "      <td>Cartographer</td>\n",
       "      <td>1965-12-15</td>\n",
       "      <td>14392d723bb7737606b2700ac791b7aa</td>\n",
       "      <td>1388534364</td>\n",
       "      <td>44.470525</td>\n",
       "      <td>-117.080888</td>\n",
       "      <td>0</td>\n",
       "    </tr>\n",
       "    <tr>\n",
       "      <th>1852393</th>\n",
       "      <td>1852393</td>\n",
       "      <td>2020-12-31 23:59:34</td>\n",
       "      <td>4170689372027579</td>\n",
       "      <td>fraud_Dare-Marvin</td>\n",
       "      <td>entertainment</td>\n",
       "      <td>38.13</td>\n",
       "      <td>Samuel</td>\n",
       "      <td>Frey</td>\n",
       "      <td>M</td>\n",
       "      <td>830 Myers Plaza Apt. 384</td>\n",
       "      <td>...</td>\n",
       "      <td>35.6665</td>\n",
       "      <td>-97.4798</td>\n",
       "      <td>116001</td>\n",
       "      <td>Media buyer</td>\n",
       "      <td>1993-05-10</td>\n",
       "      <td>1765bb45b3aa3224b4cdcb6e7a96cee3</td>\n",
       "      <td>1388534374</td>\n",
       "      <td>36.210097</td>\n",
       "      <td>-97.036372</td>\n",
       "      <td>0</td>\n",
       "    </tr>\n",
       "  </tbody>\n",
       "</table>\n",
       "<p>1852394 rows × 23 columns</p>\n",
       "</div>"
      ],
      "text/plain": [
       "         Unnamed: 0 trans_date_trans_time            cc_num  \\\n",
       "0                 0   2019-01-01 00:00:18  2703186189652095   \n",
       "1                 1   2019-01-01 00:00:44      630423337322   \n",
       "2                 2   2019-01-01 00:00:51    38859492057661   \n",
       "3                 3   2019-01-01 00:01:16  3534093764340240   \n",
       "4                 4   2019-01-01 00:03:06   375534208663984   \n",
       "...             ...                   ...               ...   \n",
       "1852389     1852389   2020-12-31 23:59:07    30560609640617   \n",
       "1852390     1852390   2020-12-31 23:59:09  3556613125071656   \n",
       "1852391     1852391   2020-12-31 23:59:15  6011724471098086   \n",
       "1852392     1852392   2020-12-31 23:59:24     4079773899158   \n",
       "1852393     1852393   2020-12-31 23:59:34  4170689372027579   \n",
       "\n",
       "                                   merchant        category     amt  \\\n",
       "0                fraud_Rippin, Kub and Mann        misc_net    4.97   \n",
       "1           fraud_Heller, Gutmann and Zieme     grocery_pos  107.23   \n",
       "2                      fraud_Lind-Buckridge   entertainment  220.11   \n",
       "3        fraud_Kutch, Hermiston and Farrell   gas_transport   45.00   \n",
       "4                       fraud_Keeling-Crist        misc_pos   41.96   \n",
       "...                                     ...             ...     ...   \n",
       "1852389               fraud_Reilly and Sons  health_fitness   43.77   \n",
       "1852390                fraud_Hoppe-Parisian       kids_pets  111.84   \n",
       "1852391                     fraud_Rau-Robel       kids_pets   86.88   \n",
       "1852392               fraud_Breitenberg LLC          travel    7.99   \n",
       "1852393                   fraud_Dare-Marvin   entertainment   38.13   \n",
       "\n",
       "             first     last sex                        street  ...      lat  \\\n",
       "0         Jennifer    Banks   F                561 Perry Cove  ...  36.0788   \n",
       "1        Stephanie     Gill   F  43039 Riley Greens Suite 393  ...  48.8878   \n",
       "2           Edward  Sanchez   M      594 White Dale Suite 530  ...  42.1808   \n",
       "3           Jeremy    White   M   9443 Cynthia Court Apt. 038  ...  46.2306   \n",
       "4            Tyler   Garcia   M              408 Bradley Rest  ...  38.4207   \n",
       "...            ...      ...  ..                           ...  ...      ...   \n",
       "1852389    Michael    Olson   M           558 Michael Estates  ...  40.4931   \n",
       "1852390       Jose  Vasquez   M           572 Davis Mountains  ...  29.0393   \n",
       "1852391        Ann   Lawson   F    144 Evans Islands Apt. 683  ...  46.1966   \n",
       "1852392       Eric  Preston   M    7020 Doyle Stream Apt. 951  ...  44.6255   \n",
       "1852393     Samuel     Frey   M      830 Myers Plaza Apt. 384  ...  35.6665   \n",
       "\n",
       "             long  city_pop                                job         dob  \\\n",
       "0        -81.1781      3495          Psychologist, counselling  1988-03-09   \n",
       "1       -118.2105       149  Special educational needs teacher  1978-06-21   \n",
       "2       -112.2620      4154        Nature conservation officer  1962-01-19   \n",
       "3       -112.1138      1939                    Patent attorney  1967-01-12   \n",
       "4        -79.4629        99     Dance movement psychotherapist  1986-03-28   \n",
       "...           ...       ...                                ...         ...   \n",
       "1852389  -91.8912       519                       Town planner  1966-02-13   \n",
       "1852390  -95.4401     28739                     Futures trader  1999-12-27   \n",
       "1852391 -118.9017      3684                           Musician  1981-11-29   \n",
       "1852392 -116.4493       129                       Cartographer  1965-12-15   \n",
       "1852393  -97.4798    116001                        Media buyer  1993-05-10   \n",
       "\n",
       "                                trans_num   unix_time  merch_lat  merch_long  \\\n",
       "0        0b242abb623afc578575680df30655b9  1325376018  36.011293  -82.048315   \n",
       "1        1f76529f8574734946361c461b024d99  1325376044  49.159047 -118.186462   \n",
       "2        a1a22d70485983eac12b5b88dad1cf95  1325376051  43.150704 -112.154481   \n",
       "3        6b849c168bdad6f867558c3793159a81  1325376076  47.034331 -112.561071   \n",
       "4        a41d7549acf90789359a9aa5346dcb46  1325376186  38.674999  -78.632459   \n",
       "...                                   ...         ...        ...         ...   \n",
       "1852389  9b1f753c79894c9f4b71f04581835ada  1388534347  39.946837  -91.333331   \n",
       "1852390  2090647dac2c89a1d86c514c427f5b91  1388534349  29.661049  -96.186633   \n",
       "1852391  6c5b7c8add471975aa0fec023b2e8408  1388534355  46.658340 -119.715054   \n",
       "1852392  14392d723bb7737606b2700ac791b7aa  1388534364  44.470525 -117.080888   \n",
       "1852393  1765bb45b3aa3224b4cdcb6e7a96cee3  1388534374  36.210097  -97.036372   \n",
       "\n",
       "         is_fraud  \n",
       "0               0  \n",
       "1               0  \n",
       "2               0  \n",
       "3               0  \n",
       "4               0  \n",
       "...           ...  \n",
       "1852389         0  \n",
       "1852390         0  \n",
       "1852391         0  \n",
       "1852392         0  \n",
       "1852393         0  \n",
       "\n",
       "[1852394 rows x 23 columns]"
      ]
     },
     "execution_count": 7,
     "metadata": {},
     "output_type": "execute_result"
    }
   ],
   "source": [
    "df"
   ]
  },
  {
   "cell_type": "markdown",
   "id": "a734301c",
   "metadata": {},
   "source": [
    "# 1. What is the distribution between fraudulent and non-fraudulent transactions?"
   ]
  },
  {
   "cell_type": "code",
   "execution_count": 8,
   "id": "0d507024",
   "metadata": {
    "tags": []
   },
   "outputs": [],
   "source": [
    "distribution = df[\"is_fraud\"].value_counts()"
   ]
  },
  {
   "cell_type": "code",
   "execution_count": 9,
   "id": "fabbce45",
   "metadata": {
    "tags": []
   },
   "outputs": [
    {
     "data": {
      "text/plain": [
       "0    1842743\n",
       "1       9651\n",
       "Name: is_fraud, dtype: int64"
      ]
     },
     "execution_count": 9,
     "metadata": {},
     "output_type": "execute_result"
    }
   ],
   "source": [
    "distribution"
   ]
  },
  {
   "cell_type": "markdown",
   "id": "ab816404",
   "metadata": {},
   "source": [
    "This dataset appears to be incredibly imbalanced, which means that most likely small details in differing features will have to be used to create patterns and clusters, as well as any training and testing will need to make sure to be stratified so some sets do not have all nonfraud and skew the metrics"
   ]
  },
  {
   "cell_type": "markdown",
   "id": "a23f6c52",
   "metadata": {},
   "source": [
    "# 2. Which age groups are more susceptible to fraudulent transactions?"
   ]
  },
  {
   "cell_type": "code",
   "execution_count": 10,
   "id": "f8c22009",
   "metadata": {
    "tags": []
   },
   "outputs": [],
   "source": [
    "df2 = df.copy()\n",
    "bins = [1883, 1901, 1928, 1946, 1965, 1981, 1997, 2013, 2024]\n",
    "\n",
    "df2['dob'] = df2['dob'].str.slice(0,4).astype(int)\n",
    "df2['generation'] = pd.cut(df2['dob'], bins=bins)"
   ]
  },
  {
   "cell_type": "code",
   "execution_count": 11,
   "id": "43dabd4e",
   "metadata": {
    "tags": []
   },
   "outputs": [
    {
     "data": {
      "text/plain": [
       "0          1988\n",
       "1          1978\n",
       "2          1962\n",
       "3          1967\n",
       "4          1986\n",
       "           ... \n",
       "1852389    1966\n",
       "1852390    1999\n",
       "1852391    1981\n",
       "1852392    1965\n",
       "1852393    1993\n",
       "Name: dob, Length: 1852394, dtype: int64"
      ]
     },
     "execution_count": 11,
     "metadata": {},
     "output_type": "execute_result"
    }
   ],
   "source": [
    "df2[\"dob\"]"
   ]
  },
  {
   "cell_type": "code",
   "execution_count": 12,
   "id": "ae988e4b",
   "metadata": {
    "tags": []
   },
   "outputs": [
    {
     "data": {
      "text/plain": [
       "0          (1981, 1997]\n",
       "1          (1965, 1981]\n",
       "2          (1946, 1965]\n",
       "3          (1965, 1981]\n",
       "4          (1981, 1997]\n",
       "               ...     \n",
       "1852389    (1965, 1981]\n",
       "1852390    (1997, 2013]\n",
       "1852391    (1965, 1981]\n",
       "1852392    (1946, 1965]\n",
       "1852393    (1981, 1997]\n",
       "Name: generation, Length: 1852394, dtype: category\n",
       "Categories (8, interval[int64, right]): [(1883, 1901] < (1901, 1928] < (1928, 1946] < (1946, 1965] < (1965, 1981] < (1981, 1997] < (1997, 2013] < (2013, 2024]]"
      ]
     },
     "execution_count": 12,
     "metadata": {},
     "output_type": "execute_result"
    }
   ],
   "source": [
    "df2[\"generation\"]"
   ]
  },
  {
   "cell_type": "code",
   "execution_count": 13,
   "id": "fcec1fa7",
   "metadata": {
    "tags": []
   },
   "outputs": [
    {
     "data": {
      "text/plain": [
       "(1965, 1981]    616544\n",
       "(1981, 1997]    607074\n",
       "(1946, 1965]    375216\n",
       "(1928, 1946]    143747\n",
       "(1997, 2013]     87831\n",
       "(1901, 1928]     21982\n",
       "(1883, 1901]         0\n",
       "(2013, 2024]         0\n",
       "Name: generation, dtype: int64"
      ]
     },
     "execution_count": 13,
     "metadata": {},
     "output_type": "execute_result"
    }
   ],
   "source": [
    "df2[\"generation\"].value_counts()"
   ]
  },
  {
   "cell_type": "code",
   "execution_count": 14,
   "id": "d32d2444",
   "metadata": {
    "tags": []
   },
   "outputs": [],
   "source": [
    "counts = pd.crosstab(df2['is_fraud'], df2['generation'])"
   ]
  },
  {
   "cell_type": "code",
   "execution_count": 15,
   "id": "165f30fc",
   "metadata": {
    "tags": []
   },
   "outputs": [
    {
     "data": {
      "text/html": [
       "<div>\n",
       "<style scoped>\n",
       "    .dataframe tbody tr th:only-of-type {\n",
       "        vertical-align: middle;\n",
       "    }\n",
       "\n",
       "    .dataframe tbody tr th {\n",
       "        vertical-align: top;\n",
       "    }\n",
       "\n",
       "    .dataframe thead th {\n",
       "        text-align: right;\n",
       "    }\n",
       "</style>\n",
       "<table border=\"1\" class=\"dataframe\">\n",
       "  <thead>\n",
       "    <tr style=\"text-align: right;\">\n",
       "      <th>generation</th>\n",
       "      <th>(1901, 1928]</th>\n",
       "      <th>(1928, 1946]</th>\n",
       "      <th>(1946, 1965]</th>\n",
       "      <th>(1965, 1981]</th>\n",
       "      <th>(1981, 1997]</th>\n",
       "      <th>(1997, 2013]</th>\n",
       "    </tr>\n",
       "    <tr>\n",
       "      <th>is_fraud</th>\n",
       "      <th></th>\n",
       "      <th></th>\n",
       "      <th></th>\n",
       "      <th></th>\n",
       "      <th></th>\n",
       "      <th></th>\n",
       "    </tr>\n",
       "  </thead>\n",
       "  <tbody>\n",
       "    <tr>\n",
       "      <th>0</th>\n",
       "      <td>21836</td>\n",
       "      <td>142683</td>\n",
       "      <td>372792</td>\n",
       "      <td>613768</td>\n",
       "      <td>604284</td>\n",
       "      <td>87380</td>\n",
       "    </tr>\n",
       "    <tr>\n",
       "      <th>1</th>\n",
       "      <td>146</td>\n",
       "      <td>1064</td>\n",
       "      <td>2424</td>\n",
       "      <td>2776</td>\n",
       "      <td>2790</td>\n",
       "      <td>451</td>\n",
       "    </tr>\n",
       "  </tbody>\n",
       "</table>\n",
       "</div>"
      ],
      "text/plain": [
       "generation  (1901, 1928]  (1928, 1946]  (1946, 1965]  (1965, 1981]  \\\n",
       "is_fraud                                                             \n",
       "0                  21836        142683        372792        613768   \n",
       "1                    146          1064          2424          2776   \n",
       "\n",
       "generation  (1981, 1997]  (1997, 2013]  \n",
       "is_fraud                                \n",
       "0                 604284         87380  \n",
       "1                   2790           451  "
      ]
     },
     "execution_count": 15,
     "metadata": {},
     "output_type": "execute_result"
    }
   ],
   "source": [
    "counts"
   ]
  },
  {
   "cell_type": "code",
   "execution_count": 16,
   "id": "4bdf9505",
   "metadata": {
    "tags": []
   },
   "outputs": [],
   "source": [
    "label_percentage_per_category = pd.crosstab(df2['generation'], df2['is_fraud'], normalize='all')"
   ]
  },
  {
   "cell_type": "code",
   "execution_count": 17,
   "id": "eb9d7639",
   "metadata": {
    "tags": []
   },
   "outputs": [
    {
     "data": {
      "text/html": [
       "<div>\n",
       "<style scoped>\n",
       "    .dataframe tbody tr th:only-of-type {\n",
       "        vertical-align: middle;\n",
       "    }\n",
       "\n",
       "    .dataframe tbody tr th {\n",
       "        vertical-align: top;\n",
       "    }\n",
       "\n",
       "    .dataframe thead th {\n",
       "        text-align: right;\n",
       "    }\n",
       "</style>\n",
       "<table border=\"1\" class=\"dataframe\">\n",
       "  <thead>\n",
       "    <tr style=\"text-align: right;\">\n",
       "      <th>is_fraud</th>\n",
       "      <th>0</th>\n",
       "      <th>1</th>\n",
       "    </tr>\n",
       "    <tr>\n",
       "      <th>generation</th>\n",
       "      <th></th>\n",
       "      <th></th>\n",
       "    </tr>\n",
       "  </thead>\n",
       "  <tbody>\n",
       "    <tr>\n",
       "      <th>(1901, 1928]</th>\n",
       "      <td>0.011788</td>\n",
       "      <td>0.000079</td>\n",
       "    </tr>\n",
       "    <tr>\n",
       "      <th>(1928, 1946]</th>\n",
       "      <td>0.077026</td>\n",
       "      <td>0.000574</td>\n",
       "    </tr>\n",
       "    <tr>\n",
       "      <th>(1946, 1965]</th>\n",
       "      <td>0.201249</td>\n",
       "      <td>0.001309</td>\n",
       "    </tr>\n",
       "    <tr>\n",
       "      <th>(1965, 1981]</th>\n",
       "      <td>0.331338</td>\n",
       "      <td>0.001499</td>\n",
       "    </tr>\n",
       "    <tr>\n",
       "      <th>(1981, 1997]</th>\n",
       "      <td>0.326218</td>\n",
       "      <td>0.001506</td>\n",
       "    </tr>\n",
       "    <tr>\n",
       "      <th>(1997, 2013]</th>\n",
       "      <td>0.047171</td>\n",
       "      <td>0.000243</td>\n",
       "    </tr>\n",
       "  </tbody>\n",
       "</table>\n",
       "</div>"
      ],
      "text/plain": [
       "is_fraud             0         1\n",
       "generation                      \n",
       "(1901, 1928]  0.011788  0.000079\n",
       "(1928, 1946]  0.077026  0.000574\n",
       "(1946, 1965]  0.201249  0.001309\n",
       "(1965, 1981]  0.331338  0.001499\n",
       "(1981, 1997]  0.326218  0.001506\n",
       "(1997, 2013]  0.047171  0.000243"
      ]
     },
     "execution_count": 17,
     "metadata": {},
     "output_type": "execute_result"
    }
   ],
   "source": [
    "label_percentage_per_category"
   ]
  },
  {
   "cell_type": "code",
   "execution_count": 18,
   "id": "b12f8086",
   "metadata": {
    "tags": []
   },
   "outputs": [],
   "source": [
    "generation_fraud = [(146/(146+21836), (1901,1928)), (1064/(142683 + 1064), (1928,1946)), (2424/(2424+372792), (1946, 1965)), (2776/(613768+2776), (1965, 1981)), (2790/(2790+604284), (1981, 1997)), (451/(451+87380), (1997, 2013))]"
   ]
  },
  {
   "cell_type": "code",
   "execution_count": 19,
   "id": "45b3e251",
   "metadata": {
    "tags": []
   },
   "outputs": [
    {
     "data": {
      "text/plain": [
       "[(0.006641797834591939, (1901, 1928)),\n",
       " (0.0074018936047360985, (1928, 1946)),\n",
       " (0.006460278879365486, (1946, 1965)),\n",
       " (0.004502517257486895, (1965, 1981)),\n",
       " (0.0045958153371747105, (1981, 1997)),\n",
       " (0.005134861267661759, (1997, 2013))]"
      ]
     },
     "execution_count": 19,
     "metadata": {},
     "output_type": "execute_result"
    }
   ],
   "source": [
    "generation_fraud"
   ]
  },
  {
   "cell_type": "markdown",
   "id": "68893931",
   "metadata": {},
   "source": [
    "From look at this, it is a little hard to tell if there is a correlation between generation and fraud, but the percentages shown here do heavily point to the older generations having a significantly higher fraud count, almost 50% higher in some counts, though still incredibly small. It also seems that this dataset does struggle a bit with finding data, probably because of the data available, in the very oldest, and the 2 youngest generations."
   ]
  },
  {
   "cell_type": "markdown",
   "id": "43508876",
   "metadata": {},
   "source": [
    "# 3. If a fraudulent transaction has been committed, what is the expected number of transaction committed per day with the same victim? (Temporal component asking do fraudulent transactions occur multiple times on the same customer)"
   ]
  },
  {
   "cell_type": "code",
   "execution_count": 20,
   "id": "4830bb8c",
   "metadata": {
    "tags": []
   },
   "outputs": [
    {
     "data": {
      "text/plain": [
       "0          2019-01-01 00:00:18\n",
       "1          2019-01-01 00:00:44\n",
       "2          2019-01-01 00:00:51\n",
       "3          2019-01-01 00:01:16\n",
       "4          2019-01-01 00:03:06\n",
       "                  ...         \n",
       "1852389    2020-12-31 23:59:07\n",
       "1852390    2020-12-31 23:59:09\n",
       "1852391    2020-12-31 23:59:15\n",
       "1852392    2020-12-31 23:59:24\n",
       "1852393    2020-12-31 23:59:34\n",
       "Name: trans_date_trans_time, Length: 1852394, dtype: object"
      ]
     },
     "execution_count": 20,
     "metadata": {},
     "output_type": "execute_result"
    }
   ],
   "source": [
    "df[\"trans_date_trans_time\"]"
   ]
  },
  {
   "cell_type": "code",
   "execution_count": 21,
   "id": "c3dfccd7",
   "metadata": {
    "tags": []
   },
   "outputs": [],
   "source": [
    "df_day = df.copy()\n",
    "\n",
    "df_day['trans_date_trans_time'] = df['trans_date_trans_time'].str.slice(0,10)\n"
   ]
  },
  {
   "cell_type": "code",
   "execution_count": 22,
   "id": "79f363f0",
   "metadata": {
    "tags": []
   },
   "outputs": [],
   "source": [
    "label_rows = df_day[df_day['is_fraud'].isin([1])]"
   ]
  },
  {
   "cell_type": "code",
   "execution_count": 23,
   "id": "1a8c9a6c",
   "metadata": {
    "tags": []
   },
   "outputs": [
    {
     "data": {
      "text/plain": [
       "2449       2019-01-02\n",
       "2472       2019-01-02\n",
       "2523       2019-01-02\n",
       "2546       2019-01-02\n",
       "2553       2019-01-02\n",
       "              ...    \n",
       "1813872    2020-12-22\n",
       "1813949    2020-12-22\n",
       "1814016    2020-12-22\n",
       "1814204    2020-12-22\n",
       "1814246    2020-12-22\n",
       "Name: trans_date_trans_time, Length: 9651, dtype: object"
      ]
     },
     "execution_count": 23,
     "metadata": {},
     "output_type": "execute_result"
    }
   ],
   "source": [
    "label_rows[\"trans_date_trans_time\"]"
   ]
  },
  {
   "cell_type": "code",
   "execution_count": 24,
   "id": "3f90c9aa",
   "metadata": {
    "tags": []
   },
   "outputs": [
    {
     "data": {
      "text/plain": [
       "2449        Jason\n",
       "2472        Misty\n",
       "2523        Misty\n",
       "2546        Jason\n",
       "2553        Misty\n",
       "            ...  \n",
       "1813872    Travis\n",
       "1813949    Travis\n",
       "1814016    Travis\n",
       "1814204    Travis\n",
       "1814246    Travis\n",
       "Name: first, Length: 9651, dtype: object"
      ]
     },
     "execution_count": 24,
     "metadata": {},
     "output_type": "execute_result"
    }
   ],
   "source": [
    "label_rows[\"first\"]"
   ]
  },
  {
   "cell_type": "code",
   "execution_count": 25,
   "id": "f61b09c4",
   "metadata": {
    "tags": []
   },
   "outputs": [
    {
     "data": {
      "text/plain": [
       "0          2019-01-01\n",
       "1          2019-01-01\n",
       "2          2019-01-01\n",
       "3          2019-01-01\n",
       "4          2019-01-01\n",
       "              ...    \n",
       "1852389    2020-12-31\n",
       "1852390    2020-12-31\n",
       "1852391    2020-12-31\n",
       "1852392    2020-12-31\n",
       "1852393    2020-12-31\n",
       "Name: trans_date_trans_time, Length: 1852394, dtype: object"
      ]
     },
     "execution_count": 25,
     "metadata": {},
     "output_type": "execute_result"
    }
   ],
   "source": [
    "df_day['trans_date_trans_time'] "
   ]
  },
  {
   "cell_type": "code",
   "execution_count": 26,
   "id": "279e4cdd",
   "metadata": {
    "tags": []
   },
   "outputs": [],
   "source": [
    "duplicate_rows = label_rows[label_rows.duplicated(['trans_date_trans_time', 'first', 'last', 'is_fraud'])]"
   ]
  },
  {
   "cell_type": "code",
   "execution_count": 27,
   "id": "cbd224c4",
   "metadata": {
    "tags": []
   },
   "outputs": [
    {
     "data": {
      "text/plain": [
       "2523        Misty\n",
       "2546        Jason\n",
       "2553        Misty\n",
       "2937        Jason\n",
       "3527        Jason\n",
       "            ...  \n",
       "1813872    Travis\n",
       "1813949    Travis\n",
       "1814016    Travis\n",
       "1814204    Travis\n",
       "1814246    Travis\n",
       "Name: first, Length: 7725, dtype: object"
      ]
     },
     "execution_count": 27,
     "metadata": {},
     "output_type": "execute_result"
    }
   ],
   "source": [
    "duplicate_rows[\"first\"]"
   ]
  },
  {
   "cell_type": "code",
   "execution_count": 28,
   "id": "26335fd5",
   "metadata": {
    "tags": []
   },
   "outputs": [],
   "source": [
    "duplication_counts = duplicate_rows.groupby(['trans_date_trans_time', 'first', 'last', 'is_fraud']).size().reset_index(name='counts')"
   ]
  },
  {
   "cell_type": "code",
   "execution_count": 29,
   "id": "991bec37",
   "metadata": {
    "tags": []
   },
   "outputs": [
    {
     "name": "stdout",
     "output_type": "stream",
     "text": [
      "     trans_date_trans_time        first      last  is_fraud  counts\n",
      "0               2019-01-02        Jason    Murphy         1       3\n",
      "1               2019-01-02        Misty      Hart         1       2\n",
      "2               2019-01-03      Heather     Chase         1       3\n",
      "3               2019-01-03        Jason    Murphy         1       3\n",
      "4               2019-01-03        Misty      Hart         1       3\n",
      "...                    ...          ...       ...       ...     ...\n",
      "1836            2020-12-19  Christopher   Gilbert         1       6\n",
      "1837            2020-12-20       Lauren  Anderson         1       3\n",
      "1838            2020-12-21       Lauren  Anderson         1       6\n",
      "1839            2020-12-21       Travis    Daniel         1       2\n",
      "1840            2020-12-22       Travis    Daniel         1       6\n",
      "\n",
      "[1841 rows x 5 columns]\n"
     ]
    }
   ],
   "source": [
    "print(duplication_counts)"
   ]
  },
  {
   "cell_type": "code",
   "execution_count": 30,
   "id": "a4e18200",
   "metadata": {
    "tags": []
   },
   "outputs": [
    {
     "data": {
      "text/plain": [
       "4.196089082020641"
      ]
     },
     "execution_count": 30,
     "metadata": {},
     "output_type": "execute_result"
    }
   ],
   "source": [
    "duplication_counts[\"counts\"].mean()"
   ]
  },
  {
   "cell_type": "markdown",
   "id": "8cf4bc85",
   "metadata": {},
   "source": [
    "Strangely enough, it does look like with names and days correlated that the there are almost always multiple fraud counts in the same day, and somtimes even across several days, with the average being around 4 fraud accounts per day in some cases. This means that day may be useful in the final model"
   ]
  },
  {
   "cell_type": "markdown",
   "id": "3799743a",
   "metadata": {},
   "source": [
    "# 4. For each purchase \"category,\" plot the mean and standard \"amt\" between fraudulent transactions and non-fraudulent transactions"
   ]
  },
  {
   "cell_type": "code",
   "execution_count": 31,
   "id": "5423a3ea",
   "metadata": {
    "tags": []
   },
   "outputs": [
    {
     "data": {
      "text/plain": [
       "Unnamed: 0                 int64\n",
       "trans_date_trans_time     object\n",
       "cc_num                     int64\n",
       "merchant                  object\n",
       "category                  object\n",
       "amt                      float64\n",
       "first                     object\n",
       "last                      object\n",
       "sex                       object\n",
       "street                    object\n",
       "city                      object\n",
       "state                     object\n",
       "zip                        int64\n",
       "lat                      float64\n",
       "long                     float64\n",
       "city_pop                   int64\n",
       "job                       object\n",
       "dob                       object\n",
       "trans_num                 object\n",
       "unix_time                  int64\n",
       "merch_lat                float64\n",
       "merch_long               float64\n",
       "is_fraud                   int64\n",
       "dtype: object"
      ]
     },
     "execution_count": 31,
     "metadata": {},
     "output_type": "execute_result"
    }
   ],
   "source": [
    "df.dtypes"
   ]
  },
  {
   "cell_type": "code",
   "execution_count": null,
   "id": "1e2d9ff2",
   "metadata": {},
   "outputs": [],
   "source": []
  },
  {
   "cell_type": "code",
   "execution_count": 32,
   "id": "7feca77c",
   "metadata": {
    "tags": []
   },
   "outputs": [],
   "source": [
    "duplicate_rows_category = df_day[df_day.duplicated(['category', 'is_fraud'])]"
   ]
  },
  {
   "cell_type": "code",
   "execution_count": 33,
   "id": "c717973f",
   "metadata": {
    "tags": []
   },
   "outputs": [
    {
     "data": {
      "text/html": [
       "<div>\n",
       "<style scoped>\n",
       "    .dataframe tbody tr th:only-of-type {\n",
       "        vertical-align: middle;\n",
       "    }\n",
       "\n",
       "    .dataframe tbody tr th {\n",
       "        vertical-align: top;\n",
       "    }\n",
       "\n",
       "    .dataframe thead th {\n",
       "        text-align: right;\n",
       "    }\n",
       "</style>\n",
       "<table border=\"1\" class=\"dataframe\">\n",
       "  <thead>\n",
       "    <tr style=\"text-align: right;\">\n",
       "      <th></th>\n",
       "      <th>Unnamed: 0</th>\n",
       "      <th>trans_date_trans_time</th>\n",
       "      <th>cc_num</th>\n",
       "      <th>merchant</th>\n",
       "      <th>category</th>\n",
       "      <th>amt</th>\n",
       "      <th>first</th>\n",
       "      <th>last</th>\n",
       "      <th>sex</th>\n",
       "      <th>street</th>\n",
       "      <th>...</th>\n",
       "      <th>lat</th>\n",
       "      <th>long</th>\n",
       "      <th>city_pop</th>\n",
       "      <th>job</th>\n",
       "      <th>dob</th>\n",
       "      <th>trans_num</th>\n",
       "      <th>unix_time</th>\n",
       "      <th>merch_lat</th>\n",
       "      <th>merch_long</th>\n",
       "      <th>is_fraud</th>\n",
       "    </tr>\n",
       "  </thead>\n",
       "  <tbody>\n",
       "    <tr>\n",
       "      <th>5</th>\n",
       "      <td>5</td>\n",
       "      <td>2019-01-01</td>\n",
       "      <td>4767265376804500</td>\n",
       "      <td>fraud_Stroman, Hudson and Erdman</td>\n",
       "      <td>gas_transport</td>\n",
       "      <td>94.63</td>\n",
       "      <td>Jennifer</td>\n",
       "      <td>Conner</td>\n",
       "      <td>F</td>\n",
       "      <td>4655 David Island</td>\n",
       "      <td>...</td>\n",
       "      <td>40.3750</td>\n",
       "      <td>-75.2045</td>\n",
       "      <td>2158</td>\n",
       "      <td>Transport planner</td>\n",
       "      <td>1961-06-19</td>\n",
       "      <td>189a841a0a8ba03058526bcfe566aab5</td>\n",
       "      <td>1325376248</td>\n",
       "      <td>40.653382</td>\n",
       "      <td>-76.152667</td>\n",
       "      <td>0</td>\n",
       "    </tr>\n",
       "    <tr>\n",
       "      <th>7</th>\n",
       "      <td>7</td>\n",
       "      <td>2019-01-01</td>\n",
       "      <td>6011360759745864</td>\n",
       "      <td>fraud_Corwin-Collins</td>\n",
       "      <td>gas_transport</td>\n",
       "      <td>71.65</td>\n",
       "      <td>Steven</td>\n",
       "      <td>Williams</td>\n",
       "      <td>M</td>\n",
       "      <td>231 Flores Pass Suite 720</td>\n",
       "      <td>...</td>\n",
       "      <td>38.8432</td>\n",
       "      <td>-78.6003</td>\n",
       "      <td>6018</td>\n",
       "      <td>Designer, multimedia</td>\n",
       "      <td>1947-08-21</td>\n",
       "      <td>6d294ed2cc447d2c71c7171a3d54967c</td>\n",
       "      <td>1325376308</td>\n",
       "      <td>38.948089</td>\n",
       "      <td>-78.540296</td>\n",
       "      <td>0</td>\n",
       "    </tr>\n",
       "    <tr>\n",
       "      <th>8</th>\n",
       "      <td>8</td>\n",
       "      <td>2019-01-01</td>\n",
       "      <td>4922710831011201</td>\n",
       "      <td>fraud_Herzog Ltd</td>\n",
       "      <td>misc_pos</td>\n",
       "      <td>4.27</td>\n",
       "      <td>Heather</td>\n",
       "      <td>Chase</td>\n",
       "      <td>F</td>\n",
       "      <td>6888 Hicks Stream Suite 954</td>\n",
       "      <td>...</td>\n",
       "      <td>40.3359</td>\n",
       "      <td>-79.6607</td>\n",
       "      <td>1472</td>\n",
       "      <td>Public affairs consultant</td>\n",
       "      <td>1941-03-07</td>\n",
       "      <td>fc28024ce480f8ef21a32d64c93a29f5</td>\n",
       "      <td>1325376318</td>\n",
       "      <td>40.351813</td>\n",
       "      <td>-79.958146</td>\n",
       "      <td>0</td>\n",
       "    </tr>\n",
       "    <tr>\n",
       "      <th>9</th>\n",
       "      <td>9</td>\n",
       "      <td>2019-01-01</td>\n",
       "      <td>2720830304681674</td>\n",
       "      <td>fraud_Schoen, Kuphal and Nitzsche</td>\n",
       "      <td>grocery_pos</td>\n",
       "      <td>198.39</td>\n",
       "      <td>Melissa</td>\n",
       "      <td>Aguilar</td>\n",
       "      <td>F</td>\n",
       "      <td>21326 Taylor Squares Suite 708</td>\n",
       "      <td>...</td>\n",
       "      <td>36.5220</td>\n",
       "      <td>-87.3490</td>\n",
       "      <td>151785</td>\n",
       "      <td>Pathologist</td>\n",
       "      <td>1974-03-28</td>\n",
       "      <td>3b9014ea8fb80bd65de0b1463b00b00e</td>\n",
       "      <td>1325376361</td>\n",
       "      <td>37.179198</td>\n",
       "      <td>-87.485381</td>\n",
       "      <td>0</td>\n",
       "    </tr>\n",
       "    <tr>\n",
       "      <th>10</th>\n",
       "      <td>10</td>\n",
       "      <td>2019-01-01</td>\n",
       "      <td>4642894980163</td>\n",
       "      <td>fraud_Rutherford-Mertz</td>\n",
       "      <td>grocery_pos</td>\n",
       "      <td>24.74</td>\n",
       "      <td>Eddie</td>\n",
       "      <td>Mendez</td>\n",
       "      <td>M</td>\n",
       "      <td>1831 Faith View Suite 653</td>\n",
       "      <td>...</td>\n",
       "      <td>40.7491</td>\n",
       "      <td>-95.0380</td>\n",
       "      <td>7297</td>\n",
       "      <td>IT trainer</td>\n",
       "      <td>1990-07-13</td>\n",
       "      <td>d71c95ab6b7356dd74389d41df429c87</td>\n",
       "      <td>1325376383</td>\n",
       "      <td>40.275891</td>\n",
       "      <td>-96.011548</td>\n",
       "      <td>0</td>\n",
       "    </tr>\n",
       "    <tr>\n",
       "      <th>...</th>\n",
       "      <td>...</td>\n",
       "      <td>...</td>\n",
       "      <td>...</td>\n",
       "      <td>...</td>\n",
       "      <td>...</td>\n",
       "      <td>...</td>\n",
       "      <td>...</td>\n",
       "      <td>...</td>\n",
       "      <td>...</td>\n",
       "      <td>...</td>\n",
       "      <td>...</td>\n",
       "      <td>...</td>\n",
       "      <td>...</td>\n",
       "      <td>...</td>\n",
       "      <td>...</td>\n",
       "      <td>...</td>\n",
       "      <td>...</td>\n",
       "      <td>...</td>\n",
       "      <td>...</td>\n",
       "      <td>...</td>\n",
       "      <td>...</td>\n",
       "    </tr>\n",
       "    <tr>\n",
       "      <th>1852389</th>\n",
       "      <td>1852389</td>\n",
       "      <td>2020-12-31</td>\n",
       "      <td>30560609640617</td>\n",
       "      <td>fraud_Reilly and Sons</td>\n",
       "      <td>health_fitness</td>\n",
       "      <td>43.77</td>\n",
       "      <td>Michael</td>\n",
       "      <td>Olson</td>\n",
       "      <td>M</td>\n",
       "      <td>558 Michael Estates</td>\n",
       "      <td>...</td>\n",
       "      <td>40.4931</td>\n",
       "      <td>-91.8912</td>\n",
       "      <td>519</td>\n",
       "      <td>Town planner</td>\n",
       "      <td>1966-02-13</td>\n",
       "      <td>9b1f753c79894c9f4b71f04581835ada</td>\n",
       "      <td>1388534347</td>\n",
       "      <td>39.946837</td>\n",
       "      <td>-91.333331</td>\n",
       "      <td>0</td>\n",
       "    </tr>\n",
       "    <tr>\n",
       "      <th>1852390</th>\n",
       "      <td>1852390</td>\n",
       "      <td>2020-12-31</td>\n",
       "      <td>3556613125071656</td>\n",
       "      <td>fraud_Hoppe-Parisian</td>\n",
       "      <td>kids_pets</td>\n",
       "      <td>111.84</td>\n",
       "      <td>Jose</td>\n",
       "      <td>Vasquez</td>\n",
       "      <td>M</td>\n",
       "      <td>572 Davis Mountains</td>\n",
       "      <td>...</td>\n",
       "      <td>29.0393</td>\n",
       "      <td>-95.4401</td>\n",
       "      <td>28739</td>\n",
       "      <td>Futures trader</td>\n",
       "      <td>1999-12-27</td>\n",
       "      <td>2090647dac2c89a1d86c514c427f5b91</td>\n",
       "      <td>1388534349</td>\n",
       "      <td>29.661049</td>\n",
       "      <td>-96.186633</td>\n",
       "      <td>0</td>\n",
       "    </tr>\n",
       "    <tr>\n",
       "      <th>1852391</th>\n",
       "      <td>1852391</td>\n",
       "      <td>2020-12-31</td>\n",
       "      <td>6011724471098086</td>\n",
       "      <td>fraud_Rau-Robel</td>\n",
       "      <td>kids_pets</td>\n",
       "      <td>86.88</td>\n",
       "      <td>Ann</td>\n",
       "      <td>Lawson</td>\n",
       "      <td>F</td>\n",
       "      <td>144 Evans Islands Apt. 683</td>\n",
       "      <td>...</td>\n",
       "      <td>46.1966</td>\n",
       "      <td>-118.9017</td>\n",
       "      <td>3684</td>\n",
       "      <td>Musician</td>\n",
       "      <td>1981-11-29</td>\n",
       "      <td>6c5b7c8add471975aa0fec023b2e8408</td>\n",
       "      <td>1388534355</td>\n",
       "      <td>46.658340</td>\n",
       "      <td>-119.715054</td>\n",
       "      <td>0</td>\n",
       "    </tr>\n",
       "    <tr>\n",
       "      <th>1852392</th>\n",
       "      <td>1852392</td>\n",
       "      <td>2020-12-31</td>\n",
       "      <td>4079773899158</td>\n",
       "      <td>fraud_Breitenberg LLC</td>\n",
       "      <td>travel</td>\n",
       "      <td>7.99</td>\n",
       "      <td>Eric</td>\n",
       "      <td>Preston</td>\n",
       "      <td>M</td>\n",
       "      <td>7020 Doyle Stream Apt. 951</td>\n",
       "      <td>...</td>\n",
       "      <td>44.6255</td>\n",
       "      <td>-116.4493</td>\n",
       "      <td>129</td>\n",
       "      <td>Cartographer</td>\n",
       "      <td>1965-12-15</td>\n",
       "      <td>14392d723bb7737606b2700ac791b7aa</td>\n",
       "      <td>1388534364</td>\n",
       "      <td>44.470525</td>\n",
       "      <td>-117.080888</td>\n",
       "      <td>0</td>\n",
       "    </tr>\n",
       "    <tr>\n",
       "      <th>1852393</th>\n",
       "      <td>1852393</td>\n",
       "      <td>2020-12-31</td>\n",
       "      <td>4170689372027579</td>\n",
       "      <td>fraud_Dare-Marvin</td>\n",
       "      <td>entertainment</td>\n",
       "      <td>38.13</td>\n",
       "      <td>Samuel</td>\n",
       "      <td>Frey</td>\n",
       "      <td>M</td>\n",
       "      <td>830 Myers Plaza Apt. 384</td>\n",
       "      <td>...</td>\n",
       "      <td>35.6665</td>\n",
       "      <td>-97.4798</td>\n",
       "      <td>116001</td>\n",
       "      <td>Media buyer</td>\n",
       "      <td>1993-05-10</td>\n",
       "      <td>1765bb45b3aa3224b4cdcb6e7a96cee3</td>\n",
       "      <td>1388534374</td>\n",
       "      <td>36.210097</td>\n",
       "      <td>-97.036372</td>\n",
       "      <td>0</td>\n",
       "    </tr>\n",
       "  </tbody>\n",
       "</table>\n",
       "<p>1852366 rows × 23 columns</p>\n",
       "</div>"
      ],
      "text/plain": [
       "         Unnamed: 0 trans_date_trans_time            cc_num  \\\n",
       "5                 5            2019-01-01  4767265376804500   \n",
       "7                 7            2019-01-01  6011360759745864   \n",
       "8                 8            2019-01-01  4922710831011201   \n",
       "9                 9            2019-01-01  2720830304681674   \n",
       "10               10            2019-01-01     4642894980163   \n",
       "...             ...                   ...               ...   \n",
       "1852389     1852389            2020-12-31    30560609640617   \n",
       "1852390     1852390            2020-12-31  3556613125071656   \n",
       "1852391     1852391            2020-12-31  6011724471098086   \n",
       "1852392     1852392            2020-12-31     4079773899158   \n",
       "1852393     1852393            2020-12-31  4170689372027579   \n",
       "\n",
       "                                  merchant        category     amt     first  \\\n",
       "5         fraud_Stroman, Hudson and Erdman   gas_transport   94.63  Jennifer   \n",
       "7                     fraud_Corwin-Collins   gas_transport   71.65    Steven   \n",
       "8                         fraud_Herzog Ltd        misc_pos    4.27   Heather   \n",
       "9        fraud_Schoen, Kuphal and Nitzsche     grocery_pos  198.39   Melissa   \n",
       "10                  fraud_Rutherford-Mertz     grocery_pos   24.74     Eddie   \n",
       "...                                    ...             ...     ...       ...   \n",
       "1852389              fraud_Reilly and Sons  health_fitness   43.77   Michael   \n",
       "1852390               fraud_Hoppe-Parisian       kids_pets  111.84      Jose   \n",
       "1852391                    fraud_Rau-Robel       kids_pets   86.88       Ann   \n",
       "1852392              fraud_Breitenberg LLC          travel    7.99      Eric   \n",
       "1852393                  fraud_Dare-Marvin   entertainment   38.13    Samuel   \n",
       "\n",
       "             last sex                          street  ...      lat      long  \\\n",
       "5          Conner   F               4655 David Island  ...  40.3750  -75.2045   \n",
       "7        Williams   M       231 Flores Pass Suite 720  ...  38.8432  -78.6003   \n",
       "8           Chase   F     6888 Hicks Stream Suite 954  ...  40.3359  -79.6607   \n",
       "9         Aguilar   F  21326 Taylor Squares Suite 708  ...  36.5220  -87.3490   \n",
       "10         Mendez   M       1831 Faith View Suite 653  ...  40.7491  -95.0380   \n",
       "...           ...  ..                             ...  ...      ...       ...   \n",
       "1852389     Olson   M             558 Michael Estates  ...  40.4931  -91.8912   \n",
       "1852390   Vasquez   M             572 Davis Mountains  ...  29.0393  -95.4401   \n",
       "1852391    Lawson   F      144 Evans Islands Apt. 683  ...  46.1966 -118.9017   \n",
       "1852392   Preston   M      7020 Doyle Stream Apt. 951  ...  44.6255 -116.4493   \n",
       "1852393      Frey   M        830 Myers Plaza Apt. 384  ...  35.6665  -97.4798   \n",
       "\n",
       "         city_pop                        job         dob  \\\n",
       "5            2158          Transport planner  1961-06-19   \n",
       "7            6018       Designer, multimedia  1947-08-21   \n",
       "8            1472  Public affairs consultant  1941-03-07   \n",
       "9          151785                Pathologist  1974-03-28   \n",
       "10           7297                 IT trainer  1990-07-13   \n",
       "...           ...                        ...         ...   \n",
       "1852389       519               Town planner  1966-02-13   \n",
       "1852390     28739             Futures trader  1999-12-27   \n",
       "1852391      3684                   Musician  1981-11-29   \n",
       "1852392       129               Cartographer  1965-12-15   \n",
       "1852393    116001                Media buyer  1993-05-10   \n",
       "\n",
       "                                trans_num   unix_time  merch_lat  merch_long  \\\n",
       "5        189a841a0a8ba03058526bcfe566aab5  1325376248  40.653382  -76.152667   \n",
       "7        6d294ed2cc447d2c71c7171a3d54967c  1325376308  38.948089  -78.540296   \n",
       "8        fc28024ce480f8ef21a32d64c93a29f5  1325376318  40.351813  -79.958146   \n",
       "9        3b9014ea8fb80bd65de0b1463b00b00e  1325376361  37.179198  -87.485381   \n",
       "10       d71c95ab6b7356dd74389d41df429c87  1325376383  40.275891  -96.011548   \n",
       "...                                   ...         ...        ...         ...   \n",
       "1852389  9b1f753c79894c9f4b71f04581835ada  1388534347  39.946837  -91.333331   \n",
       "1852390  2090647dac2c89a1d86c514c427f5b91  1388534349  29.661049  -96.186633   \n",
       "1852391  6c5b7c8add471975aa0fec023b2e8408  1388534355  46.658340 -119.715054   \n",
       "1852392  14392d723bb7737606b2700ac791b7aa  1388534364  44.470525 -117.080888   \n",
       "1852393  1765bb45b3aa3224b4cdcb6e7a96cee3  1388534374  36.210097  -97.036372   \n",
       "\n",
       "         is_fraud  \n",
       "5               0  \n",
       "7               0  \n",
       "8               0  \n",
       "9               0  \n",
       "10              0  \n",
       "...           ...  \n",
       "1852389         0  \n",
       "1852390         0  \n",
       "1852391         0  \n",
       "1852392         0  \n",
       "1852393         0  \n",
       "\n",
       "[1852366 rows x 23 columns]"
      ]
     },
     "execution_count": 33,
     "metadata": {},
     "output_type": "execute_result"
    }
   ],
   "source": [
    "duplicate_rows_category"
   ]
  },
  {
   "cell_type": "code",
   "execution_count": 34,
   "id": "5d2258a7",
   "metadata": {},
   "outputs": [
    {
     "data": {
      "image/png": "[encoded data removed]",
      "text/plain": [
       "<Figure size 1000x600 with 1 Axes>"
      ]
     },
     "metadata": {},
     "output_type": "display_data"
    }
   ],
   "source": [
    "import seaborn as sns\n",
    "import matplotlib.pyplot as plt\n",
    "import numpy as np\n",
    "\n",
    "# Assuming your dataframe is named 'df'\n",
    "\n",
    "# Calculate the average of 'is_fraud' for each 'category'\n",
    "grouped_df = df.groupby('category')['is_fraud'].mean().reset_index()\n",
    "\n",
    "# Calculate the percentage of 'is_fraud' values for each category\n",
    "grouped_df['percentage'] = grouped_df['is_fraud'].apply(lambda x: x * 100)\n",
    "\n",
    "# Plot the percentage of 'is_fraud' values for each category\n",
    "plt.figure(figsize=(10, 6))\n",
    "sns.barplot(x='category', y='percentage', data=grouped_df)\n",
    "plt.title('Percentage of is_fraud Values per Category')\n",
    "plt.show()"
   ]
  },
  {
   "cell_type": "code",
   "execution_count": 35,
   "id": "9db2bc52",
   "metadata": {},
   "outputs": [
    {
     "data": {
      "image/png": "[encoded data removed]",
      "text/plain": [
       "<Figure size 1000x600 with 1 Axes>"
      ]
     },
     "metadata": {},
     "output_type": "display_data"
    },
    {
     "data": {
      "image/png": "[encoded data removed]",
      "text/plain": [
       "<Figure size 1000x600 with 1 Axes>"
      ]
     },
     "metadata": {},
     "output_type": "display_data"
    },
    {
     "data": {
      "image/png": "[encoded data removed]",
      "text/plain": [
       "<Figure size 1000x600 with 1 Axes>"
      ]
     },
     "metadata": {},
     "output_type": "display_data"
    },
    {
     "data": {
      "image/png": "[encoded data removed]",
      "text/plain": [
       "<Figure size 1000x600 with 1 Axes>"
      ]
     },
     "metadata": {},
     "output_type": "display_data"
    }
   ],
   "source": [
    "\n",
    "# Assuming your dataframe is named 'df'\n",
    "\n",
    "# Create two new dataframes, one for fraudulent transactions and one for non-fraudulent transactions\n",
    "fraud_df = df[df['is_fraud'] == 1].groupby('category')['amt'].agg(['mean', 'std']).reset_index()\n",
    "non_fraud_df = df[df['is_fraud'] == 0].groupby('category')['amt'].agg(['mean', 'std']).reset_index()\n",
    "\n",
    "# Plot the mean 'amt' for each category in the fraud_df dataframe\n",
    "plt.figure(figsize=(10, 6))\n",
    "sns.barplot(x='category', y='mean',data=fraud_df)\n",
    "plt.title('Mean Amount per Category for Fraudulent Transactions')\n",
    "plt.show()\n",
    "\n",
    "# Plot the mean 'amt' for each category in the non_fraud_df dataframe\n",
    "plt.figure(figsize=(10, 6))\n",
    "sns.barplot(x='category', y='mean',data=non_fraud_df)\n",
    "plt.title('Mean Amount per Category for Non-Fraudulent Transactions')\n",
    "plt.show()\n",
    "\n",
    "# Plot the standard deviation of 'amt' for each category in the fraud_df dataframe\n",
    "plt.figure(figsize=(10, 6))\n",
    "sns.barplot(x='category', y='std',  data=fraud_df)\n",
    "plt.title('Standard Deviation of Amount per Category for Fraudulent Transactions')\n",
    "plt.show()\n",
    "\n",
    "# Plot the standard deviation of 'amt' for each category in the non_fraud_df dataframe\n",
    "plt.figure(figsize=(10, 6))\n",
    "sns.barplot(x='category', y='std',  data=non_fraud_df)\n",
    "plt.title('Standard Deviation of Amount per Category for Non-Fraudulent Transactions')\n",
    "plt.show()"
   ]
  },
  {
   "cell_type": "markdown",
   "id": "f2c9a05a",
   "metadata": {},
   "source": [
    "It is very clear to see that the differences between fraudulent and non-fraud in amount spent per category is incredibly large, which means this would be very useful to have in our final model to tell patterns between other features and fraudulent cases"
   ]
  },
  {
   "cell_type": "markdown",
   "id": "685f0883",
   "metadata": {},
   "source": [
    "# 5. What is the distribution between time transactions between fraudulent transactions and non-fraudulent transactions? What is the most likely time of a fraudulent transaction?"
   ]
  },
  {
   "cell_type": "code",
   "execution_count": null,
   "id": "72f4ad2f",
   "metadata": {},
   "outputs": [],
   "source": []
  },
  {
   "cell_type": "code",
   "execution_count": 36,
   "id": "768c8cc5",
   "metadata": {
    "tags": []
   },
   "outputs": [
    {
     "data": {
      "image/png": "[encoded data removed]",
      "text/plain": [
       "<Figure size 640x480 with 1 Axes>"
      ]
     },
     "metadata": {},
     "output_type": "display_data"
    },
    {
     "data": {
      "image/png": "[encoded data removed]",
      "text/plain": [
       "<Figure size 640x480 with 1 Axes>"
      ]
     },
     "metadata": {},
     "output_type": "display_data"
    }
   ],
   "source": [
    "import pandas as pd\n",
    "import matplotlib.pyplot as plt\n",
    "from sklearn.neighbors import KernelDensity\n",
    "\n",
    "# Assuming the data is in a DataFrame called 'df'\n",
    "fraud_transactions = df[df['is_fraud'] == 1]['unix_time']\n",
    "non_fraud_transactions = df[df['is_fraud'] == 0]['unix_time']\n",
    "\n",
    "# Plotting the histogram\n",
    "plt.hist(fraud_transactions, bins=30, stacked=True, label=['Fraudulent', 'Non-fraudulent'])\n",
    "plt.xlabel('Unix Time')\n",
    "plt.ylabel('Number of Transactions')\n",
    "plt.legend()\n",
    "plt.show()\n",
    "\n",
    "# Plotting the KDE\n",
    "kde_fraud = KernelDensity(kernel='gaussian', bandwidth=0.5).fit(fraud_transactions.values.reshape(-1, 1))\n",
    "\n",
    "x_axis = np.linspace(0, 1500000000, 1000)\n",
    "plt.plot(x_axis, kde_fraud.score_samples(x_axis.reshape(-1, 1)), label='Fraudulent')\n",
    "plt.xlabel('Unix Time')\n",
    "plt.ylabel('Density')\n",
    "plt.legend()\n",
    "plt.show()"
   ]
  },
  {
   "cell_type": "code",
   "execution_count": 37,
   "id": "b2c3ea8e",
   "metadata": {
    "tags": []
   },
   "outputs": [
    {
     "data": {
      "image/png": "[encoded data removed]",
      "text/plain": [
       "<Figure size 1200x400 with 2 Axes>"
      ]
     },
     "metadata": {},
     "output_type": "display_data"
    }
   ],
   "source": [
    "import pandas as pd\n",
    "import matplotlib.pyplot as plt\n",
    "from sklearn.neighbors import KernelDensity\n",
    "\n",
    "# Assuming the data is in a DataFrame called 'df'\n",
    "fraud_transactions = df[df['is_fraud'] == 1]['unix_time']\n",
    "non_fraud_transactions = df[df['is_fraud'] == 0]['unix_time']\n",
    "\n",
    "# Plotting the histogram\n",
    "fig, ax = plt.subplots(1, 2, figsize=(12, 4))\n",
    "\n",
    "ax[0].hist(non_fraud_transactions, bins=30, stacked=True, label= 'Non-fraudulent')\n",
    "ax[0].set_xlabel('Unix Time')\n",
    "ax[0].set_ylabel('Number of Transactions')\n",
    "ax[0].legend()\n",
    "\n",
    "# Plotting the KDE\n",
    "kde_non_fraud = KernelDensity(kernel='gaussian', bandwidth=0.5).fit(non_fraud_transactions.values.reshape(-1, 1))\n",
    "\n",
    "x_axis = np.linspace(0, 1500000000, 1000)\n",
    "ax[1].plot(x_axis, kde_non_fraud.score_samples(x_axis.reshape(-1, 1)), label='Non-fraudulent')\n",
    "ax[1].set_xlabel('Unix Time')\n",
    "ax[1].set_ylabel('Density')\n",
    "ax[1].legend()\n",
    "\n",
    "plt.show()"
   ]
  },
  {
   "cell_type": "code",
   "execution_count": 38,
   "id": "930588eb",
   "metadata": {
    "tags": []
   },
   "outputs": [
    {
     "name": "stdout",
     "output_type": "stream",
     "text": [
      "is_fraud\n",
      "0   2024-02-21 13:17:57.915524864\n",
      "1   2024-02-21 14:32:59.004766208\n",
      "Name: trans_date_trans_time, dtype: datetime64[ns]\n"
     ]
    }
   ],
   "source": [
    "df_unix = df.copy()\n",
    "df_unix['trans_date_trans_time'] = df['trans_date_trans_time'].str.slice(11,19)\n",
    "\n",
    "df_unix['trans_date_trans_time'] = pd.to_datetime(df_unix['trans_date_trans_time'])\n",
    "avg_time = df_unix.groupby('is_fraud')['trans_date_trans_time'].mean()\n",
    "\n",
    "print(avg_time)"
   ]
  },
  {
   "cell_type": "markdown",
   "id": "f59721bc",
   "metadata": {},
   "source": [
    "Year turned funky because of the conversions, but I believe that is the average hour, which does not show a ton of difference between non fraud and fraud"
   ]
  },
  {
   "cell_type": "code",
   "execution_count": 39,
   "id": "a3a8271f",
   "metadata": {
    "tags": []
   },
   "outputs": [
    {
     "data": {
      "text/plain": [
       "0         2024-02-21 00:00:18\n",
       "1         2024-02-21 00:00:44\n",
       "2         2024-02-21 00:00:51\n",
       "3         2024-02-21 00:01:16\n",
       "4         2024-02-21 00:03:06\n",
       "                  ...        \n",
       "1852389   2024-02-21 23:59:07\n",
       "1852390   2024-02-21 23:59:09\n",
       "1852391   2024-02-21 23:59:15\n",
       "1852392   2024-02-21 23:59:24\n",
       "1852393   2024-02-21 23:59:34\n",
       "Name: trans_date_trans_time, Length: 1852394, dtype: datetime64[ns]"
      ]
     },
     "execution_count": 39,
     "metadata": {},
     "output_type": "execute_result"
    }
   ],
   "source": [
    "df_unix[\"trans_date_trans_time\"]"
   ]
  },
  {
   "cell_type": "markdown",
   "id": "a90bcfed",
   "metadata": {},
   "source": [
    "# 6. Is there a relationship between the distance between customer location (lat/lon) and merchant location (merch_lat/merch_lon) and fraudulent transactions?"
   ]
  },
  {
   "cell_type": "code",
   "execution_count": 40,
   "id": "c01cbf66",
   "metadata": {
    "tags": []
   },
   "outputs": [],
   "source": [
    "import math\n",
    "\n",
    "def haversine(lat1, lon1, lat2, lon2):\n",
    "    R = 6371  # Earth's radius in km\n",
    "    dLat = math.radians(lat2 - lat1)\n",
    "    dLon = math.radians(lon2 - lon1)\n",
    "    a = math.sin(dLat / 2) * math.sin(dLat / 2) + math.cos(math.radians(lat1)) * math.cos(math.radians(lat2)) * math.sin(dLon / 2) * math.sin(dLon / 2)\n",
    "    c = 2 * math.atan2(math.sqrt(a), math.sqrt(1 - a))\n",
    "    d = R * c  # Distance in km\n",
    "    return d"
   ]
  },
  {
   "cell_type": "code",
   "execution_count": 41,
   "id": "f1780be0",
   "metadata": {
    "tags": []
   },
   "outputs": [
    {
     "name": "stdout",
     "output_type": "stream",
     "text": [
      "Correlation between distance and fraud: 0.0003591679386918545\n"
     ]
    }
   ],
   "source": [
    "df_latlong = df.copy()\n",
    "df_latlong['distance'] = df_latlong.apply(lambda row: haversine(row['lat'], row['long'], row['merch_lat'], row['merch_long']), axis=1)\n",
    "\n",
    "# Calculate the correlation between distance and fraud\n",
    "correlation = df_latlong['distance'].corr(df['is_fraud'])\n",
    "print('Correlation between distance and fraud:', correlation)"
   ]
  },
  {
   "cell_type": "markdown",
   "id": "e3cc2815",
   "metadata": {},
   "source": [
    "Using this function and formula to determine the distance between the two latlongs, then seeing if there was a correlation between that distance and if the data was fraudulent. The coorelation was low, but it may be different if instead of distance the coorellation looked at specific locations, though then that still would not matter the distance just the fraud location. "
   ]
  },
  {
   "cell_type": "markdown",
   "id": "d91230fe",
   "metadata": {},
   "source": [
    "# 7. Are certain states, cities, and zip codes more susceptible to fraudulent transactions?"
   ]
  },
  {
   "cell_type": "code",
   "execution_count": 42,
   "id": "54607cb2",
   "metadata": {
    "tags": []
   },
   "outputs": [],
   "source": [
    "df_location = pd.DataFrame()\n",
    "df_location[\"city\"] = df[\"city\"].astype('category')\n",
    "df_location[\"state\"] = df[\"state\"].astype('category')\n",
    "df_location[\"zip\"] = df[\"zip\"].astype('category')\n",
    "df_location[\"is_fraud\"] = df[\"is_fraud\"].astype('category')"
   ]
  },
  {
   "cell_type": "code",
   "execution_count": 43,
   "id": "4795de00",
   "metadata": {
    "tags": []
   },
   "outputs": [],
   "source": [
    "df_location[\"city\"] = df_location[\"city\"].cat.codes.astype('float')\n",
    "df_location[\"state\"] = df_location[\"state\"].cat.codes.astype('float')\n",
    "df_location[\"zip\"] = df_location[\"zip\"].cat.codes.astype('float')\n",
    "df_location[\"is_fraud\"] = df_location[\"is_fraud\"].cat.codes.astype('float')"
   ]
  },
  {
   "cell_type": "code",
   "execution_count": 44,
   "id": "f8f80d86",
   "metadata": {
    "tags": []
   },
   "outputs": [
    {
     "data": {
      "text/plain": [
       "city        float64\n",
       "state       float64\n",
       "zip         float64\n",
       "is_fraud    float64\n",
       "dtype: object"
      ]
     },
     "execution_count": 44,
     "metadata": {},
     "output_type": "execute_result"
    }
   ],
   "source": [
    "df_location.dtypes"
   ]
  },
  {
   "cell_type": "code",
   "execution_count": 45,
   "id": "9813e176",
   "metadata": {
    "tags": []
   },
   "outputs": [
    {
     "name": "stdout",
     "output_type": "stream",
     "text": [
      "          is_fraud      city     state       zip\n",
      "is_fraud  1.000000 -0.001107 -0.000252 -0.002410\n",
      "city     -0.001107  1.000000 -0.042611  0.076487\n",
      "state    -0.000252 -0.042611  1.000000 -0.111386\n",
      "zip      -0.002410  0.076487 -0.111386  1.000000\n"
     ]
    }
   ],
   "source": [
    "correlation = df_location[['is_fraud', 'city', 'state', 'zip']].corr()\n",
    "print(correlation)"
   ]
  },
  {
   "cell_type": "markdown",
   "id": "eae7e116",
   "metadata": {},
   "source": [
    "Based on this matrix, it did not really appear that there was a huge correlation, though I think that would change if we limit it down to only lat and long, as that tells about the same amount of information, and easier for a model to understand. With that in mind, I think it would be usefull to cut all of these difficult to use features out of the final model and just keep lat and long"
   ]
  },
  {
   "cell_type": "markdown",
   "id": "0d2f519f",
   "metadata": {},
   "source": [
    "# 8. What is the distribution of fraudulent and non-fraudulent transactions occurring for each day of the week (i.e., Sunday, Monday, etc.), each month of the year (i.e., January, February)?"
   ]
  },
  {
   "cell_type": "code",
   "execution_count": 46,
   "id": "4253c7fe",
   "metadata": {
    "tags": []
   },
   "outputs": [],
   "source": [
    "df_days = df.copy()\n",
    "df_days['trans_date_trans_time'] = pd.to_datetime(df_days['trans_date_trans_time'])\n",
    "df_days['day_of_week'] = df_days['trans_date_trans_time'].dt.day_name()\n",
    "df_days['day_of_month'] = df_days['trans_date_trans_time'].dt.day\n"
   ]
  },
  {
   "cell_type": "code",
   "execution_count": 47,
   "id": "8586b731",
   "metadata": {
    "tags": []
   },
   "outputs": [
    {
     "data": {
      "text/plain": [
       "2449       1325466397\n",
       "2472       1325468849\n",
       "2523       1325473523\n",
       "2546       1325475483\n",
       "2553       1325476547\n",
       "              ...    \n",
       "1813872    1387749948\n",
       "1813949    1387750687\n",
       "1814016    1387751508\n",
       "1814204    1387753563\n",
       "1814246    1387754019\n",
       "Name: unix_time, Length: 9651, dtype: int64"
      ]
     },
     "execution_count": 47,
     "metadata": {},
     "output_type": "execute_result"
    }
   ],
   "source": [
    "fraud_transactions"
   ]
  },
  {
   "cell_type": "code",
   "execution_count": 48,
   "id": "23e954d1",
   "metadata": {
    "tags": []
   },
   "outputs": [],
   "source": [
    "\n",
    "# Count the number of fraudulent and non-fraudulent transactions per day\n",
    "fraud_transactions = df_days[df_days['is_fraud'] == 1].groupby(['day_of_week', 'day_of_month']).size().reset_index(name='fraud_count')\n",
    "non_fraud_transactions = df_days[df_days['is_fraud'] == 0].groupby(['day_of_week', 'day_of_month']).size().reset_index(name='non_fraud_count')\n",
    "\n",
    "# Merge the two dataframes on 'day_of_week' and 'day_of_month'\n",
    "merged_df = fraud_transactions.merge(non_fraud_transactions, on=['day_of_week', 'day_of_month'], suffixes=('_fraud', '_non_fraud'))\n"
   ]
  },
  {
   "cell_type": "code",
   "execution_count": 49,
   "id": "bc275188",
   "metadata": {
    "tags": []
   },
   "outputs": [
    {
     "data": {
      "image/png": "[encoded data removed]",
      "text/plain": [
       "<Figure size 1000x800 with 2 Axes>"
      ]
     },
     "metadata": {},
     "output_type": "display_data"
    }
   ],
   "source": [
    "fig, ax = plt.subplots(2, 1, figsize=(10, 8))\n",
    "\n",
    "ax[0].bar(merged_df['day_of_week'], merged_df['non_fraud_count'], label='Non-fraudulent')\n",
    "ax[0].set_title('Non-fraudulent Transactions per Day of Week')\n",
    "ax[0].set_xticks(range(7))\n",
    "ax[0].set_xticklabels(merged_df['day_of_week'].unique())\n",
    "ax[0].legend()\n",
    "\n",
    "ax[1].bar(merged_df['day_of_month'], merged_df['non_fraud_count'], label='Non-fraudulent')\n",
    "ax[1].set_title('Non-fraudulent Transactions per Day of Month')\n",
    "ax[1].set_xticks(range(1, 32))\n",
    "ax[1].set_xticklabels(merged_df['day_of_month'].unique())\n",
    "ax[1].legend()\n",
    "\n",
    "plt.tight_layout()\n",
    "plt.show()"
   ]
  },
  {
   "cell_type": "code",
   "execution_count": null,
   "id": "80eb6ad8",
   "metadata": {},
   "outputs": [],
   "source": []
  },
  {
   "cell_type": "code",
   "execution_count": 50,
   "id": "2b2b9dfe",
   "metadata": {
    "tags": []
   },
   "outputs": [
    {
     "data": {
      "image/png": "[encoded data removed]",
      "text/plain": [
       "<Figure size 1000x800 with 2 Axes>"
      ]
     },
     "metadata": {},
     "output_type": "display_data"
    }
   ],
   "source": [
    "fig, ax = plt.subplots(2, 1, figsize=(10, 8))\n",
    "ax[0].bar(merged_df['day_of_week'], merged_df['fraud_count'], label='Fraudulent')\n",
    "ax[0].set_title('Fraudulent Transactions per Day of Week')\n",
    "ax[0].set_xticks(range(7))\n",
    "ax[0].set_xticklabels(merged_df['day_of_week'].unique())\n",
    "ax[0].legend()\n",
    "\n",
    "ax[1].bar(merged_df['day_of_month'], merged_df['fraud_count'], label='Fraudulent')\n",
    "ax[1].set_title('Fraudulent Transactions per Day of Month')\n",
    "ax[1].set_xticks(range(1, 32))\n",
    "ax[1].set_xticklabels(merged_df['day_of_month'].unique())\n",
    "ax[1].legend()\n",
    "\n",
    "plt.tight_layout()\n",
    "plt.show()"
   ]
  },
  {
   "cell_type": "code",
   "execution_count": 51,
   "id": "2b20422b",
   "metadata": {
    "tags": []
   },
   "outputs": [
    {
     "data": {
      "image/png": "[encoded data removed]",
      "text/plain": [
       "<Figure size 1000x400 with 1 Axes>"
      ]
     },
     "metadata": {},
     "output_type": "display_data"
    },
    {
     "data": {
      "image/png": "[encoded data removed]",
      "text/plain": [
       "<Figure size 1000x400 with 1 Axes>"
      ]
     },
     "metadata": {},
     "output_type": "display_data"
    }
   ],
   "source": [
    "# Extract the month from the 'trans_date_trans_week' column\n",
    "df_days['month_of_year'] = df_days['trans_date_trans_time'].dt.month_name()\n",
    "\n",
    "# Count the number of fraudulent and non-fraudulent transactions per month\n",
    "fraud_transactions = df_days[df_days['is_fraud'] == 1].groupby(['month_of_year']).size().reset_index(name='fraud_count')\n",
    "non_fraud_transactions = df_days[df_days['is_fraud'] == 0].groupby(['month_of_year']).size().reset_index(name='non_fraud_count')\n",
    "\n",
    "# Merge the two dataframes on 'month_of_year'\n",
    "merged_df = fraud_transactions.merge(non_fraud_transactions, on=['month_of_year'], suffixes=('_fraud', '_non_fraud'))\n",
    "\n",
    "# Create a bar graph for the month of the year\n",
    "fig, ax = plt.subplots(1, 1, figsize=(10, 4))\n",
    "ax.bar(merged_df['month_of_year'], merged_df['non_fraud_count'], label='Non-fraudulent')\n",
    "ax.set_title('Non-fraudulent Transactions per Month of Year')\n",
    "ax.set_xticks(range(12))\n",
    "ax.set_xticklabels(merged_df['month_of_year'].unique())\n",
    "ax.legend()\n",
    "\n",
    "plt.tight_layout()\n",
    "plt.show()\n",
    "\n",
    "fig, ax = plt.subplots(1, 1, figsize=(10, 4))\n",
    "ax.bar(merged_df['month_of_year'], merged_df['fraud_count'], label='Fraudulent')\n",
    "ax.set_title('Fraudulent Transactions per Month of Year')\n",
    "ax.set_xticks(range(12))\n",
    "ax.set_xticklabels(merged_df['month_of_year'].unique())\n",
    "ax.legend()\n",
    "\n",
    "plt.tight_layout()\n",
    "plt.show()"
   ]
  },
  {
   "cell_type": "markdown",
   "id": "71a3c42b",
   "metadata": {},
   "source": [
    "The crazy thing about these charts, is that with every different method of time, there seems to be a completely different pattern between fraud transactions, and non-fraud, which means that keeping track of the time of transactions may be very useful in the final model. "
   ]
  },
  {
   "cell_type": "markdown",
   "id": "7d9d5df1",
   "metadata": {},
   "source": [
    "# 9. Compared to any other time of the year, how prevalent are fraudulent transactions during the holidays (11-30 to 12-31)? During post-holidays (1-1 to 2-28)? During the summer (05-24 to 09-01)?"
   ]
  },
  {
   "cell_type": "markdown",
   "id": "20869295",
   "metadata": {},
   "source": [
    "Luckily the previous graphs answer this question incredibly well. Compared to non-fraudulent transaction, fraudulent is almost consistent acrossed the whole year. Non-fraud the difference between the holidays and early year is nearly triple, and for summer it is double, where as for fraudulent, they are statisitically pretty similar with nearly no difference. The graph above this one shows that well. "
   ]
  },
  {
   "cell_type": "markdown",
   "id": "5415d230",
   "metadata": {},
   "source": [
    "# 10. Is there a relationship between between \"city_pop\" and incidence of fraud?\n"
   ]
  },
  {
   "cell_type": "code",
   "execution_count": null,
   "id": "6f9e4521",
   "metadata": {},
   "outputs": [],
   "source": []
  },
  {
   "cell_type": "code",
   "execution_count": 52,
   "id": "0b1ea500",
   "metadata": {
    "tags": []
   },
   "outputs": [],
   "source": [
    "label_percentage_per_job = pd.crosstab(df2['city_pop'], df2['is_fraud'], normalize='all')"
   ]
  },
  {
   "cell_type": "code",
   "execution_count": 53,
   "id": "a3f7d1a7",
   "metadata": {
    "tags": []
   },
   "outputs": [],
   "source": [
    "result = label_percentage_per_job.reset_index().sort_values(by=1, ascending=False)\n"
   ]
  },
  {
   "cell_type": "code",
   "execution_count": 54,
   "id": "4c999b74",
   "metadata": {
    "tags": []
   },
   "outputs": [],
   "source": [
    "pd.set_option('display.max_rows', 10)\n"
   ]
  },
  {
   "cell_type": "code",
   "execution_count": 55,
   "id": "cd98dd5f",
   "metadata": {
    "tags": []
   },
   "outputs": [
    {
     "data": {
      "text/html": [
       "<div>\n",
       "<style scoped>\n",
       "    .dataframe tbody tr th:only-of-type {\n",
       "        vertical-align: middle;\n",
       "    }\n",
       "\n",
       "    .dataframe tbody tr th {\n",
       "        vertical-align: top;\n",
       "    }\n",
       "\n",
       "    .dataframe thead th {\n",
       "        text-align: right;\n",
       "    }\n",
       "</style>\n",
       "<table border=\"1\" class=\"dataframe\">\n",
       "  <thead>\n",
       "    <tr style=\"text-align: right;\">\n",
       "      <th>is_fraud</th>\n",
       "      <th>city_pop</th>\n",
       "      <th>0</th>\n",
       "      <th>1</th>\n",
       "    </tr>\n",
       "  </thead>\n",
       "  <tbody>\n",
       "    <tr>\n",
       "      <th>890</th>\n",
       "      <td>2906700</td>\n",
       "      <td>0.003145</td>\n",
       "      <td>0.000021</td>\n",
       "    </tr>\n",
       "    <tr>\n",
       "      <th>881</th>\n",
       "      <td>1263321</td>\n",
       "      <td>0.002754</td>\n",
       "      <td>0.000021</td>\n",
       "    </tr>\n",
       "    <tr>\n",
       "      <th>886</th>\n",
       "      <td>1577385</td>\n",
       "      <td>0.001968</td>\n",
       "      <td>0.000019</td>\n",
       "    </tr>\n",
       "    <tr>\n",
       "      <th>866</th>\n",
       "      <td>673342</td>\n",
       "      <td>0.002748</td>\n",
       "      <td>0.000018</td>\n",
       "    </tr>\n",
       "    <tr>\n",
       "      <th>166</th>\n",
       "      <td>606</td>\n",
       "      <td>0.004328</td>\n",
       "      <td>0.000017</td>\n",
       "    </tr>\n",
       "    <tr>\n",
       "      <th>...</th>\n",
       "      <td>...</td>\n",
       "      <td>...</td>\n",
       "      <td>...</td>\n",
       "    </tr>\n",
       "    <tr>\n",
       "      <th>788</th>\n",
       "      <td>103927</td>\n",
       "      <td>0.000394</td>\n",
       "      <td>0.000000</td>\n",
       "    </tr>\n",
       "    <tr>\n",
       "      <th>451</th>\n",
       "      <td>3263</td>\n",
       "      <td>0.000788</td>\n",
       "      <td>0.000000</td>\n",
       "    </tr>\n",
       "    <tr>\n",
       "      <th>594</th>\n",
       "      <td>7646</td>\n",
       "      <td>0.002365</td>\n",
       "      <td>0.000000</td>\n",
       "    </tr>\n",
       "    <tr>\n",
       "      <th>163</th>\n",
       "      <td>595</td>\n",
       "      <td>0.001576</td>\n",
       "      <td>0.000000</td>\n",
       "    </tr>\n",
       "    <tr>\n",
       "      <th>778</th>\n",
       "      <td>92608</td>\n",
       "      <td>0.001182</td>\n",
       "      <td>0.000000</td>\n",
       "    </tr>\n",
       "  </tbody>\n",
       "</table>\n",
       "<p>891 rows × 3 columns</p>\n",
       "</div>"
      ],
      "text/plain": [
       "is_fraud  city_pop         0         1\n",
       "890        2906700  0.003145  0.000021\n",
       "881        1263321  0.002754  0.000021\n",
       "886        1577385  0.001968  0.000019\n",
       "866         673342  0.002748  0.000018\n",
       "166            606  0.004328  0.000017\n",
       "..             ...       ...       ...\n",
       "788         103927  0.000394  0.000000\n",
       "451           3263  0.000788  0.000000\n",
       "594           7646  0.002365  0.000000\n",
       "163            595  0.001576  0.000000\n",
       "778          92608  0.001182  0.000000\n",
       "\n",
       "[891 rows x 3 columns]"
      ]
     },
     "execution_count": 55,
     "metadata": {},
     "output_type": "execute_result"
    }
   ],
   "source": [
    "result"
   ]
  },
  {
   "cell_type": "markdown",
   "id": "fa068450",
   "metadata": {},
   "source": [
    "It is fairly difficult to tell if city pop and fraud has some type of correlation, but based on this limited chart view, it may very well be the case. It would be useful to train a model with this included as there could be patterns of names, job types, and population based on some of the data shown."
   ]
  },
  {
   "cell_type": "markdown",
   "id": "4d99afca",
   "metadata": {},
   "source": [
    "# 11. Are certain \"job\" types susceptible to fraudulent transactions?"
   ]
  },
  {
   "cell_type": "code",
   "execution_count": 56,
   "id": "50aefb17",
   "metadata": {
    "tags": []
   },
   "outputs": [],
   "source": [
    "label_percentage_per_job = pd.crosstab(df2['job'], df2['is_fraud'], normalize='all')"
   ]
  },
  {
   "cell_type": "code",
   "execution_count": 57,
   "id": "81ddaa7a",
   "metadata": {
    "tags": []
   },
   "outputs": [],
   "source": [
    "result = label_percentage_per_job.reset_index().sort_values(by=1, ascending=False)\n"
   ]
  },
  {
   "cell_type": "code",
   "execution_count": 58,
   "id": "ad954d77",
   "metadata": {
    "tags": []
   },
   "outputs": [],
   "source": [
    "pd.set_option('display.max_rows', 10)\n"
   ]
  },
  {
   "cell_type": "code",
   "execution_count": 59,
   "id": "5825bfeb",
   "metadata": {
    "tags": []
   },
   "outputs": [
    {
     "data": {
      "text/html": [
       "<div>\n",
       "<style scoped>\n",
       "    .dataframe tbody tr th:only-of-type {\n",
       "        vertical-align: middle;\n",
       "    }\n",
       "\n",
       "    .dataframe tbody tr th {\n",
       "        vertical-align: top;\n",
       "    }\n",
       "\n",
       "    .dataframe thead th {\n",
       "        text-align: right;\n",
       "    }\n",
       "</style>\n",
       "<table border=\"1\" class=\"dataframe\">\n",
       "  <thead>\n",
       "    <tr style=\"text-align: right;\">\n",
       "      <th>is_fraud</th>\n",
       "      <th>job</th>\n",
       "      <th>0</th>\n",
       "      <th>1</th>\n",
       "    </tr>\n",
       "  </thead>\n",
       "  <tbody>\n",
       "    <tr>\n",
       "      <th>383</th>\n",
       "      <td>Quantity surveyor</td>\n",
       "      <td>0.004325</td>\n",
       "      <td>0.000037</td>\n",
       "    </tr>\n",
       "    <tr>\n",
       "      <th>309</th>\n",
       "      <td>Naval architect</td>\n",
       "      <td>0.006677</td>\n",
       "      <td>0.000036</td>\n",
       "    </tr>\n",
       "    <tr>\n",
       "      <th>287</th>\n",
       "      <td>Materials engineer</td>\n",
       "      <td>0.006289</td>\n",
       "      <td>0.000033</td>\n",
       "    </tr>\n",
       "    <tr>\n",
       "      <th>42</th>\n",
       "      <td>Audiological scientist</td>\n",
       "      <td>0.004720</td>\n",
       "      <td>0.000031</td>\n",
       "    </tr>\n",
       "    <tr>\n",
       "      <th>421</th>\n",
       "      <td>Senior tax professional/tax inspector</td>\n",
       "      <td>0.003142</td>\n",
       "      <td>0.000031</td>\n",
       "    </tr>\n",
       "    <tr>\n",
       "      <th>...</th>\n",
       "      <td>...</td>\n",
       "      <td>...</td>\n",
       "      <td>...</td>\n",
       "    </tr>\n",
       "    <tr>\n",
       "      <th>437</th>\n",
       "      <td>Statistician</td>\n",
       "      <td>0.001966</td>\n",
       "      <td>0.000002</td>\n",
       "    </tr>\n",
       "    <tr>\n",
       "      <th>107</th>\n",
       "      <td>Contractor</td>\n",
       "      <td>0.002356</td>\n",
       "      <td>0.000001</td>\n",
       "    </tr>\n",
       "    <tr>\n",
       "      <th>163</th>\n",
       "      <td>Engineer, drilling</td>\n",
       "      <td>0.001576</td>\n",
       "      <td>0.000000</td>\n",
       "    </tr>\n",
       "    <tr>\n",
       "      <th>161</th>\n",
       "      <td>Engineer, communications</td>\n",
       "      <td>0.001182</td>\n",
       "      <td>0.000000</td>\n",
       "    </tr>\n",
       "    <tr>\n",
       "      <th>436</th>\n",
       "      <td>Stage manager</td>\n",
       "      <td>0.000788</td>\n",
       "      <td>0.000000</td>\n",
       "    </tr>\n",
       "  </tbody>\n",
       "</table>\n",
       "<p>497 rows × 3 columns</p>\n",
       "</div>"
      ],
      "text/plain": [
       "is_fraud                                    job         0         1\n",
       "383                           Quantity surveyor  0.004325  0.000037\n",
       "309                             Naval architect  0.006677  0.000036\n",
       "287                          Materials engineer  0.006289  0.000033\n",
       "42                       Audiological scientist  0.004720  0.000031\n",
       "421       Senior tax professional/tax inspector  0.003142  0.000031\n",
       "..                                          ...       ...       ...\n",
       "437                                Statistician  0.001966  0.000002\n",
       "107                                  Contractor  0.002356  0.000001\n",
       "163                          Engineer, drilling  0.001576  0.000000\n",
       "161                    Engineer, communications  0.001182  0.000000\n",
       "436                               Stage manager  0.000788  0.000000\n",
       "\n",
       "[497 rows x 3 columns]"
      ]
     },
     "execution_count": 59,
     "metadata": {},
     "output_type": "execute_result"
    }
   ],
   "source": [
    "result"
   ]
  },
  {
   "cell_type": "code",
   "execution_count": 60,
   "id": "9a680fa2",
   "metadata": {
    "tags": []
   },
   "outputs": [],
   "source": [
    "df_job = pd.DataFrame()\n",
    "df_job[\"city\"] = df[\"city\"].astype('category')\n",
    "df_job[\"is_fraud\"] = df[\"is_fraud\"].astype('category')"
   ]
  },
  {
   "cell_type": "code",
   "execution_count": 61,
   "id": "a19ee6a6",
   "metadata": {
    "tags": []
   },
   "outputs": [],
   "source": [
    "df_job[\"job\"] = df_job[\"city\"].cat.codes.astype('float')\n",
    "df_job[\"is_fraud\"] = df_job[\"is_fraud\"].cat.codes.astype('float')"
   ]
  },
  {
   "cell_type": "code",
   "execution_count": 62,
   "id": "6d107c28",
   "metadata": {
    "tags": []
   },
   "outputs": [
    {
     "name": "stdout",
     "output_type": "stream",
     "text": [
      "The correlation between the label and the datapoint is -0.0011073204129480663\n"
     ]
    }
   ],
   "source": [
    "correlation = df_job['is_fraud'].corr(df_job['job'])\n",
    "print(f\"The correlation between the label and the datapoint is {correlation}\")"
   ]
  },
  {
   "cell_type": "markdown",
   "id": "443e50fe",
   "metadata": {},
   "source": [
    "Strangely enough, based on the data, it does look like certain job types are often targeted by those attempting to commit fraud. That could probably be for many different reasons from commonality, to income, to correlations with categories, all of which will also be usefull to test against."
   ]
  },
  {
   "cell_type": "markdown",
   "id": "49edf1bd",
   "metadata": {},
   "source": [
    "# 12. Think of at least 4 more questions and provide the answers to them."
   ]
  },
  {
   "cell_type": "markdown",
   "id": "1b0e1ec0",
   "metadata": {},
   "source": [
    "## 1. Some of the variables by themselves showed low correlation, what happens if you bring in investigations from multiple to test correlations? Say from question 2, 7, and 11 to see the results"
   ]
  },
  {
   "cell_type": "code",
   "execution_count": 63,
   "id": "287f86c1",
   "metadata": {
    "tags": []
   },
   "outputs": [],
   "source": [
    "df_test = pd.DataFrame()\n",
    "\n",
    "df_test[\"job\"] = df_job[\"job\"]\n",
    "df_test[\"city\"] = df_location[\"city\"]\n",
    "df_test[\"state\"] = df_location[\"state\"]\n",
    "df_test[\"zip\"] = df_location[\"zip\"]\n",
    "df_test[\"dob\"] = df2[\"dob\"]\n",
    "df_test[\"is_fraud\"] = df_location[\"is_fraud\"]"
   ]
  },
  {
   "cell_type": "code",
   "execution_count": 64,
   "id": "98225a7f",
   "metadata": {
    "tags": []
   },
   "outputs": [],
   "source": [
    "from sklearn import preprocessing\n",
    "\n",
    "min_max_scaler = preprocessing.MinMaxScaler()\n",
    "df_test[['job', 'city', 'state', 'zip', 'dob']] = min_max_scaler.fit_transform(df_test[['job', 'city', 'state', 'zip', 'dob']])\n"
   ]
  },
  {
   "cell_type": "code",
   "execution_count": 65,
   "id": "cc3a24de",
   "metadata": {
    "tags": []
   },
   "outputs": [],
   "source": [
    "X = df_test.loc[:, df_test.columns != 'is_fraud'].values\n",
    "y = df_test.loc[:, df_test.columns == 'is_fraud'].values.ravel()"
   ]
  },
  {
   "cell_type": "code",
   "execution_count": 66,
   "id": "b9230d80",
   "metadata": {
    "tags": []
   },
   "outputs": [
    {
     "data": {
      "image/png": "[encoded data removed]",
      "text/plain": [
       "<Figure size 640x480 with 1 Axes>"
      ]
     },
     "metadata": {},
     "output_type": "display_data"
    }
   ],
   "source": [
    "from sklearn.feature_selection import SelectPercentile, f_classif\n",
    "\n",
    "\n",
    "selector = SelectPercentile(f_classif, percentile=10)\n",
    "# Fit the data\n",
    "selector.fit(X, y)\n",
    "scores = selector.pvalues_\n",
    "scores /= scores.max()\n",
    "\n",
    "# Display\n",
    "cols = list(df_test.loc[:, df_test.columns != 'is_fraud'].columns.values)\n",
    "y_pos = np.arange(len(cols))\n",
    "plt.bar(y_pos, scores)\n",
    "plt.xticks(y_pos, cols, rotation=90)\n",
    "plt.show()"
   ]
  },
  {
   "cell_type": "markdown",
   "id": "41164e39",
   "metadata": {},
   "source": [
    "## 2. Select possible features that would be beneficial to a final use case. "
   ]
  },
  {
   "cell_type": "markdown",
   "id": "c10ab13d",
   "metadata": {},
   "source": [
    "There were a lot of options in features in this dataset, some not very useful, and some contained so much data that it required further breaking down. For example, the time, that contained useful information in day of week, day of month, month, time of day, etc. Here are a list of features I went with:\n",
    "\n",
    "* sex -- it is good to see if males or females are typically targeted with fraud easier, though it should not matter, it very well could especially when throughing in certain categories that might have correlations for specific people\n",
    "* first and last name -- it seemed to have a correlation with more common names being a target of fraud\n",
    "* category -- categories, based on investigation above, did seem to have some specific categories much more commonly a target of fraud\\\n",
    "* Job -- oddly there was a weird correlation with job and fraud targeted, even with percentages taken in account\n",
    "* merchant -- there was a correlation between the merchants and fraud as it seemed maybe specific places names held more value\n",
    "* time, day of week, day of month -- all of these had differences between fraud and non fraud in the data, especially when split up into an easy to use format.\n",
    "* Dob changed to generation -- this allowed correlations to show between which generation, percentage wise, had a correlation with fraud\n",
    "\n",
    "I am sure there are others that would have worked and could be used in different scenarios but these are what I went with for the above reasons."
   ]
  },
  {
   "cell_type": "markdown",
   "id": "d44ae68e",
   "metadata": {},
   "source": [
    "## 3. List Features that have no use "
   ]
  },
  {
   "cell_type": "markdown",
   "id": "979074bb",
   "metadata": {},
   "source": [
    "Some features to remove that have no use to us are typically features that are simply tokens to count a transaction, or something to keeptrack of. Some features are redundant and simply are not used. Here is the list of features that are for sure removed before training a model:\n",
    "\n",
    "* trans_num -- a unique id not useful for training\n",
    "* cc_num -- should be unique per user and not useful \n",
    "* unix time -- redundant with transaction time in another feature\n",
    "* City -- geographical feature that is redundant and harder to use then lat/long\n",
    "* State -- geographical feature that is redundant and harder to use then lat/long\n",
    "* zipcode -- geographical feature that is redundant and harder to use then lat/long\n",
    "* unnamed: 0 -- not even sure what this feature was suppose to be, so lets remove it just incase\n"
   ]
  },
  {
   "cell_type": "markdown",
   "id": "adffbeb4",
   "metadata": {},
   "source": [
    "## 4. Select a few plausible models, and list why they would be good for this scenario"
   ]
  },
  {
   "cell_type": "markdown",
   "id": "b74ac2be",
   "metadata": {},
   "source": [
    "Many models would fit this situation, but I do think that there are some that fit the bill better then others. Out of the models I would use, here are the ones I think I would go with\n",
    "\n",
    "* Deep Neural network (feed forward with dropout) -- Neural networks are good at taking in data and learning what it can about that data that leads to clusters, correlations, and patterns that humans may not see. In a dataset with so much data as well as so many different features, a neural network could take a lot of time to learn it. It may get a very high scoring but would be very costly to run and upkeep due to drifting, training time, and overfitting which neural networks are prone to.\n",
    "* Random Forest -- Random forests are useful because of how they can create trees using random amounts of features, random depth, and really a lot of randomness in the trees. To encourage even more randomness, an ensemble of random forests could be made which prevents overfitting while retains the ability to have accurate predictions. A random forest probably would not be the best performer, but it would be a good performer that is fairly easy to implement.\n",
    "* Support vector machines -- fraud data contains a lot of data that can produce clustering and figuring out how exactly fraud could happen. A support vector machine is very useful in finding those clusters and dividing them out to use that for prediction. So if, like the predictions show, this data seems to compound together for patterns and clusters, an SVM could help find that. However SVMs can be very prone to overfitting, or never fitting if the data is not well clustered enough and may take a lot of processing to get down to a usable limit."
   ]
  }
 ],
 "metadata": {
  "kernelspec": {
   "display_name": "Python 3 (ipykernel)",
   "language": "python",
   "name": "python3"
  },
  "language_info": {
   "codemirror_mode": {
    "name": "ipython",
    "version": 3
   },
   "file_extension": ".py",
   "mimetype": "text/x-python",
   "name": "python",
   "nbconvert_exporter": "python",
   "pygments_lexer": "ipython3",
   "version": "3.10.6"
  }
 },
 "nbformat": 4,
 "nbformat_minor": 5
}
