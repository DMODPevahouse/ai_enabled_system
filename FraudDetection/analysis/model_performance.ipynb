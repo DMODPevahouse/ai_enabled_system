{
 "cells": [
  {
   "cell_type": "code",
   "execution_count": null,
   "id": "b480a0a1-cd10-47ce-beae-eea60031638a",
   "metadata": {},
   "outputs": [],
   "source": [
    "from sklearn.linear_model import LogisticRegression\n",
    "from sklearn.ensemble import RandomForestClassifier\n",
    "from sklearn.ensemble import GradientBoostingClassifier\n",
    "from sklearn.metrics import accuracy_score, precision_score, recall_score, f1_score, confusion_matrix\n",
    "\n",
    "# Load the training, testing, and validation datasets\n",
    "train_data, train_labels = fraud_dataset.get_training_dataset()\n",
    "val_data, val_labels = fraud_dataset.get_validation_dataset()\n",
    "test_data, test_labels = fraud_dataset.get_testing_dataset()\n",
    "\n",
    "# Define the three candidate models\n",
    "model_lr = LogisticRegression()\n",
    "model_rf = RandomForestClassifier()\n",
    "model_gb = GradientBoostingClassifier()\n",
    "\n",
    "# Train each model on the training dataset\n",
    "model_lr.fit(train_data, train_labels)\n",
    "model_rf.fit(train_data, train_labels)\n",
    "model_gb.fit(train_data, train_labels)\n",
    "\n",
    "# Evaluate each model on the validation dataset\n",
    "val_pred_lr = model_lr.predict(val_data)\n",
    "val_pred_rf = model_rf.predict(val_data)\n",
    "val_pred_gb = model_gb.predict(val_data)\n",
    "\n",
    "val_acc_lr = accuracy_score(val_labels, val_pred_lr)\n",
    "val_acc_rf = accuracy_score(val_labels, val_pred_rf)\n",
    "val_acc_gb = accuracy_score(val_labels, val_pred_gb)\n",
    "\n",
    "val_prec_lr = precision_score(val_labels, val_pred_lr)\n",
    "val_prec_rf = precision_score(val_labels, val_pred_rf)\n",
    "val_prec_gb = precision_score(val_labels, val_pred_gb)\n",
    "\n",
    "val_rec_lr = recall_score(val_labels, val_pred_lr)\n",
    "val_rec_rf = recall_score(val_labels, val_pred_rf)\n",
    "val_rec_gb = recall_score(val_labels, val_pred_gb)\n",
    "\n",
    "val_f1_lr = f1_score(val_labels, val_pred_lr)\n",
    "val_f1_rf = f1_score(val_labels, val_pred_rf)\n",
    "val_f1_gb = f1_score(val_labels, val_pred_gb)\n",
    "\n",
    "val_cm_lr = confusion_matrix(val_labels, val_pred_lr)\n",
    "val_cm_rf = confusion_matrix(val_labels, val_pred_rf)\n",
    "val_cm_gb = confusion_matrix(val_labels, val_pred_gb)\n",
    "\n",
    "# Select the best model based on the validation performance\n",
    "if val_f1_lr > val_f1_rf and val_f1_lr > val_f1_gb:\n",
    "    best_model = model_lr\n",
    "elif val_f1_rf > val_f1_lr and val_f1_rf > val_f1_gb:\n",
    "    best_model = model_rf\n",
    "else:\n",
    "    best_model = model_gb"
   ]
  }
 ],
 "metadata": {
  "kernelspec": {
   "display_name": "Python 3 (ipykernel)",
   "language": "python",
   "name": "python3"
  },
  "language_info": {
   "codemirror_mode": {
    "name": "ipython",
    "version": 3
   },
   "file_extension": ".py",
   "mimetype": "text/x-python",
   "name": "python",
   "nbconvert_exporter": "python",
   "pygments_lexer": "ipython3",
   "version": "3.10.12"
  }
 },
 "nbformat": 4,
 "nbformat_minor": 5
}
