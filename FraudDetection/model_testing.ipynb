{
 "cells": [
  {
   "cell_type": "code",
   "execution_count": 1,
   "id": "a6acc5da",
   "metadata": {
    "tags": []
   },
   "outputs": [],
   "source": [
    "import pandas as pd\n",
    "import numpy as np\n",
    "import sklearn\n",
    "from datasets import Fraud_Dataset\n",
    "from data_pipeline import ETL_Pipeline\n"
   ]
  },
  {
   "cell_type": "code",
   "execution_count": 2,
   "id": "6eab1d49",
   "metadata": {},
   "outputs": [
    {
     "name": "stdout",
     "output_type": "stream",
     "text": [
      "Looking in indexes: https://download.pytorch.org/whl/nightly/cu121\n",
      "Requirement already satisfied: torch in /usr/local/lib/python3.10/dist-packages (2.3.0.dev20240219+cu121)\n",
      "Requirement already satisfied: torchvision in /usr/local/lib/python3.10/dist-packages (0.18.0.dev20240219+cu121)\n",
      "Requirement already satisfied: torchaudio in /usr/local/lib/python3.10/dist-packages (2.2.0.dev20240219+cu121)\n",
      "Requirement already satisfied: filelock in /usr/local/lib/python3.10/dist-packages (from torch) (3.13.1)\n",
      "Requirement already satisfied: typing-extensions>=4.8.0 in /usr/local/lib/python3.10/dist-packages (from torch) (4.9.0)\n",
      "Requirement already satisfied: sympy in /usr/local/lib/python3.10/dist-packages (from torch) (1.12)\n",
      "Requirement already satisfied: networkx in /usr/local/lib/python3.10/dist-packages (from torch) (2.8.8)\n",
      "Requirement already satisfied: jinja2 in /usr/local/lib/python3.10/dist-packages (from torch) (3.1.2)\n",
      "Requirement already satisfied: fsspec in /usr/local/lib/python3.10/dist-packages (from torch) (2023.6.0)\n",
      "Requirement already satisfied: nvidia-cuda-nvrtc-cu12==12.1.105 in /usr/local/lib/python3.10/dist-packages (from torch) (12.1.105)\n",
      "Requirement already satisfied: nvidia-cuda-runtime-cu12==12.1.105 in /usr/local/lib/python3.10/dist-packages (from torch) (12.1.105)\n",
      "Requirement already satisfied: nvidia-cuda-cupti-cu12==12.1.105 in /usr/local/lib/python3.10/dist-packages (from torch) (12.1.105)\n",
      "Requirement already satisfied: nvidia-cudnn-cu12==8.9.2.26 in /usr/local/lib/python3.10/dist-packages (from torch) (8.9.2.26)\n",
      "Requirement already satisfied: nvidia-cublas-cu12==12.1.3.1 in /usr/local/lib/python3.10/dist-packages (from torch) (12.1.3.1)\n",
      "Requirement already satisfied: nvidia-cufft-cu12==11.0.2.54 in /usr/local/lib/python3.10/dist-packages (from torch) (11.0.2.54)\n",
      "Requirement already satisfied: nvidia-curand-cu12==10.3.2.106 in /usr/local/lib/python3.10/dist-packages (from torch) (10.3.2.106)\n",
      "Requirement already satisfied: nvidia-cusolver-cu12==11.4.5.107 in /usr/local/lib/python3.10/dist-packages (from torch) (11.4.5.107)\n",
      "Requirement already satisfied: nvidia-cusparse-cu12==12.1.0.106 in /usr/local/lib/python3.10/dist-packages (from torch) (12.1.0.106)\n",
      "Requirement already satisfied: nvidia-nccl-cu12==2.19.3 in /usr/local/lib/python3.10/dist-packages (from torch) (2.19.3)\n",
      "Requirement already satisfied: nvidia-nvtx-cu12==12.1.105 in /usr/local/lib/python3.10/dist-packages (from torch) (12.1.105)\n",
      "Requirement already satisfied: pytorch-triton==3.0.0+901819d2b6 in /usr/local/lib/python3.10/dist-packages (from torch) (3.0.0+901819d2b6)\n",
      "Requirement already satisfied: nvidia-nvjitlink-cu12 in /usr/local/lib/python3.10/dist-packages (from nvidia-cusolver-cu12==11.4.5.107->torch) (12.3.101)\n",
      "Requirement already satisfied: numpy in /usr/local/lib/python3.10/dist-packages (from torchvision) (1.22.2)\n",
      "Requirement already satisfied: pillow!=8.3.*,>=5.3.0 in /usr/local/lib/python3.10/dist-packages (from torchvision) (9.5.0)\n",
      "Requirement already satisfied: MarkupSafe>=2.0 in /usr/local/lib/python3.10/dist-packages (from jinja2->torch) (2.1.3)\n",
      "Requirement already satisfied: mpmath>=0.19 in /usr/local/lib/python3.10/dist-packages (from sympy->torch) (1.3.0)\n",
      "\u001b[33mWARNING: Running pip as the 'root' user can result in broken permissions and conflicting behaviour with the system package manager. It is recommended to use a virtual environment instead: https://pip.pypa.io/warnings/venv\u001b[0m\u001b[33m\n",
      "\u001b[0m"
     ]
    }
   ],
   "source": [
    "!pip3 install --pre torch torchvision torchaudio --index-url https://download.pytorch.org/whl/nightly/cu121\n"
   ]
  },
  {
   "cell_type": "code",
   "execution_count": 3,
   "id": "d5597a51",
   "metadata": {
    "tags": []
   },
   "outputs": [
    {
     "name": "stdout",
     "output_type": "stream",
     "text": [
      "PyTorch version= 2.3.0.dev20240219+cu121\n",
      "CUDA available= True\n"
     ]
    }
   ],
   "source": [
    "import torch\n",
    "import torch.nn as nn\n",
    "import torch.optim as optim\n",
    "\n",
    "print(f'PyTorch version= {torch.__version__}')\n",
    "print(f'CUDA available= {torch.cuda.is_available()}')  # Need CUDA and GPU present"
   ]
  },
  {
   "cell_type": "code",
   "execution_count": 4,
   "id": "43e2240e",
   "metadata": {
    "tags": []
   },
   "outputs": [
    {
     "name": "stdout",
     "output_type": "stream",
     "text": [
      "CUDA Version\n",
      "nvcc: NVIDIA (R) Cuda compiler driver\n",
      "Copyright (c) 2005-2023 NVIDIA Corporation\n",
      "Built on Mon_Apr__3_17:16:06_PDT_2023\n",
      "Cuda compilation tools, release 12.1, V12.1.105\n",
      "Build cuda_12.1.r12.1/compiler.32688072_0\n",
      "\n",
      "CUDNN Version: 8902\n",
      "Number of CUDA Devices: 1\n",
      "Active CUDA Device: 0\n",
      "Available devices: 1, Name: NVIDIA GeForce RTX 2070 with Max-Q Design\n",
      "Current CUDA device: 0\n"
     ]
    }
   ],
   "source": [
    "# CUDA Installation\n",
    "print('CUDA Version')\n",
    "!nvcc --version\n",
    "print()\n",
    "\n",
    "# CUDNN Installation\n",
    "print(f'CUDNN Version: {torch.backends.cudnn.version()}')\n",
    "print(f'Number of CUDA Devices: {torch.cuda.device_count()}')\n",
    "print(f'Active CUDA Device: {torch.cuda.current_device()}')\n",
    "print(f'Available devices: {torch.cuda.device_count()}, Name: {torch.cuda.get_device_name(0)}')\n",
    "print(f'Current CUDA device: {torch.cuda.current_device()}')"
   ]
  },
  {
   "cell_type": "code",
   "execution_count": 5,
   "id": "da4777ad",
   "metadata": {
    "tags": []
   },
   "outputs": [],
   "source": [
    "df = pd.read_csv('transactions.csv')"
   ]
  },
  {
   "cell_type": "code",
   "execution_count": 6,
   "id": "6e18e413",
   "metadata": {
    "tags": []
   },
   "outputs": [
    {
     "data": {
      "text/plain": [
       "Unnamed: 0                 int64\n",
       "trans_date_trans_time     object\n",
       "cc_num                     int64\n",
       "merchant                  object\n",
       "category                  object\n",
       "amt                      float64\n",
       "first                     object\n",
       "last                      object\n",
       "sex                       object\n",
       "street                    object\n",
       "city                      object\n",
       "state                     object\n",
       "zip                        int64\n",
       "lat                      float64\n",
       "long                     float64\n",
       "city_pop                   int64\n",
       "job                       object\n",
       "dob                       object\n",
       "trans_num                 object\n",
       "unix_time                  int64\n",
       "merch_lat                float64\n",
       "merch_long               float64\n",
       "is_fraud                   int64\n",
       "dtype: object"
      ]
     },
     "execution_count": 6,
     "metadata": {},
     "output_type": "execute_result"
    }
   ],
   "source": [
    "df.dtypes"
   ]
  },
  {
   "cell_type": "code",
   "execution_count": 7,
   "id": "73366880",
   "metadata": {
    "tags": []
   },
   "outputs": [],
   "source": [
    "etl = ETL_Pipeline()\n"
   ]
  },
  {
   "cell_type": "code",
   "execution_count": 8,
   "id": "babf18f1",
   "metadata": {
    "tags": []
   },
   "outputs": [],
   "source": [
    "etl.extract('transactions.csv')"
   ]
  },
  {
   "cell_type": "code",
   "execution_count": 9,
   "id": "3c20b459",
   "metadata": {
    "tags": []
   },
   "outputs": [],
   "source": [
    "etl.transform()"
   ]
  },
  {
   "cell_type": "code",
   "execution_count": 10,
   "id": "51df4f85",
   "metadata": {
    "tags": []
   },
   "outputs": [],
   "source": [
    "etl.load(\"transformed_transactions.csv\")"
   ]
  },
  {
   "cell_type": "code",
   "execution_count": 11,
   "id": "1f024804",
   "metadata": {
    "tags": []
   },
   "outputs": [
    {
     "data": {
      "text/plain": [
       "1852394"
      ]
     },
     "execution_count": 11,
     "metadata": {},
     "output_type": "execute_result"
    }
   ],
   "source": [
    "len(df)"
   ]
  },
  {
   "cell_type": "code",
   "execution_count": 12,
   "id": "a8df35f5",
   "metadata": {
    "tags": []
   },
   "outputs": [],
   "source": [
    "df_used = pd.read_csv('transformed_transactions.csv')"
   ]
  },
  {
   "cell_type": "code",
   "execution_count": 13,
   "id": "1367883f",
   "metadata": {},
   "outputs": [
    {
     "name": "stdout",
     "output_type": "stream",
     "text": [
      "[      0       1       2 ... 1852390 1852392 1852393] [     29      51      53 ... 1852386 1852389 1852391]\n",
      "[      0       1       4 ... 1852390 1852391 1852392] [      2       3      12 ... 1852380 1852388 1852393]\n",
      "[      0       1       2 ... 1852391 1852392 1852393] [      8      19      49 ... 1852376 1852383 1852384]\n",
      "[      0       1       2 ... 1852391 1852392 1852393] [      4      20      35 ... 1852377 1852381 1852382]\n",
      "[      0       1       2 ... 1852391 1852392 1852393] [     10      41      44 ... 1852371 1852372 1852378]\n",
      "[      0       1       2 ... 1852391 1852392 1852393] [      5      18      25 ... 1852368 1852375 1852390]\n",
      "[      0       2       3 ... 1852391 1852392 1852393] [      1       9      11 ... 1852349 1852350 1852379]\n",
      "[      1       2       3 ... 1852391 1852392 1852393] [      0       6      31 ... 1852361 1852370 1852387]\n",
      "[      0       1       2 ... 1852390 1852391 1852393] [     28      33      42 ... 1852345 1852359 1852392]\n",
      "[      0       1       2 ... 1852391 1852392 1852393] [      7      15      21 ... 1852343 1852351 1852385]\n"
     ]
    }
   ],
   "source": [
    "from sklearn.model_selection import StratifiedKFold\n",
    "kf = StratifiedKFold(n_splits=10, shuffle=True, random_state=0)\n",
    "X = df_used.drop('is_fraud', axis=1)\n",
    "y = df_used['is_fraud']\n",
    "    \n",
    "for train_index, test_index in kf.split(X, y):\n",
    "    print(train_index, test_index)"
   ]
  },
  {
   "cell_type": "code",
   "execution_count": 14,
   "id": "539e7f29",
   "metadata": {
    "tags": []
   },
   "outputs": [
    {
     "data": {
      "text/plain": [
       "1852394"
      ]
     },
     "execution_count": 14,
     "metadata": {},
     "output_type": "execute_result"
    }
   ],
   "source": [
    "len(df_used)"
   ]
  },
  {
   "cell_type": "code",
   "execution_count": 15,
   "id": "8f1bda45",
   "metadata": {
    "tags": []
   },
   "outputs": [
    {
     "data": {
      "text/plain": [
       "merchant        float64\n",
       "category        float64\n",
       "amt             float64\n",
       "first           float64\n",
       "last            float64\n",
       "sex             float64\n",
       "lat             float64\n",
       "long            float64\n",
       "city_pop        float64\n",
       "job             float64\n",
       "merch_lat       float64\n",
       "merch_long      float64\n",
       "is_fraud        float64\n",
       "day_of_week     float64\n",
       "day_of_month    float64\n",
       "time            float64\n",
       "generation      float64\n",
       "dtype: object"
      ]
     },
     "execution_count": 15,
     "metadata": {},
     "output_type": "execute_result"
    }
   ],
   "source": [
    "df_used.dtypes"
   ]
  },
  {
   "cell_type": "code",
   "execution_count": 16,
   "id": "074c71f9",
   "metadata": {},
   "outputs": [
    {
     "data": {
      "text/html": [
       "<div>\n",
       "<style scoped>\n",
       "    .dataframe tbody tr th:only-of-type {\n",
       "        vertical-align: middle;\n",
       "    }\n",
       "\n",
       "    .dataframe tbody tr th {\n",
       "        vertical-align: top;\n",
       "    }\n",
       "\n",
       "    .dataframe thead th {\n",
       "        text-align: right;\n",
       "    }\n",
       "</style>\n",
       "<table border=\"1\" class=\"dataframe\">\n",
       "  <thead>\n",
       "    <tr style=\"text-align: right;\">\n",
       "      <th></th>\n",
       "      <th>merchant</th>\n",
       "      <th>category</th>\n",
       "      <th>amt</th>\n",
       "      <th>first</th>\n",
       "      <th>last</th>\n",
       "      <th>sex</th>\n",
       "      <th>lat</th>\n",
       "      <th>long</th>\n",
       "      <th>city_pop</th>\n",
       "      <th>job</th>\n",
       "      <th>merch_lat</th>\n",
       "      <th>merch_long</th>\n",
       "      <th>is_fraud</th>\n",
       "      <th>day_of_week</th>\n",
       "      <th>day_of_month</th>\n",
       "      <th>time</th>\n",
       "      <th>generation</th>\n",
       "    </tr>\n",
       "  </thead>\n",
       "  <tbody>\n",
       "    <tr>\n",
       "      <th>0</th>\n",
       "      <td>0.742775</td>\n",
       "      <td>0.615385</td>\n",
       "      <td>0.000137</td>\n",
       "      <td>0.463277</td>\n",
       "      <td>0.037113</td>\n",
       "      <td>0.0</td>\n",
       "      <td>0.343968</td>\n",
       "      <td>0.864638</td>\n",
       "      <td>0.001194</td>\n",
       "      <td>0.750000</td>\n",
       "      <td>0.350307</td>\n",
       "      <td>0.848603</td>\n",
       "      <td>0.0</td>\n",
       "      <td>0.833333</td>\n",
       "      <td>0.0</td>\n",
       "      <td>0.000000</td>\n",
       "      <td>0.8</td>\n",
       "    </tr>\n",
       "    <tr>\n",
       "      <th>1</th>\n",
       "      <td>0.348266</td>\n",
       "      <td>0.307692</td>\n",
       "      <td>0.003670</td>\n",
       "      <td>0.881356</td>\n",
       "      <td>0.331959</td>\n",
       "      <td>0.0</td>\n",
       "      <td>0.618450</td>\n",
       "      <td>0.485682</td>\n",
       "      <td>0.000043</td>\n",
       "      <td>0.868952</td>\n",
       "      <td>0.621490</td>\n",
       "      <td>0.486209</td>\n",
       "      <td>0.0</td>\n",
       "      <td>0.833333</td>\n",
       "      <td>0.0</td>\n",
       "      <td>0.000000</td>\n",
       "      <td>0.6</td>\n",
       "    </tr>\n",
       "    <tr>\n",
       "      <th>2</th>\n",
       "      <td>0.563584</td>\n",
       "      <td>0.000000</td>\n",
       "      <td>0.007569</td>\n",
       "      <td>0.327684</td>\n",
       "      <td>0.795876</td>\n",
       "      <td>1.0</td>\n",
       "      <td>0.474727</td>\n",
       "      <td>0.546553</td>\n",
       "      <td>0.001421</td>\n",
       "      <td>0.620968</td>\n",
       "      <td>0.497563</td>\n",
       "      <td>0.546698</td>\n",
       "      <td>0.0</td>\n",
       "      <td>0.833333</td>\n",
       "      <td>0.0</td>\n",
       "      <td>0.000000</td>\n",
       "      <td>0.4</td>\n",
       "    </tr>\n",
       "    <tr>\n",
       "      <th>3</th>\n",
       "      <td>0.520231</td>\n",
       "      <td>0.153846</td>\n",
       "      <td>0.001520</td>\n",
       "      <td>0.466102</td>\n",
       "      <td>0.964948</td>\n",
       "      <td>1.0</td>\n",
       "      <td>0.561509</td>\n",
       "      <td>0.548070</td>\n",
       "      <td>0.000659</td>\n",
       "      <td>0.665323</td>\n",
       "      <td>0.577666</td>\n",
       "      <td>0.542621</td>\n",
       "      <td>0.0</td>\n",
       "      <td>0.833333</td>\n",
       "      <td>0.0</td>\n",
       "      <td>0.000695</td>\n",
       "      <td>0.6</td>\n",
       "    </tr>\n",
       "    <tr>\n",
       "      <th>4</th>\n",
       "      <td>0.429191</td>\n",
       "      <td>0.692308</td>\n",
       "      <td>0.001415</td>\n",
       "      <td>0.957627</td>\n",
       "      <td>0.315464</td>\n",
       "      <td>1.0</td>\n",
       "      <td>0.394153</td>\n",
       "      <td>0.882190</td>\n",
       "      <td>0.000026</td>\n",
       "      <td>0.233871</td>\n",
       "      <td>0.405248</td>\n",
       "      <td>0.882857</td>\n",
       "      <td>0.0</td>\n",
       "      <td>0.833333</td>\n",
       "      <td>0.0</td>\n",
       "      <td>0.002085</td>\n",
       "      <td>0.8</td>\n",
       "    </tr>\n",
       "    <tr>\n",
       "      <th>...</th>\n",
       "      <td>...</td>\n",
       "      <td>...</td>\n",
       "      <td>...</td>\n",
       "      <td>...</td>\n",
       "      <td>...</td>\n",
       "      <td>...</td>\n",
       "      <td>...</td>\n",
       "      <td>...</td>\n",
       "      <td>...</td>\n",
       "      <td>...</td>\n",
       "      <td>...</td>\n",
       "      <td>...</td>\n",
       "      <td>...</td>\n",
       "      <td>...</td>\n",
       "      <td>...</td>\n",
       "      <td>...</td>\n",
       "      <td>...</td>\n",
       "    </tr>\n",
       "    <tr>\n",
       "      <th>1852389</th>\n",
       "      <td>0.732659</td>\n",
       "      <td>0.384615</td>\n",
       "      <td>0.001477</td>\n",
       "      <td>0.692090</td>\n",
       "      <td>0.665979</td>\n",
       "      <td>1.0</td>\n",
       "      <td>0.438562</td>\n",
       "      <td>0.755010</td>\n",
       "      <td>0.000171</td>\n",
       "      <td>0.961694</td>\n",
       "      <td>0.431481</td>\n",
       "      <td>0.755493</td>\n",
       "      <td>0.0</td>\n",
       "      <td>0.666667</td>\n",
       "      <td>1.0</td>\n",
       "      <td>1.000000</td>\n",
       "      <td>0.6</td>\n",
       "    </tr>\n",
       "    <tr>\n",
       "      <th>1852390</th>\n",
       "      <td>0.381503</td>\n",
       "      <td>0.538462</td>\n",
       "      <td>0.003829</td>\n",
       "      <td>0.508475</td>\n",
       "      <td>0.903093</td>\n",
       "      <td>1.0</td>\n",
       "      <td>0.193121</td>\n",
       "      <td>0.718694</td>\n",
       "      <td>0.009879</td>\n",
       "      <td>0.417339</td>\n",
       "      <td>0.219328</td>\n",
       "      <td>0.706824</td>\n",
       "      <td>0.0</td>\n",
       "      <td>0.666667</td>\n",
       "      <td>1.0</td>\n",
       "      <td>1.000000</td>\n",
       "      <td>1.0</td>\n",
       "    </tr>\n",
       "    <tr>\n",
       "      <th>1852391</th>\n",
       "      <td>0.716763</td>\n",
       "      <td>0.538462</td>\n",
       "      <td>0.002967</td>\n",
       "      <td>0.053672</td>\n",
       "      <td>0.501031</td>\n",
       "      <td>0.0</td>\n",
       "      <td>0.560781</td>\n",
       "      <td>0.478609</td>\n",
       "      <td>0.001260</td>\n",
       "      <td>0.618952</td>\n",
       "      <td>0.569911</td>\n",
       "      <td>0.470881</td>\n",
       "      <td>0.0</td>\n",
       "      <td>0.666667</td>\n",
       "      <td>1.0</td>\n",
       "      <td>1.000000</td>\n",
       "      <td>0.6</td>\n",
       "    </tr>\n",
       "    <tr>\n",
       "      <th>1852392</th>\n",
       "      <td>0.108382</td>\n",
       "      <td>1.000000</td>\n",
       "      <td>0.000241</td>\n",
       "      <td>0.338983</td>\n",
       "      <td>0.723711</td>\n",
       "      <td>1.0</td>\n",
       "      <td>0.527114</td>\n",
       "      <td>0.503704</td>\n",
       "      <td>0.000036</td>\n",
       "      <td>0.127016</td>\n",
       "      <td>0.524786</td>\n",
       "      <td>0.497296</td>\n",
       "      <td>0.0</td>\n",
       "      <td>0.666667</td>\n",
       "      <td>1.0</td>\n",
       "      <td>1.000000</td>\n",
       "      <td>0.4</td>\n",
       "    </tr>\n",
       "    <tr>\n",
       "      <th>1852393</th>\n",
       "      <td>0.180636</td>\n",
       "      <td>0.000000</td>\n",
       "      <td>0.001283</td>\n",
       "      <td>0.827684</td>\n",
       "      <td>0.305155</td>\n",
       "      <td>1.0</td>\n",
       "      <td>0.335133</td>\n",
       "      <td>0.697821</td>\n",
       "      <td>0.039901</td>\n",
       "      <td>0.582661</td>\n",
       "      <td>0.354407</td>\n",
       "      <td>0.698303</td>\n",
       "      <td>0.0</td>\n",
       "      <td>0.666667</td>\n",
       "      <td>1.0</td>\n",
       "      <td>1.000000</td>\n",
       "      <td>0.8</td>\n",
       "    </tr>\n",
       "  </tbody>\n",
       "</table>\n",
       "<p>1852394 rows × 17 columns</p>\n",
       "</div>"
      ],
      "text/plain": [
       "         merchant  category       amt     first      last  sex       lat  \\\n",
       "0        0.742775  0.615385  0.000137  0.463277  0.037113  0.0  0.343968   \n",
       "1        0.348266  0.307692  0.003670  0.881356  0.331959  0.0  0.618450   \n",
       "2        0.563584  0.000000  0.007569  0.327684  0.795876  1.0  0.474727   \n",
       "3        0.520231  0.153846  0.001520  0.466102  0.964948  1.0  0.561509   \n",
       "4        0.429191  0.692308  0.001415  0.957627  0.315464  1.0  0.394153   \n",
       "...           ...       ...       ...       ...       ...  ...       ...   \n",
       "1852389  0.732659  0.384615  0.001477  0.692090  0.665979  1.0  0.438562   \n",
       "1852390  0.381503  0.538462  0.003829  0.508475  0.903093  1.0  0.193121   \n",
       "1852391  0.716763  0.538462  0.002967  0.053672  0.501031  0.0  0.560781   \n",
       "1852392  0.108382  1.000000  0.000241  0.338983  0.723711  1.0  0.527114   \n",
       "1852393  0.180636  0.000000  0.001283  0.827684  0.305155  1.0  0.335133   \n",
       "\n",
       "             long  city_pop       job  merch_lat  merch_long  is_fraud  \\\n",
       "0        0.864638  0.001194  0.750000   0.350307    0.848603       0.0   \n",
       "1        0.485682  0.000043  0.868952   0.621490    0.486209       0.0   \n",
       "2        0.546553  0.001421  0.620968   0.497563    0.546698       0.0   \n",
       "3        0.548070  0.000659  0.665323   0.577666    0.542621       0.0   \n",
       "4        0.882190  0.000026  0.233871   0.405248    0.882857       0.0   \n",
       "...           ...       ...       ...        ...         ...       ...   \n",
       "1852389  0.755010  0.000171  0.961694   0.431481    0.755493       0.0   \n",
       "1852390  0.718694  0.009879  0.417339   0.219328    0.706824       0.0   \n",
       "1852391  0.478609  0.001260  0.618952   0.569911    0.470881       0.0   \n",
       "1852392  0.503704  0.000036  0.127016   0.524786    0.497296       0.0   \n",
       "1852393  0.697821  0.039901  0.582661   0.354407    0.698303       0.0   \n",
       "\n",
       "         day_of_week  day_of_month      time  generation  \n",
       "0           0.833333           0.0  0.000000         0.8  \n",
       "1           0.833333           0.0  0.000000         0.6  \n",
       "2           0.833333           0.0  0.000000         0.4  \n",
       "3           0.833333           0.0  0.000695         0.6  \n",
       "4           0.833333           0.0  0.002085         0.8  \n",
       "...              ...           ...       ...         ...  \n",
       "1852389     0.666667           1.0  1.000000         0.6  \n",
       "1852390     0.666667           1.0  1.000000         1.0  \n",
       "1852391     0.666667           1.0  1.000000         0.6  \n",
       "1852392     0.666667           1.0  1.000000         0.4  \n",
       "1852393     0.666667           1.0  1.000000         0.8  \n",
       "\n",
       "[1852394 rows x 17 columns]"
      ]
     },
     "execution_count": 16,
     "metadata": {},
     "output_type": "execute_result"
    }
   ],
   "source": [
    "df_used"
   ]
  },
  {
   "cell_type": "code",
   "execution_count": 17,
   "id": "65e5140b",
   "metadata": {
    "tags": []
   },
   "outputs": [],
   "source": [
    "X = df_used.drop('is_fraud', axis=1)\n",
    "y = df_used['is_fraud']\n",
    "\n",
    "fraud_dataset = Fraud_Dataset(X, y)\n",
    "fraud_dataset.stratified_split()"
   ]
  },
  {
   "cell_type": "code",
   "execution_count": 18,
   "id": "8246d002",
   "metadata": {},
   "outputs": [
    {
     "data": {
      "text/plain": [
       "1852394"
      ]
     },
     "execution_count": 18,
     "metadata": {},
     "output_type": "execute_result"
    }
   ],
   "source": [
    "len(X)"
   ]
  },
  {
   "cell_type": "code",
   "execution_count": 19,
   "id": "84e63120",
   "metadata": {
    "tags": []
   },
   "outputs": [],
   "source": [
    "test_x, test_y = fraud_dataset.get_testing_dataset(1)"
   ]
  },
  {
   "cell_type": "code",
   "execution_count": 20,
   "id": "66c3a37b",
   "metadata": {},
   "outputs": [],
   "source": [
    "train_x, train_y = fraud_dataset.get_training_dataset(1)"
   ]
  },
  {
   "cell_type": "code",
   "execution_count": 21,
   "id": "478016fb",
   "metadata": {},
   "outputs": [],
   "source": [
    "validate_x, validate_y = fraud_dataset.get_validation_dataset(1)"
   ]
  },
  {
   "cell_type": "code",
   "execution_count": 22,
   "id": "c9d51aad",
   "metadata": {},
   "outputs": [
    {
     "data": {
      "text/plain": [
       "1481915"
      ]
     },
     "execution_count": 22,
     "metadata": {},
     "output_type": "execute_result"
    }
   ],
   "source": [
    "len(train_x)"
   ]
  },
  {
   "cell_type": "code",
   "execution_count": 23,
   "id": "0652b96d",
   "metadata": {},
   "outputs": [
    {
     "data": {
      "text/plain": [
       "1481915"
      ]
     },
     "execution_count": 23,
     "metadata": {},
     "output_type": "execute_result"
    }
   ],
   "source": [
    "len(train_y)"
   ]
  },
  {
   "cell_type": "code",
   "execution_count": 24,
   "id": "abec1069",
   "metadata": {},
   "outputs": [
    {
     "data": {
      "text/plain": [
       "185239"
      ]
     },
     "execution_count": 24,
     "metadata": {},
     "output_type": "execute_result"
    }
   ],
   "source": [
    "len(validate_x)"
   ]
  },
  {
   "cell_type": "code",
   "execution_count": 25,
   "id": "7924044b",
   "metadata": {},
   "outputs": [
    {
     "data": {
      "text/plain": [
       "185239"
      ]
     },
     "execution_count": 25,
     "metadata": {},
     "output_type": "execute_result"
    }
   ],
   "source": [
    "len(validate_y)"
   ]
  },
  {
   "cell_type": "code",
   "execution_count": 26,
   "id": "aabb96d6",
   "metadata": {
    "tags": []
   },
   "outputs": [
    {
     "data": {
      "text/plain": [
       "185240"
      ]
     },
     "execution_count": 26,
     "metadata": {},
     "output_type": "execute_result"
    }
   ],
   "source": [
    "len(test_x)"
   ]
  },
  {
   "cell_type": "code",
   "execution_count": 27,
   "id": "d85a6b2f",
   "metadata": {
    "tags": []
   },
   "outputs": [
    {
     "data": {
      "text/plain": [
       "185240"
      ]
     },
     "execution_count": 27,
     "metadata": {},
     "output_type": "execute_result"
    }
   ],
   "source": [
    "len(test_y)"
   ]
  },
  {
   "cell_type": "code",
   "execution_count": 28,
   "id": "b3709989",
   "metadata": {},
   "outputs": [
    {
     "data": {
      "text/plain": [
       "5"
      ]
     },
     "execution_count": 28,
     "metadata": {},
     "output_type": "execute_result"
    }
   ],
   "source": [
    "len(fraud_dataset.split_data)"
   ]
  },
  {
   "cell_type": "code",
   "execution_count": 29,
   "id": "4702ce58",
   "metadata": {},
   "outputs": [
    {
     "data": {
      "text/plain": [
       "(         merchant  category       amt     first      last  sex       lat  \\\n",
       " 246494   0.484104  1.000000  0.000223  0.711864  0.496907  0.0  0.526747   \n",
       " 246500   0.627168  0.615385  0.028113  0.711864  0.496907  0.0  0.526747   \n",
       " 246536   0.674855  0.923077  0.033672  0.403955  0.486598  0.0  0.389211   \n",
       " 246552   0.289017  0.846154  0.029213  0.403955  0.486598  0.0  0.389211   \n",
       " 246579   0.297688  0.615385  0.028303  0.403955  0.486598  0.0  0.389211   \n",
       " ...           ...       ...       ...       ...       ...  ...       ...   \n",
       " 1852389  0.732659  0.384615  0.001477  0.692090  0.665979  1.0  0.438562   \n",
       " 1852390  0.381503  0.538462  0.003829  0.508475  0.903093  1.0  0.193121   \n",
       " 1852391  0.716763  0.538462  0.002967  0.053672  0.501031  0.0  0.560781   \n",
       " 1852392  0.108382  1.000000  0.000241  0.338983  0.723711  1.0  0.527114   \n",
       " 1852393  0.180636  0.000000  0.001283  0.827684  0.305155  1.0  0.335133   \n",
       " \n",
       "              long  city_pop       job  merch_lat  merch_long  day_of_week  \\\n",
       " 246494   0.971869  0.000057  0.050403   0.521222    0.969437     0.000000   \n",
       " 246500   0.971869  0.000057  0.050403   0.524418    0.958778     0.000000   \n",
       " 246536   0.817834  0.253300  0.292339   0.383599    0.821354     0.000000   \n",
       " 246552   0.817834  0.253300  0.292339   0.404008    0.808278     0.000000   \n",
       " 246579   0.817834  0.253300  0.292339   0.388224    0.809448     0.000000   \n",
       " ...           ...       ...       ...        ...         ...          ...   \n",
       " 1852389  0.755010  0.000171  0.961694   0.431481    0.755493     0.666667   \n",
       " 1852390  0.718694  0.009879  0.417339   0.219328    0.706824     0.666667   \n",
       " 1852391  0.478609  0.001260  0.618952   0.569911    0.470881     0.666667   \n",
       " 1852392  0.503704  0.000036  0.127016   0.524786    0.497296     0.666667   \n",
       " 1852393  0.697821  0.039901  0.582661   0.354407    0.698303     0.666667   \n",
       " \n",
       "          day_of_month      time  generation  \n",
       " 246494       0.066667  0.920778         0.6  \n",
       " 246500       0.066667  0.923558         0.6  \n",
       " 246536       0.066667  0.938846         0.4  \n",
       " 246552       0.066667  0.946491         0.4  \n",
       " 246579       0.066667  0.958304         0.4  \n",
       " ...               ...       ...         ...  \n",
       " 1852389      1.000000  1.000000         0.6  \n",
       " 1852390      1.000000  1.000000         1.0  \n",
       " 1852391      1.000000  1.000000         0.6  \n",
       " 1852392      1.000000  1.000000         0.4  \n",
       " 1852393      1.000000  1.000000         0.8  \n",
       " \n",
       " [1481915 rows x 16 columns],\n",
       "         merchant  category       amt     first      last  sex       lat  \\\n",
       " 5620    0.728324  0.846154  0.000163  0.627119  0.515464  0.0  0.442483   \n",
       " 214514  0.755780  0.615385  0.000072  0.514124  0.127835  1.0  0.446848   \n",
       " 62164   0.856936  0.846154  0.008779  0.963277  0.014433  0.0  0.303348   \n",
       " 274897  0.261561  0.153846  0.002046  0.189266  0.769072  1.0  0.166345   \n",
       " 366672  0.228324  0.230769  0.002792  0.497175  0.571134  1.0  0.481918   \n",
       " ...          ...       ...       ...       ...       ...  ...       ...   \n",
       " 67043   0.099711  0.461538  0.000087  0.497175  0.859794  1.0  0.476145   \n",
       " 279828  0.839595  0.461538  0.001230  0.144068  0.843299  0.0  0.253563   \n",
       " 351089  0.669075  0.153846  0.001749  0.974576  0.936082  1.0  0.476563   \n",
       " 333947  0.921965  0.692308  0.000004  0.855932  0.030928  0.0  0.528117   \n",
       " 53176   0.040462  0.000000  0.000003  0.485876  0.676289  0.0  0.509118   \n",
       " \n",
       "             long  city_pop       job  merch_lat  merch_long  day_of_week  \\\n",
       " 5620    0.763730  0.000242  0.360887   0.433536    0.755765     0.000000   \n",
       " 214514  0.939048  0.475614  0.945565   0.447085    0.935552     0.000000   \n",
       " 62164   0.861013  0.002859  0.060484   0.296674    0.859115     0.833333   \n",
       " 274897  0.848816  0.117323  0.332661   0.166870    0.832644     0.666667   \n",
       " 366672  0.846167  0.046112  0.717742   0.503366    0.832473     1.000000   \n",
       " ...          ...       ...       ...        ...         ...          ...   \n",
       " 67043   0.940598  0.006139  0.973790   0.464738    0.935496     0.333333   \n",
       " 279828  0.643980  0.000000  0.231855   0.272666    0.645899     0.333333   \n",
       " 351089  0.957719  0.001602  0.387097   0.478974    0.942674     0.000000   \n",
       " 333947  0.632741  0.002747  0.469758   0.513738    0.630270     0.333333   \n",
       " 53176   0.424967  0.000082  0.334677   0.507852    0.426791     0.000000   \n",
       " \n",
       "         day_of_month      time  generation  \n",
       " 5620        0.100000  0.662960         0.6  \n",
       " 214514      0.600000  0.832523         0.8  \n",
       " 62164       0.133333  0.972203         0.8  \n",
       " 274897      0.500000  0.259208         0.8  \n",
       " 366672      0.600000  0.094510         0.4  \n",
       " ...              ...       ...         ...  \n",
       " 67043       0.266667  0.728978         1.0  \n",
       " 279828      0.566667  0.677554         0.6  \n",
       " 351089      0.433333  0.038916         0.8  \n",
       " 333947      0.233333  0.105629         0.2  \n",
       " 53176       0.000000  0.537179         0.4  \n",
       " \n",
       " [185239 rows x 16 columns],\n",
       "         merchant  category       amt     first      last  sex       lat  \\\n",
       " 268336  0.654624  0.769231  0.004115  0.963277  0.014433  0.0  0.303348   \n",
       " 283175  0.789017  0.538462  0.004206  0.946328  0.338144  0.0  0.532602   \n",
       " 40961   0.908960  0.692308  0.000032  1.000000  0.010309  1.0  0.453712   \n",
       " 268202  0.904624  0.692308  0.003674  0.629944  0.736082  0.0  0.612349   \n",
       " 362668  0.709538  0.923077  0.003898  0.827684  0.447423  1.0  0.395683   \n",
       " ...          ...       ...       ...       ...       ...  ...       ...   \n",
       " 211981  0.223988  0.461538  0.002428  0.957627  0.841237  1.0  0.533932   \n",
       " 251643  0.781792  0.076923  0.000226  0.031073  0.513402  0.0  0.450808   \n",
       " 282786  0.797688  0.461538  0.001690  0.556497  0.430928  0.0  0.477982   \n",
       " 74978   0.825145  0.846154  0.000158  0.621469  0.210309  0.0  0.258189   \n",
       " 342972  0.958092  0.461538  0.002570  0.714689  0.542268  0.0  0.243350   \n",
       " \n",
       "             long  city_pop       job  merch_lat  merch_long  day_of_week  \\\n",
       " 268336  0.861013  0.002859  0.060484   0.323426    0.858036     0.500000   \n",
       " 283175  0.941768  0.000731  0.891129   0.538429    0.935206     0.500000   \n",
       " 40961   0.752511  0.000187  0.187500   0.442834    0.741861     0.000000   \n",
       " 268202  0.740617  0.000039  0.131048   0.612120    0.740899     0.500000   \n",
       " 362668  0.820899  0.000186  0.671371   0.388297    0.822802     0.166667   \n",
       " ...          ...       ...       ...        ...         ...          ...   \n",
       " 211981  0.763829  0.000574  0.483871   0.517681    0.763294     0.666667   \n",
       " 251643  0.799007  0.000727  0.758065   0.471194    0.787871     0.500000   \n",
       " 282786  0.717012  0.000362  0.913306   0.462093    0.713680     0.500000   \n",
       " 74978   0.705791  0.000530  0.393145   0.254706    0.700409     1.000000   \n",
       " 342972  0.722564  0.000007  0.344758   0.260934    0.726076     0.166667   \n",
       " \n",
       "         day_of_month      time  generation  \n",
       " 268336      0.366667  0.989576         0.8  \n",
       " 283175      0.600000  0.790132         0.4  \n",
       " 40961       0.800000  0.209173         0.6  \n",
       " 268202      0.366667  0.957609         1.0  \n",
       " 362668      0.533333  0.567060         0.8  \n",
       " ...              ...       ...         ...  \n",
       " 211981      0.566667  0.526755         0.6  \n",
       " 251643      0.133333  0.788742         1.0  \n",
       " 282786      0.600000  0.683113         0.8  \n",
       " 74978       0.400000  0.662960         0.6  \n",
       " 342972      0.300000  0.622655         0.4  \n",
       " \n",
       " [185240 rows x 16 columns],\n",
       " 246494     1.0\n",
       " 246500     1.0\n",
       " 246536     1.0\n",
       " 246552     1.0\n",
       " 246579     1.0\n",
       "           ... \n",
       " 1852389    0.0\n",
       " 1852390    0.0\n",
       " 1852391    0.0\n",
       " 1852392    0.0\n",
       " 1852393    0.0\n",
       " Name: is_fraud, Length: 1481915, dtype: float64,\n",
       " 5620      0.0\n",
       " 214514    0.0\n",
       " 62164     0.0\n",
       " 274897    0.0\n",
       " 366672    0.0\n",
       "          ... \n",
       " 67043     0.0\n",
       " 279828    0.0\n",
       " 351089    0.0\n",
       " 333947    0.0\n",
       " 53176     0.0\n",
       " Name: is_fraud, Length: 185239, dtype: float64,\n",
       " 268336    0.0\n",
       " 283175    0.0\n",
       " 40961     0.0\n",
       " 268202    0.0\n",
       " 362668    0.0\n",
       "          ... \n",
       " 211981    0.0\n",
       " 251643    0.0\n",
       " 282786    0.0\n",
       " 74978     0.0\n",
       " 342972    0.0\n",
       " Name: is_fraud, Length: 185240, dtype: float64)"
      ]
     },
     "execution_count": 29,
     "metadata": {},
     "output_type": "execute_result"
    }
   ],
   "source": [
    "fraud_dataset.split_data[0]"
   ]
  },
  {
   "cell_type": "code",
   "execution_count": 28,
   "id": "32cd5e51",
   "metadata": {},
   "outputs": [],
   "source": [
    "class CustomMLP_GPGPU(nn.Module):\n",
    "    \"\"\" A PyTorch neural network model for GPGPU \"\"\"\n",
    "    def __init__(self, n_hidden=30, epochs=100, eta=0.05, minibatch_size=50):\n",
    "        super(CustomMLP_GPGPU, self).__init__()\n",
    "        self.n_hidden = n_hidden  # size of the hidden layer\n",
    "        self.epochs = epochs  # number of iterations\n",
    "        self.eta = eta  # learning rate\n",
    "        self.minibatch_size = minibatch_size  # size of training batch - 1 would not work\n",
    "        self.fc1, self.fc2, self.fc3 = None, None, None\n",
    "\n",
    "    def _forward(self, X, apply_softmax=False):\n",
    "        assert self.fc1 is not None\n",
    "        \n",
    "        # Carry the data to GPU\n",
    "        X = nn.functional.relu(self.fc1(X.to(gpu)))\n",
    "        X = nn.functional.relu(self.fc2(X))\n",
    "        X = self.fc3(X)\n",
    "        if apply_softmax:\n",
    "            X = nn.functional.softmax(X, dim=1)\n",
    "        return X\n",
    "\n",
    "    def _reset(self):\n",
    "        for m in self.modules():\n",
    "            if isinstance(m, nn.Linear):\n",
    "                 m.reset_parameters()\n",
    "\n",
    "    def predict(self, X):\n",
    "        assert self.fc1 is not None\n",
    "        \n",
    "        # Carry the data to GPU\n",
    "        net_out = self._forward(X.to(gpu, non_blocking=True), apply_softmax=True)\n",
    "        p_values, indices = net_out.max(dim=1)\n",
    "        \n",
    "        # Carry the data back to CPU\n",
    "        return indices.to('cpu')\n",
    "\n",
    "    def fit(self, X_train, y_train):\n",
    "    \n",
    "        # Carry the data to GPU\n",
    "        X_train = torch.flatten(X_train, start_dim=1).to(torch.double)\n",
    "        X_train = X_train.to(gpu, non_blocking=True)\n",
    "        y_train = y_train.to(gpu, non_blocking=True).long()\n",
    "        \n",
    "        self._reset()  # Reset the neural network weights\n",
    "        n_output = torch.unique(y_train).shape[0]\n",
    "        n_features = X_train.shape[1]\n",
    "        \n",
    "        # Carry the input, hidden and output layers to GPU\n",
    "        self.fc1 = nn.Linear(n_features, self.n_hidden, dtype=torch.double).to(gpu)  # Specify dtype here\n",
    "        self.fc2 = nn.Linear(self.n_hidden, self.n_hidden, dtype=torch.double).to(gpu)  # Specify dtype here\n",
    "        self.fc3 = nn.Linear(self.n_hidden, n_output, dtype=torch.double).to(gpu)  # Specify dtype here\n",
    "        \n",
    "        optimizer = optim.SGD(self.parameters(), lr=self.eta, momentum=0.9)\n",
    "        loss_func = nn.CrossEntropyLoss()\n",
    "        \n",
    "        for epoch in range(self.epochs):\n",
    "            indices = torch.randperm(X_train.shape[0])  # Shuffle the indices\n",
    "            X_train, y_train = X_train[indices], y_train[indices]  # Shuffle the data\n",
    "            \n",
    "            for start_idx in range(0, X_train.shape[0] - self.minibatch_size + 1, self.minibatch_size):\n",
    "                end_idx = start_idx + self.minibatch_size\n",
    "                X_batch, y_batch = X_train[start_idx:end_idx], y_train[start_idx:end_idx]\n",
    "                \n",
    "                optimizer.zero_grad()  # Reset the gradients\n",
    "                y_pred = self._forward(X_batch)  # Forward pass\n",
    "                loss = loss_func(y_pred, y_batch)  # Compute the loss\n",
    "                loss.backward()  # Backward pass\n",
    "                optimizer.step()  # Update the parameters"
   ]
  },
  {
   "cell_type": "code",
   "execution_count": 29,
   "id": "9c25acf2",
   "metadata": {},
   "outputs": [],
   "source": [
    "def kfold_eval_docs(_clf, _Xdocs, _ydocs):\n",
    "    from sklearn.model_selection import StratifiedKFold\n",
    "    from sklearn.metrics import accuracy_score\n",
    "\n",
    "    # Need indexable data structure\n",
    "    accuracy = []\n",
    "    kf = StratifiedKFold(n_splits=10, shuffle=True, random_state=0)\n",
    "    for train_index, test_index in kf.split(_Xdocs, _ydocs):\n",
    "        _clf.fit(_Xdocs[train_index], _ydocs[train_index])\n",
    "        y_pred = _clf.predict(_Xdocs[test_index])\n",
    "        accuracy += [accuracy_score(_ydocs[test_index], y_pred)]\n",
    "    return np.array(accuracy)"
   ]
  },
  {
   "cell_type": "code",
   "execution_count": 30,
   "id": "22cf232e",
   "metadata": {},
   "outputs": [],
   "source": [
    "x_train = torch.tensor(train_x.values)\n",
    "y_train = torch.tensor(train_y.values)"
   ]
  },
  {
   "cell_type": "code",
   "execution_count": 31,
   "id": "6f4925fb",
   "metadata": {},
   "outputs": [
    {
     "name": "stdout",
     "output_type": "stream",
     "text": [
      "1481915 1481915\n"
     ]
    }
   ],
   "source": [
    "print(len(x_train), len(y_train))"
   ]
  },
  {
   "cell_type": "code",
   "execution_count": 32,
   "id": "661c7f6f",
   "metadata": {},
   "outputs": [],
   "source": [
    "gpu = torch.device('cuda:0')"
   ]
  },
  {
   "cell_type": "code",
   "execution_count": 26,
   "id": "e63079c2",
   "metadata": {},
   "outputs": [
    {
     "name": "stdout",
     "output_type": "stream",
     "text": [
      "CPU times: user 2 µs, sys: 0 ns, total: 2 µs\n",
      "Wall time: 6.91 µs\n"
     ]
    },
    {
     "name": "stderr",
     "output_type": "stream",
     "text": [
      "/tmp/ipykernel_1348/2988812730.py:4: UserWarning: To copy construct from a tensor, it is recommended to use sourceTensor.clone().detach() or sourceTensor.clone().detach().requires_grad_(True), rather than torch.tensor(sourceTensor).\n",
      "  torch.tensor(x_train), torch.tensor(y_train))\n",
      "\n",
      "KeyboardInterrupt\n",
      "\n"
     ]
    }
   ],
   "source": [
    "%time\n",
    "\n",
    "acc = kfold_eval_docs(CustomMLP_GPGPU(50, 500, 0.05, 300).to(gpu),\n",
    "                      torch.tensor(x_train), torch.tensor(y_train))\n",
    "\n",
    "print(f\"PyTorch Feedforward GPGPU NN 10-fold CV accuracy= {np.mean(acc):.2f} {chr(177)}{np.std(acc):.3f}\")"
   ]
  },
  {
   "cell_type": "code",
   "execution_count": 33,
   "id": "be174d46",
   "metadata": {},
   "outputs": [],
   "source": [
    "from sklearn.metrics import accuracy_score, precision_score, recall_score, f1_score, roc_auc_score\n",
    "from sklearn.metrics import confusion_matrix\n",
    "\n",
    "def kfold_eval_docs(_clf, _Xdocs, _ydocs, metrics=['accuracy', 'precision', 'recall', 'f1', 'roc_auc', 'sensitivity', 'specificity']):\n",
    "    results = {}\n",
    "    \n",
    "    for train_index, test_index in kf.split(_Xdocs, _ydocs):\n",
    "        _clf.fit(_Xdocs[train_index], _ydocs[train_index])\n",
    "        y_pred = _clf.predict(_Xdocs[test_index])\n",
    "        \n",
    "        if 'accuracy' in metrics:\n",
    "            results['accuracy'] = accuracy_score(_ydocs[test_index], y_pred)\n",
    "        if 'precision' in metrics:\n",
    "            results['precision'] = precision_score(_ydocs[test_index], y_pred, average='weighted')\n",
    "        if 'recall' in metrics:\n",
    "            results['recall'] = recall_score(_ydocs[test_index], y_pred, average='weighted')\n",
    "        if 'f1' in metrics:\n",
    "            results['f1'] = f1_score(_ydocs[test_index], y_pred, average='weighted')\n",
    "        if 'roc_auc' in metrics:\n",
    "            results['roc_auc'] = roc_auc_score(_ydocs[test_index], y_pred, average='weighted', multi_class='ovr')\n",
    "        if 'sensitivity' in metrics:\n",
    "            cm = confusion_matrix(_ydocs[test_index], y_pred)\n",
    "            results['sensitivity'] = cm[1,1] / (cm[1,0] + cm[1,1])\n",
    "        if 'specificity' in metrics:\n",
    "            cm = confusion_matrix(_ydocs[test_index], y_pred)\n",
    "            results['specificity'] = cm[0,0] / (cm[0,0] + cm[0,1])\n",
    "        print(results)\n",
    "\n",
    "    return results"
   ]
  },
  {
   "cell_type": "code",
   "execution_count": null,
   "id": "fac15124",
   "metadata": {},
   "outputs": [],
   "source": [
    "%time\n",
    "\n",
    "results = kfold_eval_docs(CustomMLP_GPGPU(50, 100, 0.05, 50).to(gpu),\n",
    "                          torch.tensor(x_train), torch.tensor(y_train))\n",
    "\n",
    "for metric, (mean, std) in results.items():\n",
    "    print(f\"{metric}={mean:.2f} {chr(177)}{std:.3f}\")"
   ]
  },
  {
   "cell_type": "code",
   "execution_count": 1,
   "id": "84ebadb6",
   "metadata": {},
   "outputs": [],
   "source": [
    "from metrics import Metrics"
   ]
  },
  {
   "cell_type": "code",
   "execution_count": 2,
   "id": "9a9c8ab7",
   "metadata": {},
   "outputs": [],
   "source": [
    "y_pred = [1, 0, 1, 1, 1, 0]\n",
    "y = [ 1, 1, 1, 1, 1, 0]\n",
    "met = Metrics()\n",
    "for i in range(5):\n",
    "    met.run(y, y_pred, i)"
   ]
  },
  {
   "cell_type": "code",
   "execution_count": 1,
   "id": "17ace7d8",
   "metadata": {},
   "outputs": [],
   "source": [
    "from model import Fraud_Detector_Model"
   ]
  },
  {
   "cell_type": "code",
   "execution_count": 2,
   "id": "c180f835",
   "metadata": {},
   "outputs": [
    {
     "name": "stderr",
     "output_type": "stream",
     "text": [
      "\n",
      "KeyboardInterrupt\n",
      "\n"
     ]
    }
   ],
   "source": [
    "fd = Fraud_Detector_Model(\"transactions.csv\")\n",
    "fd.train(True)"
   ]
  },
  {
   "cell_type": "code",
   "execution_count": 6,
   "id": "e1d826c3",
   "metadata": {},
   "outputs": [
    {
     "name": "stdout",
     "output_type": "stream",
     "text": [
      "Defaulting to user installation because normal site-packages is not writeable\n",
      "Collecting flask\n",
      "  Using cached flask-3.0.2-py3-none-any.whl.metadata (3.6 kB)\n",
      "Collecting Werkzeug>=3.0.0 (from flask)\n",
      "  Using cached werkzeug-3.0.1-py3-none-any.whl.metadata (4.1 kB)\n",
      "Requirement already satisfied: Jinja2>=3.1.2 in c:\\programdata\\anaconda3\\envs\\torchgpu\\lib\\site-packages (from flask) (3.1.2)\n",
      "Collecting itsdangerous>=2.1.2 (from flask)\n",
      "  Downloading itsdangerous-2.1.2-py3-none-any.whl.metadata (2.9 kB)\n",
      "Collecting click>=8.1.3 (from flask)\n",
      "  Downloading click-8.1.7-py3-none-any.whl.metadata (3.0 kB)\n",
      "Collecting blinker>=1.6.2 (from flask)\n",
      "  Using cached blinker-1.7.0-py3-none-any.whl.metadata (1.9 kB)\n",
      "Requirement already satisfied: colorama in c:\\programdata\\anaconda3\\envs\\torchgpu\\lib\\site-packages (from click>=8.1.3->flask) (0.4.6)\n",
      "Requirement already satisfied: MarkupSafe>=2.0 in c:\\programdata\\anaconda3\\envs\\torchgpu\\lib\\site-packages (from Jinja2>=3.1.2->flask) (2.1.1)\n",
      "Using cached flask-3.0.2-py3-none-any.whl (101 kB)\n",
      "Using cached blinker-1.7.0-py3-none-any.whl (13 kB)\n",
      "Downloading click-8.1.7-py3-none-any.whl (97 kB)\n",
      "   ---------------------------------------- 0.0/97.9 kB ? eta -:--:--\n",
      "   ---------------------------------------- 0.0/97.9 kB ? eta -:--:--\n",
      "   ---- ----------------------------------- 10.2/97.9 kB ? eta -:--:--\n",
      "   ---------------- ----------------------- 41.0/97.9 kB 393.8 kB/s eta 0:00:01\n",
      "   ---------------------------------------- 97.9/97.9 kB 804.6 kB/s eta 0:00:00\n",
      "Using cached itsdangerous-2.1.2-py3-none-any.whl (15 kB)\n",
      "Using cached werkzeug-3.0.1-py3-none-any.whl (226 kB)\n",
      "Installing collected packages: Werkzeug, itsdangerous, click, blinker, flask\n",
      "Successfully installed Werkzeug-3.0.1 blinker-1.7.0 click-8.1.7 flask-3.0.2 itsdangerous-2.1.2\n"
     ]
    },
    {
     "name": "stderr",
     "output_type": "stream",
     "text": [
      "  WARNING: The script flask.exe is installed in 'C:\\Users\\pevah\\AppData\\Roaming\\Python\\Python311\\Scripts' which is not on PATH.\n",
      "  Consider adding this directory to PATH or, if you prefer to suppress this warning, use --no-warn-script-location.\n"
     ]
    }
   ],
   "source": [
    "!pip install flask"
   ]
  },
  {
   "cell_type": "code",
   "execution_count": 77,
   "id": "f2190a8c",
   "metadata": {},
   "outputs": [
    {
     "name": "stdout",
     "output_type": "stream",
     "text": [
      "Training the model, this may take 15-30 minutes depending on data size, the server will start after\n",
      "starting server...\n",
      " * Serving Flask app 'fraud_service'\n",
      " * Debug mode: off\n",
      "\u001b[31m\u001b[1mWARNING: This is a development server. Do not use it in a production deployment. Use a production WSGI server instead.\u001b[0m\n",
      " * Running on all addresses (0.0.0.0)\n",
      " * Running on http://127.0.0.1:8786\n",
      " * Running on http://172.17.0.2:8786\n",
      "\u001b[33mPress CTRL+C to quit\u001b[0m\n",
      "/usr/local/lib/python3.10/dist-packages/sklearn/base.py:409: UserWarning: X does not have valid feature names, but SimpleImputer was fitted with feature names\n",
      "  warnings.warn(\n",
      "172.17.0.1 - - [25/Feb/2024 17:35:19] \"POST /predict HTTP/1.1\" 200 -\n",
      "172.17.0.1 - - [25/Feb/2024 19:11:01] \"GET /crossvalidate HTTP/1.1\" 200 -\n",
      "/usr/local/lib/python3.10/dist-packages/sklearn/base.py:409: UserWarning: X does not have valid feature names, but SimpleImputer was fitted with feature names\n",
      "  warnings.warn(\n",
      "172.17.0.1 - - [25/Feb/2024 19:11:14] \"POST /predict HTTP/1.1\" 200 -\n",
      "^C\n"
     ]
    }
   ],
   "source": [
    "!python fraud_service.py"
   ]
  },
  {
   "cell_type": "code",
   "execution_count": null,
   "id": "9fba1f05",
   "metadata": {},
   "outputs": [],
   "source": []
  }
 ],
 "metadata": {
  "kernelspec": {
   "display_name": "Python 3 (ipykernel)",
   "language": "python",
   "name": "python3"
  },
  "language_info": {
   "codemirror_mode": {
    "name": "ipython",
    "version": 3
   },
   "file_extension": ".py",
   "mimetype": "text/x-python",
   "name": "python",
   "nbconvert_exporter": "python",
   "pygments_lexer": "ipython3",
   "version": "3.10.6"
  }
 },
 "nbformat": 4,
 "nbformat_minor": 5
}
