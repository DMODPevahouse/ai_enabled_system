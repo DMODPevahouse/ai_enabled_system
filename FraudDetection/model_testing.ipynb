{
 "cells": [
  {
   "cell_type": "code",
   "execution_count": 1,
   "id": "4fa93898",
   "metadata": {
    "tags": []
   },
   "outputs": [],
   "source": [
    "import pandas as pd\n",
    "import numpy as np\n",
    "import sklearn\n",
    "from datasets import Fraud_Dataset\n",
    "from data_pipeline import ETL_Pipeline\n"
   ]
  },
  {
   "cell_type": "code",
   "execution_count": 20,
   "id": "413fbed7",
   "metadata": {
    "tags": []
   },
   "outputs": [
    {
     "name": "stdout",
     "output_type": "stream",
     "text": [
      "PyTorch version= 2.1.1\n",
      "CUDA available= True\n"
     ]
    }
   ],
   "source": [
    "import torch\n",
    "import torch.nn as nn\n",
    "import torch.optim as optim\n",
    "\n",
    "print(f'PyTorch version= {torch.__version__}')\n",
    "print(f'CUDA available= {torch.cuda.is_available()}')  # Need CUDA and GPU present"
   ]
  },
  {
   "cell_type": "code",
   "execution_count": 3,
   "id": "7ded5d8e",
   "metadata": {
    "tags": []
   },
   "outputs": [
    {
     "name": "stdout",
     "output_type": "stream",
     "text": [
      "CUDA Version\n",
      "nvcc: NVIDIA (R) Cuda compiler driver\n",
      "Copyright (c) 2005-2023 NVIDIA Corporation\n",
      "Built on Fri_Nov__3_17:51:05_Pacific_Daylight_Time_2023\n",
      "Cuda compilation tools, release 12.3, V12.3.103\n",
      "Build cuda_12.3.r12.3/compiler.33492891_0\n",
      "\n",
      "CUDNN Version: 8801\n",
      "Number of CUDA Devices: 1\n",
      "Active CUDA Device: 0\n",
      "Available devices: 1, Name: NVIDIA GeForce RTX 2070 with Max-Q Design\n",
      "Current CUDA device: 0\n"
     ]
    }
   ],
   "source": [
    "# CUDA Installation\n",
    "print('CUDA Version')\n",
    "!nvcc --version\n",
    "print()\n",
    "\n",
    "# CUDNN Installation\n",
    "print(f'CUDNN Version: {torch.backends.cudnn.version()}')\n",
    "print(f'Number of CUDA Devices: {torch.cuda.device_count()}')\n",
    "print(f'Active CUDA Device: {torch.cuda.current_device()}')\n",
    "print(f'Available devices: {torch.cuda.device_count()}, Name: {torch.cuda.get_device_name(0)}')\n",
    "print(f'Current CUDA device: {torch.cuda.current_device()}')"
   ]
  },
  {
   "cell_type": "code",
   "execution_count": 4,
   "id": "37b550a7",
   "metadata": {
    "tags": []
   },
   "outputs": [],
   "source": [
    "df = pd.read_csv('transactions.csv')"
   ]
  },
  {
   "cell_type": "code",
   "execution_count": 5,
   "id": "197b2e67",
   "metadata": {
    "tags": []
   },
   "outputs": [
    {
     "data": {
      "text/plain": [
       "Unnamed: 0                 int64\n",
       "trans_date_trans_time     object\n",
       "cc_num                     int64\n",
       "merchant                  object\n",
       "category                  object\n",
       "amt                      float64\n",
       "first                     object\n",
       "last                      object\n",
       "sex                       object\n",
       "street                    object\n",
       "city                      object\n",
       "state                     object\n",
       "zip                        int64\n",
       "lat                      float64\n",
       "long                     float64\n",
       "city_pop                   int64\n",
       "job                       object\n",
       "dob                       object\n",
       "trans_num                 object\n",
       "unix_time                  int64\n",
       "merch_lat                float64\n",
       "merch_long               float64\n",
       "is_fraud                   int64\n",
       "dtype: object"
      ]
     },
     "execution_count": 5,
     "metadata": {},
     "output_type": "execute_result"
    }
   ],
   "source": [
    "df.dtypes"
   ]
  },
  {
   "cell_type": "code",
   "execution_count": 6,
   "id": "208c1050",
   "metadata": {
    "tags": []
   },
   "outputs": [],
   "source": [
    "etl = ETL_Pipeline()\n"
   ]
  },
  {
   "cell_type": "code",
   "execution_count": 7,
   "id": "18c2e856",
   "metadata": {
    "tags": []
   },
   "outputs": [],
   "source": [
    "etl.extract('transactions.csv')"
   ]
  },
  {
   "cell_type": "code",
   "execution_count": 8,
   "id": "cadd6fe0",
   "metadata": {
    "tags": []
   },
   "outputs": [],
   "source": [
    "etl.transform()"
   ]
  },
  {
   "cell_type": "code",
   "execution_count": 9,
   "id": "ae8cc16f",
   "metadata": {
    "tags": []
   },
   "outputs": [],
   "source": [
    "etl.load(\"transformed_transactions.csv\")"
   ]
  },
  {
   "cell_type": "code",
   "execution_count": 10,
   "id": "1ce650bf",
   "metadata": {
    "tags": []
   },
   "outputs": [
    {
     "data": {
      "text/plain": [
       "1852394"
      ]
     },
     "execution_count": 10,
     "metadata": {},
     "output_type": "execute_result"
    }
   ],
   "source": [
    "len(df)"
   ]
  },
  {
   "cell_type": "code",
   "execution_count": 11,
   "id": "57decba8",
   "metadata": {
    "tags": []
   },
   "outputs": [],
   "source": [
    "df_used = pd.read_csv('transformed_transactions.csv')"
   ]
  },
  {
   "cell_type": "code",
   "execution_count": 12,
   "id": "dc61cfc7",
   "metadata": {
    "tags": []
   },
   "outputs": [
    {
     "data": {
      "text/plain": [
       "1852394"
      ]
     },
     "execution_count": 12,
     "metadata": {},
     "output_type": "execute_result"
    }
   ],
   "source": [
    "len(df_used)"
   ]
  },
  {
   "cell_type": "code",
   "execution_count": 38,
   "id": "10282a7e",
   "metadata": {
    "tags": []
   },
   "outputs": [
    {
     "data": {
      "text/plain": [
       "merchant        float64\n",
       "category        float64\n",
       "amt             float64\n",
       "first           float64\n",
       "last            float64\n",
       "sex             float64\n",
       "lat             float64\n",
       "long            float64\n",
       "city_pop        float64\n",
       "job             float64\n",
       "merch_lat       float64\n",
       "merch_long      float64\n",
       "is_fraud        float64\n",
       "day_of_week     float64\n",
       "day_of_month    float64\n",
       "time            float64\n",
       "generation      float64\n",
       "dtype: object"
      ]
     },
     "execution_count": 38,
     "metadata": {},
     "output_type": "execute_result"
    }
   ],
   "source": [
    "df_used.dtypes"
   ]
  },
  {
   "cell_type": "code",
   "execution_count": 14,
   "id": "a3d1daee-8dc3-4fa1-abd3-6d675dec5947",
   "metadata": {},
   "outputs": [
    {
     "data": {
      "text/html": [
       "<div>\n",
       "<style scoped>\n",
       "    .dataframe tbody tr th:only-of-type {\n",
       "        vertical-align: middle;\n",
       "    }\n",
       "\n",
       "    .dataframe tbody tr th {\n",
       "        vertical-align: top;\n",
       "    }\n",
       "\n",
       "    .dataframe thead th {\n",
       "        text-align: right;\n",
       "    }\n",
       "</style>\n",
       "<table border=\"1\" class=\"dataframe\">\n",
       "  <thead>\n",
       "    <tr style=\"text-align: right;\">\n",
       "      <th></th>\n",
       "      <th>merchant</th>\n",
       "      <th>category</th>\n",
       "      <th>amt</th>\n",
       "      <th>first</th>\n",
       "      <th>last</th>\n",
       "      <th>sex</th>\n",
       "      <th>lat</th>\n",
       "      <th>long</th>\n",
       "      <th>city_pop</th>\n",
       "      <th>job</th>\n",
       "      <th>merch_lat</th>\n",
       "      <th>merch_long</th>\n",
       "      <th>is_fraud</th>\n",
       "      <th>day_of_week</th>\n",
       "      <th>day_of_month</th>\n",
       "      <th>time</th>\n",
       "      <th>generation</th>\n",
       "    </tr>\n",
       "  </thead>\n",
       "  <tbody>\n",
       "    <tr>\n",
       "      <th>0</th>\n",
       "      <td>0.742775</td>\n",
       "      <td>0.615385</td>\n",
       "      <td>0.000137</td>\n",
       "      <td>0.463277</td>\n",
       "      <td>0.037113</td>\n",
       "      <td>0.0</td>\n",
       "      <td>0.343968</td>\n",
       "      <td>0.864638</td>\n",
       "      <td>0.001194</td>\n",
       "      <td>0.750000</td>\n",
       "      <td>0.350307</td>\n",
       "      <td>0.848603</td>\n",
       "      <td>0.0</td>\n",
       "      <td>0.833333</td>\n",
       "      <td>0.0</td>\n",
       "      <td>0.000000</td>\n",
       "      <td>0.8</td>\n",
       "    </tr>\n",
       "    <tr>\n",
       "      <th>1</th>\n",
       "      <td>0.348266</td>\n",
       "      <td>0.307692</td>\n",
       "      <td>0.003670</td>\n",
       "      <td>0.881356</td>\n",
       "      <td>0.331959</td>\n",
       "      <td>0.0</td>\n",
       "      <td>0.618450</td>\n",
       "      <td>0.485682</td>\n",
       "      <td>0.000043</td>\n",
       "      <td>0.868952</td>\n",
       "      <td>0.621490</td>\n",
       "      <td>0.486209</td>\n",
       "      <td>0.0</td>\n",
       "      <td>0.833333</td>\n",
       "      <td>0.0</td>\n",
       "      <td>0.000000</td>\n",
       "      <td>0.6</td>\n",
       "    </tr>\n",
       "    <tr>\n",
       "      <th>2</th>\n",
       "      <td>0.563584</td>\n",
       "      <td>0.000000</td>\n",
       "      <td>0.007569</td>\n",
       "      <td>0.327684</td>\n",
       "      <td>0.795876</td>\n",
       "      <td>1.0</td>\n",
       "      <td>0.474727</td>\n",
       "      <td>0.546553</td>\n",
       "      <td>0.001421</td>\n",
       "      <td>0.620968</td>\n",
       "      <td>0.497563</td>\n",
       "      <td>0.546698</td>\n",
       "      <td>0.0</td>\n",
       "      <td>0.833333</td>\n",
       "      <td>0.0</td>\n",
       "      <td>0.000000</td>\n",
       "      <td>0.4</td>\n",
       "    </tr>\n",
       "    <tr>\n",
       "      <th>3</th>\n",
       "      <td>0.520231</td>\n",
       "      <td>0.153846</td>\n",
       "      <td>0.001520</td>\n",
       "      <td>0.466102</td>\n",
       "      <td>0.964948</td>\n",
       "      <td>1.0</td>\n",
       "      <td>0.561509</td>\n",
       "      <td>0.548070</td>\n",
       "      <td>0.000659</td>\n",
       "      <td>0.665323</td>\n",
       "      <td>0.577666</td>\n",
       "      <td>0.542621</td>\n",
       "      <td>0.0</td>\n",
       "      <td>0.833333</td>\n",
       "      <td>0.0</td>\n",
       "      <td>0.000695</td>\n",
       "      <td>0.6</td>\n",
       "    </tr>\n",
       "    <tr>\n",
       "      <th>4</th>\n",
       "      <td>0.429191</td>\n",
       "      <td>0.692308</td>\n",
       "      <td>0.001415</td>\n",
       "      <td>0.957627</td>\n",
       "      <td>0.315464</td>\n",
       "      <td>1.0</td>\n",
       "      <td>0.394153</td>\n",
       "      <td>0.882190</td>\n",
       "      <td>0.000026</td>\n",
       "      <td>0.233871</td>\n",
       "      <td>0.405248</td>\n",
       "      <td>0.882857</td>\n",
       "      <td>0.0</td>\n",
       "      <td>0.833333</td>\n",
       "      <td>0.0</td>\n",
       "      <td>0.002085</td>\n",
       "      <td>0.8</td>\n",
       "    </tr>\n",
       "    <tr>\n",
       "      <th>...</th>\n",
       "      <td>...</td>\n",
       "      <td>...</td>\n",
       "      <td>...</td>\n",
       "      <td>...</td>\n",
       "      <td>...</td>\n",
       "      <td>...</td>\n",
       "      <td>...</td>\n",
       "      <td>...</td>\n",
       "      <td>...</td>\n",
       "      <td>...</td>\n",
       "      <td>...</td>\n",
       "      <td>...</td>\n",
       "      <td>...</td>\n",
       "      <td>...</td>\n",
       "      <td>...</td>\n",
       "      <td>...</td>\n",
       "      <td>...</td>\n",
       "    </tr>\n",
       "    <tr>\n",
       "      <th>1852389</th>\n",
       "      <td>0.732659</td>\n",
       "      <td>0.384615</td>\n",
       "      <td>0.001477</td>\n",
       "      <td>0.692090</td>\n",
       "      <td>0.665979</td>\n",
       "      <td>1.0</td>\n",
       "      <td>0.438562</td>\n",
       "      <td>0.755010</td>\n",
       "      <td>0.000171</td>\n",
       "      <td>0.961694</td>\n",
       "      <td>0.431481</td>\n",
       "      <td>0.755493</td>\n",
       "      <td>0.0</td>\n",
       "      <td>0.666667</td>\n",
       "      <td>1.0</td>\n",
       "      <td>1.000000</td>\n",
       "      <td>0.6</td>\n",
       "    </tr>\n",
       "    <tr>\n",
       "      <th>1852390</th>\n",
       "      <td>0.381503</td>\n",
       "      <td>0.538462</td>\n",
       "      <td>0.003829</td>\n",
       "      <td>0.508475</td>\n",
       "      <td>0.903093</td>\n",
       "      <td>1.0</td>\n",
       "      <td>0.193121</td>\n",
       "      <td>0.718694</td>\n",
       "      <td>0.009879</td>\n",
       "      <td>0.417339</td>\n",
       "      <td>0.219328</td>\n",
       "      <td>0.706824</td>\n",
       "      <td>0.0</td>\n",
       "      <td>0.666667</td>\n",
       "      <td>1.0</td>\n",
       "      <td>1.000000</td>\n",
       "      <td>1.0</td>\n",
       "    </tr>\n",
       "    <tr>\n",
       "      <th>1852391</th>\n",
       "      <td>0.716763</td>\n",
       "      <td>0.538462</td>\n",
       "      <td>0.002967</td>\n",
       "      <td>0.053672</td>\n",
       "      <td>0.501031</td>\n",
       "      <td>0.0</td>\n",
       "      <td>0.560781</td>\n",
       "      <td>0.478609</td>\n",
       "      <td>0.001260</td>\n",
       "      <td>0.618952</td>\n",
       "      <td>0.569911</td>\n",
       "      <td>0.470881</td>\n",
       "      <td>0.0</td>\n",
       "      <td>0.666667</td>\n",
       "      <td>1.0</td>\n",
       "      <td>1.000000</td>\n",
       "      <td>0.6</td>\n",
       "    </tr>\n",
       "    <tr>\n",
       "      <th>1852392</th>\n",
       "      <td>0.108382</td>\n",
       "      <td>1.000000</td>\n",
       "      <td>0.000241</td>\n",
       "      <td>0.338983</td>\n",
       "      <td>0.723711</td>\n",
       "      <td>1.0</td>\n",
       "      <td>0.527114</td>\n",
       "      <td>0.503704</td>\n",
       "      <td>0.000036</td>\n",
       "      <td>0.127016</td>\n",
       "      <td>0.524786</td>\n",
       "      <td>0.497296</td>\n",
       "      <td>0.0</td>\n",
       "      <td>0.666667</td>\n",
       "      <td>1.0</td>\n",
       "      <td>1.000000</td>\n",
       "      <td>0.4</td>\n",
       "    </tr>\n",
       "    <tr>\n",
       "      <th>1852393</th>\n",
       "      <td>0.180636</td>\n",
       "      <td>0.000000</td>\n",
       "      <td>0.001283</td>\n",
       "      <td>0.827684</td>\n",
       "      <td>0.305155</td>\n",
       "      <td>1.0</td>\n",
       "      <td>0.335133</td>\n",
       "      <td>0.697821</td>\n",
       "      <td>0.039901</td>\n",
       "      <td>0.582661</td>\n",
       "      <td>0.354407</td>\n",
       "      <td>0.698303</td>\n",
       "      <td>0.0</td>\n",
       "      <td>0.666667</td>\n",
       "      <td>1.0</td>\n",
       "      <td>1.000000</td>\n",
       "      <td>0.8</td>\n",
       "    </tr>\n",
       "  </tbody>\n",
       "</table>\n",
       "<p>1852394 rows × 17 columns</p>\n",
       "</div>"
      ],
      "text/plain": [
       "         merchant  category       amt     first      last  sex       lat  \\\n",
       "0        0.742775  0.615385  0.000137  0.463277  0.037113  0.0  0.343968   \n",
       "1        0.348266  0.307692  0.003670  0.881356  0.331959  0.0  0.618450   \n",
       "2        0.563584  0.000000  0.007569  0.327684  0.795876  1.0  0.474727   \n",
       "3        0.520231  0.153846  0.001520  0.466102  0.964948  1.0  0.561509   \n",
       "4        0.429191  0.692308  0.001415  0.957627  0.315464  1.0  0.394153   \n",
       "...           ...       ...       ...       ...       ...  ...       ...   \n",
       "1852389  0.732659  0.384615  0.001477  0.692090  0.665979  1.0  0.438562   \n",
       "1852390  0.381503  0.538462  0.003829  0.508475  0.903093  1.0  0.193121   \n",
       "1852391  0.716763  0.538462  0.002967  0.053672  0.501031  0.0  0.560781   \n",
       "1852392  0.108382  1.000000  0.000241  0.338983  0.723711  1.0  0.527114   \n",
       "1852393  0.180636  0.000000  0.001283  0.827684  0.305155  1.0  0.335133   \n",
       "\n",
       "             long  city_pop       job  merch_lat  merch_long  is_fraud  \\\n",
       "0        0.864638  0.001194  0.750000   0.350307    0.848603       0.0   \n",
       "1        0.485682  0.000043  0.868952   0.621490    0.486209       0.0   \n",
       "2        0.546553  0.001421  0.620968   0.497563    0.546698       0.0   \n",
       "3        0.548070  0.000659  0.665323   0.577666    0.542621       0.0   \n",
       "4        0.882190  0.000026  0.233871   0.405248    0.882857       0.0   \n",
       "...           ...       ...       ...        ...         ...       ...   \n",
       "1852389  0.755010  0.000171  0.961694   0.431481    0.755493       0.0   \n",
       "1852390  0.718694  0.009879  0.417339   0.219328    0.706824       0.0   \n",
       "1852391  0.478609  0.001260  0.618952   0.569911    0.470881       0.0   \n",
       "1852392  0.503704  0.000036  0.127016   0.524786    0.497296       0.0   \n",
       "1852393  0.697821  0.039901  0.582661   0.354407    0.698303       0.0   \n",
       "\n",
       "         day_of_week  day_of_month      time  generation  \n",
       "0           0.833333           0.0  0.000000         0.8  \n",
       "1           0.833333           0.0  0.000000         0.6  \n",
       "2           0.833333           0.0  0.000000         0.4  \n",
       "3           0.833333           0.0  0.000695         0.6  \n",
       "4           0.833333           0.0  0.002085         0.8  \n",
       "...              ...           ...       ...         ...  \n",
       "1852389     0.666667           1.0  1.000000         0.6  \n",
       "1852390     0.666667           1.0  1.000000         1.0  \n",
       "1852391     0.666667           1.0  1.000000         0.6  \n",
       "1852392     0.666667           1.0  1.000000         0.4  \n",
       "1852393     0.666667           1.0  1.000000         0.8  \n",
       "\n",
       "[1852394 rows x 17 columns]"
      ]
     },
     "execution_count": 14,
     "metadata": {},
     "output_type": "execute_result"
    }
   ],
   "source": [
    "df_used"
   ]
  },
  {
   "cell_type": "code",
   "execution_count": 15,
   "id": "721b05ac",
   "metadata": {
    "tags": []
   },
   "outputs": [],
   "source": [
    "X = df_used.drop('is_fraud', axis=1)\n",
    "y = df_used['is_fraud']\n",
    "\n",
    "fraud_dataset = Fraud_Dataset(X, y)\n",
    "fraud_dataset.stratified_split()"
   ]
  },
  {
   "cell_type": "code",
   "execution_count": 16,
   "id": "a2eacd70",
   "metadata": {
    "tags": []
   },
   "outputs": [],
   "source": [
    "test_x, test_y = fraud_dataset.get_testing_dataset()"
   ]
  },
  {
   "cell_type": "code",
   "execution_count": 39,
   "id": "d2320dfd-63f8-4780-938a-50dc64f2a93f",
   "metadata": {},
   "outputs": [],
   "source": [
    "train_x, train_y = fraud_dataset.get_training_dataset()"
   ]
  },
  {
   "cell_type": "code",
   "execution_count": 17,
   "id": "4d7c5c6e",
   "metadata": {
    "tags": []
   },
   "outputs": [
    {
     "data": {
      "text/plain": [
       "185239"
      ]
     },
     "execution_count": 17,
     "metadata": {},
     "output_type": "execute_result"
    }
   ],
   "source": [
    "len(test_x)"
   ]
  },
  {
   "cell_type": "code",
   "execution_count": 18,
   "id": "8a0f761d",
   "metadata": {
    "tags": []
   },
   "outputs": [
    {
     "data": {
      "text/plain": [
       "185239"
      ]
     },
     "execution_count": 18,
     "metadata": {},
     "output_type": "execute_result"
    }
   ],
   "source": [
    "len(test_y)"
   ]
  },
  {
   "cell_type": "code",
   "execution_count": 51,
   "id": "ce508b0a",
   "metadata": {},
   "outputs": [],
   "source": [
    "class CustomMLP_GPGPU(nn.Module):\n",
    "    \"\"\" A PyTorch neural network model for GPGPU \"\"\"\n",
    "    def __init__(self, n_hidden=30, epochs=100, eta=0.05, minibatch_size=50):\n",
    "        super(CustomMLP_GPGPU, self).__init__()\n",
    "        self.n_hidden = n_hidden  # size of the hidden layer\n",
    "        self.epochs = epochs  # number of iterations\n",
    "        self.eta = eta  # learning rate\n",
    "        self.minibatch_size = minibatch_size  # size of training batch - 1 would not work\n",
    "        self.fc1, self.fc2, self.fc3 = None, None, None\n",
    "\n",
    "    def _forward(self, X, apply_softmax=False):\n",
    "        assert self.fc1 is not None\n",
    "        \n",
    "        # Carry the data to GPU\n",
    "        X = nn.functional.relu(self.fc1(X.to(gpu)))\n",
    "        X = nn.functional.relu(self.fc2(X))\n",
    "        X = self.fc3(X)\n",
    "        if apply_softmax:\n",
    "            X = nn.functional.softmax(X, dim=1)\n",
    "        return X\n",
    "\n",
    "    def _reset(self):\n",
    "        for m in self.modules():\n",
    "            if isinstance(m, nn.Linear):\n",
    "                 m.reset_parameters()\n",
    "\n",
    "    def predict(self, X):\n",
    "        assert self.fc1 is not None\n",
    "        \n",
    "        # Carry the data to GPU\n",
    "        net_out = self._forward(X.to(gpu, non_blocking=True), apply_softmax=True)\n",
    "        p_values, indices = net_out.max(dim=1)\n",
    "        \n",
    "        # Carry the data back to CPU\n",
    "        return indices.to('cpu')\n",
    "\n",
    "    def fit(self, X_train, y_train):\n",
    "    \n",
    "        # Carry the data to GPU\n",
    "        X_train = torch.flatten(X_train, start_dim=1).to(torch.double)\n",
    "        X_train = X_train.to(gpu, non_blocking=True)\n",
    "        y_train = y_train.to(gpu, non_blocking=True).long()\n",
    "        \n",
    "        self._reset()  # Reset the neural network weights\n",
    "        n_output = torch.unique(y_train).shape[0]\n",
    "        n_features = X_train.shape[1]\n",
    "        \n",
    "        # Carry the input, hidden and output layers to GPU\n",
    "        self.fc1 = nn.Linear(n_features, self.n_hidden, dtype=torch.double).to(gpu)  # Specify dtype here\n",
    "        self.fc2 = nn.Linear(self.n_hidden, self.n_hidden, dtype=torch.double).to(gpu)  # Specify dtype here\n",
    "        self.fc3 = nn.Linear(self.n_hidden, n_output, dtype=torch.double).to(gpu)  # Specify dtype here\n",
    "        \n",
    "        optimizer = optim.SGD(self.parameters(), lr=self.eta, momentum=0.9)\n",
    "        loss_func = nn.CrossEntropyLoss()\n",
    "        \n",
    "        for epoch in range(self.epochs):\n",
    "            indices = torch.randperm(X_train.shape[0])  # Shuffle the indices\n",
    "            X_train, y_train = X_train[indices], y_train[indices]  # Shuffle the data\n",
    "            \n",
    "            for start_idx in range(0, X_train.shape[0] - self.minibatch_size + 1, self.minibatch_size):\n",
    "                end_idx = start_idx + self.minibatch_size\n",
    "                X_batch, y_batch = X_train[start_idx:end_idx], y_train[start_idx:end_idx]\n",
    "                \n",
    "                optimizer.zero_grad()  # Reset the gradients\n",
    "                y_pred = self._forward(X_batch)  # Forward pass\n",
    "                loss = loss_func(y_pred, y_batch)  # Compute the loss\n",
    "                loss.backward()  # Backward pass\n",
    "                optimizer.step()  # Update the parameters"
   ]
  },
  {
   "cell_type": "code",
   "execution_count": 52,
   "id": "2f659b87-ab74-42cb-b793-75adeeb5fe1f",
   "metadata": {},
   "outputs": [],
   "source": [
    "def kfold_eval_docs(_clf, _Xdocs, _ydocs):\n",
    "    from sklearn.model_selection import StratifiedKFold\n",
    "    from sklearn.metrics import accuracy_score\n",
    "\n",
    "    # Need indexable data structure\n",
    "    accuracy = []\n",
    "    kf = StratifiedKFold(n_splits=10, shuffle=True, random_state=0)\n",
    "    for train_index, test_index in kf.split(_Xdocs, _ydocs):\n",
    "        _clf.fit(_Xdocs[train_index], _ydocs[train_index])\n",
    "        y_pred = _clf.predict(_Xdocs[test_index])\n",
    "        accuracy += [accuracy_score(_ydocs[test_index], y_pred)]\n",
    "    return np.array(accuracy)"
   ]
  },
  {
   "cell_type": "code",
   "execution_count": 53,
   "id": "f5585643-6538-4981-b672-f83c0adbaea2",
   "metadata": {},
   "outputs": [],
   "source": [
    "x_train = torch.tensor(train_x.values)\n",
    "y_train = torch.tensor(train_y.values)"
   ]
  },
  {
   "cell_type": "code",
   "execution_count": 54,
   "id": "2a0924a5-b216-4477-8ab8-b2d6a4df85da",
   "metadata": {},
   "outputs": [
    {
     "name": "stdout",
     "output_type": "stream",
     "text": [
      "1481915 1481915\n"
     ]
    }
   ],
   "source": [
    "print(len(x_train), len(y_train))"
   ]
  },
  {
   "cell_type": "code",
   "execution_count": 55,
   "id": "b0819a90-dec2-4e21-b944-4933a7cdb738",
   "metadata": {},
   "outputs": [],
   "source": [
    "gpu = torch.device('cuda:0')"
   ]
  },
  {
   "cell_type": "code",
   "execution_count": 56,
   "id": "2790aeab-feda-4c6e-b6f1-ed51d0e50406",
   "metadata": {},
   "outputs": [
    {
     "name": "stdout",
     "output_type": "stream",
     "text": [
      "CPU times: total: 0 ns\n",
      "Wall time: 0 ns\n"
     ]
    },
    {
     "name": "stderr",
     "output_type": "stream",
     "text": [
      "C:\\Users\\pevah\\AppData\\Local\\Temp\\ipykernel_6360\\2988812730.py:4: UserWarning: To copy construct from a tensor, it is recommended to use sourceTensor.clone().detach() or sourceTensor.clone().detach().requires_grad_(True), rather than torch.tensor(sourceTensor).\n",
      "  torch.tensor(x_train), torch.tensor(y_train))\n"
     ]
    },
    {
     "ename": "KeyboardInterrupt",
     "evalue": "",
     "output_type": "error",
     "traceback": [
      "\u001b[1;31m---------------------------------------------------------------------------\u001b[0m",
      "\u001b[1;31mKeyboardInterrupt\u001b[0m                         Traceback (most recent call last)",
      "Cell \u001b[1;32mIn[56], line 3\u001b[0m\n\u001b[0;32m      1\u001b[0m get_ipython()\u001b[38;5;241m.\u001b[39mrun_line_magic(\u001b[38;5;124m'\u001b[39m\u001b[38;5;124mtime\u001b[39m\u001b[38;5;124m'\u001b[39m, \u001b[38;5;124m'\u001b[39m\u001b[38;5;124m'\u001b[39m)\n\u001b[1;32m----> 3\u001b[0m acc \u001b[38;5;241m=\u001b[39m kfold_eval_docs(CustomMLP_GPGPU(\u001b[38;5;241m50\u001b[39m, \u001b[38;5;241m500\u001b[39m, \u001b[38;5;241m0.05\u001b[39m, \u001b[38;5;241m300\u001b[39m)\u001b[38;5;241m.\u001b[39mto(gpu),\n\u001b[0;32m      4\u001b[0m                       torch\u001b[38;5;241m.\u001b[39mtensor(x_train), torch\u001b[38;5;241m.\u001b[39mtensor(y_train))\n\u001b[0;32m      6\u001b[0m \u001b[38;5;28mprint\u001b[39m(\u001b[38;5;124mf\u001b[39m\u001b[38;5;124m\"\u001b[39m\u001b[38;5;124mPyTorch Feedforward GPGPU NN 10-fold CV accuracy= \u001b[39m\u001b[38;5;132;01m{\u001b[39;00mnp\u001b[38;5;241m.\u001b[39mmean(acc)\u001b[38;5;132;01m:\u001b[39;00m\u001b[38;5;124m.2f\u001b[39m\u001b[38;5;132;01m}\u001b[39;00m\u001b[38;5;124m \u001b[39m\u001b[38;5;132;01m{\u001b[39;00m\u001b[38;5;28mchr\u001b[39m(\u001b[38;5;241m177\u001b[39m)\u001b[38;5;132;01m}\u001b[39;00m\u001b[38;5;132;01m{\u001b[39;00mnp\u001b[38;5;241m.\u001b[39mstd(acc)\u001b[38;5;132;01m:\u001b[39;00m\u001b[38;5;124m.3f\u001b[39m\u001b[38;5;132;01m}\u001b[39;00m\u001b[38;5;124m\"\u001b[39m)\n",
      "Cell \u001b[1;32mIn[52], line 9\u001b[0m, in \u001b[0;36mkfold_eval_docs\u001b[1;34m(_clf, _Xdocs, _ydocs)\u001b[0m\n\u001b[0;32m      7\u001b[0m kf \u001b[38;5;241m=\u001b[39m StratifiedKFold(n_splits\u001b[38;5;241m=\u001b[39m\u001b[38;5;241m10\u001b[39m, shuffle\u001b[38;5;241m=\u001b[39m\u001b[38;5;28;01mTrue\u001b[39;00m, random_state\u001b[38;5;241m=\u001b[39m\u001b[38;5;241m0\u001b[39m)\n\u001b[0;32m      8\u001b[0m \u001b[38;5;28;01mfor\u001b[39;00m train_index, test_index \u001b[38;5;129;01min\u001b[39;00m kf\u001b[38;5;241m.\u001b[39msplit(_Xdocs, _ydocs):\n\u001b[1;32m----> 9\u001b[0m     _clf\u001b[38;5;241m.\u001b[39mfit(_Xdocs[train_index], _ydocs[train_index])\n\u001b[0;32m     10\u001b[0m     y_pred \u001b[38;5;241m=\u001b[39m _clf\u001b[38;5;241m.\u001b[39mpredict(_Xdocs[test_index])\n\u001b[0;32m     11\u001b[0m     accuracy \u001b[38;5;241m+\u001b[39m\u001b[38;5;241m=\u001b[39m [accuracy_score(_ydocs[test_index], y_pred)]\n",
      "Cell \u001b[1;32mIn[51], line 67\u001b[0m, in \u001b[0;36mCustomMLP_GPGPU.fit\u001b[1;34m(self, X_train, y_train)\u001b[0m\n\u001b[0;32m     65\u001b[0m y_pred \u001b[38;5;241m=\u001b[39m \u001b[38;5;28mself\u001b[39m\u001b[38;5;241m.\u001b[39m_forward(X_batch)  \u001b[38;5;66;03m# Forward pass\u001b[39;00m\n\u001b[0;32m     66\u001b[0m loss \u001b[38;5;241m=\u001b[39m loss_func(y_pred, y_batch)  \u001b[38;5;66;03m# Compute the loss\u001b[39;00m\n\u001b[1;32m---> 67\u001b[0m loss\u001b[38;5;241m.\u001b[39mbackward()  \u001b[38;5;66;03m# Backward pass\u001b[39;00m\n\u001b[0;32m     68\u001b[0m optimizer\u001b[38;5;241m.\u001b[39mstep()\n",
      "File \u001b[1;32mC:\\ProgramData\\anaconda3\\envs\\torchgpu\\Lib\\site-packages\\torch\\_tensor.py:492\u001b[0m, in \u001b[0;36mTensor.backward\u001b[1;34m(self, gradient, retain_graph, create_graph, inputs)\u001b[0m\n\u001b[0;32m    482\u001b[0m \u001b[38;5;28;01mif\u001b[39;00m has_torch_function_unary(\u001b[38;5;28mself\u001b[39m):\n\u001b[0;32m    483\u001b[0m     \u001b[38;5;28;01mreturn\u001b[39;00m handle_torch_function(\n\u001b[0;32m    484\u001b[0m         Tensor\u001b[38;5;241m.\u001b[39mbackward,\n\u001b[0;32m    485\u001b[0m         (\u001b[38;5;28mself\u001b[39m,),\n\u001b[1;32m   (...)\u001b[0m\n\u001b[0;32m    490\u001b[0m         inputs\u001b[38;5;241m=\u001b[39minputs,\n\u001b[0;32m    491\u001b[0m     )\n\u001b[1;32m--> 492\u001b[0m torch\u001b[38;5;241m.\u001b[39mautograd\u001b[38;5;241m.\u001b[39mbackward(\n\u001b[0;32m    493\u001b[0m     \u001b[38;5;28mself\u001b[39m, gradient, retain_graph, create_graph, inputs\u001b[38;5;241m=\u001b[39minputs\n\u001b[0;32m    494\u001b[0m )\n",
      "File \u001b[1;32mC:\\ProgramData\\anaconda3\\envs\\torchgpu\\Lib\\site-packages\\torch\\autograd\\__init__.py:251\u001b[0m, in \u001b[0;36mbackward\u001b[1;34m(tensors, grad_tensors, retain_graph, create_graph, grad_variables, inputs)\u001b[0m\n\u001b[0;32m    246\u001b[0m     retain_graph \u001b[38;5;241m=\u001b[39m create_graph\n\u001b[0;32m    248\u001b[0m \u001b[38;5;66;03m# The reason we repeat the same comment below is that\u001b[39;00m\n\u001b[0;32m    249\u001b[0m \u001b[38;5;66;03m# some Python versions print out the first line of a multi-line function\u001b[39;00m\n\u001b[0;32m    250\u001b[0m \u001b[38;5;66;03m# calls in the traceback and some print out the last line\u001b[39;00m\n\u001b[1;32m--> 251\u001b[0m Variable\u001b[38;5;241m.\u001b[39m_execution_engine\u001b[38;5;241m.\u001b[39mrun_backward(  \u001b[38;5;66;03m# Calls into the C++ engine to run the backward pass\u001b[39;00m\n\u001b[0;32m    252\u001b[0m     tensors,\n\u001b[0;32m    253\u001b[0m     grad_tensors_,\n\u001b[0;32m    254\u001b[0m     retain_graph,\n\u001b[0;32m    255\u001b[0m     create_graph,\n\u001b[0;32m    256\u001b[0m     inputs,\n\u001b[0;32m    257\u001b[0m     allow_unreachable\u001b[38;5;241m=\u001b[39m\u001b[38;5;28;01mTrue\u001b[39;00m,\n\u001b[0;32m    258\u001b[0m     accumulate_grad\u001b[38;5;241m=\u001b[39m\u001b[38;5;28;01mTrue\u001b[39;00m,\n\u001b[0;32m    259\u001b[0m )\n",
      "\u001b[1;31mKeyboardInterrupt\u001b[0m: "
     ]
    }
   ],
   "source": [
    "%time\n",
    "\n",
    "acc = kfold_eval_docs(CustomMLP_GPGPU(50, 500, 0.05, 300).to(gpu),\n",
    "                      torch.tensor(x_train), torch.tensor(y_train))\n",
    "\n",
    "print(f\"PyTorch Feedforward GPGPU NN 10-fold CV accuracy= {np.mean(acc):.2f} {chr(177)}{np.std(acc):.3f}\")"
   ]
  },
  {
   "cell_type": "code",
   "execution_count": 60,
   "id": "d1be2b5e-3704-4bf3-9399-fb3f16a8e6d8",
   "metadata": {},
   "outputs": [],
   "source": [
    "from sklearn.metrics import accuracy_score, precision_score, recall_score, f1_score, roc_auc_score\n",
    "from sklearn.metrics import confusion_matrix\n",
    "\n",
    "def kfold_eval_docs(_clf, _Xdocs, _ydocs, metrics=['accuracy', 'precision', 'recall', 'f1', 'roc_auc', 'sensitivity', 'specificity']):\n",
    "    results = {}\n",
    "    kf = StratifiedKFold(n_splits=10, shuffle=True, random_state=0)\n",
    "    \n",
    "    for train_index, test_index in kf.split(_Xdocs, _ydocs):\n",
    "        _clf.fit(_Xdocs[train_index], _ydocs[train_index])\n",
    "        y_pred = _clf.predict(_Xdocs[test_index])\n",
    "        \n",
    "        if 'accuracy' in metrics:\n",
    "            results['accuracy'] = accuracy_score(_ydocs[test_index], y_pred)\n",
    "        if 'precision' in metrics:\n",
    "            results['precision'] = precision_score(_ydocs[test_index], y_pred, average='weighted')\n",
    "        if 'recall' in metrics:\n",
    "            results['recall'] = recall_score(_ydocs[test_index], y_pred, average='weighted')\n",
    "        if 'f1' in metrics:\n",
    "            results['f1'] = f1_score(_ydocs[test_index], y_pred, average='weighted')\n",
    "        if 'roc_auc' in metrics:\n",
    "            results['roc_auc'] = roc_auc_score(_ydocs[test_index], y_pred, average='weighted', multi_class='ovr')\n",
    "        if 'sensitivity' in metrics:\n",
    "            cm = confusion_matrix(_ydocs[test_index], y_pred)\n",
    "            results['sensitivity'] = cm[1,1] / (cm[1,0] + cm[1,1])\n",
    "        if 'specificity' in metrics:\n",
    "            cm = confusion_matrix(_ydocs[test_index], y_pred)\n",
    "            results['specificity'] = cm[0,0] / (cm[0,0] + cm[0,1])\n",
    "        print(results)\n",
    "\n",
    "    return results"
   ]
  },
  {
   "cell_type": "code",
   "execution_count": null,
   "id": "11d7428b-4a36-4b80-a97b-c6d662c07f5c",
   "metadata": {},
   "outputs": [
    {
     "name": "stdout",
     "output_type": "stream",
     "text": [
      "CPU times: total: 0 ns\n",
      "Wall time: 0 ns\n"
     ]
    },
    {
     "name": "stderr",
     "output_type": "stream",
     "text": [
      "C:\\Users\\pevah\\AppData\\Local\\Temp\\ipykernel_6360\\340651961.py:4: UserWarning: To copy construct from a tensor, it is recommended to use sourceTensor.clone().detach() or sourceTensor.clone().detach().requires_grad_(True), rather than torch.tensor(sourceTensor).\n",
      "  torch.tensor(x_train), torch.tensor(y_train))\n"
     ]
    },
    {
     "name": "stdout",
     "output_type": "stream",
     "text": [
      "{'accuracy': 0.9968284387821205, 'precision': 0.9964931440082938, 'recall': 0.9968284387821205, 'f1': 0.9963756963696783, 'roc_auc': 0.7361852885168947, 'sensitivity': 0.4727979274611399, 'specificity': 0.9995726495726496}\n",
      "{'accuracy': 0.9966732347225221, 'precision': 0.9964238106681867, 'recall': 0.9966732347225221, 'f1': 0.99602738892976, 'roc_auc': 0.7000277835770065, 'sensitivity': 0.40025906735751293, 'specificity': 0.9997964997964998}\n"
     ]
    }
   ],
   "source": [
    "%time\n",
    "\n",
    "results = kfold_eval_docs(CustomMLP_GPGPU(50, 100, 0.05, 50).to(gpu),\n",
    "                          torch.tensor(x_train), torch.tensor(y_train))\n",
    "\n",
    "for metric, (mean, std) in results.items():\n",
    "    print(f\"{metric}={mean:.2f} {chr(177)}{std:.3f}\")"
   ]
  },
  {
   "cell_type": "code",
   "execution_count": null,
   "id": "6221829d-b4fe-4b45-8303-0ac5a2fcb9ac",
   "metadata": {},
   "outputs": [],
   "source": []
  }
 ],
 "metadata": {
  "kernelspec": {
   "display_name": "Python 3 (ipykernel)",
   "language": "python",
   "name": "python3"
  },
  "language_info": {
   "codemirror_mode": {
    "name": "ipython",
    "version": 3
   },
   "file_extension": ".py",
   "mimetype": "text/x-python",
   "name": "python",
   "nbconvert_exporter": "python",
   "pygments_lexer": "ipython3",
   "version": "3.11.5"
  }
 },
 "nbformat": 4,
 "nbformat_minor": 5
}
