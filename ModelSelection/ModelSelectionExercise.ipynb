{
 "cells": [
  {
   "cell_type": "markdown",
   "id": "4aba8e21",
   "metadata": {},
   "source": [
    "# Assignment Overview\n",
    "\n",
    "Links to the notes discussed in the video\n",
    "* [Model Selection Overview](./ModelSelect.pdf)\n",
    "* [Model Types](./ModelType.pdf)\n",
    "* [Model Decision Factors](./ModelDecisionFactors.pdf)\n",
    "* [Generalization Techiques](./Generalization.pdf)\n",
    "\n",
    "The assignment consists of two parts requiring you to select appropriate models with associated code/text.\n",
    "\n",
    "1. Determine challenge and relevant model for two distinct situations (fill out this notebook). \n",
    "1. Address the data code needed and the model for [car factors](./CarFactors/carfactors.ipynb) contained in the subdirectory, CarFactors.\n",
    "\n",
    "* ***Check the rubric in Canvas*** to make sure you understand the requirements and the assocated weights grading"
   ]
  },
  {
   "cell_type": "markdown",
   "id": "434176c7",
   "metadata": {},
   "source": [
    "# Part 1: Speed Dating Model Selection\n",
    "\n",
    "You are to explore the data set on speed dating and construct two models that provide some insight such as grouping or predictions.  The models must come from different model areas such as listed as categories in the [ModelTypes](./ModelTypes.pdf) document.  You must justify your answer considering the data and the prediction value.\n",
    "\n",
    "The data is contained in [SpeedDatingData.csv](SpeedDatingData.csv).  The values are detailed in [SpeedDatingKey.md](./SpeedDatingKey.md).  The directory also contains the original key document - SpeedDatingDataKey.docx but jupyter lab is unable to render it.  You are free to render it outside of jupyter lab if something didn't translater clearly.  The open source tool [pandoc](https://pandoc.org/installing.html) was used to perform the translation.  It is useful for almost any translation and works in all major operating systems"
   ]
  },
  {
   "cell_type": "markdown",
   "id": "e8f54ae4",
   "metadata": {},
   "source": [
    "# Model 1"
   ]
  },
  {
   "cell_type": "markdown",
   "id": "76778983",
   "metadata": {},
   "source": [
    "## Outline the challenge "
   ]
  },
  {
   "cell_type": "markdown",
   "id": "87734284",
   "metadata": {},
   "source": [
    "Place text answer here."
   ]
  },
  {
   "cell_type": "markdown",
   "id": "54d49287",
   "metadata": {},
   "source": [
    "### Select the features and their justification "
   ]
  },
  {
   "cell_type": "markdown",
   "id": "7212f8be",
   "metadata": {},
   "source": [
    "Place text answer here."
   ]
  },
  {
   "cell_type": "markdown",
   "id": "d69a2a9c",
   "metadata": {},
   "source": [
    "### Note necessary feature processing such as getting rid of empty cells etc."
   ]
  },
  {
   "cell_type": "markdown",
   "id": "4a5d87a0",
   "metadata": {},
   "source": [
    "Place text answer here."
   ]
  },
  {
   "cell_type": "markdown",
   "id": "611029ea",
   "metadata": {},
   "source": [
    "### Model Selection"
   ]
  },
  {
   "cell_type": "markdown",
   "id": "b4233f6c",
   "metadata": {},
   "source": [
    "Outline the rationale for selecting the model noting how its capabilities address your challenge"
   ]
  },
  {
   "cell_type": "markdown",
   "id": "1668e9c2",
   "metadata": {},
   "source": [
    "Place text answer here"
   ]
  },
  {
   "cell_type": "code",
   "execution_count": null,
   "id": "0e6236e1",
   "metadata": {},
   "outputs": [],
   "source": [
    "# Enter python code of constructing your selected model  - CODE REQUIRED! (only the model creation)"
   ]
  },
  {
   "cell_type": "markdown",
   "id": "b78baba9",
   "metadata": {},
   "source": [
    "# Model 2"
   ]
  },
  {
   "cell_type": "markdown",
   "id": "aba59b38",
   "metadata": {},
   "source": [
    "## Outline the challenge"
   ]
  },
  {
   "cell_type": "markdown",
   "id": "3d09124c",
   "metadata": {},
   "source": [
    "Place Answer here"
   ]
  },
  {
   "cell_type": "markdown",
   "id": "55f89f86",
   "metadata": {},
   "source": [
    "### Select the features and their justification"
   ]
  },
  {
   "cell_type": "markdown",
   "id": "a1acded0",
   "metadata": {},
   "source": [
    "Place text answer here."
   ]
  },
  {
   "cell_type": "markdown",
   "id": "d2ce295d",
   "metadata": {},
   "source": [
    "### Model Selection"
   ]
  },
  {
   "cell_type": "markdown",
   "id": "3ef800d3",
   "metadata": {},
   "source": [
    "Outline the rationale for selecting the model noting how its capabilities address your challenge"
   ]
  },
  {
   "cell_type": "markdown",
   "id": "c2ff7559",
   "metadata": {},
   "source": [
    "Place text answer here"
   ]
  },
  {
   "cell_type": "code",
   "execution_count": 1,
   "id": "fac550a9",
   "metadata": {},
   "outputs": [],
   "source": [
    "# Enter python code of constructing your selected model  - CODE REQUIRED! (only the model creation)"
   ]
  }
 ],
 "metadata": {
  "kernelspec": {
   "display_name": "Python 3 (ipykernel)",
   "language": "python",
   "name": "python3"
  },
  "language_info": {
   "codemirror_mode": {
    "name": "ipython",
    "version": 3
   },
   "file_extension": ".py",
   "mimetype": "text/x-python",
   "name": "python",
   "nbconvert_exporter": "python",
   "pygments_lexer": "ipython3",
   "version": "3.10.6"
  }
 },
 "nbformat": 4,
 "nbformat_minor": 5
}
