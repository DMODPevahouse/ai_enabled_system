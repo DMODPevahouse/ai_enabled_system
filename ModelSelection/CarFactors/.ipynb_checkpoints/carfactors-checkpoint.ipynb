{
 "cells": [
  {
   "cell_type": "markdown",
   "id": "69056103",
   "metadata": {},
   "source": [
    "# Part 2: Car Factors \n",
    "\n",
    "You are to construct a predictive model that provides the duration till sold for a given model.  \n",
    "\n",
    "1. Populate the carsfactors.py following the hints in the comments\n",
    "1. Integrate with carfactors_service.py\n",
    "1. Test locally\n",
    "1. Build requirements.txt and Dockerfile\n",
    "1. Build a docker image\n",
    "1. Test Locally\n",
    "1. Push to docker hub\n",
    "1. Populate readme for both github and docker hub (with example docker commands)\n",
    "1. Populate this notebook with working output and a summary that contains an impression of the model and how to improve it.\n",
    "\n",
    "* ***Review the [codeSamplesforCategoricalData.ipynb](./codeSamplesforCategoricalData.ipynb) for code review of the categorical data manipulations***."
   ]
  },
  {
   "cell_type": "code",
   "execution_count": 1,
   "id": "99809f87-eb41-48d4-882a-39dd94b43815",
   "metadata": {
    "tags": []
   },
   "outputs": [
    {
     "name": "stdout",
     "output_type": "stream",
     "text": [
      "Requirement already satisfied: flask in c:\\programdata\\anaconda3\\lib\\site-packages (3.0.2)\n",
      "Requirement already satisfied: Werkzeug>=3.0.0 in c:\\programdata\\anaconda3\\lib\\site-packages (from flask) (3.0.1)\n",
      "Requirement already satisfied: Jinja2>=3.1.2 in c:\\programdata\\anaconda3\\lib\\site-packages (from flask) (3.1.2)\n",
      "Requirement already satisfied: itsdangerous>=2.1.2 in c:\\programdata\\anaconda3\\lib\\site-packages (from flask) (2.1.2)\n",
      "Requirement already satisfied: click>=8.1.3 in c:\\programdata\\anaconda3\\lib\\site-packages (from flask) (8.1.7)\n",
      "Requirement already satisfied: blinker>=1.6.2 in c:\\programdata\\anaconda3\\lib\\site-packages (from flask) (1.7.0)\n",
      "Requirement already satisfied: colorama in c:\\programdata\\anaconda3\\lib\\site-packages (from click>=8.1.3->flask) (0.4.6)\n",
      "Requirement already satisfied: MarkupSafe>=2.0 in c:\\programdata\\anaconda3\\lib\\site-packages (from Jinja2>=3.1.2->flask) (2.1.1)\n"
     ]
    },
    {
     "name": "stderr",
     "output_type": "stream",
     "text": [
      "WARNING: There was an error checking the latest version of pip.\n"
     ]
    }
   ],
   "source": [
    "!pip install flask"
   ]
  },
  {
   "cell_type": "code",
   "execution_count": 2,
   "id": "4948115d",
   "metadata": {
    "tags": []
   },
   "outputs": [],
   "source": [
    "from carsfactors import carsfactors\n",
    "cf = carsfactors()"
   ]
  },
  {
   "cell_type": "markdown",
   "id": "519d1843",
   "metadata": {},
   "source": [
    "### Test Model first - Get stats"
   ]
  },
  {
   "cell_type": "code",
   "execution_count": 3,
   "id": "62c61a2f",
   "metadata": {},
   "outputs": [
    {
     "data": {
      "text/plain": [
       "'0.0038498265581686786'"
      ]
     },
     "execution_count": 3,
     "metadata": {},
     "output_type": "execute_result"
    }
   ],
   "source": [
    "cf.model_stats()"
   ]
  },
  {
   "cell_type": "markdown",
   "id": "b671a07f",
   "metadata": {},
   "source": [
    "### Get Determination"
   ]
  },
  {
   "cell_type": "code",
   "execution_count": 4,
   "id": "11f38aed",
   "metadata": {
    "tags": []
   },
   "outputs": [
    {
     "name": "stderr",
     "output_type": "stream",
     "text": [
      "C:\\ProgramData\\anaconda3\\lib\\site-packages\\sklearn\\base.py:464: UserWarning: X does not have valid feature names, but OrdinalEncoder was fitted with feature names\n",
      "  warnings.warn(\n",
      "C:\\ProgramData\\anaconda3\\lib\\site-packages\\sklearn\\base.py:464: UserWarning: X does not have valid feature names, but OneHotEncoder was fitted with feature names\n",
      "  warnings.warn(\n",
      "C:\\ProgramData\\anaconda3\\lib\\site-packages\\sklearn\\base.py:464: UserWarning: X does not have valid feature names, but OneHotEncoder was fitted with feature names\n",
      "  warnings.warn(\n"
     ]
    },
    {
     "data": {
      "text/plain": [
       "'79.6766174940555'"
      ]
     },
     "execution_count": 4,
     "metadata": {},
     "output_type": "execute_result"
    }
   ],
   "source": [
    "cf.model_infer(\"mechanical\", \"silver\", 10000, 2010, \"suv\", 10000 )"
   ]
  },
  {
   "cell_type": "markdown",
   "id": "756c63ad",
   "metadata": {},
   "source": [
    "### Start up the service"
   ]
  },
  {
   "cell_type": "code",
   "execution_count": 5,
   "id": "e9637ddc",
   "metadata": {
    "tags": []
   },
   "outputs": [
    {
     "name": "stdout",
     "output_type": "stream",
     "text": [
      "^C\n"
     ]
    }
   ],
   "source": [
    "!python carfactors_service.py"
   ]
  },
  {
   "cell_type": "markdown",
   "id": "5e9bb030",
   "metadata": {},
   "source": [
    "Try out the links \n",
    "* [stats](http://localhost:8986/stats)\n",
    "* [determination](http://localhost:8986/infer?transmission=mechanical&color=silver&odometer=10000&year=2010&bodytype=suv&price=10000)"
   ]
  },
  {
   "cell_type": "markdown",
   "id": "9545879a",
   "metadata": {},
   "source": [
    "### You must kill the kernel to try again for the port stays locked to the current kernel"
   ]
  },
  {
   "cell_type": "markdown",
   "id": "6343405c",
   "metadata": {},
   "source": [
    "# Summary\n",
    "* Assignment and Model Results\n",
    "* Techniques to improve the results"
   ]
  },
  {
   "cell_type": "markdown",
   "id": "84426602",
   "metadata": {},
   "source": [
    "PUT YOUR ANSWERS HERE which could include additional cells with working code examples"
   ]
  },
  {
   "cell_type": "markdown",
   "id": "888c2605-3f85-4c8e-a49d-4ab00dcc34ba",
   "metadata": {},
   "source": [
    "### Summary\n",
    "This assignment was intended to set up a model that would take in the cars.csv and give a small microservice that would allow people to insert information about their vehicle that is common for determining problems, such as odometer, year it was made, bodytype, price, transmission type, and using that data to predict the duration until a part failure would happen. This models performance is subpar and could definitely be improved. The end goal of having a service respond based on the port did infact accomplish the goal of making a prediction, though it may not be incredibly accurate.\n",
    "### Model improvements\n",
    "Things that could have been done to improve the model was investigate other means of normalization/scaling, weight the features based on what seems to have the most impact, tune the model itself with parameters that would be more beneficial to this given case. Correlation and testing other features would have been good as well. More data could have helped as well to include, but it is possible that the data could have been overfitted as well, though it did not appear to be the case. If there was more time, testing knn and other models may have made a bigger impact as well.  "
   ]
  },
  {
   "cell_type": "code",
   "execution_count": null,
   "id": "301e6dcd-4048-408a-b764-7413e5c5e0e8",
   "metadata": {},
   "outputs": [],
   "source": []
  }
 ],
 "metadata": {
  "kernelspec": {
   "display_name": "Python 3 (ipykernel)",
   "language": "python",
   "name": "python3"
  },
  "language_info": {
   "codemirror_mode": {
    "name": "ipython",
    "version": 3
   },
   "file_extension": ".py",
   "mimetype": "text/x-python",
   "name": "python",
   "nbconvert_exporter": "python",
   "pygments_lexer": "ipython3",
   "version": "3.10.12"
  }
 },
 "nbformat": 4,
 "nbformat_minor": 5
}
