{
 "cells": [
  {
   "cell_type": "code",
   "execution_count": 1,
   "id": "a1eaceeb",
   "metadata": {
    "tags": []
   },
   "outputs": [
    {
     "name": "stdout",
     "output_type": "stream",
     "text": [
      "Requirement already satisfied: flask in /usr/local/lib/python3.10/dist-packages (3.0.2)\n",
      "Requirement already satisfied: Werkzeug>=3.0.0 in /usr/local/lib/python3.10/dist-packages (from flask) (3.0.1)\n",
      "Requirement already satisfied: Jinja2>=3.1.2 in /usr/local/lib/python3.10/dist-packages (from flask) (3.1.2)\n",
      "Requirement already satisfied: itsdangerous>=2.1.2 in /usr/local/lib/python3.10/dist-packages (from flask) (2.1.2)\n",
      "Requirement already satisfied: click>=8.1.3 in /usr/local/lib/python3.10/dist-packages (from flask) (8.1.3)\n",
      "Requirement already satisfied: blinker>=1.6.2 in /usr/local/lib/python3.10/dist-packages (from flask) (1.7.0)\n",
      "Requirement already satisfied: MarkupSafe>=2.0 in /usr/local/lib/python3.10/dist-packages (from Jinja2>=3.1.2->flask) (2.1.3)\n",
      "\u001b[33mWARNING: Running pip as the 'root' user can result in broken permissions and conflicting behaviour with the system package manager. It is recommended to use a virtual environment instead: https://pip.pypa.io/warnings/venv\u001b[0m\u001b[33m\n",
      "\u001b[0m"
     ]
    }
   ],
   "source": [
    "!pip install flask"
   ]
  },
  {
   "cell_type": "code",
   "execution_count": 2,
   "id": "7ba92282",
   "metadata": {
    "tags": []
   },
   "outputs": [],
   "source": [
    "from carsfactors import carsfactors\n",
    "cf = carsfactors()"
   ]
  },
  {
   "cell_type": "markdown",
   "id": "03c0da9a",
   "metadata": {},
   "source": [
    "### Test Model first - Get stats"
   ]
  },
  {
   "cell_type": "code",
   "execution_count": 3,
   "id": "cbc6d4a0",
   "metadata": {},
   "outputs": [
    {
     "data": {
      "text/plain": [
       "'0.003907088955757754'"
      ]
     },
     "execution_count": 3,
     "metadata": {},
     "output_type": "execute_result"
    }
   ],
   "source": [
    "cf.model_stats()"
   ]
  },
  {
   "cell_type": "markdown",
   "id": "a0464108",
   "metadata": {},
   "source": [
    "### Get Determination"
   ]
  },
  {
   "cell_type": "code",
   "execution_count": 4,
   "id": "adb0ec16",
   "metadata": {
    "tags": []
   },
   "outputs": [
    {
     "name": "stderr",
     "output_type": "stream",
     "text": [
      "/usr/local/lib/python3.10/dist-packages/sklearn/base.py:409: UserWarning: X does not have valid feature names, but OrdinalEncoder was fitted with feature names\n",
      "  warnings.warn(\n",
      "/usr/local/lib/python3.10/dist-packages/sklearn/base.py:409: UserWarning: X does not have valid feature names, but OneHotEncoder was fitted with feature names\n",
      "  warnings.warn(\n",
      "/usr/local/lib/python3.10/dist-packages/sklearn/base.py:409: UserWarning: X does not have valid feature names, but OneHotEncoder was fitted with feature names\n",
      "  warnings.warn(\n"
     ]
    },
    {
     "data": {
      "text/plain": [
       "'79.32922842185098'"
      ]
     },
     "execution_count": 4,
     "metadata": {},
     "output_type": "execute_result"
    }
   ],
   "source": [
    "cf.model_infer(\"mechanical\", \"silver\", 10000, 2010, \"suv\", 10000 )"
   ]
  },
  {
   "cell_type": "markdown",
   "id": "93581cd0",
   "metadata": {},
   "source": [
    "### Start up the service"
   ]
  },
  {
   "cell_type": "code",
   "execution_count": 5,
   "id": "4ddd738c",
   "metadata": {
    "tags": []
   },
   "outputs": [
    {
     "name": "stdout",
     "output_type": "stream",
     "text": [
      "starting server...\n",
      " * Serving Flask app 'carfactors_service'\n",
      " * Debug mode: off\n",
      "\u001b[31m\u001b[1mWARNING: This is a development server. Do not use it in a production deployment. Use a production WSGI server instead.\u001b[0m\n",
      " * Running on all addresses (0.0.0.0)\n",
      " * Running on http://127.0.0.1:8787\n",
      " * Running on http://172.17.0.2:8787\n",
      "\u001b[33mPress CTRL+C to quit\u001b[0m\n",
      "172.17.0.1 - - [16/Feb/2024 16:10:07] \"\u001b[33mGET / HTTP/1.1\u001b[0m\" 404 -\n",
      "172.17.0.1 - - [16/Feb/2024 16:10:07] \"\u001b[33mGET /favicon.ico HTTP/1.1\u001b[0m\" 404 -\n",
      "172.17.0.1 - - [16/Feb/2024 16:10:13] \"GET /stats HTTP/1.1\" 200 -\n",
      "172.17.0.1 - - [16/Feb/2024 16:10:13] \"\u001b[33mGET /favicon.ico HTTP/1.1\u001b[0m\" 404 -\n",
      "/usr/local/lib/python3.10/dist-packages/sklearn/base.py:409: UserWarning: X does not have valid feature names, but OrdinalEncoder was fitted with feature names\n",
      "  warnings.warn(\n",
      "/usr/local/lib/python3.10/dist-packages/sklearn/base.py:409: UserWarning: X does not have valid feature names, but OneHotEncoder was fitted with feature names\n",
      "  warnings.warn(\n",
      "/usr/local/lib/python3.10/dist-packages/sklearn/base.py:409: UserWarning: X does not have valid feature names, but OneHotEncoder was fitted with feature names\n",
      "  warnings.warn(\n",
      "172.17.0.1 - - [16/Feb/2024 16:10:15] \"GET /infer?transmission=mechanical&color=silver&odometer=10000&year=2010&bodytype=suv&price=10000 HTTP/1.1\" 200 -\n",
      "^C\n"
     ]
    }
   ],
   "source": [
    "!python carfactors_service.py"
   ]
  },
  {
   "cell_type": "markdown",
   "id": "5afce442",
   "metadata": {},
   "source": [
    "Try out the links \n",
    "* [stats](http://localhost:8787/stats)\n",
    "* [determination](http://localhost:8787/infer?transmission=mechanical&color=silver&odometer=10000&year=2010&bodytype=suv&price=10000)"
   ]
  },
  {
   "cell_type": "markdown",
   "id": "3dc3dd8d",
   "metadata": {},
   "source": [
    "### You must kill the kernel to try again for the port stays locked to the current kernel"
   ]
  },
  {
   "cell_type": "markdown",
   "id": "bad9207a",
   "metadata": {},
   "source": [
    "# Summary\n",
    "* Assignment and Model Results\n",
    "* Techniques to improve the results"
   ]
  },
  {
   "cell_type": "markdown",
   "id": "474b8b9b",
   "metadata": {},
   "source": [
    "PUT YOUR ANSWERS HERE which could include additional cells with working code examples"
   ]
  },
  {
   "cell_type": "markdown",
   "id": "87ff520f",
   "metadata": {},
   "source": [
    "### Summary\n",
    "This assignment was intended to set up a model that would take in the cars.csv and give a small microservice that would allow people to insert information about their vehicle that is common for determining problems, such as odometer, year it was made, bodytype, price, transmission type, and using that data to predict the duration until a part failure would happen. This models performance is subpar and could definitely be improved. The end goal of having a service respond based on the port did infact accomplish the goal of making a prediction, though it may not be incredibly accurate.\n",
    "### Model improvements\n",
    "Things that could have been done to improve the model was investigate other means of normalization/scaling, weight the features based on what seems to have the most impact, tune the model itself with parameters that would be more beneficial to this given case. Correlation and testing other features would have been good as well. More data could have helped as well to include, but it is possible that the data could have been overfitted as well, though it did not appear to be the case. If there was more time, testing knn and other models may have made a bigger impact as well.  "
   ]
  },
  {
   "cell_type": "code",
   "execution_count": null,
   "id": "d9a83571",
   "metadata": {},
   "outputs": [],
   "source": []
  }
 ],
 "metadata": {
  "kernelspec": {
   "display_name": "Python 3 (ipykernel)",
   "language": "python",
   "name": "python3"
  },
  "language_info": {
   "codemirror_mode": {
    "name": "ipython",
    "version": 3
   },
   "file_extension": ".py",
   "mimetype": "text/x-python",
   "name": "python",
   "nbconvert_exporter": "python",
   "pygments_lexer": "ipython3",
   "version": "3.10.6"
  }
 },
 "nbformat": 4,
 "nbformat_minor": 5
}
