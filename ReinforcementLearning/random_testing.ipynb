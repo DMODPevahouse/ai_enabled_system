{
 "cells": [
  {
   "cell_type": "code",
   "execution_count": 1,
   "id": "a15b7b13",
   "metadata": {
    "ExecuteTime": {
     "end_time": "2024-04-24T22:48:16.198911Z",
     "start_time": "2024-04-24T22:48:15.409607Z"
    }
   },
   "outputs": [],
   "source": [
    "from sklearn.model_selection import train_test_split"
   ]
  },
  {
   "cell_type": "code",
   "execution_count": 2,
   "id": "ed287266",
   "metadata": {
    "ExecuteTime": {
     "end_time": "2024-04-24T22:48:16.255398Z",
     "start_time": "2024-04-24T22:48:16.202176Z"
    }
   },
   "outputs": [],
   "source": [
    "from sklearn.linear_model import LogisticRegression"
   ]
  },
  {
   "cell_type": "code",
   "execution_count": 11,
   "id": "32367416",
   "metadata": {
    "ExecuteTime": {
     "end_time": "2024-04-26T23:16:36.237708Z",
     "start_time": "2024-04-26T23:16:36.232061Z"
    }
   },
   "outputs": [],
   "source": [
    "import pandas as pd"
   ]
  },
  {
   "cell_type": "code",
   "execution_count": 12,
   "id": "eaeb01fa",
   "metadata": {
    "ExecuteTime": {
     "end_time": "2024-04-26T23:16:37.123080Z",
     "start_time": "2024-04-26T23:16:36.326496Z"
    }
   },
   "outputs": [],
   "source": [
    "df1 = pd.read_csv(\"sent_emails.csv\")"
   ]
  },
  {
   "cell_type": "code",
   "execution_count": 13,
   "id": "6b5c526c",
   "metadata": {
    "ExecuteTime": {
     "end_time": "2024-04-26T23:16:37.265203Z",
     "start_time": "2024-04-26T23:16:37.126455Z"
    }
   },
   "outputs": [],
   "source": [
    "df2 = pd.read_csv(\"responded.csv\")"
   ]
  },
  {
   "cell_type": "code",
   "execution_count": 14,
   "id": "e5cb57ca",
   "metadata": {
    "ExecuteTime": {
     "end_time": "2024-04-26T23:16:37.925259Z",
     "start_time": "2024-04-26T23:16:37.295069Z"
    }
   },
   "outputs": [],
   "source": [
    "df3 = pd.read_csv(\"userbase.csv\")"
   ]
  },
  {
   "cell_type": "code",
   "execution_count": 15,
   "id": "4de41954",
   "metadata": {
    "ExecuteTime": {
     "end_time": "2024-04-26T23:16:37.947430Z",
     "start_time": "2024-04-26T23:16:37.928124Z"
    }
   },
   "outputs": [
    {
     "data": {
      "text/html": [
       "<div>\n",
       "<style scoped>\n",
       "    .dataframe tbody tr th:only-of-type {\n",
       "        vertical-align: middle;\n",
       "    }\n",
       "\n",
       "    .dataframe tbody tr th {\n",
       "        vertical-align: top;\n",
       "    }\n",
       "\n",
       "    .dataframe thead th {\n",
       "        text-align: right;\n",
       "    }\n",
       "</style>\n",
       "<table border=\"1\" class=\"dataframe\">\n",
       "  <thead>\n",
       "    <tr style=\"text-align: right;\">\n",
       "      <th></th>\n",
       "      <th>Sent_Date</th>\n",
       "      <th>Customer_ID</th>\n",
       "      <th>SubjectLine_ID</th>\n",
       "    </tr>\n",
       "  </thead>\n",
       "  <tbody>\n",
       "    <tr>\n",
       "      <th>0</th>\n",
       "      <td>2016-01-28</td>\n",
       "      <td>1413</td>\n",
       "      <td>2</td>\n",
       "    </tr>\n",
       "    <tr>\n",
       "      <th>1</th>\n",
       "      <td>2016-03-02</td>\n",
       "      <td>83889</td>\n",
       "      <td>2</td>\n",
       "    </tr>\n",
       "    <tr>\n",
       "      <th>2</th>\n",
       "      <td>2016-03-09</td>\n",
       "      <td>457832</td>\n",
       "      <td>3</td>\n",
       "    </tr>\n",
       "    <tr>\n",
       "      <th>3</th>\n",
       "      <td>2016-01-20</td>\n",
       "      <td>127772</td>\n",
       "      <td>1</td>\n",
       "    </tr>\n",
       "    <tr>\n",
       "      <th>4</th>\n",
       "      <td>2016-02-03</td>\n",
       "      <td>192123</td>\n",
       "      <td>3</td>\n",
       "    </tr>\n",
       "    <tr>\n",
       "      <th>...</th>\n",
       "      <td>...</td>\n",
       "      <td>...</td>\n",
       "      <td>...</td>\n",
       "    </tr>\n",
       "    <tr>\n",
       "      <th>2476349</th>\n",
       "      <td>2016-02-22</td>\n",
       "      <td>460565</td>\n",
       "      <td>3</td>\n",
       "    </tr>\n",
       "    <tr>\n",
       "      <th>2476350</th>\n",
       "      <td>2016-02-25</td>\n",
       "      <td>360823</td>\n",
       "      <td>2</td>\n",
       "    </tr>\n",
       "    <tr>\n",
       "      <th>2476351</th>\n",
       "      <td>2016-03-02</td>\n",
       "      <td>443177</td>\n",
       "      <td>2</td>\n",
       "    </tr>\n",
       "    <tr>\n",
       "      <th>2476352</th>\n",
       "      <td>2016-03-12</td>\n",
       "      <td>179200</td>\n",
       "      <td>3</td>\n",
       "    </tr>\n",
       "    <tr>\n",
       "      <th>2476353</th>\n",
       "      <td>2016-01-17</td>\n",
       "      <td>68532</td>\n",
       "      <td>2</td>\n",
       "    </tr>\n",
       "  </tbody>\n",
       "</table>\n",
       "<p>2476354 rows × 3 columns</p>\n",
       "</div>"
      ],
      "text/plain": [
       "          Sent_Date  Customer_ID  SubjectLine_ID\n",
       "0        2016-01-28         1413               2\n",
       "1        2016-03-02        83889               2\n",
       "2        2016-03-09       457832               3\n",
       "3        2016-01-20       127772               1\n",
       "4        2016-02-03       192123               3\n",
       "...             ...          ...             ...\n",
       "2476349  2016-02-22       460565               3\n",
       "2476350  2016-02-25       360823               2\n",
       "2476351  2016-03-02       443177               2\n",
       "2476352  2016-03-12       179200               3\n",
       "2476353  2016-01-17        68532               2\n",
       "\n",
       "[2476354 rows x 3 columns]"
      ]
     },
     "execution_count": 15,
     "metadata": {},
     "output_type": "execute_result"
    }
   ],
   "source": [
    "df1"
   ]
  },
  {
   "cell_type": "code",
   "execution_count": 16,
   "id": "117396a3",
   "metadata": {
    "ExecuteTime": {
     "end_time": "2024-04-26T23:16:37.969566Z",
     "start_time": "2024-04-26T23:16:37.950287Z"
    }
   },
   "outputs": [
    {
     "data": {
      "text/html": [
       "<div>\n",
       "<style scoped>\n",
       "    .dataframe tbody tr th:only-of-type {\n",
       "        vertical-align: middle;\n",
       "    }\n",
       "\n",
       "    .dataframe tbody tr th {\n",
       "        vertical-align: top;\n",
       "    }\n",
       "\n",
       "    .dataframe thead th {\n",
       "        text-align: right;\n",
       "    }\n",
       "</style>\n",
       "<table border=\"1\" class=\"dataframe\">\n",
       "  <thead>\n",
       "    <tr style=\"text-align: right;\">\n",
       "      <th></th>\n",
       "      <th>Responded_Date</th>\n",
       "      <th>Customer_ID</th>\n",
       "      <th>SubjectLine_ID</th>\n",
       "    </tr>\n",
       "  </thead>\n",
       "  <tbody>\n",
       "    <tr>\n",
       "      <th>0</th>\n",
       "      <td>2016-01-25</td>\n",
       "      <td>217102</td>\n",
       "      <td>3</td>\n",
       "    </tr>\n",
       "    <tr>\n",
       "      <th>1</th>\n",
       "      <td>2016-03-26</td>\n",
       "      <td>366875</td>\n",
       "      <td>2</td>\n",
       "    </tr>\n",
       "    <tr>\n",
       "      <th>2</th>\n",
       "      <td>2016-03-17</td>\n",
       "      <td>201561</td>\n",
       "      <td>2</td>\n",
       "    </tr>\n",
       "    <tr>\n",
       "      <th>3</th>\n",
       "      <td>2016-01-11</td>\n",
       "      <td>395345</td>\n",
       "      <td>3</td>\n",
       "    </tr>\n",
       "    <tr>\n",
       "      <th>4</th>\n",
       "      <td>2016-01-11</td>\n",
       "      <td>427539</td>\n",
       "      <td>3</td>\n",
       "    </tr>\n",
       "    <tr>\n",
       "      <th>...</th>\n",
       "      <td>...</td>\n",
       "      <td>...</td>\n",
       "      <td>...</td>\n",
       "    </tr>\n",
       "    <tr>\n",
       "      <th>378203</th>\n",
       "      <td>2016-01-09</td>\n",
       "      <td>43156</td>\n",
       "      <td>1</td>\n",
       "    </tr>\n",
       "    <tr>\n",
       "      <th>378204</th>\n",
       "      <td>2016-03-16</td>\n",
       "      <td>397330</td>\n",
       "      <td>2</td>\n",
       "    </tr>\n",
       "    <tr>\n",
       "      <th>378205</th>\n",
       "      <td>2016-02-25</td>\n",
       "      <td>377520</td>\n",
       "      <td>1</td>\n",
       "    </tr>\n",
       "    <tr>\n",
       "      <th>378206</th>\n",
       "      <td>2016-02-04</td>\n",
       "      <td>146008</td>\n",
       "      <td>2</td>\n",
       "    </tr>\n",
       "    <tr>\n",
       "      <th>378207</th>\n",
       "      <td>2016-02-09</td>\n",
       "      <td>374971</td>\n",
       "      <td>3</td>\n",
       "    </tr>\n",
       "  </tbody>\n",
       "</table>\n",
       "<p>378208 rows × 3 columns</p>\n",
       "</div>"
      ],
      "text/plain": [
       "       Responded_Date  Customer_ID  SubjectLine_ID\n",
       "0          2016-01-25       217102               3\n",
       "1          2016-03-26       366875               2\n",
       "2          2016-03-17       201561               2\n",
       "3          2016-01-11       395345               3\n",
       "4          2016-01-11       427539               3\n",
       "...               ...          ...             ...\n",
       "378203     2016-01-09        43156               1\n",
       "378204     2016-03-16       397330               2\n",
       "378205     2016-02-25       377520               1\n",
       "378206     2016-02-04       146008               2\n",
       "378207     2016-02-09       374971               3\n",
       "\n",
       "[378208 rows x 3 columns]"
      ]
     },
     "execution_count": 16,
     "metadata": {},
     "output_type": "execute_result"
    }
   ],
   "source": [
    "df2"
   ]
  },
  {
   "cell_type": "code",
   "execution_count": 17,
   "id": "c3f7b5c7",
   "metadata": {
    "ExecuteTime": {
     "end_time": "2024-04-26T23:16:37.990587Z",
     "start_time": "2024-04-26T23:16:37.973610Z"
    }
   },
   "outputs": [
    {
     "data": {
      "text/html": [
       "<div>\n",
       "<style scoped>\n",
       "    .dataframe tbody tr th:only-of-type {\n",
       "        vertical-align: middle;\n",
       "    }\n",
       "\n",
       "    .dataframe tbody tr th {\n",
       "        vertical-align: top;\n",
       "    }\n",
       "\n",
       "    .dataframe thead th {\n",
       "        text-align: right;\n",
       "    }\n",
       "</style>\n",
       "<table border=\"1\" class=\"dataframe\">\n",
       "  <thead>\n",
       "    <tr style=\"text-align: right;\">\n",
       "      <th></th>\n",
       "      <th>Customer_ID</th>\n",
       "      <th>Gender</th>\n",
       "      <th>Type</th>\n",
       "      <th>Email_Address</th>\n",
       "      <th>Age</th>\n",
       "      <th>Tenure</th>\n",
       "    </tr>\n",
       "  </thead>\n",
       "  <tbody>\n",
       "    <tr>\n",
       "      <th>0</th>\n",
       "      <td>1</td>\n",
       "      <td>M</td>\n",
       "      <td>C</td>\n",
       "      <td>Mph@msn.com</td>\n",
       "      <td>38</td>\n",
       "      <td>12</td>\n",
       "    </tr>\n",
       "    <tr>\n",
       "      <th>1</th>\n",
       "      <td>2</td>\n",
       "      <td>F</td>\n",
       "      <td>B</td>\n",
       "      <td>SophcYN7381qMe8lRqK@aol.com</td>\n",
       "      <td>37</td>\n",
       "      <td>23</td>\n",
       "    </tr>\n",
       "    <tr>\n",
       "      <th>2</th>\n",
       "      <td>3</td>\n",
       "      <td>F</td>\n",
       "      <td>C</td>\n",
       "      <td>xE@msn.com</td>\n",
       "      <td>32</td>\n",
       "      <td>15</td>\n",
       "    </tr>\n",
       "    <tr>\n",
       "      <th>3</th>\n",
       "      <td>4</td>\n",
       "      <td>M</td>\n",
       "      <td>C</td>\n",
       "      <td>WduR0o0@comcast.net</td>\n",
       "      <td>31</td>\n",
       "      <td>24</td>\n",
       "    </tr>\n",
       "    <tr>\n",
       "      <th>4</th>\n",
       "      <td>5</td>\n",
       "      <td>M</td>\n",
       "      <td>C</td>\n",
       "      <td>walHI9cmWJIBKvy0@aol.com</td>\n",
       "      <td>35</td>\n",
       "      <td>13</td>\n",
       "    </tr>\n",
       "    <tr>\n",
       "      <th>...</th>\n",
       "      <td>...</td>\n",
       "      <td>...</td>\n",
       "      <td>...</td>\n",
       "      <td>...</td>\n",
       "      <td>...</td>\n",
       "      <td>...</td>\n",
       "    </tr>\n",
       "    <tr>\n",
       "      <th>499995</th>\n",
       "      <td>499996</td>\n",
       "      <td>M</td>\n",
       "      <td>B</td>\n",
       "      <td>iMt8ckJsdR@msn.com</td>\n",
       "      <td>25</td>\n",
       "      <td>12</td>\n",
       "    </tr>\n",
       "    <tr>\n",
       "      <th>499996</th>\n",
       "      <td>499997</td>\n",
       "      <td>F</td>\n",
       "      <td>C</td>\n",
       "      <td>z58KHLR7VtjRZYZh@gmail.com</td>\n",
       "      <td>30</td>\n",
       "      <td>9</td>\n",
       "    </tr>\n",
       "    <tr>\n",
       "      <th>499997</th>\n",
       "      <td>499998</td>\n",
       "      <td>M</td>\n",
       "      <td>B</td>\n",
       "      <td>PGqUn8eT9A4lz7geMZ@comcast.net</td>\n",
       "      <td>30</td>\n",
       "      <td>11</td>\n",
       "    </tr>\n",
       "    <tr>\n",
       "      <th>499998</th>\n",
       "      <td>499999</td>\n",
       "      <td>M</td>\n",
       "      <td>C</td>\n",
       "      <td>QkI8AH@hotmail.com</td>\n",
       "      <td>33</td>\n",
       "      <td>11</td>\n",
       "    </tr>\n",
       "    <tr>\n",
       "      <th>499999</th>\n",
       "      <td>500000</td>\n",
       "      <td>F</td>\n",
       "      <td>B</td>\n",
       "      <td>7NYSY@yahoo.com</td>\n",
       "      <td>37</td>\n",
       "      <td>13</td>\n",
       "    </tr>\n",
       "  </tbody>\n",
       "</table>\n",
       "<p>500000 rows × 6 columns</p>\n",
       "</div>"
      ],
      "text/plain": [
       "        Customer_ID Gender Type                   Email_Address  Age  Tenure\n",
       "0                 1      M    C                     Mph@msn.com   38      12\n",
       "1                 2      F    B     SophcYN7381qMe8lRqK@aol.com   37      23\n",
       "2                 3      F    C                      xE@msn.com   32      15\n",
       "3                 4      M    C             WduR0o0@comcast.net   31      24\n",
       "4                 5      M    C        walHI9cmWJIBKvy0@aol.com   35      13\n",
       "...             ...    ...  ...                             ...  ...     ...\n",
       "499995       499996      M    B              iMt8ckJsdR@msn.com   25      12\n",
       "499996       499997      F    C      z58KHLR7VtjRZYZh@gmail.com   30       9\n",
       "499997       499998      M    B  PGqUn8eT9A4lz7geMZ@comcast.net   30      11\n",
       "499998       499999      M    C              QkI8AH@hotmail.com   33      11\n",
       "499999       500000      F    B                 7NYSY@yahoo.com   37      13\n",
       "\n",
       "[500000 rows x 6 columns]"
      ]
     },
     "execution_count": 17,
     "metadata": {},
     "output_type": "execute_result"
    }
   ],
   "source": [
    "df3"
   ]
  },
  {
   "cell_type": "code",
   "execution_count": 18,
   "id": "c26f555a",
   "metadata": {
    "ExecuteTime": {
     "end_time": "2024-04-26T23:16:39.867679Z",
     "start_time": "2024-04-26T23:16:37.993585Z"
    }
   },
   "outputs": [],
   "source": [
    "merged_df = df1.merge(df2, on='Customer_ID').merge(df3, on='Customer_ID')"
   ]
  },
  {
   "cell_type": "code",
   "execution_count": 21,
   "id": "ca4b749d07787cf9",
   "metadata": {
    "ExecuteTime": {
     "end_time": "2024-04-26T23:18:03.379827Z",
     "start_time": "2024-04-26T23:17:44.551651Z"
    }
   },
   "outputs": [],
   "source": [
    "merged_df['one_day_response']= merged_df.apply(lambda row: 1 if row['Sent_Date'] == row['Responded_Date'] else 0, axis=1)"
   ]
  },
  {
   "cell_type": "code",
   "execution_count": 22,
   "id": "8b3fc9413beb8e7a",
   "metadata": {
    "ExecuteTime": {
     "end_time": "2024-04-26T23:18:25.717931Z",
     "start_time": "2024-04-26T23:18:25.692550Z"
    }
   },
   "outputs": [
    {
     "data": {
      "text/plain": [
       "one_day_response\n",
       "0    2002147\n",
       "1     243175\n",
       "Name: count, dtype: int64"
      ]
     },
     "execution_count": 22,
     "metadata": {},
     "output_type": "execute_result"
    }
   ],
   "source": [
    "merged_df[\"one_day_response\"].value_counts()"
   ]
  },
  {
   "cell_type": "code",
   "execution_count": 26,
   "id": "6fdeb48f79d4f3ec",
   "metadata": {
    "ExecuteTime": {
     "end_time": "2024-04-26T22:58:59.634384Z",
     "start_time": "2024-04-26T22:58:59.629007Z"
    }
   },
   "outputs": [],
   "source": [
    "# I need a function that will take in a sent_date and received date and return 1 if the email was responded to on the same day, 0 otherwise\n",
    "def one_day_response(row):\n",
    "    if row['Sent_Date'] == row['Responded_Date']:\n",
    "        return 1\n",
    "    else:\n",
    "        return 0"
   ]
  },
  {
   "cell_type": "code",
   "execution_count": 31,
   "id": "45932f65f2c54e5c",
   "metadata": {
    "ExecuteTime": {
     "end_time": "2024-04-26T23:01:45.161523Z",
     "start_time": "2024-04-26T23:01:10.660683Z"
    }
   },
   "outputs": [],
   "source": [
    "df['one_day_response'] = df.apply(one_day_response, axis=1)"
   ]
  },
  {
   "cell_type": "code",
   "execution_count": null,
   "id": "6c04279e75f41e61",
   "metadata": {},
   "outputs": [],
   "source": []
  },
  {
   "cell_type": "code",
   "execution_count": 3,
   "id": "8fffd562738de9fd",
   "metadata": {
    "ExecuteTime": {
     "end_time": "2024-04-27T00:58:32.893645Z",
     "start_time": "2024-04-27T00:58:32.074940Z"
    }
   },
   "outputs": [],
   "source": [
    "from data_pipeline import ETL_Pipeline"
   ]
  },
  {
   "cell_type": "code",
   "execution_count": 4,
   "id": "f877d3ccc65f0494",
   "metadata": {
    "ExecuteTime": {
     "end_time": "2024-04-27T00:58:32.902638Z",
     "start_time": "2024-04-27T00:58:32.897085Z"
    }
   },
   "outputs": [],
   "source": [
    "etl = ETL_Pipeline()"
   ]
  },
  {
   "cell_type": "code",
   "execution_count": 5,
   "id": "3e77b2a98013fc25",
   "metadata": {
    "ExecuteTime": {
     "end_time": "2024-04-27T00:58:36.395924Z",
     "start_time": "2024-04-27T00:58:32.904575Z"
    }
   },
   "outputs": [],
   "source": [
    "etl.extract()"
   ]
  },
  {
   "cell_type": "code",
   "execution_count": 6,
   "id": "27635f30f3627e34",
   "metadata": {
    "ExecuteTime": {
     "end_time": "2024-04-27T00:58:36.424428Z",
     "start_time": "2024-04-27T00:58:36.399288Z"
    }
   },
   "outputs": [
    {
     "data": {
      "text/html": [
       "<div>\n",
       "<style scoped>\n",
       "    .dataframe tbody tr th:only-of-type {\n",
       "        vertical-align: middle;\n",
       "    }\n",
       "\n",
       "    .dataframe tbody tr th {\n",
       "        vertical-align: top;\n",
       "    }\n",
       "\n",
       "    .dataframe thead th {\n",
       "        text-align: right;\n",
       "    }\n",
       "</style>\n",
       "<table border=\"1\" class=\"dataframe\">\n",
       "  <thead>\n",
       "    <tr style=\"text-align: right;\">\n",
       "      <th></th>\n",
       "      <th>Sent_Date</th>\n",
       "      <th>Customer_ID</th>\n",
       "      <th>SubjectLine_ID</th>\n",
       "      <th>Responded_Date</th>\n",
       "      <th>Gender</th>\n",
       "      <th>Type</th>\n",
       "      <th>Email_Address</th>\n",
       "      <th>Age</th>\n",
       "      <th>Tenure</th>\n",
       "    </tr>\n",
       "  </thead>\n",
       "  <tbody>\n",
       "    <tr>\n",
       "      <th>0</th>\n",
       "      <td>2016-01-28</td>\n",
       "      <td>1413</td>\n",
       "      <td>2</td>\n",
       "      <td>2016-01-31</td>\n",
       "      <td>M</td>\n",
       "      <td>B</td>\n",
       "      <td>Jaj2NuUJneD@gmail.com</td>\n",
       "      <td>44</td>\n",
       "      <td>12</td>\n",
       "    </tr>\n",
       "    <tr>\n",
       "      <th>1</th>\n",
       "      <td>2016-01-03</td>\n",
       "      <td>1413</td>\n",
       "      <td>2</td>\n",
       "      <td>2016-01-31</td>\n",
       "      <td>M</td>\n",
       "      <td>B</td>\n",
       "      <td>Jaj2NuUJneD@gmail.com</td>\n",
       "      <td>44</td>\n",
       "      <td>12</td>\n",
       "    </tr>\n",
       "    <tr>\n",
       "      <th>2</th>\n",
       "      <td>2016-02-03</td>\n",
       "      <td>192123</td>\n",
       "      <td>3</td>\n",
       "      <td>2016-02-04</td>\n",
       "      <td>M</td>\n",
       "      <td>C</td>\n",
       "      <td>Qtgy0C@msn.com</td>\n",
       "      <td>33</td>\n",
       "      <td>9</td>\n",
       "    </tr>\n",
       "    <tr>\n",
       "      <th>3</th>\n",
       "      <td>2016-03-22</td>\n",
       "      <td>192123</td>\n",
       "      <td>3</td>\n",
       "      <td>2016-02-04</td>\n",
       "      <td>M</td>\n",
       "      <td>C</td>\n",
       "      <td>Qtgy0C@msn.com</td>\n",
       "      <td>33</td>\n",
       "      <td>9</td>\n",
       "    </tr>\n",
       "    <tr>\n",
       "      <th>4</th>\n",
       "      <td>2016-02-07</td>\n",
       "      <td>399506</td>\n",
       "      <td>2</td>\n",
       "      <td>2016-03-24</td>\n",
       "      <td>M</td>\n",
       "      <td>C</td>\n",
       "      <td>JQVjAP2eVCnIz@hotmail.com</td>\n",
       "      <td>26</td>\n",
       "      <td>21</td>\n",
       "    </tr>\n",
       "    <tr>\n",
       "      <th>...</th>\n",
       "      <td>...</td>\n",
       "      <td>...</td>\n",
       "      <td>...</td>\n",
       "      <td>...</td>\n",
       "      <td>...</td>\n",
       "      <td>...</td>\n",
       "      <td>...</td>\n",
       "      <td>...</td>\n",
       "      <td>...</td>\n",
       "    </tr>\n",
       "    <tr>\n",
       "      <th>996447</th>\n",
       "      <td>2016-02-24</td>\n",
       "      <td>199997</td>\n",
       "      <td>3</td>\n",
       "      <td>2016-02-24</td>\n",
       "      <td>F</td>\n",
       "      <td>C</td>\n",
       "      <td>FTS1fGSti8VbILJQibW@yahoo.com</td>\n",
       "      <td>23</td>\n",
       "      <td>26</td>\n",
       "    </tr>\n",
       "    <tr>\n",
       "      <th>996448</th>\n",
       "      <td>2016-02-26</td>\n",
       "      <td>450147</td>\n",
       "      <td>3</td>\n",
       "      <td>2016-02-28</td>\n",
       "      <td>M</td>\n",
       "      <td>B</td>\n",
       "      <td>oO9hwPY@yahoo.com</td>\n",
       "      <td>52</td>\n",
       "      <td>16</td>\n",
       "    </tr>\n",
       "    <tr>\n",
       "      <th>996449</th>\n",
       "      <td>2016-03-19</td>\n",
       "      <td>290272</td>\n",
       "      <td>3</td>\n",
       "      <td>2016-03-20</td>\n",
       "      <td>M</td>\n",
       "      <td>C</td>\n",
       "      <td>d@yahoo.com</td>\n",
       "      <td>23</td>\n",
       "      <td>12</td>\n",
       "    </tr>\n",
       "    <tr>\n",
       "      <th>996450</th>\n",
       "      <td>2016-02-28</td>\n",
       "      <td>287907</td>\n",
       "      <td>3</td>\n",
       "      <td>2016-03-03</td>\n",
       "      <td>M</td>\n",
       "      <td>C</td>\n",
       "      <td>DY@hotmail.com</td>\n",
       "      <td>20</td>\n",
       "      <td>22</td>\n",
       "    </tr>\n",
       "    <tr>\n",
       "      <th>996451</th>\n",
       "      <td>2016-01-21</td>\n",
       "      <td>78807</td>\n",
       "      <td>2</td>\n",
       "      <td>2016-01-21</td>\n",
       "      <td>M</td>\n",
       "      <td>B</td>\n",
       "      <td>RmGYvyN3FN02izZ@yahoo.com</td>\n",
       "      <td>40</td>\n",
       "      <td>25</td>\n",
       "    </tr>\n",
       "  </tbody>\n",
       "</table>\n",
       "<p>996452 rows × 9 columns</p>\n",
       "</div>"
      ],
      "text/plain": [
       "         Sent_Date  Customer_ID  SubjectLine_ID Responded_Date Gender Type  \\\n",
       "0       2016-01-28         1413               2     2016-01-31      M    B   \n",
       "1       2016-01-03         1413               2     2016-01-31      M    B   \n",
       "2       2016-02-03       192123               3     2016-02-04      M    C   \n",
       "3       2016-03-22       192123               3     2016-02-04      M    C   \n",
       "4       2016-02-07       399506               2     2016-03-24      M    C   \n",
       "...            ...          ...             ...            ...    ...  ...   \n",
       "996447  2016-02-24       199997               3     2016-02-24      F    C   \n",
       "996448  2016-02-26       450147               3     2016-02-28      M    B   \n",
       "996449  2016-03-19       290272               3     2016-03-20      M    C   \n",
       "996450  2016-02-28       287907               3     2016-03-03      M    C   \n",
       "996451  2016-01-21        78807               2     2016-01-21      M    B   \n",
       "\n",
       "                        Email_Address  Age  Tenure  \n",
       "0               Jaj2NuUJneD@gmail.com   44      12  \n",
       "1               Jaj2NuUJneD@gmail.com   44      12  \n",
       "2                      Qtgy0C@msn.com   33       9  \n",
       "3                      Qtgy0C@msn.com   33       9  \n",
       "4           JQVjAP2eVCnIz@hotmail.com   26      21  \n",
       "...                               ...  ...     ...  \n",
       "996447  FTS1fGSti8VbILJQibW@yahoo.com   23      26  \n",
       "996448              oO9hwPY@yahoo.com   52      16  \n",
       "996449                    d@yahoo.com   23      12  \n",
       "996450                 DY@hotmail.com   20      22  \n",
       "996451      RmGYvyN3FN02izZ@yahoo.com   40      25  \n",
       "\n",
       "[996452 rows x 9 columns]"
      ]
     },
     "execution_count": 6,
     "metadata": {},
     "output_type": "execute_result"
    }
   ],
   "source": [
    "etl.data"
   ]
  },
  {
   "cell_type": "code",
   "execution_count": 7,
   "id": "c584d379b12f2169",
   "metadata": {
    "ExecuteTime": {
     "end_time": "2024-04-27T00:58:44.959889Z",
     "start_time": "2024-04-27T00:58:36.427477Z"
    }
   },
   "outputs": [],
   "source": [
    "etl.transform()"
   ]
  },
  {
   "cell_type": "code",
   "execution_count": 8,
   "id": "19df86d3b32dcf9d",
   "metadata": {
    "ExecuteTime": {
     "end_time": "2024-04-27T00:58:47.405992Z",
     "start_time": "2024-04-27T00:58:44.961644Z"
    }
   },
   "outputs": [],
   "source": [
    "etl.load()"
   ]
  },
  {
   "cell_type": "code",
   "execution_count": 9,
   "id": "94582fcd70378cf6",
   "metadata": {
    "ExecuteTime": {
     "end_time": "2024-04-27T00:58:47.413443Z",
     "start_time": "2024-04-27T00:58:47.408029Z"
    }
   },
   "outputs": [],
   "source": [
    "import pandas as pd"
   ]
  },
  {
   "cell_type": "code",
   "execution_count": 10,
   "id": "cdce0b0e2709c848",
   "metadata": {
    "ExecuteTime": {
     "end_time": "2024-04-27T00:58:48.289173Z",
     "start_time": "2024-04-27T00:58:47.415983Z"
    }
   },
   "outputs": [],
   "source": [
    "df = pd.read_csv(\"transformed_data.csv\", index_col=0, low_memory=False)"
   ]
  },
  {
   "cell_type": "code",
   "execution_count": 11,
   "id": "2445f4b94d0b473",
   "metadata": {
    "ExecuteTime": {
     "end_time": "2024-04-27T00:58:48.306831Z",
     "start_time": "2024-04-27T00:58:48.291610Z"
    }
   },
   "outputs": [
    {
     "data": {
      "text/html": [
       "<div>\n",
       "<style scoped>\n",
       "    .dataframe tbody tr th:only-of-type {\n",
       "        vertical-align: middle;\n",
       "    }\n",
       "\n",
       "    .dataframe tbody tr th {\n",
       "        vertical-align: top;\n",
       "    }\n",
       "\n",
       "    .dataframe thead th {\n",
       "        text-align: right;\n",
       "    }\n",
       "</style>\n",
       "<table border=\"1\" class=\"dataframe\">\n",
       "  <thead>\n",
       "    <tr style=\"text-align: right;\">\n",
       "      <th></th>\n",
       "      <th>SubjectLine_ID</th>\n",
       "      <th>Gender</th>\n",
       "      <th>Type</th>\n",
       "      <th>Email_Address</th>\n",
       "      <th>Age</th>\n",
       "      <th>Tenure</th>\n",
       "      <th>one_day_response</th>\n",
       "    </tr>\n",
       "  </thead>\n",
       "  <tbody>\n",
       "    <tr>\n",
       "      <th>0</th>\n",
       "      <td>2</td>\n",
       "      <td>M</td>\n",
       "      <td>B</td>\n",
       "      <td>Jaj2NuUJneD@gmail.com</td>\n",
       "      <td>44</td>\n",
       "      <td>12</td>\n",
       "      <td>0</td>\n",
       "    </tr>\n",
       "    <tr>\n",
       "      <th>1</th>\n",
       "      <td>2</td>\n",
       "      <td>M</td>\n",
       "      <td>B</td>\n",
       "      <td>Jaj2NuUJneD@gmail.com</td>\n",
       "      <td>44</td>\n",
       "      <td>12</td>\n",
       "      <td>0</td>\n",
       "    </tr>\n",
       "    <tr>\n",
       "      <th>2</th>\n",
       "      <td>3</td>\n",
       "      <td>M</td>\n",
       "      <td>C</td>\n",
       "      <td>Qtgy0C@msn.com</td>\n",
       "      <td>33</td>\n",
       "      <td>9</td>\n",
       "      <td>0</td>\n",
       "    </tr>\n",
       "    <tr>\n",
       "      <th>3</th>\n",
       "      <td>3</td>\n",
       "      <td>M</td>\n",
       "      <td>C</td>\n",
       "      <td>Qtgy0C@msn.com</td>\n",
       "      <td>33</td>\n",
       "      <td>9</td>\n",
       "      <td>0</td>\n",
       "    </tr>\n",
       "    <tr>\n",
       "      <th>4</th>\n",
       "      <td>2</td>\n",
       "      <td>M</td>\n",
       "      <td>C</td>\n",
       "      <td>JQVjAP2eVCnIz@hotmail.com</td>\n",
       "      <td>26</td>\n",
       "      <td>21</td>\n",
       "      <td>0</td>\n",
       "    </tr>\n",
       "    <tr>\n",
       "      <th>...</th>\n",
       "      <td>...</td>\n",
       "      <td>...</td>\n",
       "      <td>...</td>\n",
       "      <td>...</td>\n",
       "      <td>...</td>\n",
       "      <td>...</td>\n",
       "      <td>...</td>\n",
       "    </tr>\n",
       "    <tr>\n",
       "      <th>996447</th>\n",
       "      <td>3</td>\n",
       "      <td>F</td>\n",
       "      <td>C</td>\n",
       "      <td>FTS1fGSti8VbILJQibW@yahoo.com</td>\n",
       "      <td>23</td>\n",
       "      <td>26</td>\n",
       "      <td>1</td>\n",
       "    </tr>\n",
       "    <tr>\n",
       "      <th>996448</th>\n",
       "      <td>3</td>\n",
       "      <td>M</td>\n",
       "      <td>B</td>\n",
       "      <td>oO9hwPY@yahoo.com</td>\n",
       "      <td>52</td>\n",
       "      <td>16</td>\n",
       "      <td>0</td>\n",
       "    </tr>\n",
       "    <tr>\n",
       "      <th>996449</th>\n",
       "      <td>3</td>\n",
       "      <td>M</td>\n",
       "      <td>C</td>\n",
       "      <td>d@yahoo.com</td>\n",
       "      <td>23</td>\n",
       "      <td>12</td>\n",
       "      <td>0</td>\n",
       "    </tr>\n",
       "    <tr>\n",
       "      <th>996450</th>\n",
       "      <td>3</td>\n",
       "      <td>M</td>\n",
       "      <td>C</td>\n",
       "      <td>DY@hotmail.com</td>\n",
       "      <td>20</td>\n",
       "      <td>22</td>\n",
       "      <td>0</td>\n",
       "    </tr>\n",
       "    <tr>\n",
       "      <th>996451</th>\n",
       "      <td>2</td>\n",
       "      <td>M</td>\n",
       "      <td>B</td>\n",
       "      <td>RmGYvyN3FN02izZ@yahoo.com</td>\n",
       "      <td>40</td>\n",
       "      <td>25</td>\n",
       "      <td>1</td>\n",
       "    </tr>\n",
       "  </tbody>\n",
       "</table>\n",
       "<p>996452 rows × 7 columns</p>\n",
       "</div>"
      ],
      "text/plain": [
       "        SubjectLine_ID Gender Type                  Email_Address  Age  \\\n",
       "0                    2      M    B          Jaj2NuUJneD@gmail.com   44   \n",
       "1                    2      M    B          Jaj2NuUJneD@gmail.com   44   \n",
       "2                    3      M    C                 Qtgy0C@msn.com   33   \n",
       "3                    3      M    C                 Qtgy0C@msn.com   33   \n",
       "4                    2      M    C      JQVjAP2eVCnIz@hotmail.com   26   \n",
       "...                ...    ...  ...                            ...  ...   \n",
       "996447               3      F    C  FTS1fGSti8VbILJQibW@yahoo.com   23   \n",
       "996448               3      M    B              oO9hwPY@yahoo.com   52   \n",
       "996449               3      M    C                    d@yahoo.com   23   \n",
       "996450               3      M    C                 DY@hotmail.com   20   \n",
       "996451               2      M    B      RmGYvyN3FN02izZ@yahoo.com   40   \n",
       "\n",
       "        Tenure  one_day_response  \n",
       "0           12                 0  \n",
       "1           12                 0  \n",
       "2            9                 0  \n",
       "3            9                 0  \n",
       "4           21                 0  \n",
       "...        ...               ...  \n",
       "996447      26                 1  \n",
       "996448      16                 0  \n",
       "996449      12                 0  \n",
       "996450      22                 0  \n",
       "996451      25                 1  \n",
       "\n",
       "[996452 rows x 7 columns]"
      ]
     },
     "execution_count": 11,
     "metadata": {},
     "output_type": "execute_result"
    }
   ],
   "source": [
    "df"
   ]
  },
  {
   "cell_type": "code",
   "execution_count": 12,
   "id": "98c5cb48de187775",
   "metadata": {
    "ExecuteTime": {
     "end_time": "2024-04-27T00:58:48.328074Z",
     "start_time": "2024-04-27T00:58:48.312554Z"
    }
   },
   "outputs": [
    {
     "data": {
      "text/plain": [
       "one_day_response\n",
       "0    767342\n",
       "1    229110\n",
       "Name: count, dtype: int64"
      ]
     },
     "execution_count": 12,
     "metadata": {},
     "output_type": "execute_result"
    }
   ],
   "source": [
    "df[\"one_day_response\"].value_counts()"
   ]
  },
  {
   "cell_type": "code",
   "execution_count": 14,
   "id": "8bc19fa1c48acb0c",
   "metadata": {
    "ExecuteTime": {
     "end_time": "2024-04-27T15:13:55.802995Z",
     "start_time": "2024-04-27T15:13:46.611878Z"
    }
   },
   "outputs": [
    {
     "name": "stdout",
     "output_type": "stream",
     "text": [
      "Collecting gym\r\n",
      "  Downloading gym-0.26.2.tar.gz (721 kB)\r\n",
      "\u001b[2K     \u001b[90m━━━━━━━━━━━━━━━━━━━━━━━━━━━━━━━━━━━━━━━\u001b[0m \u001b[32m721.7/721.7 kB\u001b[0m \u001b[31m4.9 MB/s\u001b[0m eta \u001b[36m0:00:00\u001b[0m00:01\u001b[0m00:01\u001b[0m\r\n",
      "\u001b[?25h  Installing build dependencies ... \u001b[?25ldone\r\n",
      "\u001b[?25h  Getting requirements to build wheel ... \u001b[?25ldone\r\n",
      "\u001b[?25h  Preparing metadata (pyproject.toml) ... \u001b[?25ldone\r\n",
      "\u001b[?25hRequirement already satisfied: numpy>=1.18.0 in /usr/local/lib/python3.10/dist-packages (from gym) (1.26.4)\r\n",
      "Requirement already satisfied: cloudpickle>=1.2.0 in /usr/local/lib/python3.10/dist-packages (from gym) (2.2.1)\r\n",
      "Collecting gym-notices>=0.0.4 (from gym)\r\n",
      "  Downloading gym_notices-0.0.8-py3-none-any.whl (3.0 kB)\r\n",
      "Building wheels for collected packages: gym\r\n",
      "  Building wheel for gym (pyproject.toml) ... \u001b[?25ldone\r\n",
      "\u001b[?25h  Created wheel for gym: filename=gym-0.26.2-py3-none-any.whl size=827634 sha256=52790194b8a1a391dd0fa2eb9084781e4ad52c0546df569587a6781a48c2d9b9\r\n",
      "  Stored in directory: /root/.cache/pip/wheels/b9/22/6d/3e7b32d98451b4cd9d12417052affbeeeea012955d437da1da\r\n",
      "Successfully built gym\r\n",
      "Installing collected packages: gym-notices, gym\r\n",
      "Successfully installed gym-0.26.2 gym-notices-0.0.8\r\n",
      "\u001b[33mWARNING: Running pip as the 'root' user can result in broken permissions and conflicting behaviour with the system package manager. It is recommended to use a virtual environment instead: https://pip.pypa.io/warnings/venv\u001b[0m\u001b[33m\r\n",
      "\u001b[0m"
     ]
    }
   ],
   "source": [
    "!pip install gym"
   ]
  },
  {
   "cell_type": "code",
   "execution_count": 15,
   "id": "bea697f3cff19e8c",
   "metadata": {
    "ExecuteTime": {
     "end_time": "2024-04-27T15:13:57.962919Z",
     "start_time": "2024-04-27T15:13:57.653220Z"
    }
   },
   "outputs": [
    {
     "name": "stdout",
     "output_type": "stream",
     "text": [
      "Initial state: (1, 'M', 'B', 'Jaj2NuUJneD@gmail.com', 44, 12)\n"
     ]
    }
   ],
   "source": [
    "import gym\n",
    "\n",
    "class MyEnv(gym.Env):\n",
    "    def __init__(self):\n",
    "        self.state = None\n",
    "\n",
    "    def reset(self):\n",
    "        # Initialize the state using the given features\n",
    "        self.state = (1, 'M', 'B', 'Jaj2NuUJneD@gmail.com', 44, 12)\n",
    "        return self.state\n",
    "\n",
    "# Create an instance of the environment\n",
    "my_env = MyEnv()\n",
    "\n",
    "# Reset the environment to get the initial state\n",
    "state = my_env.reset()\n",
    "print(\"Initial state:\", state)"
   ]
  },
  {
   "cell_type": "code",
   "execution_count": 94,
   "id": "4a9364e1282beeda",
   "metadata": {
    "ExecuteTime": {
     "end_time": "2024-04-27T17:07:33.695913Z",
     "start_time": "2024-04-27T17:07:33.673772Z"
    }
   },
   "outputs": [],
   "source": [
    "import numpy as np\n",
    "\n",
    "class MyEnv:\n",
    "    def __init__(self, data):\n",
    "        self.data = data\n",
    "        self.current_row = 0\n",
    "        self.Q = np.zeros([len(data), 4, 2]) # Initialize a Q-table with dimensions: [number of rows, number of actions, number of possible next states]\n",
    "\n",
    "    def reset(self):\n",
    "        self.current_row = 0\n",
    "        self.state = self.get_state()\n",
    "        return self.state\n",
    "\n",
    "    def get_state(self):\n",
    "        return [self.data[self.current_row, 1], self.data[self.current_row, 2], self.data[self.current_row, 3]]\n",
    "\n",
    "    def get_possible_actions(self):\n",
    "        return [1, 2, 3]\n",
    "\n",
    "    def get_reward(self, action):\n",
    "        next_row = self.current_row + 1\n",
    "        if next_row >= len(self.data):\n",
    "            next_row = 0\n",
    "        next_state = self.get_state()\n",
    "        reward = self.data[self.current_row, 6]\n",
    "        self.current_row = next_row\n",
    "        return reward, next_state\n",
    "\n",
    "    def update_Q(self, state, action, reward, next_state):\n",
    "        alpha = 0.1 # Learning rate\n",
    "        gamma = 0.9 # Discount factor\n",
    "        if self.current_row < len(self.data) - 1:\n",
    "            max_future_Q = np.max([np.max(self.Q[self.current_row + 1, a, :]) for a in range(3)])\n",
    "            self.Q[self.current_row, action, :] = self.Q[self.current_row, action, :] + alpha * (reward + gamma * max_future_Q - self.Q[self.current_row, action, :])\n",
    "\n",
    "    def get_action(self, state):\n",
    "        possible_actions = self.get_possible_actions()\n",
    "        Q_values = [self.Q[self.current_row, a, :] for a in possible_actions]\n",
    "        max_Q_values = np.max([np.max(q) for q in Q_values])\n",
    "        max_Q_indices = [i for i, q in enumerate(Q_values) if np.any(q == max_Q_values)]\n",
    "        action = np.random.choice(max_Q_indices)\n",
    "        return possible_actions[action]\n",
    "\n",
    "    def train(self):\n",
    "        for i in range(1000): # Train for 1000 episodes\n",
    "            state = self.reset()\n",
    "            done = False\n",
    "            while not done:\n",
    "                action = self.get_action(state)\n",
    "                reward, next_state = self.get_reward(action)\n",
    "                self.update_Q(state, action, reward, next_state)\n",
    "                state = next_state\n",
    "                done = self.is_done()\n",
    "\n",
    "    def is_done(self):\n",
    "        return self.current_row >= len(self.data)"
   ]
  },
  {
   "cell_type": "code",
   "execution_count": 95,
   "id": "6bbf3f77f7832b80",
   "metadata": {
    "ExecuteTime": {
     "end_time": "2024-04-27T17:07:34.075279Z",
     "start_time": "2024-04-27T17:07:33.880641Z"
    }
   },
   "outputs": [],
   "source": [
    "env = MyEnv(df.values)"
   ]
  },
  {
   "cell_type": "code",
   "execution_count": 96,
   "id": "d93c0f1fbcdb14b4",
   "metadata": {
    "ExecuteTime": {
     "end_time": "2024-04-27T17:07:34.091263Z",
     "start_time": "2024-04-27T17:07:34.085163Z"
    }
   },
   "outputs": [
    {
     "data": {
      "text/plain": [
       "['M', 'B', 'Jaj2NuUJneD@gmail.com']"
      ]
     },
     "execution_count": 96,
     "metadata": {},
     "output_type": "execute_result"
    }
   ],
   "source": [
    "env.reset()"
   ]
  },
  {
   "cell_type": "code",
   "execution_count": 97,
   "id": "e57de0668b49031d",
   "metadata": {
    "ExecuteTime": {
     "end_time": "2024-04-27T17:07:34.297775Z",
     "start_time": "2024-04-27T17:07:34.291344Z"
    }
   },
   "outputs": [
    {
     "data": {
      "text/plain": [
       "'M'"
      ]
     },
     "execution_count": 97,
     "metadata": {},
     "output_type": "execute_result"
    }
   ],
   "source": [
    "env.data[0, 1]"
   ]
  },
  {
   "cell_type": "code",
   "execution_count": 98,
   "id": "74cf5dda98166619",
   "metadata": {
    "ExecuteTime": {
     "end_time": "2024-04-27T17:15:26.406172Z",
     "start_time": "2024-04-27T17:07:35.296281Z"
    }
   },
   "outputs": [
    {
     "ename": "KeyboardInterrupt",
     "evalue": "",
     "output_type": "error",
     "traceback": [
      "\u001b[0;31m---------------------------------------------------------------------------\u001b[0m",
      "\u001b[0;31mKeyboardInterrupt\u001b[0m                         Traceback (most recent call last)",
      "Cell \u001b[0;32mIn[98], line 1\u001b[0m\n\u001b[0;32m----> 1\u001b[0m \u001b[43menv\u001b[49m\u001b[38;5;241;43m.\u001b[39;49m\u001b[43mtrain\u001b[49m\u001b[43m(\u001b[49m\u001b[43m)\u001b[49m\n",
      "Cell \u001b[0;32mIn[94], line 49\u001b[0m, in \u001b[0;36mMyEnv.train\u001b[0;34m(self)\u001b[0m\n\u001b[1;32m     47\u001b[0m done \u001b[38;5;241m=\u001b[39m \u001b[38;5;28;01mFalse\u001b[39;00m\n\u001b[1;32m     48\u001b[0m \u001b[38;5;28;01mwhile\u001b[39;00m \u001b[38;5;129;01mnot\u001b[39;00m done:\n\u001b[0;32m---> 49\u001b[0m     action \u001b[38;5;241m=\u001b[39m \u001b[38;5;28;43mself\u001b[39;49m\u001b[38;5;241;43m.\u001b[39;49m\u001b[43mget_action\u001b[49m\u001b[43m(\u001b[49m\u001b[43mstate\u001b[49m\u001b[43m)\u001b[49m\n\u001b[1;32m     50\u001b[0m     reward, next_state \u001b[38;5;241m=\u001b[39m \u001b[38;5;28mself\u001b[39m\u001b[38;5;241m.\u001b[39mget_reward(action)\n\u001b[1;32m     51\u001b[0m     \u001b[38;5;28mself\u001b[39m\u001b[38;5;241m.\u001b[39mupdate_Q(state, action, reward, next_state)\n",
      "Cell \u001b[0;32mIn[94], line 39\u001b[0m, in \u001b[0;36mMyEnv.get_action\u001b[0;34m(self, state)\u001b[0m\n\u001b[1;32m     37\u001b[0m possible_actions \u001b[38;5;241m=\u001b[39m \u001b[38;5;28mself\u001b[39m\u001b[38;5;241m.\u001b[39mget_possible_actions()\n\u001b[1;32m     38\u001b[0m Q_values \u001b[38;5;241m=\u001b[39m [\u001b[38;5;28mself\u001b[39m\u001b[38;5;241m.\u001b[39mQ[\u001b[38;5;28mself\u001b[39m\u001b[38;5;241m.\u001b[39mcurrent_row, a, :] \u001b[38;5;28;01mfor\u001b[39;00m a \u001b[38;5;129;01min\u001b[39;00m possible_actions]\n\u001b[0;32m---> 39\u001b[0m max_Q_values \u001b[38;5;241m=\u001b[39m \u001b[43mnp\u001b[49m\u001b[38;5;241;43m.\u001b[39;49m\u001b[43mmax\u001b[49m\u001b[43m(\u001b[49m\u001b[43m[\u001b[49m\u001b[43mnp\u001b[49m\u001b[38;5;241;43m.\u001b[39;49m\u001b[43mmax\u001b[49m\u001b[43m(\u001b[49m\u001b[43mq\u001b[49m\u001b[43m)\u001b[49m\u001b[43m \u001b[49m\u001b[38;5;28;43;01mfor\u001b[39;49;00m\u001b[43m \u001b[49m\u001b[43mq\u001b[49m\u001b[43m \u001b[49m\u001b[38;5;129;43;01min\u001b[39;49;00m\u001b[43m \u001b[49m\u001b[43mQ_values\u001b[49m\u001b[43m]\u001b[49m\u001b[43m)\u001b[49m\n\u001b[1;32m     40\u001b[0m max_Q_indices \u001b[38;5;241m=\u001b[39m [i \u001b[38;5;28;01mfor\u001b[39;00m i, q \u001b[38;5;129;01min\u001b[39;00m \u001b[38;5;28menumerate\u001b[39m(Q_values) \u001b[38;5;28;01mif\u001b[39;00m np\u001b[38;5;241m.\u001b[39many(q \u001b[38;5;241m==\u001b[39m max_Q_values)]\n\u001b[1;32m     41\u001b[0m action \u001b[38;5;241m=\u001b[39m np\u001b[38;5;241m.\u001b[39mrandom\u001b[38;5;241m.\u001b[39mchoice(max_Q_indices)\n",
      "File \u001b[0;32m/usr/local/lib/python3.10/dist-packages/numpy/core/fromnumeric.py:2810\u001b[0m, in \u001b[0;36mmax\u001b[0;34m(a, axis, out, keepdims, initial, where)\u001b[0m\n\u001b[1;32m   2692\u001b[0m \u001b[38;5;129m@array_function_dispatch\u001b[39m(_max_dispatcher)\n\u001b[1;32m   2693\u001b[0m \u001b[38;5;129m@set_module\u001b[39m(\u001b[38;5;124m'\u001b[39m\u001b[38;5;124mnumpy\u001b[39m\u001b[38;5;124m'\u001b[39m)\n\u001b[1;32m   2694\u001b[0m \u001b[38;5;28;01mdef\u001b[39;00m \u001b[38;5;21mmax\u001b[39m(a, axis\u001b[38;5;241m=\u001b[39m\u001b[38;5;28;01mNone\u001b[39;00m, out\u001b[38;5;241m=\u001b[39m\u001b[38;5;28;01mNone\u001b[39;00m, keepdims\u001b[38;5;241m=\u001b[39mnp\u001b[38;5;241m.\u001b[39m_NoValue, initial\u001b[38;5;241m=\u001b[39mnp\u001b[38;5;241m.\u001b[39m_NoValue,\n\u001b[1;32m   2695\u001b[0m          where\u001b[38;5;241m=\u001b[39mnp\u001b[38;5;241m.\u001b[39m_NoValue):\n\u001b[1;32m   2696\u001b[0m \u001b[38;5;250m    \u001b[39m\u001b[38;5;124;03m\"\"\"\u001b[39;00m\n\u001b[1;32m   2697\u001b[0m \u001b[38;5;124;03m    Return the maximum of an array or maximum along an axis.\u001b[39;00m\n\u001b[1;32m   2698\u001b[0m \n\u001b[0;32m   (...)\u001b[0m\n\u001b[1;32m   2808\u001b[0m \u001b[38;5;124;03m    5\u001b[39;00m\n\u001b[1;32m   2809\u001b[0m \u001b[38;5;124;03m    \"\"\"\u001b[39;00m\n\u001b[0;32m-> 2810\u001b[0m     \u001b[38;5;28;01mreturn\u001b[39;00m \u001b[43m_wrapreduction\u001b[49m\u001b[43m(\u001b[49m\u001b[43ma\u001b[49m\u001b[43m,\u001b[49m\u001b[43m \u001b[49m\u001b[43mnp\u001b[49m\u001b[38;5;241;43m.\u001b[39;49m\u001b[43mmaximum\u001b[49m\u001b[43m,\u001b[49m\u001b[43m \u001b[49m\u001b[38;5;124;43m'\u001b[39;49m\u001b[38;5;124;43mmax\u001b[39;49m\u001b[38;5;124;43m'\u001b[39;49m\u001b[43m,\u001b[49m\u001b[43m \u001b[49m\u001b[43maxis\u001b[49m\u001b[43m,\u001b[49m\u001b[43m \u001b[49m\u001b[38;5;28;43;01mNone\u001b[39;49;00m\u001b[43m,\u001b[49m\u001b[43m \u001b[49m\u001b[43mout\u001b[49m\u001b[43m,\u001b[49m\n\u001b[1;32m   2811\u001b[0m \u001b[43m                          \u001b[49m\u001b[43mkeepdims\u001b[49m\u001b[38;5;241;43m=\u001b[39;49m\u001b[43mkeepdims\u001b[49m\u001b[43m,\u001b[49m\u001b[43m \u001b[49m\u001b[43minitial\u001b[49m\u001b[38;5;241;43m=\u001b[39;49m\u001b[43minitial\u001b[49m\u001b[43m,\u001b[49m\u001b[43m \u001b[49m\u001b[43mwhere\u001b[49m\u001b[38;5;241;43m=\u001b[39;49m\u001b[43mwhere\u001b[49m\u001b[43m)\u001b[49m\n",
      "\u001b[0;31mKeyboardInterrupt\u001b[0m: "
     ]
    }
   ],
   "source": [
    "env.train()"
   ]
  },
  {
   "cell_type": "code",
   "execution_count": 58,
   "id": "d2703dd37fe925cb",
   "metadata": {
    "ExecuteTime": {
     "end_time": "2024-04-27T16:46:30.263237Z",
     "start_time": "2024-04-27T16:46:30.255034Z"
    }
   },
   "outputs": [
    {
     "data": {
      "text/plain": [
       "[1, 2, 3]"
      ]
     },
     "execution_count": 58,
     "metadata": {},
     "output_type": "execute_result"
    }
   ],
   "source": [
    "env.get_possible_actions()"
   ]
  },
  {
   "cell_type": "code",
   "execution_count": 33,
   "id": "b9f8348eec0e0cfa",
   "metadata": {
    "ExecuteTime": {
     "end_time": "2024-04-27T16:32:35.269235Z",
     "start_time": "2024-04-27T16:32:35.048556Z"
    }
   },
   "outputs": [],
   "source": [
    "test = df.to_numpy()"
   ]
  },
  {
   "cell_type": "code",
   "execution_count": 34,
   "id": "1a66380a09ad0414",
   "metadata": {
    "ExecuteTime": {
     "end_time": "2024-04-27T16:32:42.361586Z",
     "start_time": "2024-04-27T16:32:42.354875Z"
    }
   },
   "outputs": [
    {
     "data": {
      "text/plain": [
       "'M'"
      ]
     },
     "execution_count": 34,
     "metadata": {},
     "output_type": "execute_result"
    }
   ],
   "source": [
    "test[0, 1]"
   ]
  },
  {
   "cell_type": "code",
   "execution_count": null,
   "id": "d6502704b3603800",
   "metadata": {},
   "outputs": [],
   "source": []
  }
 ],
 "metadata": {
  "kernelspec": {
   "display_name": "Python 3 (ipykernel)",
   "language": "python",
   "name": "python3"
  },
  "language_info": {
   "codemirror_mode": {
    "name": "ipython",
    "version": 3
   },
   "file_extension": ".py",
   "mimetype": "text/x-python",
   "name": "python",
   "nbconvert_exporter": "python",
   "pygments_lexer": "ipython3",
   "version": "3.10.6"
  }
 },
 "nbformat": 4,
 "nbformat_minor": 5
}
