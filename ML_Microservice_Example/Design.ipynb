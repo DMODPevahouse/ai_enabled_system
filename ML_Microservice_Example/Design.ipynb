{
 "cells": [
  {
   "cell_type": "markdown",
   "id": "834c98ba",
   "metadata": {},
   "source": [
    "# Difficulty Scaling Gaming"
   ]
  },
  {
   "cell_type": "markdown",
   "id": "ecee62f3",
   "metadata": {},
   "source": [
    "# Purpose and Justification"
   ]
  },
  {
   "cell_type": "markdown",
   "id": "d874fdff",
   "metadata": {},
   "source": [
    "#\n",
    "The purpose of this design will be to create a starting point for having difficulty scaling in video games based on player skill. This will mainly be games that have a degree of mechanical skill required to learn, such as shooters, MOBAs, RTS, and possibly MMOs. The goal is to allow artificial opponenets the ability to scale in difficulty, either to be more or less so, according to the player. This code base specifically would take in data based off of player inputs that can calculate skill based off of some features such as when buttons are pressed in, what order they are pressed, what would be best responses to that, and actions per minute. As another option, depending on what the data is, it can use game specific data to adjust the difficulty of the AI opponent, things that could be statistics about the champion being played or the stats, such as health or damage done, of that player in the current game or previous games. This is data that would have to be learned and calculated in order to be implemented based on the game, so all this framework would do is set an example of what could be done for future use.\n",
    "#\n",
    "The justification for this being necessary is that as video games have aged and become more a daily aspect to many people, there is a line being drawn of those who want to learn to play a game with a community but have never played before being considerably worse then those who even just play moderately, which has an equally large cap for those who play extensively. This makes making a game have a rewarding and challenging, but not impossible, difficulty a great challenge to achieve. With a scaling AI opponent reading in the opponents moves and responding appropriately, it allows those who are beginners a place to learn and be challenged to improve in a safe and fun environment so that they could increase their skills to play with friends appropriately, and at the same time give a safe place for experienced players to improve their skill as well. Safe is important here due to how challenging it can be to play an online game with the expectations of many experiences gamers.\n"
   ]
  },
  {
   "cell_type": "markdown",
   "id": "4525bd6b",
   "metadata": {},
   "source": [
    "# Domain Expertise"
   ]
  },
  {
   "cell_type": "code",
   "execution_count": null,
   "id": "49894e49",
   "metadata": {},
   "outputs": [],
   "source": []
  },
  {
   "cell_type": "markdown",
   "id": "884dd47b",
   "metadata": {},
   "source": [
    "# Overall Design"
   ]
  },
  {
   "cell_type": "code",
   "execution_count": null,
   "id": "387e903e",
   "metadata": {},
   "outputs": [],
   "source": []
  },
  {
   "cell_type": "markdown",
   "id": "be02f81d",
   "metadata": {},
   "source": [
    "# Data"
   ]
  },
  {
   "cell_type": "markdown",
   "id": "8ea326de",
   "metadata": {},
   "source": [
    "Some of the data that will be used will be from the video game, league of legends, and will include specific statistics around that game. Data being used is listed below:\n",
    "\n",
    "#\n",
    "https://www.kaggle.com/datasets/bobbyscience/league-of-legends-diamond-ranked-games-10-min\n",
    "#\n",
    "https://www.kaggle.com/datasets/prestonrobertson7/league-of-legends-data-9292022\n",
    "#\n",
    "https://www.kaggle.com/datasets?search=league+of+legends&page=3"
   ]
  },
  {
   "cell_type": "markdown",
   "id": "8255434d",
   "metadata": {},
   "source": [
    "## Data Selection"
   ]
  },
  {
   "cell_type": "code",
   "execution_count": null,
   "id": "82ae3a87",
   "metadata": {},
   "outputs": [],
   "source": []
  },
  {
   "cell_type": "markdown",
   "id": "0f4348a7",
   "metadata": {},
   "source": [
    "## Data Ingest"
   ]
  },
  {
   "cell_type": "code",
   "execution_count": null,
   "id": "2d5025d0",
   "metadata": {},
   "outputs": [],
   "source": []
  },
  {
   "cell_type": "markdown",
   "id": "e03bad81",
   "metadata": {},
   "source": [
    "## Data Validation"
   ]
  },
  {
   "cell_type": "code",
   "execution_count": null,
   "id": "b5201d29",
   "metadata": {},
   "outputs": [],
   "source": []
  },
  {
   "cell_type": "markdown",
   "id": "2500bad2",
   "metadata": {},
   "source": [
    "## Data Preprocess"
   ]
  },
  {
   "cell_type": "code",
   "execution_count": null,
   "id": "4818d7aa",
   "metadata": {},
   "outputs": [],
   "source": []
  },
  {
   "cell_type": "markdown",
   "id": "444d0622",
   "metadata": {},
   "source": [
    "# Model"
   ]
  },
  {
   "cell_type": "markdown",
   "id": "8e0fb879",
   "metadata": {},
   "source": [
    "## Model Selection"
   ]
  },
  {
   "cell_type": "code",
   "execution_count": null,
   "id": "5c0a0665",
   "metadata": {},
   "outputs": [],
   "source": []
  },
  {
   "cell_type": "markdown",
   "id": "0311f0d9",
   "metadata": {},
   "source": [
    "## Model Training"
   ]
  },
  {
   "cell_type": "code",
   "execution_count": null,
   "id": "6628572e",
   "metadata": {},
   "outputs": [],
   "source": []
  },
  {
   "cell_type": "markdown",
   "id": "79b76a64",
   "metadata": {},
   "source": [
    "## Model Tuning"
   ]
  },
  {
   "cell_type": "code",
   "execution_count": null,
   "id": "1f510c59",
   "metadata": {},
   "outputs": [],
   "source": []
  },
  {
   "cell_type": "markdown",
   "id": "ab9286d9",
   "metadata": {},
   "source": [
    "## Model Validation"
   ]
  },
  {
   "cell_type": "code",
   "execution_count": null,
   "id": "0a1a6605",
   "metadata": {},
   "outputs": [],
   "source": []
  },
  {
   "cell_type": "markdown",
   "id": "2c1c6c5b",
   "metadata": {},
   "source": [
    "## Model Inference"
   ]
  },
  {
   "cell_type": "code",
   "execution_count": null,
   "id": "937aa960",
   "metadata": {},
   "outputs": [],
   "source": []
  },
  {
   "cell_type": "markdown",
   "id": "f787bc37",
   "metadata": {},
   "source": [
    "## Model Interface"
   ]
  },
  {
   "cell_type": "code",
   "execution_count": null,
   "id": "fd6b063f",
   "metadata": {},
   "outputs": [],
   "source": []
  },
  {
   "cell_type": "markdown",
   "id": "5107dbb3",
   "metadata": {},
   "source": [
    "## Model Monitoring"
   ]
  },
  {
   "cell_type": "code",
   "execution_count": null,
   "id": "53374e23",
   "metadata": {},
   "outputs": [],
   "source": []
  }
 ],
 "metadata": {
  "kernelspec": {
   "display_name": "Python 3 (ipykernel)",
   "language": "python",
   "name": "python3"
  },
  "language_info": {
   "codemirror_mode": {
    "name": "ipython",
    "version": 3
   },
   "file_extension": ".py",
   "mimetype": "text/x-python",
   "name": "python",
   "nbconvert_exporter": "python",
   "pygments_lexer": "ipython3",
   "version": "3.10.6"
  }
 },
 "nbformat": 4,
 "nbformat_minor": 5
}
