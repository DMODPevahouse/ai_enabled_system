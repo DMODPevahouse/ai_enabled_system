{
 "cells": [
  {
   "cell_type": "code",
   "execution_count": 1,
   "id": "6ca8b6b9",
   "metadata": {},
   "outputs": [],
   "source": [
    "from GraphicDataProcessing import ObjectDetection"
   ]
  },
  {
   "cell_type": "code",
   "execution_count": 2,
   "id": "6ba75dc1",
   "metadata": {},
   "outputs": [],
   "source": [
    "ot = ObjectDetection()"
   ]
  },
  {
   "cell_type": "code",
   "execution_count": 3,
   "id": "b2ab862f",
   "metadata": {},
   "outputs": [],
   "source": [
    "import cv2"
   ]
  },
  {
   "cell_type": "code",
   "execution_count": 4,
   "id": "4a01e53c",
   "metadata": {},
   "outputs": [],
   "source": [
    "image = cv2.imread(\"Pictures/bermuda.jpg\")"
   ]
  },
  {
   "cell_type": "code",
   "execution_count": 5,
   "id": "7f073809",
   "metadata": {},
   "outputs": [],
   "source": [
    "objects = ot.detect(image)"
   ]
  },
  {
   "cell_type": "code",
   "execution_count": 6,
   "id": "bb572647",
   "metadata": {},
   "outputs": [
    {
     "name": "stdout",
     "output_type": "stream",
     "text": [
      "person (0.9163596034049988): [2289 1184  429 1054]\n",
      "person (0.5749812722206116): [2330 1186  417 1154]\n",
      "person (0.9852891564369202): [2043 1270  278  963]\n",
      "person (0.8363379240036011): [2074 1270  303 1023]\n",
      "person (0.9980190992355347): [2292 1250  422 1138]\n",
      "person (0.9899955987930298): [2324 1239  422 1206]\n",
      "person (0.9981264472007751): [2041 1310  291  977]\n",
      "person (0.975078284740448): [2068 1309  293 1013]\n",
      "person (0.9165877103805542): [2289 1297  410 1138]\n"
     ]
    }
   ],
   "source": [
    "for obj in objects:\n",
    "    print(f\"{obj['class_name']} ({obj['confidence']}): {obj['box']}\")"
   ]
  },
  {
   "cell_type": "code",
   "execution_count": 8,
   "id": "204b4499",
   "metadata": {},
   "outputs": [],
   "source": [
    "import objectDetectionService"
   ]
  },
  {
   "cell_type": "code",
   "execution_count": 28,
   "id": "ed912e4e",
   "metadata": {},
   "outputs": [
    {
     "name": "stdout",
     "output_type": "stream",
     "text": [
      "starting server...\n",
      " * Serving Flask app 'objectDetectionService'\n",
      " * Debug mode: off\n",
      "\u001b[31m\u001b[1mWARNING: This is a development server. Do not use it in a production deployment. Use a production WSGI server instead.\u001b[0m\n",
      " * Running on all addresses (0.0.0.0)\n",
      " * Running on http://127.0.0.1:8786\n",
      " * Running on http://172.17.0.2:8786\n",
      "\u001b[33mPress CTRL+C to quit\u001b[0m\n",
      "Name:  None  Location:  None\n",
      "Image:  be22251be66e247971a736da38b518e6.jpg\n",
      "172.17.0.1 - - [01/Mar/2024 23:43:49] \"POST /detect HTTP/1.1\" 200 -\n",
      "^C\n"
     ]
    }
   ],
   "source": [
    "!python objectDetectionService.py"
   ]
  },
  {
   "cell_type": "code",
   "execution_count": null,
   "id": "ed2973ff",
   "metadata": {},
   "outputs": [],
   "source": []
  }
 ],
 "metadata": {
  "kernelspec": {
   "display_name": "Python 3 (ipykernel)",
   "language": "python",
   "name": "python3"
  },
  "language_info": {
   "codemirror_mode": {
    "name": "ipython",
    "version": 3
   },
   "file_extension": ".py",
   "mimetype": "text/x-python",
   "name": "python",
   "nbconvert_exporter": "python",
   "pygments_lexer": "ipython3",
   "version": "3.10.6"
  }
 },
 "nbformat": 4,
 "nbformat_minor": 5
}
