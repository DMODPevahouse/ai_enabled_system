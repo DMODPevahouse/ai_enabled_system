{
 "cells": [
  {
   "cell_type": "code",
   "execution_count": 1,
   "id": "0e9a7826",
   "metadata": {},
   "outputs": [
    {
     "name": "stderr",
     "output_type": "stream",
     "text": [
      "2024-04-06 15:32:06.220611: I tensorflow/core/platform/cpu_feature_guard.cc:183] This TensorFlow binary is optimized to use available CPU instructions in performance-critical operations.\n",
      "To enable the following instructions: SSE3 SSE4.1 SSE4.2 AVX, in other operations, rebuild TensorFlow with the appropriate compiler flags.\n"
     ]
    }
   ],
   "source": [
    "from model import Fraud_Predictor_Deep_Model"
   ]
  },
  {
   "cell_type": "code",
   "execution_count": 4,
   "id": "5b390bbe",
   "metadata": {},
   "outputs": [],
   "source": [
    "fraud_model = Fraud_Predictor_Deep_Model(\"CreditCardFraudFourYears.csv\")"
   ]
  },
  {
   "cell_type": "code",
   "execution_count": 5,
   "id": "6eecc38a",
   "metadata": {},
   "outputs": [],
   "source": [
    "fraud_model.initiate_etl()"
   ]
  },
  {
   "cell_type": "code",
   "execution_count": 6,
   "id": "02118e44",
   "metadata": {},
   "outputs": [],
   "source": [
    "fraud_model.initiate_scaler()"
   ]
  },
  {
   "cell_type": "code",
   "execution_count": 7,
   "id": "c7a5d1b0",
   "metadata": {},
   "outputs": [],
   "source": [
    "fraud_model.initiate_generator()"
   ]
  },
  {
   "cell_type": "code",
   "execution_count": 8,
   "id": "f8397ab3",
   "metadata": {},
   "outputs": [
    {
     "data": {
      "text/plain": [
       "(array([[[0.02771641],\n",
       "         [0.06326572],\n",
       "         [0.05081342],\n",
       "         [0.05864631],\n",
       "         [0.19542077],\n",
       "         [0.25527214],\n",
       "         [0.25165696],\n",
       "         [0.01285399],\n",
       "         [0.03996787],\n",
       "         [0.08294838],\n",
       "         [0.06728259],\n",
       "         [0.19080137]]]),\n",
       " array([[0.24201647]]))"
      ]
     },
     "execution_count": 8,
     "metadata": {},
     "output_type": "execute_result"
    }
   ],
   "source": [
    "fraud_model.generator_daily_count[0]"
   ]
  },
  {
   "cell_type": "code",
   "execution_count": 9,
   "id": "0b78a021",
   "metadata": {},
   "outputs": [
    {
     "name": "stdout",
     "output_type": "stream",
     "text": [
      "Epoch 1/10\n"
     ]
    },
    {
     "name": "stderr",
     "output_type": "stream",
     "text": [
      "/workspace/TimeSeries/Assignment/model.py:89: UserWarning: `Model.fit_generator` is deprecated and will be removed in a future version. Please use `Model.fit`, which supports generators.\n",
      "  self.count_model_daily.fit_generator(self.generator_daily_count, epochs=10)\n",
      "2024-04-06 02:52:04.330988: I tensorflow/core/common_runtime/executor.cc:1209] [/device:CPU:0] (DEBUG INFO) Executor start aborting (this does not indicate an error and you can ignore this message): INVALID_ARGUMENT: You must feed a value for placeholder tensor 'Placeholder/_0' with dtype int32\n",
      "\t [[{{node Placeholder/_0}}]]\n"
     ]
    },
    {
     "name": "stdout",
     "output_type": "stream",
     "text": [
      "1704/1704 [==============================] - 14s 7ms/step - loss: 0.0268\n",
      "Epoch 2/10\n",
      "1704/1704 [==============================] - 12s 7ms/step - loss: 0.0158\n",
      "Epoch 3/10\n",
      "1704/1704 [==============================] - 12s 7ms/step - loss: 0.0139\n",
      "Epoch 4/10\n",
      "1704/1704 [==============================] - 12s 7ms/step - loss: 0.0120\n",
      "Epoch 5/10\n",
      "1704/1704 [==============================] - 11s 7ms/step - loss: 0.0094\n",
      "Epoch 6/10\n",
      "1704/1704 [==============================] - 12s 7ms/step - loss: 0.0078\n",
      "Epoch 7/10\n",
      "1704/1704 [==============================] - 12s 7ms/step - loss: 0.0074\n",
      "Epoch 8/10\n",
      "1704/1704 [==============================] - 12s 7ms/step - loss: 0.0070\n",
      "Epoch 9/10\n",
      "1704/1704 [==============================] - 12s 7ms/step - loss: 0.0065\n",
      "Epoch 10/10\n",
      "1704/1704 [==============================] - 12s 7ms/step - loss: 0.0064\n",
      "Epoch 1/10\n",
      "   8/1704 [..............................] - ETA: 13s - loss: 0.0635    "
     ]
    },
    {
     "name": "stderr",
     "output_type": "stream",
     "text": [
      "/workspace/TimeSeries/Assignment/model.py:90: UserWarning: `Model.fit_generator` is deprecated and will be removed in a future version. Please use `Model.fit`, which supports generators.\n",
      "  self.fraud_model_daily.fit_generator(self.generator_daily_fraud, epochs=10)\n",
      "2024-04-06 02:54:03.861949: I tensorflow/core/common_runtime/executor.cc:1209] [/device:CPU:0] (DEBUG INFO) Executor start aborting (this does not indicate an error and you can ignore this message): INVALID_ARGUMENT: You must feed a value for placeholder tensor 'Placeholder/_0' with dtype int32\n",
      "\t [[{{node Placeholder/_0}}]]\n"
     ]
    },
    {
     "name": "stdout",
     "output_type": "stream",
     "text": [
      "1704/1704 [==============================] - 11s 7ms/step - loss: 0.0288\n",
      "Epoch 2/10\n",
      "1704/1704 [==============================] - 12s 7ms/step - loss: 0.0271\n",
      "Epoch 3/10\n",
      "1704/1704 [==============================] - 12s 7ms/step - loss: 0.0268\n",
      "Epoch 4/10\n",
      "1704/1704 [==============================] - 12s 7ms/step - loss: 0.0262\n",
      "Epoch 5/10\n",
      "1704/1704 [==============================] - 12s 7ms/step - loss: 0.0263\n",
      "Epoch 6/10\n",
      "1704/1704 [==============================] - 12s 7ms/step - loss: 0.0262\n",
      "Epoch 7/10\n",
      "1704/1704 [==============================] - 12s 7ms/step - loss: 0.0262\n",
      "Epoch 8/10\n",
      "1704/1704 [==============================] - 12s 7ms/step - loss: 0.0260\n",
      "Epoch 9/10\n",
      "1704/1704 [==============================] - 12s 7ms/step - loss: 0.0259\n",
      "Epoch 10/10\n",
      "1704/1704 [==============================] - 12s 7ms/step - loss: 0.0259\n"
     ]
    }
   ],
   "source": [
    "fraud_model.train()"
   ]
  },
  {
   "cell_type": "code",
   "execution_count": null,
   "id": "b98e8d75",
   "metadata": {},
   "outputs": [],
   "source": []
  }
 ],
 "metadata": {
  "kernelspec": {
   "display_name": "Python 3 (ipykernel)",
   "language": "python",
   "name": "python3"
  },
  "language_info": {
   "codemirror_mode": {
    "name": "ipython",
    "version": 3
   },
   "file_extension": ".py",
   "mimetype": "text/x-python",
   "name": "python",
   "nbconvert_exporter": "python",
   "pygments_lexer": "ipython3",
   "version": "3.10.6"
  }
 },
 "nbformat": 4,
 "nbformat_minor": 5
}
