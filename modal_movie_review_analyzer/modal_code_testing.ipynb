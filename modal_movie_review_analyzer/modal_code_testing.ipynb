{
 "cells": [
  {
   "cell_type": "code",
   "execution_count": 1,
   "id": "8bce0d15",
   "metadata": {},
   "outputs": [],
   "source": [
    "import pandas as pd"
   ]
  },
  {
   "cell_type": "code",
   "execution_count": 2,
   "id": "5a9c49a4",
   "metadata": {},
   "outputs": [
    {
     "name": "stderr",
     "output_type": "stream",
     "text": [
      "/tmp/ipykernel_1550/3904227517.py:1: DtypeWarning: Columns (25) have mixed types. Specify dtype option on import or set low_memory=False.\n",
      "  df = pd.read_csv(\"small_movie_reviews.csv\")\n"
     ]
    }
   ],
   "source": [
    "df = pd.read_csv(\"small_movie_reviews.csv\")"
   ]
  },
  {
   "cell_type": "code",
   "execution_count": 3,
   "id": "6f262878",
   "metadata": {},
   "outputs": [
    {
     "data": {
      "text/html": [
       "<div>\n",
       "<style scoped>\n",
       "    .dataframe tbody tr th:only-of-type {\n",
       "        vertical-align: middle;\n",
       "    }\n",
       "\n",
       "    .dataframe tbody tr th {\n",
       "        vertical-align: top;\n",
       "    }\n",
       "\n",
       "    .dataframe thead th {\n",
       "        text-align: right;\n",
       "    }\n",
       "</style>\n",
       "<table border=\"1\" class=\"dataframe\">\n",
       "  <thead>\n",
       "    <tr style=\"text-align: right;\">\n",
       "      <th></th>\n",
       "      <th>Unnamed: 0</th>\n",
       "      <th>rating</th>\n",
       "      <th>review_title</th>\n",
       "      <th>text</th>\n",
       "      <th>images_x</th>\n",
       "      <th>asin</th>\n",
       "      <th>parent_asin</th>\n",
       "      <th>user_id</th>\n",
       "      <th>timestamp</th>\n",
       "      <th>helpful_vote</th>\n",
       "      <th>...</th>\n",
       "      <th>features</th>\n",
       "      <th>description</th>\n",
       "      <th>price</th>\n",
       "      <th>images_y</th>\n",
       "      <th>videos</th>\n",
       "      <th>store</th>\n",
       "      <th>categories</th>\n",
       "      <th>details</th>\n",
       "      <th>bought_together</th>\n",
       "      <th>author</th>\n",
       "    </tr>\n",
       "  </thead>\n",
       "  <tbody>\n",
       "    <tr>\n",
       "      <th>0</th>\n",
       "      <td>0</td>\n",
       "      <td>5.0</td>\n",
       "      <td>Five Stars</td>\n",
       "      <td>Amazon, please buy the show! I'm hooked!</td>\n",
       "      <td>[]</td>\n",
       "      <td>B013488XFS</td>\n",
       "      <td>B013488XFS</td>\n",
       "      <td>AGGZ357AO26RQZVRLGU4D4N52DZQ</td>\n",
       "      <td>1440385637000</td>\n",
       "      <td>0</td>\n",
       "      <td>...</td>\n",
       "      <td>['IMDb 8.1', '2017', '10 episodes', 'X-Ray', '...</td>\n",
       "      <td>['A\\xa0con man (Giovanni Ribisi) on the run fr...</td>\n",
       "      <td>NaN</td>\n",
       "      <td>[{'360w': 'https://images-na.ssl-images-amazon...</td>\n",
       "      <td>[]</td>\n",
       "      <td>NaN</td>\n",
       "      <td>['Suspense', 'Drama']</td>\n",
       "      <td>{'Content advisory': ['Nudity', 'violence', 's...</td>\n",
       "      <td>NaN</td>\n",
       "      <td>NaN</td>\n",
       "    </tr>\n",
       "    <tr>\n",
       "      <th>1</th>\n",
       "      <td>10</td>\n",
       "      <td>5.0</td>\n",
       "      <td>Five Stars</td>\n",
       "      <td>LOVE this movie! Hits you in the feels!</td>\n",
       "      <td>[]</td>\n",
       "      <td>B01LWY8995</td>\n",
       "      <td>B01LWY8995</td>\n",
       "      <td>AGXVBIUFLFGMVLATYXHJYL4A5Q7Q</td>\n",
       "      <td>1485870227000</td>\n",
       "      <td>0</td>\n",
       "      <td>...</td>\n",
       "      <td>NaN</td>\n",
       "      <td>NaN</td>\n",
       "      <td>NaN</td>\n",
       "      <td>[{'360w': 'https://images-na.ssl-images-amazon...</td>\n",
       "      <td>[]</td>\n",
       "      <td>NaN</td>\n",
       "      <td>NaN</td>\n",
       "      <td>{'Content advisory': ['Violence', 'alcohol use...</td>\n",
       "      <td>NaN</td>\n",
       "      <td>NaN</td>\n",
       "    </tr>\n",
       "    <tr>\n",
       "      <th>2</th>\n",
       "      <td>20</td>\n",
       "      <td>5.0</td>\n",
       "      <td>Beautiful Move for the Entire Familia!</td>\n",
       "      <td>We loved Coco! My husband (Mexican) and I (Cau...</td>\n",
       "      <td>[]</td>\n",
       "      <td>B0779KMWG1</td>\n",
       "      <td>B0779KMWG1</td>\n",
       "      <td>AHTTU2FL6FCNBBAESCJHOHHSSW7A</td>\n",
       "      <td>1513539059497</td>\n",
       "      <td>7</td>\n",
       "      <td>...</td>\n",
       "      <td>NaN</td>\n",
       "      <td>NaN</td>\n",
       "      <td>NaN</td>\n",
       "      <td>[{'360w': 'https://images-na.ssl-images-amazon...</td>\n",
       "      <td>[]</td>\n",
       "      <td>NaN</td>\n",
       "      <td>NaN</td>\n",
       "      <td>{'Audio languages': ['English Dialogue Boost: ...</td>\n",
       "      <td>NaN</td>\n",
       "      <td>NaN</td>\n",
       "    </tr>\n",
       "    <tr>\n",
       "      <th>3</th>\n",
       "      <td>30</td>\n",
       "      <td>5.0</td>\n",
       "      <td>Five Stars</td>\n",
       "      <td>VERY GOOD MOVIE: WAS LIKED BY ALL WHO SEEN IT</td>\n",
       "      <td>[]</td>\n",
       "      <td>B001QTXM5Y</td>\n",
       "      <td>B001QTXM5Y</td>\n",
       "      <td>AEFKF6R2GUSK2AWPSWRR4ZO36JVQ</td>\n",
       "      <td>1414899539000</td>\n",
       "      <td>0</td>\n",
       "      <td>...</td>\n",
       "      <td>[]</td>\n",
       "      <td>['Product Description', 'Watchmen: Special Edi...</td>\n",
       "      <td>12.40</td>\n",
       "      <td>[{'thumb': 'https://m.media-amazon.com/images/...</td>\n",
       "      <td>[{'title': 'Watchmen home-video trailer', 'url...</td>\n",
       "      <td>Malin Akerman  (Actor),     Billy Crudup  (Act...</td>\n",
       "      <td>['Movies &amp; TV', 'Genre for Featured Categories...</td>\n",
       "      <td>{'Genre': 'Science Fiction &amp; Fantasy, Drama, A...</td>\n",
       "      <td>NaN</td>\n",
       "      <td>NaN</td>\n",
       "    </tr>\n",
       "    <tr>\n",
       "      <th>4</th>\n",
       "      <td>40</td>\n",
       "      <td>5.0</td>\n",
       "      <td>FIFTH ELEMENT ultimate edition</td>\n",
       "      <td>one of my classics: This one I and friends can...</td>\n",
       "      <td>[]</td>\n",
       "      <td>B0006GVJE4</td>\n",
       "      <td>B0006GVJE4</td>\n",
       "      <td>AEFKF6R2GUSK2AWPSWRR4ZO36JVQ</td>\n",
       "      <td>1364088328000</td>\n",
       "      <td>0</td>\n",
       "      <td>...</td>\n",
       "      <td>[]</td>\n",
       "      <td>['Product Description', \"New York cab driver K...</td>\n",
       "      <td>19.12</td>\n",
       "      <td>[{'thumb': 'https://m.media-amazon.com/images/...</td>\n",
       "      <td>[]</td>\n",
       "      <td>Bruce Willis  (Actor),     Gary Oldman  (Actor...</td>\n",
       "      <td>['Movies &amp; TV', 'Science Fiction &amp; Fantasy', '...</td>\n",
       "      <td>{'Aspect Ratio': '2.35:1', 'Is Discontinued By...</td>\n",
       "      <td>NaN</td>\n",
       "      <td>NaN</td>\n",
       "    </tr>\n",
       "  </tbody>\n",
       "</table>\n",
       "<p>5 rows × 26 columns</p>\n",
       "</div>"
      ],
      "text/plain": [
       "   Unnamed: 0  rating                            review_title  \\\n",
       "0           0     5.0                              Five Stars   \n",
       "1          10     5.0                              Five Stars   \n",
       "2          20     5.0  Beautiful Move for the Entire Familia!   \n",
       "3          30     5.0                              Five Stars   \n",
       "4          40     5.0          FIFTH ELEMENT ultimate edition   \n",
       "\n",
       "                                                text images_x        asin  \\\n",
       "0           Amazon, please buy the show! I'm hooked!       []  B013488XFS   \n",
       "1            LOVE this movie! Hits you in the feels!       []  B01LWY8995   \n",
       "2  We loved Coco! My husband (Mexican) and I (Cau...       []  B0779KMWG1   \n",
       "3      VERY GOOD MOVIE: WAS LIKED BY ALL WHO SEEN IT       []  B001QTXM5Y   \n",
       "4  one of my classics: This one I and friends can...       []  B0006GVJE4   \n",
       "\n",
       "  parent_asin                       user_id      timestamp  helpful_vote  ...  \\\n",
       "0  B013488XFS  AGGZ357AO26RQZVRLGU4D4N52DZQ  1440385637000             0  ...   \n",
       "1  B01LWY8995  AGXVBIUFLFGMVLATYXHJYL4A5Q7Q  1485870227000             0  ...   \n",
       "2  B0779KMWG1  AHTTU2FL6FCNBBAESCJHOHHSSW7A  1513539059497             7  ...   \n",
       "3  B001QTXM5Y  AEFKF6R2GUSK2AWPSWRR4ZO36JVQ  1414899539000             0  ...   \n",
       "4  B0006GVJE4  AEFKF6R2GUSK2AWPSWRR4ZO36JVQ  1364088328000             0  ...   \n",
       "\n",
       "                                            features  \\\n",
       "0  ['IMDb 8.1', '2017', '10 episodes', 'X-Ray', '...   \n",
       "1                                                NaN   \n",
       "2                                                NaN   \n",
       "3                                                 []   \n",
       "4                                                 []   \n",
       "\n",
       "                                         description  price  \\\n",
       "0  ['A\\xa0con man (Giovanni Ribisi) on the run fr...    NaN   \n",
       "1                                                NaN    NaN   \n",
       "2                                                NaN    NaN   \n",
       "3  ['Product Description', 'Watchmen: Special Edi...  12.40   \n",
       "4  ['Product Description', \"New York cab driver K...  19.12   \n",
       "\n",
       "                                            images_y  \\\n",
       "0  [{'360w': 'https://images-na.ssl-images-amazon...   \n",
       "1  [{'360w': 'https://images-na.ssl-images-amazon...   \n",
       "2  [{'360w': 'https://images-na.ssl-images-amazon...   \n",
       "3  [{'thumb': 'https://m.media-amazon.com/images/...   \n",
       "4  [{'thumb': 'https://m.media-amazon.com/images/...   \n",
       "\n",
       "                                              videos  \\\n",
       "0                                                 []   \n",
       "1                                                 []   \n",
       "2                                                 []   \n",
       "3  [{'title': 'Watchmen home-video trailer', 'url...   \n",
       "4                                                 []   \n",
       "\n",
       "                                               store  \\\n",
       "0                                                NaN   \n",
       "1                                                NaN   \n",
       "2                                                NaN   \n",
       "3  Malin Akerman  (Actor),     Billy Crudup  (Act...   \n",
       "4  Bruce Willis  (Actor),     Gary Oldman  (Actor...   \n",
       "\n",
       "                                          categories  \\\n",
       "0                              ['Suspense', 'Drama']   \n",
       "1                                                NaN   \n",
       "2                                                NaN   \n",
       "3  ['Movies & TV', 'Genre for Featured Categories...   \n",
       "4  ['Movies & TV', 'Science Fiction & Fantasy', '...   \n",
       "\n",
       "                                             details  bought_together author  \n",
       "0  {'Content advisory': ['Nudity', 'violence', 's...              NaN    NaN  \n",
       "1  {'Content advisory': ['Violence', 'alcohol use...              NaN    NaN  \n",
       "2  {'Audio languages': ['English Dialogue Boost: ...              NaN    NaN  \n",
       "3  {'Genre': 'Science Fiction & Fantasy, Drama, A...              NaN    NaN  \n",
       "4  {'Aspect Ratio': '2.35:1', 'Is Discontinued By...              NaN    NaN  \n",
       "\n",
       "[5 rows x 26 columns]"
      ]
     },
     "execution_count": 3,
     "metadata": {},
     "output_type": "execute_result"
    }
   ],
   "source": [
    "df.head()"
   ]
  },
  {
   "cell_type": "code",
   "execution_count": 4,
   "id": "f630e8c0",
   "metadata": {},
   "outputs": [
    {
     "name": "stdout",
     "output_type": "stream",
     "text": [
      "<class 'pandas.core.frame.DataFrame'>\n",
      "RangeIndex: 100000 entries, 0 to 99999\n",
      "Data columns (total 26 columns):\n",
      " #   Column             Non-Null Count   Dtype  \n",
      "---  ------             --------------   -----  \n",
      " 0   Unnamed: 0         100000 non-null  int64  \n",
      " 1   rating             100000 non-null  float64\n",
      " 2   review_title       99990 non-null   object \n",
      " 3   text               99993 non-null   object \n",
      " 4   images_x           100000 non-null  object \n",
      " 5   asin               100000 non-null  object \n",
      " 6   parent_asin        100000 non-null  object \n",
      " 7   user_id            100000 non-null  object \n",
      " 8   timestamp          100000 non-null  int64  \n",
      " 9   helpful_vote       100000 non-null  int64  \n",
      " 10  verified_purchase  100000 non-null  bool   \n",
      " 11  main_category      99082 non-null   object \n",
      " 12  movie_title        45657 non-null   object \n",
      " 13  subtitle           1997 non-null    object \n",
      " 14  average_rating     99999 non-null   float64\n",
      " 15  rating_number      99999 non-null   float64\n",
      " 16  features           45657 non-null   object \n",
      " 17  description        45657 non-null   object \n",
      " 18  price              38635 non-null   float64\n",
      " 19  images_y           100000 non-null  object \n",
      " 20  videos             100000 non-null  object \n",
      " 21  store              38890 non-null   object \n",
      " 22  categories         45657 non-null   object \n",
      " 23  details            100000 non-null  object \n",
      " 24  bought_together    0 non-null       float64\n",
      " 25  author             7 non-null       object \n",
      "dtypes: bool(1), float64(5), int64(3), object(17)\n",
      "memory usage: 19.2+ MB\n"
     ]
    }
   ],
   "source": [
    "df.info()"
   ]
  },
  {
   "cell_type": "code",
   "execution_count": 5,
   "id": "dfc8945e",
   "metadata": {},
   "outputs": [
    {
     "name": "stderr",
     "output_type": "stream",
     "text": [
      "[nltk_data] Downloading package punkt to /root/nltk_data...\n",
      "[nltk_data]   Package punkt is already up-to-date!\n"
     ]
    }
   ],
   "source": [
    "from data_pipeline import preprocess, encode"
   ]
  },
  {
   "cell_type": "code",
   "execution_count": 6,
   "id": "38bd2d30",
   "metadata": {},
   "outputs": [],
   "source": [
    "df[\"text\"] = df[\"text\"].fillna(\"\")"
   ]
  },
  {
   "cell_type": "code",
   "execution_count": 7,
   "id": "e539df81",
   "metadata": {},
   "outputs": [],
   "source": [
    "\n",
    "\n",
    "# Preprocess the corpus\n",
    "vocab, tokens = preprocess(df[\"text\"])\n",
    "\n",
    "# Encode the preprocessed tokens using the specified encoding method\n",
    "encoding_method = 'Bag-of-Words'\n",
    "encoded_tokens = encode(tokens, encoding_method)"
   ]
  },
  {
   "cell_type": "code",
   "execution_count": 8,
   "id": "50905e1c",
   "metadata": {},
   "outputs": [
    {
     "data": {
      "text/plain": [
       "<100000x65815 sparse matrix of type '<class 'numpy.int64'>'\n",
       "\twith 3130010 stored elements in Compressed Sparse Row format>"
      ]
     },
     "execution_count": 8,
     "metadata": {},
     "output_type": "execute_result"
    }
   ],
   "source": [
    "encoded_tokens"
   ]
  },
  {
   "cell_type": "code",
   "execution_count": 9,
   "id": "641c0c75",
   "metadata": {},
   "outputs": [],
   "source": [
    "encoding_method = 'TF-IDF'\n",
    "encoded_tokens = encode(tokens, encoding_method)"
   ]
  },
  {
   "cell_type": "code",
   "execution_count": 10,
   "id": "1ae084eb",
   "metadata": {},
   "outputs": [
    {
     "data": {
      "text/plain": [
       "<100000x65815 sparse matrix of type '<class 'numpy.float64'>'\n",
       "\twith 3130010 stored elements in Compressed Sparse Row format>"
      ]
     },
     "execution_count": 10,
     "metadata": {},
     "output_type": "execute_result"
    }
   ],
   "source": [
    "encoded_tokens"
   ]
  },
  {
   "cell_type": "code",
   "execution_count": 11,
   "id": "cb2c2cc4",
   "metadata": {},
   "outputs": [],
   "source": [
    "encoding_method = 'Word2Vec'\n",
    "encoded_tokens = encode(tokens, encoding_method)"
   ]
  },
  {
   "cell_type": "code",
   "execution_count": 12,
   "id": "eac5e633",
   "metadata": {},
   "outputs": [
    {
     "data": {
      "text/plain": [
       "array([[ 1.90208226e-01,  2.08543412e+00,  2.62253604e+00, ...,\n",
       "         4.89238155e+00,  2.45440781e+00, -1.44998643e+00],\n",
       "       [-4.83833818e+00,  1.22370816e+00, -4.11136732e+00, ...,\n",
       "        -2.38931644e+00,  2.12980786e+00, -4.58378200e+00],\n",
       "       [-3.77459506e+01,  3.43863683e+01, -7.80979048e+00, ...,\n",
       "        -1.36801216e+01,  2.86219738e+01,  1.50732197e+01],\n",
       "       ...,\n",
       "       [-6.96688709e+00,  1.06795651e+01,  6.20685539e+00, ...,\n",
       "        -6.23384338e+00,  6.56391585e+00,  2.04785072e+00],\n",
       "       [ 1.15907937e-03, -4.07711484e+00, -5.92606105e+00, ...,\n",
       "        -5.79564766e+00,  1.61338625e+01, -8.56407300e-01],\n",
       "       [-4.85056081e+00,  5.18127815e+00, -5.04542007e+00, ...,\n",
       "        -4.80608353e+00,  1.00689037e+01,  5.06252014e+00]])"
      ]
     },
     "execution_count": 12,
     "metadata": {},
     "output_type": "execute_result"
    }
   ],
   "source": [
    "encoded_tokens"
   ]
  },
  {
   "cell_type": "code",
   "execution_count": null,
   "id": "53c6a7c0",
   "metadata": {},
   "outputs": [],
   "source": []
  }
 ],
 "metadata": {
  "kernelspec": {
   "display_name": "Python 3 (ipykernel)",
   "language": "python",
   "name": "python3"
  },
  "language_info": {
   "codemirror_mode": {
    "name": "ipython",
    "version": 3
   },
   "file_extension": ".py",
   "mimetype": "text/x-python",
   "name": "python",
   "nbconvert_exporter": "python",
   "pygments_lexer": "ipython3",
   "version": "3.10.6"
  }
 },
 "nbformat": 4,
 "nbformat_minor": 5
}
