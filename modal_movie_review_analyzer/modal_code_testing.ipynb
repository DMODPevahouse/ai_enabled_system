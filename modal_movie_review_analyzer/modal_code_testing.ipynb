{
 "cells": [
  {
   "cell_type": "code",
   "execution_count": 1,
   "id": "e3b6bee9",
   "metadata": {},
   "outputs": [],
   "source": [
    "import pandas as pd"
   ]
  },
  {
   "cell_type": "code",
   "execution_count": 2,
   "id": "6e8b7e8a",
   "metadata": {},
   "outputs": [
    {
     "name": "stderr",
     "output_type": "stream",
     "text": [
      "/tmp/ipykernel_1253/3904227517.py:1: DtypeWarning: Columns (25) have mixed types. Specify dtype option on import or set low_memory=False.\n",
      "  df = pd.read_csv(\"small_movie_reviews.csv\")\n"
     ]
    }
   ],
   "source": [
    "df = pd.read_csv(\"small_movie_reviews.csv\")"
   ]
  },
  {
   "cell_type": "code",
   "execution_count": 3,
   "id": "54f1c210",
   "metadata": {},
   "outputs": [
    {
     "data": {
      "text/html": [
       "<div>\n",
       "<style scoped>\n",
       "    .dataframe tbody tr th:only-of-type {\n",
       "        vertical-align: middle;\n",
       "    }\n",
       "\n",
       "    .dataframe tbody tr th {\n",
       "        vertical-align: top;\n",
       "    }\n",
       "\n",
       "    .dataframe thead th {\n",
       "        text-align: right;\n",
       "    }\n",
       "</style>\n",
       "<table border=\"1\" class=\"dataframe\">\n",
       "  <thead>\n",
       "    <tr style=\"text-align: right;\">\n",
       "      <th></th>\n",
       "      <th>Unnamed: 0</th>\n",
       "      <th>rating</th>\n",
       "      <th>review_title</th>\n",
       "      <th>text</th>\n",
       "      <th>images_x</th>\n",
       "      <th>asin</th>\n",
       "      <th>parent_asin</th>\n",
       "      <th>user_id</th>\n",
       "      <th>timestamp</th>\n",
       "      <th>helpful_vote</th>\n",
       "      <th>...</th>\n",
       "      <th>features</th>\n",
       "      <th>description</th>\n",
       "      <th>price</th>\n",
       "      <th>images_y</th>\n",
       "      <th>videos</th>\n",
       "      <th>store</th>\n",
       "      <th>categories</th>\n",
       "      <th>details</th>\n",
       "      <th>bought_together</th>\n",
       "      <th>author</th>\n",
       "    </tr>\n",
       "  </thead>\n",
       "  <tbody>\n",
       "    <tr>\n",
       "      <th>0</th>\n",
       "      <td>0</td>\n",
       "      <td>5.0</td>\n",
       "      <td>Five Stars</td>\n",
       "      <td>Amazon, please buy the show! I'm hooked!</td>\n",
       "      <td>[]</td>\n",
       "      <td>B013488XFS</td>\n",
       "      <td>B013488XFS</td>\n",
       "      <td>AGGZ357AO26RQZVRLGU4D4N52DZQ</td>\n",
       "      <td>1440385637000</td>\n",
       "      <td>0</td>\n",
       "      <td>...</td>\n",
       "      <td>['IMDb 8.1', '2017', '10 episodes', 'X-Ray', '...</td>\n",
       "      <td>['A\\xa0con man (Giovanni Ribisi) on the run fr...</td>\n",
       "      <td>NaN</td>\n",
       "      <td>[{'360w': 'https://images-na.ssl-images-amazon...</td>\n",
       "      <td>[]</td>\n",
       "      <td>NaN</td>\n",
       "      <td>['Suspense', 'Drama']</td>\n",
       "      <td>{'Content advisory': ['Nudity', 'violence', 's...</td>\n",
       "      <td>NaN</td>\n",
       "      <td>NaN</td>\n",
       "    </tr>\n",
       "    <tr>\n",
       "      <th>1</th>\n",
       "      <td>10</td>\n",
       "      <td>5.0</td>\n",
       "      <td>Five Stars</td>\n",
       "      <td>LOVE this movie! Hits you in the feels!</td>\n",
       "      <td>[]</td>\n",
       "      <td>B01LWY8995</td>\n",
       "      <td>B01LWY8995</td>\n",
       "      <td>AGXVBIUFLFGMVLATYXHJYL4A5Q7Q</td>\n",
       "      <td>1485870227000</td>\n",
       "      <td>0</td>\n",
       "      <td>...</td>\n",
       "      <td>NaN</td>\n",
       "      <td>NaN</td>\n",
       "      <td>NaN</td>\n",
       "      <td>[{'360w': 'https://images-na.ssl-images-amazon...</td>\n",
       "      <td>[]</td>\n",
       "      <td>NaN</td>\n",
       "      <td>NaN</td>\n",
       "      <td>{'Content advisory': ['Violence', 'alcohol use...</td>\n",
       "      <td>NaN</td>\n",
       "      <td>NaN</td>\n",
       "    </tr>\n",
       "    <tr>\n",
       "      <th>2</th>\n",
       "      <td>20</td>\n",
       "      <td>5.0</td>\n",
       "      <td>Beautiful Move for the Entire Familia!</td>\n",
       "      <td>We loved Coco! My husband (Mexican) and I (Cau...</td>\n",
       "      <td>[]</td>\n",
       "      <td>B0779KMWG1</td>\n",
       "      <td>B0779KMWG1</td>\n",
       "      <td>AHTTU2FL6FCNBBAESCJHOHHSSW7A</td>\n",
       "      <td>1513539059497</td>\n",
       "      <td>7</td>\n",
       "      <td>...</td>\n",
       "      <td>NaN</td>\n",
       "      <td>NaN</td>\n",
       "      <td>NaN</td>\n",
       "      <td>[{'360w': 'https://images-na.ssl-images-amazon...</td>\n",
       "      <td>[]</td>\n",
       "      <td>NaN</td>\n",
       "      <td>NaN</td>\n",
       "      <td>{'Audio languages': ['English Dialogue Boost: ...</td>\n",
       "      <td>NaN</td>\n",
       "      <td>NaN</td>\n",
       "    </tr>\n",
       "    <tr>\n",
       "      <th>3</th>\n",
       "      <td>30</td>\n",
       "      <td>5.0</td>\n",
       "      <td>Five Stars</td>\n",
       "      <td>VERY GOOD MOVIE: WAS LIKED BY ALL WHO SEEN IT</td>\n",
       "      <td>[]</td>\n",
       "      <td>B001QTXM5Y</td>\n",
       "      <td>B001QTXM5Y</td>\n",
       "      <td>AEFKF6R2GUSK2AWPSWRR4ZO36JVQ</td>\n",
       "      <td>1414899539000</td>\n",
       "      <td>0</td>\n",
       "      <td>...</td>\n",
       "      <td>[]</td>\n",
       "      <td>['Product Description', 'Watchmen: Special Edi...</td>\n",
       "      <td>12.40</td>\n",
       "      <td>[{'thumb': 'https://m.media-amazon.com/images/...</td>\n",
       "      <td>[{'title': 'Watchmen home-video trailer', 'url...</td>\n",
       "      <td>Malin Akerman  (Actor),     Billy Crudup  (Act...</td>\n",
       "      <td>['Movies &amp; TV', 'Genre for Featured Categories...</td>\n",
       "      <td>{'Genre': 'Science Fiction &amp; Fantasy, Drama, A...</td>\n",
       "      <td>NaN</td>\n",
       "      <td>NaN</td>\n",
       "    </tr>\n",
       "    <tr>\n",
       "      <th>4</th>\n",
       "      <td>40</td>\n",
       "      <td>5.0</td>\n",
       "      <td>FIFTH ELEMENT ultimate edition</td>\n",
       "      <td>one of my classics: This one I and friends can...</td>\n",
       "      <td>[]</td>\n",
       "      <td>B0006GVJE4</td>\n",
       "      <td>B0006GVJE4</td>\n",
       "      <td>AEFKF6R2GUSK2AWPSWRR4ZO36JVQ</td>\n",
       "      <td>1364088328000</td>\n",
       "      <td>0</td>\n",
       "      <td>...</td>\n",
       "      <td>[]</td>\n",
       "      <td>['Product Description', \"New York cab driver K...</td>\n",
       "      <td>19.12</td>\n",
       "      <td>[{'thumb': 'https://m.media-amazon.com/images/...</td>\n",
       "      <td>[]</td>\n",
       "      <td>Bruce Willis  (Actor),     Gary Oldman  (Actor...</td>\n",
       "      <td>['Movies &amp; TV', 'Science Fiction &amp; Fantasy', '...</td>\n",
       "      <td>{'Aspect Ratio': '2.35:1', 'Is Discontinued By...</td>\n",
       "      <td>NaN</td>\n",
       "      <td>NaN</td>\n",
       "    </tr>\n",
       "  </tbody>\n",
       "</table>\n",
       "<p>5 rows × 26 columns</p>\n",
       "</div>"
      ],
      "text/plain": [
       "   Unnamed: 0  rating                            review_title  \\\n",
       "0           0     5.0                              Five Stars   \n",
       "1          10     5.0                              Five Stars   \n",
       "2          20     5.0  Beautiful Move for the Entire Familia!   \n",
       "3          30     5.0                              Five Stars   \n",
       "4          40     5.0          FIFTH ELEMENT ultimate edition   \n",
       "\n",
       "                                                text images_x        asin  \\\n",
       "0           Amazon, please buy the show! I'm hooked!       []  B013488XFS   \n",
       "1            LOVE this movie! Hits you in the feels!       []  B01LWY8995   \n",
       "2  We loved Coco! My husband (Mexican) and I (Cau...       []  B0779KMWG1   \n",
       "3      VERY GOOD MOVIE: WAS LIKED BY ALL WHO SEEN IT       []  B001QTXM5Y   \n",
       "4  one of my classics: This one I and friends can...       []  B0006GVJE4   \n",
       "\n",
       "  parent_asin                       user_id      timestamp  helpful_vote  ...  \\\n",
       "0  B013488XFS  AGGZ357AO26RQZVRLGU4D4N52DZQ  1440385637000             0  ...   \n",
       "1  B01LWY8995  AGXVBIUFLFGMVLATYXHJYL4A5Q7Q  1485870227000             0  ...   \n",
       "2  B0779KMWG1  AHTTU2FL6FCNBBAESCJHOHHSSW7A  1513539059497             7  ...   \n",
       "3  B001QTXM5Y  AEFKF6R2GUSK2AWPSWRR4ZO36JVQ  1414899539000             0  ...   \n",
       "4  B0006GVJE4  AEFKF6R2GUSK2AWPSWRR4ZO36JVQ  1364088328000             0  ...   \n",
       "\n",
       "                                            features  \\\n",
       "0  ['IMDb 8.1', '2017', '10 episodes', 'X-Ray', '...   \n",
       "1                                                NaN   \n",
       "2                                                NaN   \n",
       "3                                                 []   \n",
       "4                                                 []   \n",
       "\n",
       "                                         description  price  \\\n",
       "0  ['A\\xa0con man (Giovanni Ribisi) on the run fr...    NaN   \n",
       "1                                                NaN    NaN   \n",
       "2                                                NaN    NaN   \n",
       "3  ['Product Description', 'Watchmen: Special Edi...  12.40   \n",
       "4  ['Product Description', \"New York cab driver K...  19.12   \n",
       "\n",
       "                                            images_y  \\\n",
       "0  [{'360w': 'https://images-na.ssl-images-amazon...   \n",
       "1  [{'360w': 'https://images-na.ssl-images-amazon...   \n",
       "2  [{'360w': 'https://images-na.ssl-images-amazon...   \n",
       "3  [{'thumb': 'https://m.media-amazon.com/images/...   \n",
       "4  [{'thumb': 'https://m.media-amazon.com/images/...   \n",
       "\n",
       "                                              videos  \\\n",
       "0                                                 []   \n",
       "1                                                 []   \n",
       "2                                                 []   \n",
       "3  [{'title': 'Watchmen home-video trailer', 'url...   \n",
       "4                                                 []   \n",
       "\n",
       "                                               store  \\\n",
       "0                                                NaN   \n",
       "1                                                NaN   \n",
       "2                                                NaN   \n",
       "3  Malin Akerman  (Actor),     Billy Crudup  (Act...   \n",
       "4  Bruce Willis  (Actor),     Gary Oldman  (Actor...   \n",
       "\n",
       "                                          categories  \\\n",
       "0                              ['Suspense', 'Drama']   \n",
       "1                                                NaN   \n",
       "2                                                NaN   \n",
       "3  ['Movies & TV', 'Genre for Featured Categories...   \n",
       "4  ['Movies & TV', 'Science Fiction & Fantasy', '...   \n",
       "\n",
       "                                             details  bought_together author  \n",
       "0  {'Content advisory': ['Nudity', 'violence', 's...              NaN    NaN  \n",
       "1  {'Content advisory': ['Violence', 'alcohol use...              NaN    NaN  \n",
       "2  {'Audio languages': ['English Dialogue Boost: ...              NaN    NaN  \n",
       "3  {'Genre': 'Science Fiction & Fantasy, Drama, A...              NaN    NaN  \n",
       "4  {'Aspect Ratio': '2.35:1', 'Is Discontinued By...              NaN    NaN  \n",
       "\n",
       "[5 rows x 26 columns]"
      ]
     },
     "execution_count": 3,
     "metadata": {},
     "output_type": "execute_result"
    }
   ],
   "source": [
    "df.head()"
   ]
  },
  {
   "cell_type": "code",
   "execution_count": 4,
   "id": "7c965566",
   "metadata": {},
   "outputs": [
    {
     "name": "stdout",
     "output_type": "stream",
     "text": [
      "<class 'pandas.core.frame.DataFrame'>\n",
      "RangeIndex: 100000 entries, 0 to 99999\n",
      "Data columns (total 26 columns):\n",
      " #   Column             Non-Null Count   Dtype  \n",
      "---  ------             --------------   -----  \n",
      " 0   Unnamed: 0         100000 non-null  int64  \n",
      " 1   rating             100000 non-null  float64\n",
      " 2   review_title       99990 non-null   object \n",
      " 3   text               99993 non-null   object \n",
      " 4   images_x           100000 non-null  object \n",
      " 5   asin               100000 non-null  object \n",
      " 6   parent_asin        100000 non-null  object \n",
      " 7   user_id            100000 non-null  object \n",
      " 8   timestamp          100000 non-null  int64  \n",
      " 9   helpful_vote       100000 non-null  int64  \n",
      " 10  verified_purchase  100000 non-null  bool   \n",
      " 11  main_category      99082 non-null   object \n",
      " 12  movie_title        45657 non-null   object \n",
      " 13  subtitle           1997 non-null    object \n",
      " 14  average_rating     99999 non-null   float64\n",
      " 15  rating_number      99999 non-null   float64\n",
      " 16  features           45657 non-null   object \n",
      " 17  description        45657 non-null   object \n",
      " 18  price              38635 non-null   float64\n",
      " 19  images_y           100000 non-null  object \n",
      " 20  videos             100000 non-null  object \n",
      " 21  store              38890 non-null   object \n",
      " 22  categories         45657 non-null   object \n",
      " 23  details            100000 non-null  object \n",
      " 24  bought_together    0 non-null       float64\n",
      " 25  author             7 non-null       object \n",
      "dtypes: bool(1), float64(5), int64(3), object(17)\n",
      "memory usage: 19.2+ MB\n"
     ]
    }
   ],
   "source": [
    "df.info()"
   ]
  },
  {
   "cell_type": "code",
   "execution_count": 5,
   "id": "f1cf6f94",
   "metadata": {},
   "outputs": [
    {
     "name": "stderr",
     "output_type": "stream",
     "text": [
      "[nltk_data] Downloading package punkt to /root/nltk_data...\n",
      "[nltk_data]   Package punkt is already up-to-date!\n"
     ]
    }
   ],
   "source": [
    "import pandas as pd\n",
    "import numpy as np\n",
    "from sklearn.feature_extraction.text import TfidfVectorizer\n",
    "from sklearn.preprocessing import OneHotEncoder\n",
    "from sklearn.decomposition import LatentDirichletAllocation\n",
    "import gensim\n",
    "import nltk\n",
    "nltk.download('punkt')\n",
    "from nltk.tokenize import word_tokenize\n",
    "from sklearn.feature_extraction.text import CountVectorizer\n",
    "\n",
    "def preprocess(corpus):\n",
    "    \"\"\"\n",
    "    This function takes in a pandas.Series() of a corpus of text data as an argument.\n",
    "    This function should output an indexed vocabulary and preprocessed tokens.\n",
    "\n",
    "    Input:\n",
    "        corpus (pandas.Series): a series of text data\n",
    "    Output:\n",
    "        vocab (dict): a dictionary of indexed vocabulary\n",
    "        tokens (list): a list of preprocessed tokens\n",
    "    \"\"\"\n",
    "    # Initialize empty lists to store tokens and vocabulary\n",
    "    vocab = {}\n",
    "    tokens = []\n",
    "\n",
    "    # Iterate over each document in the corpus\n",
    "    for i, doc in enumerate(corpus):\n",
    "        # Tokenize the document\n",
    "        tokenized_doc = word_tokenize(doc)\n",
    "\n",
    "        # Convert tokens to lowercase\n",
    "        tokenized_doc = [token.lower() for token in tokenized_doc]\n",
    "\n",
    "        # Filter out punctuation and non-alphanumeric characters\n",
    "        tokenized_doc = [token for token in tokenized_doc if token.isalnum()]\n",
    "\n",
    "        # Remove duplicate tokens from the document\n",
    "        tokenized_doc = list(set(tokenized_doc))\n",
    "\n",
    "        # Add document tokens to the tokens list\n",
    "        tokens.append(tokenized_doc)\n",
    "\n",
    "        # Update the vocabulary\n",
    "        for token in tokenized_doc:\n",
    "            if token not in vocab:\n",
    "                vocab[token] = len(vocab)\n",
    "\n",
    "    return vocab, tokens\n",
    "\n",
    "def encode(preprocessed_tokens, encoding_method):\n",
    "    \"\"\"\n",
    "    This function takes in two arguments: 1) the preprocessed token outputs of the preprocess() function,\n",
    "    and 2) the desired encoding method.\n",
    "    \n",
    "    It then encodes the preprocessed tokens using the specified encoding method and returns the encoded tokens.\n",
    "    \n",
    "    The available encoding methods are 'Bag-of-Words', 'TF-IDF', and 'Word2Vec'.\n",
    "    \"\"\"\n",
    "    if encoding_method == 'Bag-of-Words':\n",
    "        # Initialize a CountVectorizer model\n",
    "        vectorizer = CountVectorizer(token_pattern=r'\\b\\w+\\b')\n",
    "\n",
    "        # Join the tokens of each document into a single string\n",
    "        preprocessed_documents = [' '.join(doc_tokens) for doc_tokens in preprocessed_tokens]\n",
    "\n",
    "        # Encode the preprocessed tokens using the vectorizer\n",
    "        encoding = vectorizer.fit_transform(preprocessed_documents)\n",
    "    elif encoding_method == 'TF-IDF':\n",
    "        # Initialize a TF-IDF vectorizer\n",
    "        vectorizer = TfidfVectorizer(token_pattern=r'\\b\\w+\\b')\n",
    "\n",
    "        # Join the tokens of each document into a single string\n",
    "        preprocessed_documents = [' '.join(doc_tokens) for doc_tokens in preprocessed_tokens]\n",
    "\n",
    "        # Encode the preprocessed tokens using the vectorizer\n",
    "        encoding = vectorizer.fit_transform(preprocessed_documents)\n",
    "    elif encoding_method == 'Word2Vec':\n",
    "        # Initialize a Word2Vec model\n",
    "        model = gensim.models.Word2Vec(preprocessed_tokens, min_count=1)\n",
    "\n",
    "        # Encode the preprocessed tokens using the model\n",
    "        encoding = []\n",
    "        for doc_tokens in preprocessed_tokens:\n",
    "            doc_vec = np.zeros(model.vector_size)\n",
    "            for token in doc_tokens:\n",
    "                if token in model.wv:\n",
    "                    doc_vec += model.wv[token]\n",
    "            encoding.append(doc_vec)\n",
    "        encoding = np.array(encoding)\n",
    "    else:\n",
    "        raise ValueError(\"Invalid encoding method. Choose from 'Bag-of-Words', 'TF-IDF', or 'Word2Vec'.\")\n",
    "\n",
    "    return encoding"
   ]
  },
  {
   "cell_type": "code",
   "execution_count": 6,
   "id": "deb80c13",
   "metadata": {},
   "outputs": [],
   "source": [
    "df[\"text\"] = df[\"text\"].fillna(\"\")"
   ]
  },
  {
   "cell_type": "code",
   "execution_count": 7,
   "id": "dd7139dc",
   "metadata": {},
   "outputs": [],
   "source": [
    "\n",
    "\n",
    "# Preprocess the corpus\n",
    "vocab, tokens = preprocess(df[\"text\"])\n",
    "\n",
    "# Encode the preprocessed tokens using the specified encoding method\n",
    "encoding_method = 'Bag-of-Words'\n",
    "encoded_tokens = encode(tokens, encoding_method)"
   ]
  },
  {
   "cell_type": "code",
   "execution_count": 8,
   "id": "eb586ef4",
   "metadata": {},
   "outputs": [
    {
     "data": {
      "text/plain": [
       "<100000x65815 sparse matrix of type '<class 'numpy.int64'>'\n",
       "\twith 3130010 stored elements in Compressed Sparse Row format>"
      ]
     },
     "execution_count": 8,
     "metadata": {},
     "output_type": "execute_result"
    }
   ],
   "source": [
    "encoded_tokens"
   ]
  },
  {
   "cell_type": "code",
   "execution_count": 9,
   "id": "1940127f",
   "metadata": {},
   "outputs": [
    {
     "data": {
      "text/plain": [
       "<1x65815 sparse matrix of type '<class 'numpy.int64'>'\n",
       "\twith 7 stored elements in Compressed Sparse Row format>"
      ]
     },
     "execution_count": 9,
     "metadata": {},
     "output_type": "execute_result"
    }
   ],
   "source": [
    "encoded_tokens[0][0][0]"
   ]
  },
  {
   "cell_type": "code",
   "execution_count": 10,
   "id": "b2502000",
   "metadata": {},
   "outputs": [],
   "source": [
    "encoding_method = 'TF-IDF'\n",
    "encoded_tokens = encode(tokens, encoding_method)"
   ]
  },
  {
   "cell_type": "code",
   "execution_count": 11,
   "id": "ac51aeb3",
   "metadata": {},
   "outputs": [
    {
     "data": {
      "text/plain": [
       "<100000x65815 sparse matrix of type '<class 'numpy.float64'>'\n",
       "\twith 3130010 stored elements in Compressed Sparse Row format>"
      ]
     },
     "execution_count": 11,
     "metadata": {},
     "output_type": "execute_result"
    }
   ],
   "source": [
    "encoded_tokens"
   ]
  },
  {
   "cell_type": "code",
   "execution_count": 12,
   "id": "ca0fb987",
   "metadata": {},
   "outputs": [
    {
     "data": {
      "text/plain": [
       "<1x65815 sparse matrix of type '<class 'numpy.float64'>'\n",
       "\twith 7 stored elements in Compressed Sparse Row format>"
      ]
     },
     "execution_count": 12,
     "metadata": {},
     "output_type": "execute_result"
    }
   ],
   "source": [
    "encoded_tokens[0][0][0]"
   ]
  },
  {
   "cell_type": "code",
   "execution_count": 13,
   "id": "ec2dfa26",
   "metadata": {},
   "outputs": [],
   "source": [
    "encoding_method = 'Word2Vec'\n",
    "encoded_tokens = encode(tokens, encoding_method)"
   ]
  },
  {
   "cell_type": "code",
   "execution_count": 14,
   "id": "449705ee",
   "metadata": {},
   "outputs": [
    {
     "data": {
      "text/plain": [
       "array([[  5.83584717,  -1.20755839,   1.07774064, ...,  -1.42397977,\n",
       "         -5.565654  ,  -1.90248314],\n",
       "       [  4.53061621,   5.41090962,   0.04808341, ...,  -3.84772317,\n",
       "         -2.34061489,   1.1168531 ],\n",
       "       [ 31.77329556,  27.85414376,   5.99537518, ..., -35.7595458 ,\n",
       "         -0.83008845,  17.62207972],\n",
       "       ...,\n",
       "       [  2.67567014,  14.53567044,  15.29970875, ..., -42.17137759,\n",
       "        -25.03599469,   4.16676166],\n",
       "       [ -0.28432921,   8.53320832,   3.76346451, ...,  -9.86925241,\n",
       "          4.47263063,   0.19936887],\n",
       "       [ 10.2640025 ,   2.47418444,   3.05794685, ...,  -1.54698901,\n",
       "         -5.68287043,   0.81294036]])"
      ]
     },
     "execution_count": 14,
     "metadata": {},
     "output_type": "execute_result"
    }
   ],
   "source": [
    "encoded_tokens"
   ]
  },
  {
   "cell_type": "code",
   "execution_count": null,
   "id": "c9706505",
   "metadata": {},
   "outputs": [],
   "source": []
  }
 ],
 "metadata": {
  "kernelspec": {
   "display_name": "Python 3 (ipykernel)",
   "language": "python",
   "name": "python3"
  },
  "language_info": {
   "codemirror_mode": {
    "name": "ipython",
    "version": 3
   },
   "file_extension": ".py",
   "mimetype": "text/x-python",
   "name": "python",
   "nbconvert_exporter": "python",
   "pygments_lexer": "ipython3",
   "version": "3.10.6"
  }
 },
 "nbformat": 4,
 "nbformat_minor": 5
}
