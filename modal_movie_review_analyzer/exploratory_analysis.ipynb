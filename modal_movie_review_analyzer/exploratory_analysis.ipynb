{
 "cells": [
  {
   "cell_type": "code",
   "execution_count": 1,
   "id": "d0f78c4f",
   "metadata": {},
   "outputs": [],
   "source": [
    "import pandas as pd\n",
    "import numpy as np\n",
    "import sklearn\n",
    "\n",
    "import matplotlib.pyplot as plt"
   ]
  },
  {
   "cell_type": "code",
   "execution_count": 4,
   "id": "304fe0c2",
   "metadata": {},
   "outputs": [],
   "source": [
    "df = pd.read_csv(\"amazon_movie_reviews.csv\", low_memory=False)"
   ]
  },
  {
   "cell_type": "code",
   "execution_count": 5,
   "id": "236bf2b2",
   "metadata": {},
   "outputs": [
    {
     "data": {
      "text/html": [
       "<div>\n",
       "<style scoped>\n",
       "    .dataframe tbody tr th:only-of-type {\n",
       "        vertical-align: middle;\n",
       "    }\n",
       "\n",
       "    .dataframe tbody tr th {\n",
       "        vertical-align: top;\n",
       "    }\n",
       "\n",
       "    .dataframe thead th {\n",
       "        text-align: right;\n",
       "    }\n",
       "</style>\n",
       "<table border=\"1\" class=\"dataframe\">\n",
       "  <thead>\n",
       "    <tr style=\"text-align: right;\">\n",
       "      <th></th>\n",
       "      <th>Unnamed: 0</th>\n",
       "      <th>rating</th>\n",
       "      <th>review_title</th>\n",
       "      <th>text</th>\n",
       "      <th>images_x</th>\n",
       "      <th>asin</th>\n",
       "      <th>parent_asin</th>\n",
       "      <th>user_id</th>\n",
       "      <th>timestamp</th>\n",
       "      <th>helpful_vote</th>\n",
       "      <th>...</th>\n",
       "      <th>features</th>\n",
       "      <th>description</th>\n",
       "      <th>price</th>\n",
       "      <th>images_y</th>\n",
       "      <th>videos</th>\n",
       "      <th>store</th>\n",
       "      <th>categories</th>\n",
       "      <th>details</th>\n",
       "      <th>bought_together</th>\n",
       "      <th>author</th>\n",
       "    </tr>\n",
       "  </thead>\n",
       "  <tbody>\n",
       "    <tr>\n",
       "      <th>0</th>\n",
       "      <td>0</td>\n",
       "      <td>5.0</td>\n",
       "      <td>Five Stars</td>\n",
       "      <td>Amazon, please buy the show! I'm hooked!</td>\n",
       "      <td>[]</td>\n",
       "      <td>B013488XFS</td>\n",
       "      <td>B013488XFS</td>\n",
       "      <td>AGGZ357AO26RQZVRLGU4D4N52DZQ</td>\n",
       "      <td>1440385637000</td>\n",
       "      <td>0</td>\n",
       "      <td>...</td>\n",
       "      <td>['IMDb 8.1', '2017', '10 episodes', 'X-Ray', '...</td>\n",
       "      <td>['A\\xa0con man (Giovanni Ribisi) on the run fr...</td>\n",
       "      <td>NaN</td>\n",
       "      <td>[{'360w': 'https://images-na.ssl-images-amazon...</td>\n",
       "      <td>[]</td>\n",
       "      <td>NaN</td>\n",
       "      <td>['Suspense', 'Drama']</td>\n",
       "      <td>{'Content advisory': ['Nudity', 'violence', 's...</td>\n",
       "      <td>NaN</td>\n",
       "      <td>NaN</td>\n",
       "    </tr>\n",
       "    <tr>\n",
       "      <th>1</th>\n",
       "      <td>1</td>\n",
       "      <td>5.0</td>\n",
       "      <td>Five Stars</td>\n",
       "      <td>My Kiddos LOVE this show!!</td>\n",
       "      <td>[]</td>\n",
       "      <td>B00CB6VTDS</td>\n",
       "      <td>B00CB6VTDS</td>\n",
       "      <td>AGKASBHYZPGTEPO6LWZPVJWB2BVA</td>\n",
       "      <td>1461100610000</td>\n",
       "      <td>0</td>\n",
       "      <td>...</td>\n",
       "      <td>['2014', '13 episodes', 'X-Ray', 'ALL']</td>\n",
       "      <td>['Follow the adventures of Arty and his sideki...</td>\n",
       "      <td>NaN</td>\n",
       "      <td>[{'360w': 'https://images-na.ssl-images-amazon...</td>\n",
       "      <td>[]</td>\n",
       "      <td>NaN</td>\n",
       "      <td>['Kids']</td>\n",
       "      <td>{'Audio languages': ['English Dialogue Boost: ...</td>\n",
       "      <td>NaN</td>\n",
       "      <td>NaN</td>\n",
       "    </tr>\n",
       "    <tr>\n",
       "      <th>2</th>\n",
       "      <td>2</td>\n",
       "      <td>3.0</td>\n",
       "      <td>Some decent moments...but...</td>\n",
       "      <td>Annabella Sciorra did her character justice wi...</td>\n",
       "      <td>[]</td>\n",
       "      <td>B096Z8Z3R6</td>\n",
       "      <td>B096Z8Z3R6</td>\n",
       "      <td>AG2L7H23R5LLKDKLBEF2Q3L2MVDA</td>\n",
       "      <td>1646271834582</td>\n",
       "      <td>0</td>\n",
       "      <td>...</td>\n",
       "      <td>NaN</td>\n",
       "      <td>NaN</td>\n",
       "      <td>NaN</td>\n",
       "      <td>[{'360w': 'https://images-na.ssl-images-amazon...</td>\n",
       "      <td>[]</td>\n",
       "      <td>NaN</td>\n",
       "      <td>NaN</td>\n",
       "      <td>{'Content advisory': ['Violence', 'substance u...</td>\n",
       "      <td>NaN</td>\n",
       "      <td>NaN</td>\n",
       "    </tr>\n",
       "    <tr>\n",
       "      <th>3</th>\n",
       "      <td>3</td>\n",
       "      <td>4.0</td>\n",
       "      <td>Decent Depiction of Lower-Functioning Autism, ...</td>\n",
       "      <td>...there should be more of a range of characte...</td>\n",
       "      <td>[]</td>\n",
       "      <td>B09M14D9FZ</td>\n",
       "      <td>B09M14D9FZ</td>\n",
       "      <td>AG2L7H23R5LLKDKLBEF2Q3L2MVDA</td>\n",
       "      <td>1645937761864</td>\n",
       "      <td>1</td>\n",
       "      <td>...</td>\n",
       "      <td>NaN</td>\n",
       "      <td>NaN</td>\n",
       "      <td>NaN</td>\n",
       "      <td>[{'360w': 'https://images-na.ssl-images-amazon...</td>\n",
       "      <td>[]</td>\n",
       "      <td>NaN</td>\n",
       "      <td>NaN</td>\n",
       "      <td>{'Content advisory': ['Violence', 'alcohol use...</td>\n",
       "      <td>NaN</td>\n",
       "      <td>NaN</td>\n",
       "    </tr>\n",
       "    <tr>\n",
       "      <th>4</th>\n",
       "      <td>4</td>\n",
       "      <td>5.0</td>\n",
       "      <td>What Love Is...</td>\n",
       "      <td>...isn't always how you expect it to be, but w...</td>\n",
       "      <td>[]</td>\n",
       "      <td>B001H1SVZC</td>\n",
       "      <td>B001H1SVZC</td>\n",
       "      <td>AG2L7H23R5LLKDKLBEF2Q3L2MVDA</td>\n",
       "      <td>1590639227074</td>\n",
       "      <td>0</td>\n",
       "      <td>...</td>\n",
       "      <td>NaN</td>\n",
       "      <td>NaN</td>\n",
       "      <td>NaN</td>\n",
       "      <td>[{'360w': 'https://images-na.ssl-images-amazon...</td>\n",
       "      <td>[]</td>\n",
       "      <td>NaN</td>\n",
       "      <td>NaN</td>\n",
       "      <td>{'Subtitles': ['None available'], 'Directors':...</td>\n",
       "      <td>NaN</td>\n",
       "      <td>NaN</td>\n",
       "    </tr>\n",
       "    <tr>\n",
       "      <th>...</th>\n",
       "      <td>...</td>\n",
       "      <td>...</td>\n",
       "      <td>...</td>\n",
       "      <td>...</td>\n",
       "      <td>...</td>\n",
       "      <td>...</td>\n",
       "      <td>...</td>\n",
       "      <td>...</td>\n",
       "      <td>...</td>\n",
       "      <td>...</td>\n",
       "      <td>...</td>\n",
       "      <td>...</td>\n",
       "      <td>...</td>\n",
       "      <td>...</td>\n",
       "      <td>...</td>\n",
       "      <td>...</td>\n",
       "      <td>...</td>\n",
       "      <td>...</td>\n",
       "      <td>...</td>\n",
       "      <td>...</td>\n",
       "      <td>...</td>\n",
       "    </tr>\n",
       "    <tr>\n",
       "      <th>999995</th>\n",
       "      <td>999995</td>\n",
       "      <td>5.0</td>\n",
       "      <td>Five Stars</td>\n",
       "      <td>You can't go wrong with Martin.</td>\n",
       "      <td>[]</td>\n",
       "      <td>B002OOCVTI</td>\n",
       "      <td>B002OOCVTI</td>\n",
       "      <td>AFBGAXYU6J6WJAFLPH2AUNXXEDJQ</td>\n",
       "      <td>1466467496000</td>\n",
       "      <td>0</td>\n",
       "      <td>...</td>\n",
       "      <td>[]</td>\n",
       "      <td>['Martin: The Complete Fourth Season (RPKG/DVD...</td>\n",
       "      <td>12.11</td>\n",
       "      <td>[{'thumb': 'https://m.media-amazon.com/images/...</td>\n",
       "      <td>[]</td>\n",
       "      <td>Martin Lawrence  (Actor, Producer),     Thomas...</td>\n",
       "      <td>['Movies &amp; TV', 'Featured Categories', 'DVD', ...</td>\n",
       "      <td>{'Genre': 'Comedy', 'Format': 'Color, Dolby, F...</td>\n",
       "      <td>NaN</td>\n",
       "      <td>NaN</td>\n",
       "    </tr>\n",
       "    <tr>\n",
       "      <th>999996</th>\n",
       "      <td>999996</td>\n",
       "      <td>5.0</td>\n",
       "      <td>Five Stars</td>\n",
       "      <td>You can't go wrong with Martin.</td>\n",
       "      <td>[]</td>\n",
       "      <td>B002LCSGM4</td>\n",
       "      <td>B002LCSGM4</td>\n",
       "      <td>AFBGAXYU6J6WJAFLPH2AUNXXEDJQ</td>\n",
       "      <td>1466467492000</td>\n",
       "      <td>0</td>\n",
       "      <td>...</td>\n",
       "      <td>[]</td>\n",
       "      <td>[\"Heeeey! Comic superstar Martin Lawrence (Bad...</td>\n",
       "      <td>17.49</td>\n",
       "      <td>[{'thumb': 'https://m.media-amazon.com/images/...</td>\n",
       "      <td>[]</td>\n",
       "      <td>Tisha Campbell  (Actor),     Tichina Arnold  (...</td>\n",
       "      <td>['Movies &amp; TV', 'Featured Categories', 'DVD', ...</td>\n",
       "      <td>{'Genre': 'Comedy', 'Format': 'Color, Dolby, N...</td>\n",
       "      <td>NaN</td>\n",
       "      <td>NaN</td>\n",
       "    </tr>\n",
       "    <tr>\n",
       "      <th>999997</th>\n",
       "      <td>999997</td>\n",
       "      <td>4.0</td>\n",
       "      <td>Predictable ending but good action</td>\n",
       "      <td>Good pace of action and good characters.  Plot...</td>\n",
       "      <td>[]</td>\n",
       "      <td>B01FYCAABW</td>\n",
       "      <td>B01FYCAABW</td>\n",
       "      <td>AEWYVCDW7ILZTKUJ32B5K6JHZYJA</td>\n",
       "      <td>1473554989000</td>\n",
       "      <td>1</td>\n",
       "      <td>...</td>\n",
       "      <td>NaN</td>\n",
       "      <td>NaN</td>\n",
       "      <td>NaN</td>\n",
       "      <td>[{'360w': 'https://m.media-amazon.com/images/G...</td>\n",
       "      <td>[]</td>\n",
       "      <td>NaN</td>\n",
       "      <td>NaN</td>\n",
       "      <td>{'Content advisory': ['Violence', 'substance u...</td>\n",
       "      <td>NaN</td>\n",
       "      <td>NaN</td>\n",
       "    </tr>\n",
       "    <tr>\n",
       "      <th>999998</th>\n",
       "      <td>999998</td>\n",
       "      <td>4.0</td>\n",
       "      <td>pretty decent ww2 flick</td>\n",
       "      <td>i watched th whole thing so that is one criter...</td>\n",
       "      <td>[]</td>\n",
       "      <td>B01DEGNX28</td>\n",
       "      <td>B01DEGNX28</td>\n",
       "      <td>AEWYVCDW7ILZTKUJ32B5K6JHZYJA</td>\n",
       "      <td>1472880562000</td>\n",
       "      <td>1</td>\n",
       "      <td>...</td>\n",
       "      <td>NaN</td>\n",
       "      <td>NaN</td>\n",
       "      <td>NaN</td>\n",
       "      <td>[{'360w': 'https://images-na.ssl-images-amazon...</td>\n",
       "      <td>[]</td>\n",
       "      <td>NaN</td>\n",
       "      <td>NaN</td>\n",
       "      <td>{'Content advisory': ['Violence', 'foul langua...</td>\n",
       "      <td>NaN</td>\n",
       "      <td>NaN</td>\n",
       "    </tr>\n",
       "    <tr>\n",
       "      <th>999999</th>\n",
       "      <td>999999</td>\n",
       "      <td>1.0</td>\n",
       "      <td>weak. very weak</td>\n",
       "      <td>this starts out somewhat interesting but fades...</td>\n",
       "      <td>[]</td>\n",
       "      <td>B00YBX664Q</td>\n",
       "      <td>B00YBX664Q</td>\n",
       "      <td>AEWYVCDW7ILZTKUJ32B5K6JHZYJA</td>\n",
       "      <td>1472880440000</td>\n",
       "      <td>6</td>\n",
       "      <td>...</td>\n",
       "      <td>NaN</td>\n",
       "      <td>NaN</td>\n",
       "      <td>NaN</td>\n",
       "      <td>[{'360w': 'https://images-na.ssl-images-amazon...</td>\n",
       "      <td>[]</td>\n",
       "      <td>NaN</td>\n",
       "      <td>NaN</td>\n",
       "      <td>{'Content advisory': ['Nudity', 'violence', 's...</td>\n",
       "      <td>NaN</td>\n",
       "      <td>NaN</td>\n",
       "    </tr>\n",
       "  </tbody>\n",
       "</table>\n",
       "<p>1000000 rows × 26 columns</p>\n",
       "</div>"
      ],
      "text/plain": [
       "        Unnamed: 0  rating                                       review_title  \\\n",
       "0                0     5.0                                         Five Stars   \n",
       "1                1     5.0                                         Five Stars   \n",
       "2                2     3.0                       Some decent moments...but...   \n",
       "3                3     4.0  Decent Depiction of Lower-Functioning Autism, ...   \n",
       "4                4     5.0                                    What Love Is...   \n",
       "...            ...     ...                                                ...   \n",
       "999995      999995     5.0                                         Five Stars   \n",
       "999996      999996     5.0                                         Five Stars   \n",
       "999997      999997     4.0                 Predictable ending but good action   \n",
       "999998      999998     4.0                            pretty decent ww2 flick   \n",
       "999999      999999     1.0                                    weak. very weak   \n",
       "\n",
       "                                                     text images_x  \\\n",
       "0                Amazon, please buy the show! I'm hooked!       []   \n",
       "1                              My Kiddos LOVE this show!!       []   \n",
       "2       Annabella Sciorra did her character justice wi...       []   \n",
       "3       ...there should be more of a range of characte...       []   \n",
       "4       ...isn't always how you expect it to be, but w...       []   \n",
       "...                                                   ...      ...   \n",
       "999995                    You can't go wrong with Martin.       []   \n",
       "999996                    You can't go wrong with Martin.       []   \n",
       "999997  Good pace of action and good characters.  Plot...       []   \n",
       "999998  i watched th whole thing so that is one criter...       []   \n",
       "999999  this starts out somewhat interesting but fades...       []   \n",
       "\n",
       "              asin parent_asin                       user_id      timestamp  \\\n",
       "0       B013488XFS  B013488XFS  AGGZ357AO26RQZVRLGU4D4N52DZQ  1440385637000   \n",
       "1       B00CB6VTDS  B00CB6VTDS  AGKASBHYZPGTEPO6LWZPVJWB2BVA  1461100610000   \n",
       "2       B096Z8Z3R6  B096Z8Z3R6  AG2L7H23R5LLKDKLBEF2Q3L2MVDA  1646271834582   \n",
       "3       B09M14D9FZ  B09M14D9FZ  AG2L7H23R5LLKDKLBEF2Q3L2MVDA  1645937761864   \n",
       "4       B001H1SVZC  B001H1SVZC  AG2L7H23R5LLKDKLBEF2Q3L2MVDA  1590639227074   \n",
       "...            ...         ...                           ...            ...   \n",
       "999995  B002OOCVTI  B002OOCVTI  AFBGAXYU6J6WJAFLPH2AUNXXEDJQ  1466467496000   \n",
       "999996  B002LCSGM4  B002LCSGM4  AFBGAXYU6J6WJAFLPH2AUNXXEDJQ  1466467492000   \n",
       "999997  B01FYCAABW  B01FYCAABW  AEWYVCDW7ILZTKUJ32B5K6JHZYJA  1473554989000   \n",
       "999998  B01DEGNX28  B01DEGNX28  AEWYVCDW7ILZTKUJ32B5K6JHZYJA  1472880562000   \n",
       "999999  B00YBX664Q  B00YBX664Q  AEWYVCDW7ILZTKUJ32B5K6JHZYJA  1472880440000   \n",
       "\n",
       "        helpful_vote  ...                                           features  \\\n",
       "0                  0  ...  ['IMDb 8.1', '2017', '10 episodes', 'X-Ray', '...   \n",
       "1                  0  ...            ['2014', '13 episodes', 'X-Ray', 'ALL']   \n",
       "2                  0  ...                                                NaN   \n",
       "3                  1  ...                                                NaN   \n",
       "4                  0  ...                                                NaN   \n",
       "...              ...  ...                                                ...   \n",
       "999995             0  ...                                                 []   \n",
       "999996             0  ...                                                 []   \n",
       "999997             1  ...                                                NaN   \n",
       "999998             1  ...                                                NaN   \n",
       "999999             6  ...                                                NaN   \n",
       "\n",
       "                                              description  price  \\\n",
       "0       ['A\\xa0con man (Giovanni Ribisi) on the run fr...    NaN   \n",
       "1       ['Follow the adventures of Arty and his sideki...    NaN   \n",
       "2                                                     NaN    NaN   \n",
       "3                                                     NaN    NaN   \n",
       "4                                                     NaN    NaN   \n",
       "...                                                   ...    ...   \n",
       "999995  ['Martin: The Complete Fourth Season (RPKG/DVD...  12.11   \n",
       "999996  [\"Heeeey! Comic superstar Martin Lawrence (Bad...  17.49   \n",
       "999997                                                NaN    NaN   \n",
       "999998                                                NaN    NaN   \n",
       "999999                                                NaN    NaN   \n",
       "\n",
       "                                                 images_y  videos  \\\n",
       "0       [{'360w': 'https://images-na.ssl-images-amazon...      []   \n",
       "1       [{'360w': 'https://images-na.ssl-images-amazon...      []   \n",
       "2       [{'360w': 'https://images-na.ssl-images-amazon...      []   \n",
       "3       [{'360w': 'https://images-na.ssl-images-amazon...      []   \n",
       "4       [{'360w': 'https://images-na.ssl-images-amazon...      []   \n",
       "...                                                   ...     ...   \n",
       "999995  [{'thumb': 'https://m.media-amazon.com/images/...      []   \n",
       "999996  [{'thumb': 'https://m.media-amazon.com/images/...      []   \n",
       "999997  [{'360w': 'https://m.media-amazon.com/images/G...      []   \n",
       "999998  [{'360w': 'https://images-na.ssl-images-amazon...      []   \n",
       "999999  [{'360w': 'https://images-na.ssl-images-amazon...      []   \n",
       "\n",
       "                                                    store  \\\n",
       "0                                                     NaN   \n",
       "1                                                     NaN   \n",
       "2                                                     NaN   \n",
       "3                                                     NaN   \n",
       "4                                                     NaN   \n",
       "...                                                   ...   \n",
       "999995  Martin Lawrence  (Actor, Producer),     Thomas...   \n",
       "999996  Tisha Campbell  (Actor),     Tichina Arnold  (...   \n",
       "999997                                                NaN   \n",
       "999998                                                NaN   \n",
       "999999                                                NaN   \n",
       "\n",
       "                                               categories  \\\n",
       "0                                   ['Suspense', 'Drama']   \n",
       "1                                                ['Kids']   \n",
       "2                                                     NaN   \n",
       "3                                                     NaN   \n",
       "4                                                     NaN   \n",
       "...                                                   ...   \n",
       "999995  ['Movies & TV', 'Featured Categories', 'DVD', ...   \n",
       "999996  ['Movies & TV', 'Featured Categories', 'DVD', ...   \n",
       "999997                                                NaN   \n",
       "999998                                                NaN   \n",
       "999999                                                NaN   \n",
       "\n",
       "                                                  details bought_together  \\\n",
       "0       {'Content advisory': ['Nudity', 'violence', 's...             NaN   \n",
       "1       {'Audio languages': ['English Dialogue Boost: ...             NaN   \n",
       "2       {'Content advisory': ['Violence', 'substance u...             NaN   \n",
       "3       {'Content advisory': ['Violence', 'alcohol use...             NaN   \n",
       "4       {'Subtitles': ['None available'], 'Directors':...             NaN   \n",
       "...                                                   ...             ...   \n",
       "999995  {'Genre': 'Comedy', 'Format': 'Color, Dolby, F...             NaN   \n",
       "999996  {'Genre': 'Comedy', 'Format': 'Color, Dolby, N...             NaN   \n",
       "999997  {'Content advisory': ['Violence', 'substance u...             NaN   \n",
       "999998  {'Content advisory': ['Violence', 'foul langua...             NaN   \n",
       "999999  {'Content advisory': ['Nudity', 'violence', 's...             NaN   \n",
       "\n",
       "       author  \n",
       "0         NaN  \n",
       "1         NaN  \n",
       "2         NaN  \n",
       "3         NaN  \n",
       "4         NaN  \n",
       "...       ...  \n",
       "999995    NaN  \n",
       "999996    NaN  \n",
       "999997    NaN  \n",
       "999998    NaN  \n",
       "999999    NaN  \n",
       "\n",
       "[1000000 rows x 26 columns]"
      ]
     },
     "execution_count": 5,
     "metadata": {},
     "output_type": "execute_result"
    }
   ],
   "source": [
    "df"
   ]
  },
  {
   "cell_type": "code",
   "execution_count": 6,
   "id": "5aafb957",
   "metadata": {},
   "outputs": [],
   "source": [
    "df = df.dropna()\n",
    "df = df.drop_duplicates()"
   ]
  },
  {
   "cell_type": "code",
   "execution_count": 7,
   "id": "85c641bd",
   "metadata": {},
   "outputs": [
    {
     "data": {
      "text/html": [
       "<div>\n",
       "<style scoped>\n",
       "    .dataframe tbody tr th:only-of-type {\n",
       "        vertical-align: middle;\n",
       "    }\n",
       "\n",
       "    .dataframe tbody tr th {\n",
       "        vertical-align: top;\n",
       "    }\n",
       "\n",
       "    .dataframe thead th {\n",
       "        text-align: right;\n",
       "    }\n",
       "</style>\n",
       "<table border=\"1\" class=\"dataframe\">\n",
       "  <thead>\n",
       "    <tr style=\"text-align: right;\">\n",
       "      <th></th>\n",
       "      <th>Unnamed: 0</th>\n",
       "      <th>rating</th>\n",
       "      <th>review_title</th>\n",
       "      <th>text</th>\n",
       "      <th>images_x</th>\n",
       "      <th>asin</th>\n",
       "      <th>parent_asin</th>\n",
       "      <th>user_id</th>\n",
       "      <th>timestamp</th>\n",
       "      <th>helpful_vote</th>\n",
       "      <th>...</th>\n",
       "      <th>features</th>\n",
       "      <th>description</th>\n",
       "      <th>price</th>\n",
       "      <th>images_y</th>\n",
       "      <th>videos</th>\n",
       "      <th>store</th>\n",
       "      <th>categories</th>\n",
       "      <th>details</th>\n",
       "      <th>bought_together</th>\n",
       "      <th>author</th>\n",
       "    </tr>\n",
       "  </thead>\n",
       "  <tbody>\n",
       "  </tbody>\n",
       "</table>\n",
       "<p>0 rows × 26 columns</p>\n",
       "</div>"
      ],
      "text/plain": [
       "Empty DataFrame\n",
       "Columns: [Unnamed: 0, rating, review_title, text, images_x, asin, parent_asin, user_id, timestamp, helpful_vote, verified_purchase, main_category, movie_title, subtitle, average_rating, rating_number, features, description, price, images_y, videos, store, categories, details, bought_together, author]\n",
       "Index: []\n",
       "\n",
       "[0 rows x 26 columns]"
      ]
     },
     "execution_count": 7,
     "metadata": {},
     "output_type": "execute_result"
    }
   ],
   "source": [
    "df"
   ]
  },
  {
   "cell_type": "markdown",
   "id": "8acffd19",
   "metadata": {},
   "source": [
    "That is unfortunate, every single row has at least one NaN..."
   ]
  },
  {
   "cell_type": "code",
   "execution_count": 8,
   "id": "ca8b9a99",
   "metadata": {},
   "outputs": [],
   "source": [
    "df = pd.read_csv(\"amazon_movie_reviews.csv\", low_memory=False)"
   ]
  },
  {
   "cell_type": "markdown",
   "id": "ad83e753",
   "metadata": {},
   "source": [
    "# 1. Rating spread"
   ]
  },
  {
   "cell_type": "code",
   "execution_count": 10,
   "id": "9118c4bd",
   "metadata": {},
   "outputs": [],
   "source": [
    "distribution = df[\"rating\"].value_counts()"
   ]
  },
  {
   "cell_type": "code",
   "execution_count": 11,
   "id": "b6bce1d9",
   "metadata": {},
   "outputs": [
    {
     "data": {
      "text/plain": [
       "5.0    630216\n",
       "4.0    165907\n",
       "3.0     88930\n",
       "1.0     66765\n",
       "2.0     48182\n",
       "Name: rating, dtype: int64"
      ]
     },
     "execution_count": 11,
     "metadata": {},
     "output_type": "execute_result"
    }
   ],
   "source": [
    "distribution"
   ]
  },
  {
   "cell_type": "markdown",
   "id": "584e37a8",
   "metadata": {},
   "source": [
    "# 2. Column information"
   ]
  },
  {
   "cell_type": "code",
   "execution_count": 12,
   "id": "6144b54d",
   "metadata": {},
   "outputs": [
    {
     "name": "stdout",
     "output_type": "stream",
     "text": [
      "<class 'pandas.core.frame.DataFrame'>\n",
      "RangeIndex: 1000000 entries, 0 to 999999\n",
      "Data columns (total 26 columns):\n",
      " #   Column             Non-Null Count    Dtype  \n",
      "---  ------             --------------    -----  \n",
      " 0   Unnamed: 0         1000000 non-null  int64  \n",
      " 1   rating             1000000 non-null  float64\n",
      " 2   review_title       999930 non-null   object \n",
      " 3   text               999922 non-null   object \n",
      " 4   images_x           1000000 non-null  object \n",
      " 5   asin               1000000 non-null  object \n",
      " 6   parent_asin        1000000 non-null  object \n",
      " 7   user_id            1000000 non-null  object \n",
      " 8   timestamp          1000000 non-null  int64  \n",
      " 9   helpful_vote       1000000 non-null  int64  \n",
      " 10  verified_purchase  1000000 non-null  bool   \n",
      " 11  main_category      990649 non-null   object \n",
      " 12  movie_title        457708 non-null   object \n",
      " 13  subtitle           20116 non-null    object \n",
      " 14  average_rating     999990 non-null   float64\n",
      " 15  rating_number      999990 non-null   float64\n",
      " 16  features           457710 non-null   object \n",
      " 17  description        457710 non-null   object \n",
      " 18  price              388749 non-null   object \n",
      " 19  images_y           1000000 non-null  object \n",
      " 20  videos             1000000 non-null  object \n",
      " 21  store              389852 non-null   object \n",
      " 22  categories         457710 non-null   object \n",
      " 23  details            1000000 non-null  object \n",
      " 24  bought_together    0 non-null        float64\n",
      " 25  author             118 non-null      object \n",
      "dtypes: bool(1), float64(4), int64(3), object(18)\n",
      "memory usage: 191.7+ MB\n"
     ]
    }
   ],
   "source": [
    "df.info()"
   ]
  },
  {
   "cell_type": "code",
   "execution_count": 16,
   "id": "a6e523cf",
   "metadata": {},
   "outputs": [
    {
     "data": {
      "text/plain": [
       "0                                                Five Stars\n",
       "1                                                Five Stars\n",
       "2                              Some decent moments...but...\n",
       "3         Decent Depiction of Lower-Functioning Autism, ...\n",
       "4                                           What Love Is...\n",
       "                                ...                        \n",
       "999995                                           Five Stars\n",
       "999996                                           Five Stars\n",
       "999997                   Predictable ending but good action\n",
       "999998                              pretty decent ww2 flick\n",
       "999999                                      weak. very weak\n",
       "Name: review_title, Length: 1000000, dtype: object"
      ]
     },
     "execution_count": 16,
     "metadata": {},
     "output_type": "execute_result"
    }
   ],
   "source": [
    "df[\"review_title\"]"
   ]
  },
  {
   "cell_type": "code",
   "execution_count": 17,
   "id": "c4aff1a9",
   "metadata": {},
   "outputs": [
    {
     "data": {
      "text/plain": [
       "0                  Amazon, please buy the show! I'm hooked!\n",
       "1                                My Kiddos LOVE this show!!\n",
       "2         Annabella Sciorra did her character justice wi...\n",
       "3         ...there should be more of a range of characte...\n",
       "4         ...isn't always how you expect it to be, but w...\n",
       "                                ...                        \n",
       "999995                      You can't go wrong with Martin.\n",
       "999996                      You can't go wrong with Martin.\n",
       "999997    Good pace of action and good characters.  Plot...\n",
       "999998    i watched th whole thing so that is one criter...\n",
       "999999    this starts out somewhat interesting but fades...\n",
       "Name: text, Length: 1000000, dtype: object"
      ]
     },
     "execution_count": 17,
     "metadata": {},
     "output_type": "execute_result"
    }
   ],
   "source": [
    "df[\"text\"]"
   ]
  },
  {
   "cell_type": "code",
   "execution_count": 18,
   "id": "9bf04860",
   "metadata": {},
   "outputs": [
    {
     "data": {
      "text/plain": [
       "0         []\n",
       "1         []\n",
       "2         []\n",
       "3         []\n",
       "4         []\n",
       "          ..\n",
       "999995    []\n",
       "999996    []\n",
       "999997    []\n",
       "999998    []\n",
       "999999    []\n",
       "Name: images_x, Length: 1000000, dtype: object"
      ]
     },
     "execution_count": 18,
     "metadata": {},
     "output_type": "execute_result"
    }
   ],
   "source": [
    "df[\"images_x\"]"
   ]
  },
  {
   "cell_type": "markdown",
   "id": "911f47c5",
   "metadata": {},
   "source": [
    "due to the sheer amount of empty values, and the computational cost of adding this feature, to keep it light weight may be better to ignore this feature"
   ]
  },
  {
   "cell_type": "code",
   "execution_count": 28,
   "id": "9656b907",
   "metadata": {},
   "outputs": [],
   "source": [
    "empty_count = (df[\"images_x\"] == \"[]\").sum()"
   ]
  },
  {
   "cell_type": "code",
   "execution_count": 29,
   "id": "934129df",
   "metadata": {},
   "outputs": [
    {
     "data": {
      "text/plain": [
       "998003"
      ]
     },
     "execution_count": 29,
     "metadata": {},
     "output_type": "execute_result"
    }
   ],
   "source": [
    "empty_count"
   ]
  },
  {
   "cell_type": "markdown",
   "id": "90e294ea",
   "metadata": {},
   "source": [
    "Vast majority is empty images, I would consider this a useless feature that should be removed then"
   ]
  },
  {
   "cell_type": "code",
   "execution_count": 30,
   "id": "5aa2dd3d",
   "metadata": {},
   "outputs": [
    {
     "data": {
      "text/plain": [
       "0         B013488XFS\n",
       "1         B00CB6VTDS\n",
       "2         B096Z8Z3R6\n",
       "3         B09M14D9FZ\n",
       "4         B001H1SVZC\n",
       "             ...    \n",
       "999995    B002OOCVTI\n",
       "999996    B002LCSGM4\n",
       "999997    B01FYCAABW\n",
       "999998    B01DEGNX28\n",
       "999999    B00YBX664Q\n",
       "Name: asin, Length: 1000000, dtype: object"
      ]
     },
     "execution_count": 30,
     "metadata": {},
     "output_type": "execute_result"
    }
   ],
   "source": [
    "df[\"asin\"]"
   ]
  },
  {
   "cell_type": "markdown",
   "id": "39c6cdad",
   "metadata": {},
   "source": [
    "No good description of what this means, possibly useless"
   ]
  },
  {
   "cell_type": "code",
   "execution_count": 31,
   "id": "730568f1",
   "metadata": {},
   "outputs": [
    {
     "data": {
      "text/plain": [
       "0         AGGZ357AO26RQZVRLGU4D4N52DZQ\n",
       "1         AGKASBHYZPGTEPO6LWZPVJWB2BVA\n",
       "2         AG2L7H23R5LLKDKLBEF2Q3L2MVDA\n",
       "3         AG2L7H23R5LLKDKLBEF2Q3L2MVDA\n",
       "4         AG2L7H23R5LLKDKLBEF2Q3L2MVDA\n",
       "                      ...             \n",
       "999995    AFBGAXYU6J6WJAFLPH2AUNXXEDJQ\n",
       "999996    AFBGAXYU6J6WJAFLPH2AUNXXEDJQ\n",
       "999997    AEWYVCDW7ILZTKUJ32B5K6JHZYJA\n",
       "999998    AEWYVCDW7ILZTKUJ32B5K6JHZYJA\n",
       "999999    AEWYVCDW7ILZTKUJ32B5K6JHZYJA\n",
       "Name: user_id, Length: 1000000, dtype: object"
      ]
     },
     "execution_count": 31,
     "metadata": {},
     "output_type": "execute_result"
    }
   ],
   "source": [
    "df[\"user_id\"]"
   ]
  },
  {
   "cell_type": "markdown",
   "id": "3ada9121",
   "metadata": {},
   "source": [
    "unique user IDs should have no value to train on if anything could be harmful"
   ]
  },
  {
   "cell_type": "code",
   "execution_count": 32,
   "id": "faaac9d8",
   "metadata": {},
   "outputs": [
    {
     "data": {
      "text/plain": [
       "0         1440385637000\n",
       "1         1461100610000\n",
       "2         1646271834582\n",
       "3         1645937761864\n",
       "4         1590639227074\n",
       "              ...      \n",
       "999995    1466467496000\n",
       "999996    1466467492000\n",
       "999997    1473554989000\n",
       "999998    1472880562000\n",
       "999999    1472880440000\n",
       "Name: timestamp, Length: 1000000, dtype: int64"
      ]
     },
     "execution_count": 32,
     "metadata": {},
     "output_type": "execute_result"
    }
   ],
   "source": [
    "df[\"timestamp\"]"
   ]
  },
  {
   "cell_type": "code",
   "execution_count": 33,
   "id": "661ccb3d",
   "metadata": {},
   "outputs": [
    {
     "data": {
      "text/plain": [
       "0         0\n",
       "1         0\n",
       "2         0\n",
       "3         1\n",
       "4         0\n",
       "         ..\n",
       "999995    0\n",
       "999996    0\n",
       "999997    1\n",
       "999998    1\n",
       "999999    6\n",
       "Name: helpful_vote, Length: 1000000, dtype: int64"
      ]
     },
     "execution_count": 33,
     "metadata": {},
     "output_type": "execute_result"
    }
   ],
   "source": [
    "df[\"helpful_vote\"]"
   ]
  },
  {
   "cell_type": "code",
   "execution_count": 35,
   "id": "4cc5c13a",
   "metadata": {},
   "outputs": [],
   "source": [
    "votes = df[\"helpful_vote\"].value_counts()"
   ]
  },
  {
   "cell_type": "code",
   "execution_count": 36,
   "id": "3ab37207",
   "metadata": {},
   "outputs": [
    {
     "data": {
      "text/plain": [
       "0      753063\n",
       "1      122972\n",
       "2       43601\n",
       "3       21996\n",
       "4       13144\n",
       "        ...  \n",
       "597         1\n",
       "640         1\n",
       "453         1\n",
       "420         1\n",
       "540         1\n",
       "Name: helpful_vote, Length: 410, dtype: int64"
      ]
     },
     "execution_count": 36,
     "metadata": {},
     "output_type": "execute_result"
    }
   ],
   "source": [
    "votes"
   ]
  },
  {
   "cell_type": "code",
   "execution_count": 37,
   "id": "6231d31e",
   "metadata": {},
   "outputs": [
    {
     "data": {
      "text/plain": [
       "0          True\n",
       "1          True\n",
       "2          True\n",
       "3         False\n",
       "4          True\n",
       "          ...  \n",
       "999995     True\n",
       "999996     True\n",
       "999997     True\n",
       "999998     True\n",
       "999999     True\n",
       "Name: verified_purchase, Length: 1000000, dtype: bool"
      ]
     },
     "execution_count": 37,
     "metadata": {},
     "output_type": "execute_result"
    }
   ],
   "source": [
    "df[\"verified_purchase\"]"
   ]
  },
  {
   "cell_type": "code",
   "execution_count": 38,
   "id": "470e40e3",
   "metadata": {},
   "outputs": [
    {
     "data": {
      "text/plain": [
       "0         Prime Video\n",
       "1         Prime Video\n",
       "2         Prime Video\n",
       "3         Prime Video\n",
       "4         Prime Video\n",
       "             ...     \n",
       "999995    Movies & TV\n",
       "999996    Movies & TV\n",
       "999997    Prime Video\n",
       "999998    Prime Video\n",
       "999999    Prime Video\n",
       "Name: main_category, Length: 1000000, dtype: object"
      ]
     },
     "execution_count": 38,
     "metadata": {},
     "output_type": "execute_result"
    }
   ],
   "source": [
    "df[\"main_category\"]"
   ]
  },
  {
   "cell_type": "code",
   "execution_count": 39,
   "id": "c9f2ee44",
   "metadata": {},
   "outputs": [
    {
     "data": {
      "text/plain": [
       "0              Sneaky Pete\n",
       "1          Creative Galaxy\n",
       "2                      NaN\n",
       "3                      NaN\n",
       "4                      NaN\n",
       "                ...       \n",
       "999995    Martin: Season 4\n",
       "999996    Martin: Season 3\n",
       "999997                 NaN\n",
       "999998                 NaN\n",
       "999999                 NaN\n",
       "Name: movie_title, Length: 1000000, dtype: object"
      ]
     },
     "execution_count": 39,
     "metadata": {},
     "output_type": "execute_result"
    }
   ],
   "source": [
    "df[\"movie_title\"]"
   ]
  },
  {
   "cell_type": "code",
   "execution_count": 44,
   "id": "b7444544",
   "metadata": {},
   "outputs": [],
   "source": [
    "count_nan = df[\"movie_title\"].isna().sum().sum()"
   ]
  },
  {
   "cell_type": "code",
   "execution_count": 45,
   "id": "1cbd8a80",
   "metadata": {},
   "outputs": [
    {
     "data": {
      "text/plain": [
       "542292"
      ]
     },
     "execution_count": 45,
     "metadata": {},
     "output_type": "execute_result"
    }
   ],
   "source": [
    "count_nan"
   ]
  },
  {
   "cell_type": "code",
   "execution_count": 46,
   "id": "af7a5a4a",
   "metadata": {},
   "outputs": [
    {
     "data": {
      "text/plain": [
       "0         Ads BadgeAds Badge\n",
       "1                   Season 1\n",
       "2                        NaN\n",
       "3                        NaN\n",
       "4                        NaN\n",
       "                 ...        \n",
       "999995                   NaN\n",
       "999996                   NaN\n",
       "999997                   NaN\n",
       "999998                   NaN\n",
       "999999                   NaN\n",
       "Name: subtitle, Length: 1000000, dtype: object"
      ]
     },
     "execution_count": 46,
     "metadata": {},
     "output_type": "execute_result"
    }
   ],
   "source": [
    "df[\"subtitle\"]"
   ]
  },
  {
   "cell_type": "markdown",
   "id": "b52bc89d",
   "metadata": {},
   "source": [
    "due to the sheer amount of empty values, and the computational cost of adding this feature, to keep it light weight may be better to ignore this feature"
   ]
  },
  {
   "cell_type": "code",
   "execution_count": 47,
   "id": "64ee49c0",
   "metadata": {},
   "outputs": [],
   "source": [
    "count_nan = df[\"movie_title\"].isna().sum().sum()"
   ]
  },
  {
   "cell_type": "code",
   "execution_count": 48,
   "id": "ae8819b5",
   "metadata": {},
   "outputs": [
    {
     "data": {
      "text/plain": [
       "542292"
      ]
     },
     "execution_count": 48,
     "metadata": {},
     "output_type": "execute_result"
    }
   ],
   "source": [
    "count_nan"
   ]
  },
  {
   "cell_type": "code",
   "execution_count": 49,
   "id": "a956343a",
   "metadata": {},
   "outputs": [
    {
     "data": {
      "text/plain": [
       "0         4.6\n",
       "1         4.8\n",
       "2         3.9\n",
       "3         4.8\n",
       "4         4.5\n",
       "         ... \n",
       "999995    4.8\n",
       "999996    4.9\n",
       "999997    4.2\n",
       "999998    3.1\n",
       "999999    4.5\n",
       "Name: average_rating, Length: 1000000, dtype: float64"
      ]
     },
     "execution_count": 49,
     "metadata": {},
     "output_type": "execute_result"
    }
   ],
   "source": [
    "df[\"average_rating\"]"
   ]
  },
  {
   "cell_type": "code",
   "execution_count": 50,
   "id": "6edf721b",
   "metadata": {},
   "outputs": [
    {
     "data": {
      "text/plain": [
       "0         56658.0\n",
       "1          6403.0\n",
       "2           182.0\n",
       "3           533.0\n",
       "4           389.0\n",
       "           ...   \n",
       "999995      617.0\n",
       "999996     1424.0\n",
       "999997      424.0\n",
       "999998      626.0\n",
       "999999    30161.0\n",
       "Name: rating_number, Length: 1000000, dtype: float64"
      ]
     },
     "execution_count": 50,
     "metadata": {},
     "output_type": "execute_result"
    }
   ],
   "source": [
    "df[\"rating_number\"]"
   ]
  },
  {
   "cell_type": "code",
   "execution_count": 51,
   "id": "68624968",
   "metadata": {},
   "outputs": [
    {
     "data": {
      "text/plain": [
       "0         ['IMDb 8.1', '2017', '10 episodes', 'X-Ray', '...\n",
       "1                   ['2014', '13 episodes', 'X-Ray', 'ALL']\n",
       "2                                                       NaN\n",
       "3                                                       NaN\n",
       "4                                                       NaN\n",
       "                                ...                        \n",
       "999995                                                   []\n",
       "999996                                                   []\n",
       "999997                                                  NaN\n",
       "999998                                                  NaN\n",
       "999999                                                  NaN\n",
       "Name: features, Length: 1000000, dtype: object"
      ]
     },
     "execution_count": 51,
     "metadata": {},
     "output_type": "execute_result"
    }
   ],
   "source": [
    "df[\"features\"]"
   ]
  },
  {
   "cell_type": "code",
   "execution_count": 56,
   "id": "76727fe9",
   "metadata": {},
   "outputs": [],
   "source": [
    "count_nan = df[\"features\"].isna().sum().sum()\n",
    "empty_count = (df[\"features\"] == \"[]\").sum()"
   ]
  },
  {
   "cell_type": "code",
   "execution_count": 57,
   "id": "04f24f33",
   "metadata": {},
   "outputs": [
    {
     "data": {
      "text/plain": [
       "931641"
      ]
     },
     "execution_count": 57,
     "metadata": {},
     "output_type": "execute_result"
    }
   ],
   "source": [
    "count_nan + empty_count"
   ]
  },
  {
   "cell_type": "code",
   "execution_count": 58,
   "id": "0d7dc971",
   "metadata": {},
   "outputs": [
    {
     "data": {
      "text/plain": [
       "0         ['A\\xa0con man (Giovanni Ribisi) on the run fr...\n",
       "1         ['Follow the adventures of Arty and his sideki...\n",
       "2                                                       NaN\n",
       "3                                                       NaN\n",
       "4                                                       NaN\n",
       "                                ...                        \n",
       "999995    ['Martin: The Complete Fourth Season (RPKG/DVD...\n",
       "999996    [\"Heeeey! Comic superstar Martin Lawrence (Bad...\n",
       "999997                                                  NaN\n",
       "999998                                                  NaN\n",
       "999999                                                  NaN\n",
       "Name: description, Length: 1000000, dtype: object"
      ]
     },
     "execution_count": 58,
     "metadata": {},
     "output_type": "execute_result"
    }
   ],
   "source": [
    "df[\"description\"]"
   ]
  },
  {
   "cell_type": "code",
   "execution_count": 59,
   "id": "da8552fc",
   "metadata": {},
   "outputs": [],
   "source": [
    "count_nan = df[\"description\"].isna().sum().sum()\n",
    "empty_count = (df[\"description\"] == \"[]\").sum()"
   ]
  },
  {
   "cell_type": "code",
   "execution_count": 60,
   "id": "b84bb151",
   "metadata": {},
   "outputs": [
    {
     "data": {
      "text/plain": [
       "568100"
      ]
     },
     "execution_count": 60,
     "metadata": {},
     "output_type": "execute_result"
    }
   ],
   "source": [
    "count_nan + empty_count"
   ]
  },
  {
   "cell_type": "markdown",
   "id": "c93b7428",
   "metadata": {},
   "source": [
    "due to the sheer amount of empty values, and the computational cost of adding this feature, to keep it light weight may be better to ignore this feature"
   ]
  },
  {
   "cell_type": "code",
   "execution_count": 61,
   "id": "6aef0b8d",
   "metadata": {},
   "outputs": [
    {
     "data": {
      "text/plain": [
       "0           NaN\n",
       "1           NaN\n",
       "2           NaN\n",
       "3           NaN\n",
       "4           NaN\n",
       "          ...  \n",
       "999995    12.11\n",
       "999996    17.49\n",
       "999997      NaN\n",
       "999998      NaN\n",
       "999999      NaN\n",
       "Name: price, Length: 1000000, dtype: object"
      ]
     },
     "execution_count": 61,
     "metadata": {},
     "output_type": "execute_result"
    }
   ],
   "source": [
    "df[\"price\"]"
   ]
  },
  {
   "cell_type": "code",
   "execution_count": 65,
   "id": "a2aba5e7",
   "metadata": {},
   "outputs": [],
   "source": [
    "count_nan = df[\"price\"].isna().sum().sum()"
   ]
  },
  {
   "cell_type": "code",
   "execution_count": 66,
   "id": "917a1e18",
   "metadata": {},
   "outputs": [
    {
     "data": {
      "text/plain": [
       "611251"
      ]
     },
     "execution_count": 66,
     "metadata": {},
     "output_type": "execute_result"
    }
   ],
   "source": [
    "count_nan"
   ]
  },
  {
   "cell_type": "code",
   "execution_count": 64,
   "id": "c529a1a8",
   "metadata": {},
   "outputs": [
    {
     "data": {
      "text/plain": [
       "0         [{'360w': 'https://images-na.ssl-images-amazon...\n",
       "1         [{'360w': 'https://images-na.ssl-images-amazon...\n",
       "2         [{'360w': 'https://images-na.ssl-images-amazon...\n",
       "3         [{'360w': 'https://images-na.ssl-images-amazon...\n",
       "4         [{'360w': 'https://images-na.ssl-images-amazon...\n",
       "                                ...                        \n",
       "999995    [{'thumb': 'https://m.media-amazon.com/images/...\n",
       "999996    [{'thumb': 'https://m.media-amazon.com/images/...\n",
       "999997    [{'360w': 'https://m.media-amazon.com/images/G...\n",
       "999998    [{'360w': 'https://images-na.ssl-images-amazon...\n",
       "999999    [{'360w': 'https://images-na.ssl-images-amazon...\n",
       "Name: images_y, Length: 1000000, dtype: object"
      ]
     },
     "execution_count": 64,
     "metadata": {},
     "output_type": "execute_result"
    }
   ],
   "source": [
    "df[\"images_y\"]"
   ]
  },
  {
   "cell_type": "code",
   "execution_count": 72,
   "id": "c2c5ecef",
   "metadata": {},
   "outputs": [
    {
     "data": {
      "text/plain": [
       "\"[{'360w': 'https://images-na.ssl-images-amazon.com/images/S/pv-target-images/23aaac7be8d7e5295be3f88aedc3b7242ad895e44274583ccb5bbc6fed88f493._RI_SX360_FMwebp_.png', '480w': 'https://images-na.ssl-images-amazon.com/images/S/pv-target-images/23aaac7be8d7e5295be3f88aedc3b7242ad895e44274583ccb5bbc6fed88f493._RI_SX480_FMwebp_.png', '720w': 'https://images-na.ssl-images-amazon.com/images/S/pv-target-images/23aaac7be8d7e5295be3f88aedc3b7242ad895e44274583ccb5bbc6fed88f493._RI_SX720_FMwebp_.png', '1080w': 'https://images-na.ssl-images-amazon.com/images/S/pv-target-images/23aaac7be8d7e5295be3f88aedc3b7242ad895e44274583ccb5bbc6fed88f493._RI_SX1080_FMwebp_.png', '1440w': 'https://images-na.ssl-images-amazon.com/images/S/pv-target-images/23aaac7be8d7e5295be3f88aedc3b7242ad895e44274583ccb5bbc6fed88f493._RI_SX1440_FMwebp_.png', '1920w': 'https://images-na.ssl-images-amazon.com/images/S/pv-target-images/23aaac7be8d7e5295be3f88aedc3b7242ad895e44274583ccb5bbc6fed88f493._RI_SX1920_FMwebp_.png', 'variant': 'MAIN'}]\""
      ]
     },
     "execution_count": 72,
     "metadata": {},
     "output_type": "execute_result"
    }
   ],
   "source": [
    "df[\"images_y\"][0]"
   ]
  },
  {
   "cell_type": "code",
   "execution_count": 67,
   "id": "4a684614",
   "metadata": {},
   "outputs": [],
   "source": [
    "count_nan = df[\"images_y\"].isna().sum().sum()\n",
    "empty_count = (df[\"images_y\"] == \"[]\").sum()"
   ]
  },
  {
   "cell_type": "code",
   "execution_count": 68,
   "id": "b9c878ed",
   "metadata": {},
   "outputs": [
    {
     "data": {
      "text/plain": [
       "25"
      ]
     },
     "execution_count": 68,
     "metadata": {},
     "output_type": "execute_result"
    }
   ],
   "source": [
    "count_nan + empty_count"
   ]
  },
  {
   "cell_type": "code",
   "execution_count": 69,
   "id": "f4053c7e",
   "metadata": {},
   "outputs": [
    {
     "data": {
      "text/plain": [
       "0         []\n",
       "1         []\n",
       "2         []\n",
       "3         []\n",
       "4         []\n",
       "          ..\n",
       "999995    []\n",
       "999996    []\n",
       "999997    []\n",
       "999998    []\n",
       "999999    []\n",
       "Name: videos, Length: 1000000, dtype: object"
      ]
     },
     "execution_count": 69,
     "metadata": {},
     "output_type": "execute_result"
    }
   ],
   "source": [
    "df[\"videos\"]"
   ]
  },
  {
   "cell_type": "code",
   "execution_count": 70,
   "id": "cbed808f",
   "metadata": {},
   "outputs": [],
   "source": [
    "count_nan = df[\"videos\"].isna().sum().sum()\n",
    "empty_count = (df[\"videos\"] == \"[]\").sum()"
   ]
  },
  {
   "cell_type": "code",
   "execution_count": 71,
   "id": "eeead26f",
   "metadata": {},
   "outputs": [
    {
     "data": {
      "text/plain": [
       "912011"
      ]
     },
     "execution_count": 71,
     "metadata": {},
     "output_type": "execute_result"
    }
   ],
   "source": [
    "count_nan + empty_count"
   ]
  },
  {
   "cell_type": "markdown",
   "id": "feb9e1ec",
   "metadata": {},
   "source": [
    "due to the sheer amount of empty values, and the computational cost of adding this feature, to keep it light weight may be better to ignore this feature"
   ]
  },
  {
   "cell_type": "code",
   "execution_count": 73,
   "id": "463ff0a4",
   "metadata": {},
   "outputs": [
    {
     "data": {
      "text/plain": [
       "0                                                       NaN\n",
       "1                                                       NaN\n",
       "2                                                       NaN\n",
       "3                                                       NaN\n",
       "4                                                       NaN\n",
       "                                ...                        \n",
       "999995    Martin Lawrence  (Actor, Producer),     Thomas...\n",
       "999996    Tisha Campbell  (Actor),     Tichina Arnold  (...\n",
       "999997                                                  NaN\n",
       "999998                                                  NaN\n",
       "999999                                                  NaN\n",
       "Name: store, Length: 1000000, dtype: object"
      ]
     },
     "execution_count": 73,
     "metadata": {},
     "output_type": "execute_result"
    }
   ],
   "source": [
    "df[\"store\"]"
   ]
  },
  {
   "cell_type": "code",
   "execution_count": 74,
   "id": "7d4e3b8b",
   "metadata": {},
   "outputs": [
    {
     "data": {
      "text/plain": [
       "0                                     ['Suspense', 'Drama']\n",
       "1                                                  ['Kids']\n",
       "2                                                       NaN\n",
       "3                                                       NaN\n",
       "4                                                       NaN\n",
       "                                ...                        \n",
       "999995    ['Movies & TV', 'Featured Categories', 'DVD', ...\n",
       "999996    ['Movies & TV', 'Featured Categories', 'DVD', ...\n",
       "999997                                                  NaN\n",
       "999998                                                  NaN\n",
       "999999                                                  NaN\n",
       "Name: categories, Length: 1000000, dtype: object"
      ]
     },
     "execution_count": 74,
     "metadata": {},
     "output_type": "execute_result"
    }
   ],
   "source": [
    "df[\"categories\"]"
   ]
  },
  {
   "cell_type": "code",
   "execution_count": 85,
   "id": "193ff4d5",
   "metadata": {},
   "outputs": [],
   "source": [
    "count_nan = df[\"categories\"].isna().sum().sum()\n",
    "empty_count = (df[\"categories\"] == \"[]\").sum()"
   ]
  },
  {
   "cell_type": "code",
   "execution_count": 86,
   "id": "03559bc3",
   "metadata": {},
   "outputs": [
    {
     "data": {
      "text/plain": [
       "542624"
      ]
     },
     "execution_count": 86,
     "metadata": {},
     "output_type": "execute_result"
    }
   ],
   "source": [
    "count_nan + empty_count"
   ]
  },
  {
   "cell_type": "code",
   "execution_count": 75,
   "id": "aae11609",
   "metadata": {},
   "outputs": [
    {
     "data": {
      "text/plain": [
       "0         {'Content advisory': ['Nudity', 'violence', 's...\n",
       "1         {'Audio languages': ['English Dialogue Boost: ...\n",
       "2         {'Content advisory': ['Violence', 'substance u...\n",
       "3         {'Content advisory': ['Violence', 'alcohol use...\n",
       "4         {'Subtitles': ['None available'], 'Directors':...\n",
       "                                ...                        \n",
       "999995    {'Genre': 'Comedy', 'Format': 'Color, Dolby, F...\n",
       "999996    {'Genre': 'Comedy', 'Format': 'Color, Dolby, N...\n",
       "999997    {'Content advisory': ['Violence', 'substance u...\n",
       "999998    {'Content advisory': ['Violence', 'foul langua...\n",
       "999999    {'Content advisory': ['Nudity', 'violence', 's...\n",
       "Name: details, Length: 1000000, dtype: object"
      ]
     },
     "execution_count": 75,
     "metadata": {},
     "output_type": "execute_result"
    }
   ],
   "source": [
    "df[\"details\"]"
   ]
  },
  {
   "cell_type": "code",
   "execution_count": 78,
   "id": "cbe2935c",
   "metadata": {},
   "outputs": [
    {
     "data": {
      "text/plain": [
       "\"{'Content advisory': ['Nudity', 'violence', 'substance use', 'alcohol use', 'smoking', 'foul language', 'sexual content'], 'Audio languages': ['English Dialogue Boost: High', 'English', 'English [Audio Description]', 'English Dialogue Boost: Medium', 'English Dialogue Boost: Low', 'Italiano', '日本語', 'Português', 'Deutsch', 'Español (España)', 'Español (Latinoamérica)', 'Polski', 'Français'], 'Subtitles': ['English [CC]', 'العربية', 'Čeština', 'Dansk', 'Deutsch', 'Ελληνικά', 'Español (Latinoamérica)', 'Español (España)', 'Suomi', 'Filipino', 'Français', 'עברית', 'हिन्दी', 'Magyar', 'Indonesia', 'Italiano', '日本語', '한국어', 'Bahasa Melayu', 'Norsk Bokmål', 'Nederlands', 'Polski', 'Português (Brasil)', 'Português (Portugal)', 'Română', 'Русский', 'Svenska', 'தமிழ்', 'తెలుగు', 'ไทย', 'Türkçe', 'Українська', 'Tiếng Việt', '中文（简体）', '中文（繁體）'], 'Directors': ['Rosemary Rodriguez', 'Sarah Pia Anderson', 'Seth Gordon', 'Laura Innes', 'Craig Zisk', 'Michael Pressman', 'Adam Arkin'], 'Producers': ['James Degus', 'Margo Myers Massey'], 'Starring': ['Marin Ireland', 'Shane Mcrae', 'Giovanni Ribisi']}\""
      ]
     },
     "execution_count": 78,
     "metadata": {},
     "output_type": "execute_result"
    }
   ],
   "source": [
    "df[\"details\"][0]"
   ]
  },
  {
   "cell_type": "markdown",
   "id": "e71c2e52",
   "metadata": {},
   "source": [
    "While this is definitely great information and could provide valuable insights in a model that has the capacity to be heavily trained and delivered as a full model, that would make it much more computational expensive and complicated. Due to that fact, this may not make it into the final model performance range. The cost of opening a json object and manipulating the data to see the tags would be costly and if results are tolerable may not be needed for this use case."
   ]
  },
  {
   "cell_type": "code",
   "execution_count": 76,
   "id": "51fbe563",
   "metadata": {},
   "outputs": [
    {
     "data": {
      "text/plain": [
       "0        NaN\n",
       "1        NaN\n",
       "2        NaN\n",
       "3        NaN\n",
       "4        NaN\n",
       "          ..\n",
       "999995   NaN\n",
       "999996   NaN\n",
       "999997   NaN\n",
       "999998   NaN\n",
       "999999   NaN\n",
       "Name: bought_together, Length: 1000000, dtype: float64"
      ]
     },
     "execution_count": 76,
     "metadata": {},
     "output_type": "execute_result"
    }
   ],
   "source": [
    "df[\"bought_together\"]"
   ]
  },
  {
   "cell_type": "code",
   "execution_count": 83,
   "id": "bea25246",
   "metadata": {},
   "outputs": [],
   "source": [
    "count_nan = df[\"bought_together\"].isna().sum().sum()"
   ]
  },
  {
   "cell_type": "code",
   "execution_count": 84,
   "id": "cbf5c012",
   "metadata": {},
   "outputs": [
    {
     "data": {
      "text/plain": [
       "1000000"
      ]
     },
     "execution_count": 84,
     "metadata": {},
     "output_type": "execute_result"
    }
   ],
   "source": [
    "count_nan"
   ]
  },
  {
   "cell_type": "code",
   "execution_count": 77,
   "id": "ae0fdd2d",
   "metadata": {},
   "outputs": [
    {
     "data": {
      "text/plain": [
       "0         NaN\n",
       "1         NaN\n",
       "2         NaN\n",
       "3         NaN\n",
       "4         NaN\n",
       "         ... \n",
       "999995    NaN\n",
       "999996    NaN\n",
       "999997    NaN\n",
       "999998    NaN\n",
       "999999    NaN\n",
       "Name: author, Length: 1000000, dtype: object"
      ]
     },
     "execution_count": 77,
     "metadata": {},
     "output_type": "execute_result"
    }
   ],
   "source": [
    "df[\"author\"]"
   ]
  },
  {
   "cell_type": "code",
   "execution_count": 81,
   "id": "8574f75e",
   "metadata": {},
   "outputs": [],
   "source": [
    "count_nan = df[\"author\"].isna().sum().sum()"
   ]
  },
  {
   "cell_type": "code",
   "execution_count": 82,
   "id": "ba33f3fc",
   "metadata": {},
   "outputs": [
    {
     "data": {
      "text/plain": [
       "999882"
      ]
     },
     "execution_count": 82,
     "metadata": {},
     "output_type": "execute_result"
    }
   ],
   "source": [
    "count_nan"
   ]
  },
  {
   "cell_type": "markdown",
   "id": "7d2cd955",
   "metadata": {},
   "source": [
    "# 3. Features that will not make the cut"
   ]
  },
  {
   "cell_type": "markdown",
   "id": "13860977",
   "metadata": {},
   "source": [
    "As the exploration of the data types of each feature above showed, there will be some features that simply do not make the cut for what will go into the final model. This could be for a few reasons. Some may add complexity for a very small set of data. This is bad due high risk for low reward in trying to keep a simple, containable model. Others may just have to much missing data in the column to really include it. Some that are easy to tell:"
   ]
  },
  {
   "cell_type": "code",
   "execution_count": 111,
   "id": "09e5e11b",
   "metadata": {},
   "outputs": [],
   "source": [
    "to_export_df = df.copy()\n",
    "\n",
    "to_export_df.drop(columns='author', inplace=True)\n",
    "to_export_df.drop(columns='bought_together', inplace=True)\n",
    "to_export_df.drop(columns='store', inplace=True)\n",
    "to_export_df.drop(columns='videos', inplace=True)\n",
    "to_export_df.drop(columns='images_x', inplace=True)\n",
    "to_export_df.drop(columns='price', inplace=True)\n",
    "to_export_df.drop(columns='description', inplace=True)\n",
    "to_export_df.drop(columns='features', inplace=True)\n",
    "to_export_df.drop(columns='timestamp', inplace=True)\n",
    "to_export_df.drop(columns='user_id', inplace=True)\n",
    "to_export_df.drop(columns='asin', inplace=True)\n",
    "to_export_df.drop(columns='parent_asin', inplace=True)\n",
    "to_export_df.drop(columns='Unnamed: 0', inplace=True)\n"
   ]
  },
  {
   "cell_type": "code",
   "execution_count": 95,
   "id": "05a41bbe",
   "metadata": {},
   "outputs": [
    {
     "data": {
      "text/html": [
       "<div>\n",
       "<style scoped>\n",
       "    .dataframe tbody tr th:only-of-type {\n",
       "        vertical-align: middle;\n",
       "    }\n",
       "\n",
       "    .dataframe tbody tr th {\n",
       "        vertical-align: top;\n",
       "    }\n",
       "\n",
       "    .dataframe thead th {\n",
       "        text-align: right;\n",
       "    }\n",
       "</style>\n",
       "<table border=\"1\" class=\"dataframe\">\n",
       "  <thead>\n",
       "    <tr style=\"text-align: right;\">\n",
       "      <th></th>\n",
       "      <th>rating</th>\n",
       "      <th>review_title</th>\n",
       "      <th>text</th>\n",
       "      <th>helpful_vote</th>\n",
       "      <th>verified_purchase</th>\n",
       "      <th>main_category</th>\n",
       "      <th>movie_title</th>\n",
       "      <th>subtitle</th>\n",
       "      <th>average_rating</th>\n",
       "      <th>rating_number</th>\n",
       "      <th>images_y</th>\n",
       "      <th>categories</th>\n",
       "      <th>details</th>\n",
       "    </tr>\n",
       "  </thead>\n",
       "  <tbody>\n",
       "    <tr>\n",
       "      <th>0</th>\n",
       "      <td>5.0</td>\n",
       "      <td>Five Stars</td>\n",
       "      <td>Amazon, please buy the show! I'm hooked!</td>\n",
       "      <td>0</td>\n",
       "      <td>True</td>\n",
       "      <td>Prime Video</td>\n",
       "      <td>Sneaky Pete</td>\n",
       "      <td>Ads BadgeAds Badge</td>\n",
       "      <td>4.6</td>\n",
       "      <td>56658.0</td>\n",
       "      <td>[{'360w': 'https://images-na.ssl-images-amazon...</td>\n",
       "      <td>['Suspense', 'Drama']</td>\n",
       "      <td>{'Content advisory': ['Nudity', 'violence', 's...</td>\n",
       "    </tr>\n",
       "    <tr>\n",
       "      <th>1</th>\n",
       "      <td>5.0</td>\n",
       "      <td>Five Stars</td>\n",
       "      <td>My Kiddos LOVE this show!!</td>\n",
       "      <td>0</td>\n",
       "      <td>True</td>\n",
       "      <td>Prime Video</td>\n",
       "      <td>Creative Galaxy</td>\n",
       "      <td>Season 1</td>\n",
       "      <td>4.8</td>\n",
       "      <td>6403.0</td>\n",
       "      <td>[{'360w': 'https://images-na.ssl-images-amazon...</td>\n",
       "      <td>['Kids']</td>\n",
       "      <td>{'Audio languages': ['English Dialogue Boost: ...</td>\n",
       "    </tr>\n",
       "    <tr>\n",
       "      <th>2</th>\n",
       "      <td>3.0</td>\n",
       "      <td>Some decent moments...but...</td>\n",
       "      <td>Annabella Sciorra did her character justice wi...</td>\n",
       "      <td>0</td>\n",
       "      <td>True</td>\n",
       "      <td>Prime Video</td>\n",
       "      <td>NaN</td>\n",
       "      <td>NaN</td>\n",
       "      <td>3.9</td>\n",
       "      <td>182.0</td>\n",
       "      <td>[{'360w': 'https://images-na.ssl-images-amazon...</td>\n",
       "      <td>NaN</td>\n",
       "      <td>{'Content advisory': ['Violence', 'substance u...</td>\n",
       "    </tr>\n",
       "    <tr>\n",
       "      <th>3</th>\n",
       "      <td>4.0</td>\n",
       "      <td>Decent Depiction of Lower-Functioning Autism, ...</td>\n",
       "      <td>...there should be more of a range of characte...</td>\n",
       "      <td>1</td>\n",
       "      <td>False</td>\n",
       "      <td>Prime Video</td>\n",
       "      <td>NaN</td>\n",
       "      <td>NaN</td>\n",
       "      <td>4.8</td>\n",
       "      <td>533.0</td>\n",
       "      <td>[{'360w': 'https://images-na.ssl-images-amazon...</td>\n",
       "      <td>NaN</td>\n",
       "      <td>{'Content advisory': ['Violence', 'alcohol use...</td>\n",
       "    </tr>\n",
       "    <tr>\n",
       "      <th>4</th>\n",
       "      <td>5.0</td>\n",
       "      <td>What Love Is...</td>\n",
       "      <td>...isn't always how you expect it to be, but w...</td>\n",
       "      <td>0</td>\n",
       "      <td>True</td>\n",
       "      <td>Prime Video</td>\n",
       "      <td>NaN</td>\n",
       "      <td>NaN</td>\n",
       "      <td>4.5</td>\n",
       "      <td>389.0</td>\n",
       "      <td>[{'360w': 'https://images-na.ssl-images-amazon...</td>\n",
       "      <td>NaN</td>\n",
       "      <td>{'Subtitles': ['None available'], 'Directors':...</td>\n",
       "    </tr>\n",
       "    <tr>\n",
       "      <th>...</th>\n",
       "      <td>...</td>\n",
       "      <td>...</td>\n",
       "      <td>...</td>\n",
       "      <td>...</td>\n",
       "      <td>...</td>\n",
       "      <td>...</td>\n",
       "      <td>...</td>\n",
       "      <td>...</td>\n",
       "      <td>...</td>\n",
       "      <td>...</td>\n",
       "      <td>...</td>\n",
       "      <td>...</td>\n",
       "      <td>...</td>\n",
       "    </tr>\n",
       "    <tr>\n",
       "      <th>999995</th>\n",
       "      <td>5.0</td>\n",
       "      <td>Five Stars</td>\n",
       "      <td>You can't go wrong with Martin.</td>\n",
       "      <td>0</td>\n",
       "      <td>True</td>\n",
       "      <td>Movies &amp; TV</td>\n",
       "      <td>Martin: Season 4</td>\n",
       "      <td>NaN</td>\n",
       "      <td>4.8</td>\n",
       "      <td>617.0</td>\n",
       "      <td>[{'thumb': 'https://m.media-amazon.com/images/...</td>\n",
       "      <td>['Movies &amp; TV', 'Featured Categories', 'DVD', ...</td>\n",
       "      <td>{'Genre': 'Comedy', 'Format': 'Color, Dolby, F...</td>\n",
       "    </tr>\n",
       "    <tr>\n",
       "      <th>999996</th>\n",
       "      <td>5.0</td>\n",
       "      <td>Five Stars</td>\n",
       "      <td>You can't go wrong with Martin.</td>\n",
       "      <td>0</td>\n",
       "      <td>True</td>\n",
       "      <td>Movies &amp; TV</td>\n",
       "      <td>Martin: Season 3</td>\n",
       "      <td>NaN</td>\n",
       "      <td>4.9</td>\n",
       "      <td>1424.0</td>\n",
       "      <td>[{'thumb': 'https://m.media-amazon.com/images/...</td>\n",
       "      <td>['Movies &amp; TV', 'Featured Categories', 'DVD', ...</td>\n",
       "      <td>{'Genre': 'Comedy', 'Format': 'Color, Dolby, N...</td>\n",
       "    </tr>\n",
       "    <tr>\n",
       "      <th>999997</th>\n",
       "      <td>4.0</td>\n",
       "      <td>Predictable ending but good action</td>\n",
       "      <td>Good pace of action and good characters.  Plot...</td>\n",
       "      <td>1</td>\n",
       "      <td>True</td>\n",
       "      <td>Prime Video</td>\n",
       "      <td>NaN</td>\n",
       "      <td>NaN</td>\n",
       "      <td>4.2</td>\n",
       "      <td>424.0</td>\n",
       "      <td>[{'360w': 'https://m.media-amazon.com/images/G...</td>\n",
       "      <td>NaN</td>\n",
       "      <td>{'Content advisory': ['Violence', 'substance u...</td>\n",
       "    </tr>\n",
       "    <tr>\n",
       "      <th>999998</th>\n",
       "      <td>4.0</td>\n",
       "      <td>pretty decent ww2 flick</td>\n",
       "      <td>i watched th whole thing so that is one criter...</td>\n",
       "      <td>1</td>\n",
       "      <td>True</td>\n",
       "      <td>Prime Video</td>\n",
       "      <td>NaN</td>\n",
       "      <td>NaN</td>\n",
       "      <td>3.1</td>\n",
       "      <td>626.0</td>\n",
       "      <td>[{'360w': 'https://images-na.ssl-images-amazon...</td>\n",
       "      <td>NaN</td>\n",
       "      <td>{'Content advisory': ['Violence', 'foul langua...</td>\n",
       "    </tr>\n",
       "    <tr>\n",
       "      <th>999999</th>\n",
       "      <td>1.0</td>\n",
       "      <td>weak. very weak</td>\n",
       "      <td>this starts out somewhat interesting but fades...</td>\n",
       "      <td>6</td>\n",
       "      <td>True</td>\n",
       "      <td>Prime Video</td>\n",
       "      <td>NaN</td>\n",
       "      <td>NaN</td>\n",
       "      <td>4.5</td>\n",
       "      <td>30161.0</td>\n",
       "      <td>[{'360w': 'https://images-na.ssl-images-amazon...</td>\n",
       "      <td>NaN</td>\n",
       "      <td>{'Content advisory': ['Nudity', 'violence', 's...</td>\n",
       "    </tr>\n",
       "  </tbody>\n",
       "</table>\n",
       "<p>1000000 rows × 13 columns</p>\n",
       "</div>"
      ],
      "text/plain": [
       "        rating                                       review_title  \\\n",
       "0          5.0                                         Five Stars   \n",
       "1          5.0                                         Five Stars   \n",
       "2          3.0                       Some decent moments...but...   \n",
       "3          4.0  Decent Depiction of Lower-Functioning Autism, ...   \n",
       "4          5.0                                    What Love Is...   \n",
       "...        ...                                                ...   \n",
       "999995     5.0                                         Five Stars   \n",
       "999996     5.0                                         Five Stars   \n",
       "999997     4.0                 Predictable ending but good action   \n",
       "999998     4.0                            pretty decent ww2 flick   \n",
       "999999     1.0                                    weak. very weak   \n",
       "\n",
       "                                                     text  helpful_vote  \\\n",
       "0                Amazon, please buy the show! I'm hooked!             0   \n",
       "1                              My Kiddos LOVE this show!!             0   \n",
       "2       Annabella Sciorra did her character justice wi...             0   \n",
       "3       ...there should be more of a range of characte...             1   \n",
       "4       ...isn't always how you expect it to be, but w...             0   \n",
       "...                                                   ...           ...   \n",
       "999995                    You can't go wrong with Martin.             0   \n",
       "999996                    You can't go wrong with Martin.             0   \n",
       "999997  Good pace of action and good characters.  Plot...             1   \n",
       "999998  i watched th whole thing so that is one criter...             1   \n",
       "999999  this starts out somewhat interesting but fades...             6   \n",
       "\n",
       "        verified_purchase main_category       movie_title            subtitle  \\\n",
       "0                    True   Prime Video       Sneaky Pete  Ads BadgeAds Badge   \n",
       "1                    True   Prime Video   Creative Galaxy            Season 1   \n",
       "2                    True   Prime Video               NaN                 NaN   \n",
       "3                   False   Prime Video               NaN                 NaN   \n",
       "4                    True   Prime Video               NaN                 NaN   \n",
       "...                   ...           ...               ...                 ...   \n",
       "999995               True   Movies & TV  Martin: Season 4                 NaN   \n",
       "999996               True   Movies & TV  Martin: Season 3                 NaN   \n",
       "999997               True   Prime Video               NaN                 NaN   \n",
       "999998               True   Prime Video               NaN                 NaN   \n",
       "999999               True   Prime Video               NaN                 NaN   \n",
       "\n",
       "        average_rating  rating_number  \\\n",
       "0                  4.6        56658.0   \n",
       "1                  4.8         6403.0   \n",
       "2                  3.9          182.0   \n",
       "3                  4.8          533.0   \n",
       "4                  4.5          389.0   \n",
       "...                ...            ...   \n",
       "999995             4.8          617.0   \n",
       "999996             4.9         1424.0   \n",
       "999997             4.2          424.0   \n",
       "999998             3.1          626.0   \n",
       "999999             4.5        30161.0   \n",
       "\n",
       "                                                 images_y  \\\n",
       "0       [{'360w': 'https://images-na.ssl-images-amazon...   \n",
       "1       [{'360w': 'https://images-na.ssl-images-amazon...   \n",
       "2       [{'360w': 'https://images-na.ssl-images-amazon...   \n",
       "3       [{'360w': 'https://images-na.ssl-images-amazon...   \n",
       "4       [{'360w': 'https://images-na.ssl-images-amazon...   \n",
       "...                                                   ...   \n",
       "999995  [{'thumb': 'https://m.media-amazon.com/images/...   \n",
       "999996  [{'thumb': 'https://m.media-amazon.com/images/...   \n",
       "999997  [{'360w': 'https://m.media-amazon.com/images/G...   \n",
       "999998  [{'360w': 'https://images-na.ssl-images-amazon...   \n",
       "999999  [{'360w': 'https://images-na.ssl-images-amazon...   \n",
       "\n",
       "                                               categories  \\\n",
       "0                                   ['Suspense', 'Drama']   \n",
       "1                                                ['Kids']   \n",
       "2                                                     NaN   \n",
       "3                                                     NaN   \n",
       "4                                                     NaN   \n",
       "...                                                   ...   \n",
       "999995  ['Movies & TV', 'Featured Categories', 'DVD', ...   \n",
       "999996  ['Movies & TV', 'Featured Categories', 'DVD', ...   \n",
       "999997                                                NaN   \n",
       "999998                                                NaN   \n",
       "999999                                                NaN   \n",
       "\n",
       "                                                  details  \n",
       "0       {'Content advisory': ['Nudity', 'violence', 's...  \n",
       "1       {'Audio languages': ['English Dialogue Boost: ...  \n",
       "2       {'Content advisory': ['Violence', 'substance u...  \n",
       "3       {'Content advisory': ['Violence', 'alcohol use...  \n",
       "4       {'Subtitles': ['None available'], 'Directors':...  \n",
       "...                                                   ...  \n",
       "999995  {'Genre': 'Comedy', 'Format': 'Color, Dolby, F...  \n",
       "999996  {'Genre': 'Comedy', 'Format': 'Color, Dolby, N...  \n",
       "999997  {'Content advisory': ['Violence', 'substance u...  \n",
       "999998  {'Content advisory': ['Violence', 'foul langua...  \n",
       "999999  {'Content advisory': ['Nudity', 'violence', 's...  \n",
       "\n",
       "[1000000 rows x 13 columns]"
      ]
     },
     "execution_count": 95,
     "metadata": {},
     "output_type": "execute_result"
    }
   ],
   "source": [
    "to_export_df"
   ]
  },
  {
   "cell_type": "markdown",
   "id": "73eb3597",
   "metadata": {},
   "source": [
    "This is definitely more digestable for use in a model, but there are a few that still may be questionable depending on performance. A couple, like details, images_y, and categories are possibly useful for a model with infite time, capacity, and compute, to give better answers. They do add complexity though. In a smaller model without those infinite resources these are quite possibly the first to go. Images starts adding image processing into the mix from a link, categories starts adding the tagging features, which is actually quite useful but is a whole other category of encoding/decoding that would need to happen per item (possibly just trying  to figure out what items have similar categories). Finally details incoporates a json object for every row. In a smaller dataset this would not be to bad, but including it in this 1000000 size dataset, breaking down the json object that is not the quite the same for every row, and deciding how to handle that, should be avoided unless resources such as time, compute, and limitations are dealt with. Or the model is not performing adequately."
   ]
  },
  {
   "cell_type": "markdown",
   "id": "4c7e5636",
   "metadata": {},
   "source": [
    "Additionally, title and subtitle may want to be avoided as well. The reason being is that if a title has had a surge of negative or positive review that the model was trained on, that would mean that there would be a massive potential skew in the model categorizing those surged titles in the direction of that surge regardless of the actual description."
   ]
  },
  {
   "cell_type": "code",
   "execution_count": 112,
   "id": "7653afee",
   "metadata": {},
   "outputs": [],
   "source": [
    "to_export_df.drop(columns='movie_title', inplace=True)\n",
    "to_export_df.drop(columns='subtitle', inplace=True)\n",
    "to_export_df.drop(columns='images_y', inplace=True)\n",
    "to_export_df.drop(columns='details', inplace=True)\n",
    "to_export_df.drop(columns='categories', inplace=True)\n"
   ]
  },
  {
   "cell_type": "code",
   "execution_count": 97,
   "id": "eafc8c76",
   "metadata": {},
   "outputs": [
    {
     "data": {
      "text/html": [
       "<div>\n",
       "<style scoped>\n",
       "    .dataframe tbody tr th:only-of-type {\n",
       "        vertical-align: middle;\n",
       "    }\n",
       "\n",
       "    .dataframe tbody tr th {\n",
       "        vertical-align: top;\n",
       "    }\n",
       "\n",
       "    .dataframe thead th {\n",
       "        text-align: right;\n",
       "    }\n",
       "</style>\n",
       "<table border=\"1\" class=\"dataframe\">\n",
       "  <thead>\n",
       "    <tr style=\"text-align: right;\">\n",
       "      <th></th>\n",
       "      <th>rating</th>\n",
       "      <th>review_title</th>\n",
       "      <th>text</th>\n",
       "      <th>helpful_vote</th>\n",
       "      <th>verified_purchase</th>\n",
       "      <th>main_category</th>\n",
       "      <th>average_rating</th>\n",
       "      <th>rating_number</th>\n",
       "    </tr>\n",
       "  </thead>\n",
       "  <tbody>\n",
       "    <tr>\n",
       "      <th>0</th>\n",
       "      <td>5.0</td>\n",
       "      <td>Five Stars</td>\n",
       "      <td>Amazon, please buy the show! I'm hooked!</td>\n",
       "      <td>0</td>\n",
       "      <td>True</td>\n",
       "      <td>Prime Video</td>\n",
       "      <td>4.6</td>\n",
       "      <td>56658.0</td>\n",
       "    </tr>\n",
       "    <tr>\n",
       "      <th>1</th>\n",
       "      <td>5.0</td>\n",
       "      <td>Five Stars</td>\n",
       "      <td>My Kiddos LOVE this show!!</td>\n",
       "      <td>0</td>\n",
       "      <td>True</td>\n",
       "      <td>Prime Video</td>\n",
       "      <td>4.8</td>\n",
       "      <td>6403.0</td>\n",
       "    </tr>\n",
       "    <tr>\n",
       "      <th>2</th>\n",
       "      <td>3.0</td>\n",
       "      <td>Some decent moments...but...</td>\n",
       "      <td>Annabella Sciorra did her character justice wi...</td>\n",
       "      <td>0</td>\n",
       "      <td>True</td>\n",
       "      <td>Prime Video</td>\n",
       "      <td>3.9</td>\n",
       "      <td>182.0</td>\n",
       "    </tr>\n",
       "    <tr>\n",
       "      <th>3</th>\n",
       "      <td>4.0</td>\n",
       "      <td>Decent Depiction of Lower-Functioning Autism, ...</td>\n",
       "      <td>...there should be more of a range of characte...</td>\n",
       "      <td>1</td>\n",
       "      <td>False</td>\n",
       "      <td>Prime Video</td>\n",
       "      <td>4.8</td>\n",
       "      <td>533.0</td>\n",
       "    </tr>\n",
       "    <tr>\n",
       "      <th>4</th>\n",
       "      <td>5.0</td>\n",
       "      <td>What Love Is...</td>\n",
       "      <td>...isn't always how you expect it to be, but w...</td>\n",
       "      <td>0</td>\n",
       "      <td>True</td>\n",
       "      <td>Prime Video</td>\n",
       "      <td>4.5</td>\n",
       "      <td>389.0</td>\n",
       "    </tr>\n",
       "    <tr>\n",
       "      <th>...</th>\n",
       "      <td>...</td>\n",
       "      <td>...</td>\n",
       "      <td>...</td>\n",
       "      <td>...</td>\n",
       "      <td>...</td>\n",
       "      <td>...</td>\n",
       "      <td>...</td>\n",
       "      <td>...</td>\n",
       "    </tr>\n",
       "    <tr>\n",
       "      <th>999995</th>\n",
       "      <td>5.0</td>\n",
       "      <td>Five Stars</td>\n",
       "      <td>You can't go wrong with Martin.</td>\n",
       "      <td>0</td>\n",
       "      <td>True</td>\n",
       "      <td>Movies &amp; TV</td>\n",
       "      <td>4.8</td>\n",
       "      <td>617.0</td>\n",
       "    </tr>\n",
       "    <tr>\n",
       "      <th>999996</th>\n",
       "      <td>5.0</td>\n",
       "      <td>Five Stars</td>\n",
       "      <td>You can't go wrong with Martin.</td>\n",
       "      <td>0</td>\n",
       "      <td>True</td>\n",
       "      <td>Movies &amp; TV</td>\n",
       "      <td>4.9</td>\n",
       "      <td>1424.0</td>\n",
       "    </tr>\n",
       "    <tr>\n",
       "      <th>999997</th>\n",
       "      <td>4.0</td>\n",
       "      <td>Predictable ending but good action</td>\n",
       "      <td>Good pace of action and good characters.  Plot...</td>\n",
       "      <td>1</td>\n",
       "      <td>True</td>\n",
       "      <td>Prime Video</td>\n",
       "      <td>4.2</td>\n",
       "      <td>424.0</td>\n",
       "    </tr>\n",
       "    <tr>\n",
       "      <th>999998</th>\n",
       "      <td>4.0</td>\n",
       "      <td>pretty decent ww2 flick</td>\n",
       "      <td>i watched th whole thing so that is one criter...</td>\n",
       "      <td>1</td>\n",
       "      <td>True</td>\n",
       "      <td>Prime Video</td>\n",
       "      <td>3.1</td>\n",
       "      <td>626.0</td>\n",
       "    </tr>\n",
       "    <tr>\n",
       "      <th>999999</th>\n",
       "      <td>1.0</td>\n",
       "      <td>weak. very weak</td>\n",
       "      <td>this starts out somewhat interesting but fades...</td>\n",
       "      <td>6</td>\n",
       "      <td>True</td>\n",
       "      <td>Prime Video</td>\n",
       "      <td>4.5</td>\n",
       "      <td>30161.0</td>\n",
       "    </tr>\n",
       "  </tbody>\n",
       "</table>\n",
       "<p>1000000 rows × 8 columns</p>\n",
       "</div>"
      ],
      "text/plain": [
       "        rating                                       review_title  \\\n",
       "0          5.0                                         Five Stars   \n",
       "1          5.0                                         Five Stars   \n",
       "2          3.0                       Some decent moments...but...   \n",
       "3          4.0  Decent Depiction of Lower-Functioning Autism, ...   \n",
       "4          5.0                                    What Love Is...   \n",
       "...        ...                                                ...   \n",
       "999995     5.0                                         Five Stars   \n",
       "999996     5.0                                         Five Stars   \n",
       "999997     4.0                 Predictable ending but good action   \n",
       "999998     4.0                            pretty decent ww2 flick   \n",
       "999999     1.0                                    weak. very weak   \n",
       "\n",
       "                                                     text  helpful_vote  \\\n",
       "0                Amazon, please buy the show! I'm hooked!             0   \n",
       "1                              My Kiddos LOVE this show!!             0   \n",
       "2       Annabella Sciorra did her character justice wi...             0   \n",
       "3       ...there should be more of a range of characte...             1   \n",
       "4       ...isn't always how you expect it to be, but w...             0   \n",
       "...                                                   ...           ...   \n",
       "999995                    You can't go wrong with Martin.             0   \n",
       "999996                    You can't go wrong with Martin.             0   \n",
       "999997  Good pace of action and good characters.  Plot...             1   \n",
       "999998  i watched th whole thing so that is one criter...             1   \n",
       "999999  this starts out somewhat interesting but fades...             6   \n",
       "\n",
       "        verified_purchase main_category  average_rating  rating_number  \n",
       "0                    True   Prime Video             4.6        56658.0  \n",
       "1                    True   Prime Video             4.8         6403.0  \n",
       "2                    True   Prime Video             3.9          182.0  \n",
       "3                   False   Prime Video             4.8          533.0  \n",
       "4                    True   Prime Video             4.5          389.0  \n",
       "...                   ...           ...             ...            ...  \n",
       "999995               True   Movies & TV             4.8          617.0  \n",
       "999996               True   Movies & TV             4.9         1424.0  \n",
       "999997               True   Prime Video             4.2          424.0  \n",
       "999998               True   Prime Video             3.1          626.0  \n",
       "999999               True   Prime Video             4.5        30161.0  \n",
       "\n",
       "[1000000 rows x 8 columns]"
      ]
     },
     "execution_count": 97,
     "metadata": {},
     "output_type": "execute_result"
    }
   ],
   "source": [
    "to_export_df"
   ]
  },
  {
   "cell_type": "markdown",
   "id": "b514e37f",
   "metadata": {},
   "source": [
    "Finally, for the sanctity of the data, I think that all reviews that the verified_purchase being false should be dropped. That is because while there is a chance that someone who bought a purchase from another vender is leaving a valid review, the most likely reviewers that have not purchased the item would be there without helpful reviews that could potentially skew results"
   ]
  },
  {
   "cell_type": "code",
   "execution_count": 113,
   "id": "b340fcbf",
   "metadata": {},
   "outputs": [],
   "source": [
    "to_export_df = to_export_df.set_index('verified_purchase')\n",
    "\n",
    "# check if there are any rows with False values in the \"verified_purchase\" column\n",
    "if False in to_export_df.index:\n",
    "    to_export_df = to_export_df.drop(False)\n",
    "\n",
    "to_export_df = to_export_df.reset_index(drop=True)"
   ]
  },
  {
   "cell_type": "code",
   "execution_count": 114,
   "id": "8969cb11",
   "metadata": {},
   "outputs": [
    {
     "data": {
      "text/html": [
       "<div>\n",
       "<style scoped>\n",
       "    .dataframe tbody tr th:only-of-type {\n",
       "        vertical-align: middle;\n",
       "    }\n",
       "\n",
       "    .dataframe tbody tr th {\n",
       "        vertical-align: top;\n",
       "    }\n",
       "\n",
       "    .dataframe thead th {\n",
       "        text-align: right;\n",
       "    }\n",
       "</style>\n",
       "<table border=\"1\" class=\"dataframe\">\n",
       "  <thead>\n",
       "    <tr style=\"text-align: right;\">\n",
       "      <th></th>\n",
       "      <th>rating</th>\n",
       "      <th>review_title</th>\n",
       "      <th>text</th>\n",
       "      <th>helpful_vote</th>\n",
       "      <th>main_category</th>\n",
       "      <th>average_rating</th>\n",
       "      <th>rating_number</th>\n",
       "    </tr>\n",
       "  </thead>\n",
       "  <tbody>\n",
       "    <tr>\n",
       "      <th>0</th>\n",
       "      <td>5.0</td>\n",
       "      <td>Five Stars</td>\n",
       "      <td>Amazon, please buy the show! I'm hooked!</td>\n",
       "      <td>0</td>\n",
       "      <td>Prime Video</td>\n",
       "      <td>4.6</td>\n",
       "      <td>56658.0</td>\n",
       "    </tr>\n",
       "    <tr>\n",
       "      <th>1</th>\n",
       "      <td>5.0</td>\n",
       "      <td>Five Stars</td>\n",
       "      <td>My Kiddos LOVE this show!!</td>\n",
       "      <td>0</td>\n",
       "      <td>Prime Video</td>\n",
       "      <td>4.8</td>\n",
       "      <td>6403.0</td>\n",
       "    </tr>\n",
       "    <tr>\n",
       "      <th>2</th>\n",
       "      <td>3.0</td>\n",
       "      <td>Some decent moments...but...</td>\n",
       "      <td>Annabella Sciorra did her character justice wi...</td>\n",
       "      <td>0</td>\n",
       "      <td>Prime Video</td>\n",
       "      <td>3.9</td>\n",
       "      <td>182.0</td>\n",
       "    </tr>\n",
       "    <tr>\n",
       "      <th>3</th>\n",
       "      <td>5.0</td>\n",
       "      <td>What Love Is...</td>\n",
       "      <td>...isn't always how you expect it to be, but w...</td>\n",
       "      <td>0</td>\n",
       "      <td>Prime Video</td>\n",
       "      <td>4.5</td>\n",
       "      <td>389.0</td>\n",
       "    </tr>\n",
       "    <tr>\n",
       "      <th>4</th>\n",
       "      <td>5.0</td>\n",
       "      <td>QUIRKY TURNS TO HEARTSTRINGS</td>\n",
       "      <td>As you learn about the very unique characters ...</td>\n",
       "      <td>0</td>\n",
       "      <td>Prime Video</td>\n",
       "      <td>4.8</td>\n",
       "      <td>1966.0</td>\n",
       "    </tr>\n",
       "    <tr>\n",
       "      <th>...</th>\n",
       "      <td>...</td>\n",
       "      <td>...</td>\n",
       "      <td>...</td>\n",
       "      <td>...</td>\n",
       "      <td>...</td>\n",
       "      <td>...</td>\n",
       "      <td>...</td>\n",
       "    </tr>\n",
       "    <tr>\n",
       "      <th>809802</th>\n",
       "      <td>5.0</td>\n",
       "      <td>Five Stars</td>\n",
       "      <td>You can't go wrong with Martin.</td>\n",
       "      <td>0</td>\n",
       "      <td>Movies &amp; TV</td>\n",
       "      <td>4.8</td>\n",
       "      <td>617.0</td>\n",
       "    </tr>\n",
       "    <tr>\n",
       "      <th>809803</th>\n",
       "      <td>5.0</td>\n",
       "      <td>Five Stars</td>\n",
       "      <td>You can't go wrong with Martin.</td>\n",
       "      <td>0</td>\n",
       "      <td>Movies &amp; TV</td>\n",
       "      <td>4.9</td>\n",
       "      <td>1424.0</td>\n",
       "    </tr>\n",
       "    <tr>\n",
       "      <th>809804</th>\n",
       "      <td>4.0</td>\n",
       "      <td>Predictable ending but good action</td>\n",
       "      <td>Good pace of action and good characters.  Plot...</td>\n",
       "      <td>1</td>\n",
       "      <td>Prime Video</td>\n",
       "      <td>4.2</td>\n",
       "      <td>424.0</td>\n",
       "    </tr>\n",
       "    <tr>\n",
       "      <th>809805</th>\n",
       "      <td>4.0</td>\n",
       "      <td>pretty decent ww2 flick</td>\n",
       "      <td>i watched th whole thing so that is one criter...</td>\n",
       "      <td>1</td>\n",
       "      <td>Prime Video</td>\n",
       "      <td>3.1</td>\n",
       "      <td>626.0</td>\n",
       "    </tr>\n",
       "    <tr>\n",
       "      <th>809806</th>\n",
       "      <td>1.0</td>\n",
       "      <td>weak. very weak</td>\n",
       "      <td>this starts out somewhat interesting but fades...</td>\n",
       "      <td>6</td>\n",
       "      <td>Prime Video</td>\n",
       "      <td>4.5</td>\n",
       "      <td>30161.0</td>\n",
       "    </tr>\n",
       "  </tbody>\n",
       "</table>\n",
       "<p>809807 rows × 7 columns</p>\n",
       "</div>"
      ],
      "text/plain": [
       "        rating                        review_title  \\\n",
       "0          5.0                          Five Stars   \n",
       "1          5.0                          Five Stars   \n",
       "2          3.0        Some decent moments...but...   \n",
       "3          5.0                     What Love Is...   \n",
       "4          5.0        QUIRKY TURNS TO HEARTSTRINGS   \n",
       "...        ...                                 ...   \n",
       "809802     5.0                          Five Stars   \n",
       "809803     5.0                          Five Stars   \n",
       "809804     4.0  Predictable ending but good action   \n",
       "809805     4.0             pretty decent ww2 flick   \n",
       "809806     1.0                     weak. very weak   \n",
       "\n",
       "                                                     text  helpful_vote  \\\n",
       "0                Amazon, please buy the show! I'm hooked!             0   \n",
       "1                              My Kiddos LOVE this show!!             0   \n",
       "2       Annabella Sciorra did her character justice wi...             0   \n",
       "3       ...isn't always how you expect it to be, but w...             0   \n",
       "4       As you learn about the very unique characters ...             0   \n",
       "...                                                   ...           ...   \n",
       "809802                    You can't go wrong with Martin.             0   \n",
       "809803                    You can't go wrong with Martin.             0   \n",
       "809804  Good pace of action and good characters.  Plot...             1   \n",
       "809805  i watched th whole thing so that is one criter...             1   \n",
       "809806  this starts out somewhat interesting but fades...             6   \n",
       "\n",
       "       main_category  average_rating  rating_number  \n",
       "0        Prime Video             4.6        56658.0  \n",
       "1        Prime Video             4.8         6403.0  \n",
       "2        Prime Video             3.9          182.0  \n",
       "3        Prime Video             4.5          389.0  \n",
       "4        Prime Video             4.8         1966.0  \n",
       "...              ...             ...            ...  \n",
       "809802   Movies & TV             4.8          617.0  \n",
       "809803   Movies & TV             4.9         1424.0  \n",
       "809804   Prime Video             4.2          424.0  \n",
       "809805   Prime Video             3.1          626.0  \n",
       "809806   Prime Video             4.5        30161.0  \n",
       "\n",
       "[809807 rows x 7 columns]"
      ]
     },
     "execution_count": 114,
     "metadata": {},
     "output_type": "execute_result"
    }
   ],
   "source": [
    "to_export_df"
   ]
  },
  {
   "cell_type": "code",
   "execution_count": null,
   "id": "cc49d2e2",
   "metadata": {},
   "outputs": [],
   "source": []
  }
 ],
 "metadata": {
  "kernelspec": {
   "display_name": "Python 3 (ipykernel)",
   "language": "python",
   "name": "python3"
  },
  "language_info": {
   "codemirror_mode": {
    "name": "ipython",
    "version": 3
   },
   "file_extension": ".py",
   "mimetype": "text/x-python",
   "name": "python",
   "nbconvert_exporter": "python",
   "pygments_lexer": "ipython3",
   "version": "3.10.6"
  }
 },
 "nbformat": 4,
 "nbformat_minor": 5
}
